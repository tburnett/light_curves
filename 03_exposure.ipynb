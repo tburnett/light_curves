{
 "cells": [
  {
   "cell_type": "code",
   "execution_count": null,
   "metadata": {},
   "outputs": [
    {
     "name": "stdout",
     "output_type": "stream",
     "text": [
      "The autoreload extension is already loaded. To reload it, use:\n",
      "  %reload_ext autoreload\n"
     ]
    }
   ],
   "source": [
    "# default_exp exposure\n",
    "%load_ext autoreload\n",
    "%autoreload 2"
   ]
  },
  {
   "cell_type": "markdown",
   "metadata": {},
   "source": [
    "# exposure\n",
    "> calculate exposure from FT2 files"
   ]
  },
  {
   "cell_type": "code",
   "execution_count": null,
   "metadata": {},
   "outputs": [],
   "source": [
    "#hide\n",
    "import numpy as np\n",
    "from nbdev.showdoc import *"
   ]
  },
  {
   "cell_type": "code",
   "execution_count": null,
   "metadata": {},
   "outputs": [],
   "source": [
    "#export\n",
    "from astropy.io import fits\n",
    "import numpy as np\n",
    "import pandas as pd\n",
    "from scipy.integrate import simps\n",
    "from light_curves.config import MJD"
   ]
  },
  {
   "cell_type": "code",
   "execution_count": null,
   "metadata": {},
   "outputs": [],
   "source": [
    "#export\n",
    "def process_ft2(config, source, ft2_files, gti, effective_area):\n",
    "    \"\"\"Process a set of FT2 files, with S/C history data\n",
    "    Parameters:\n",
    "        - config -- verbose, cos_theta_max, z_max\n",
    "        - source -- l,b for position\n",
    "        - ft2_files -- list of spacecraft files\n",
    "        - gti -- GTI object with allowed intervals\n",
    "        - effective_area -- function of energy and angle with respect to zenity\n",
    "    Generate a dataset with fields:\n",
    "        - start, stop : start  and stop times in MJD\n",
    "        - exposure    : calculated exposure using effective area\n",
    "\n",
    "     \"\"\"\n",
    "    # combine the files into a DataFrame with following fields besides START and STOP (lower case for column)\n",
    "    fields    = ['LIVETIME','RA_SCZ','DEC_SCZ', 'RA_ZENITH','DEC_ZENITH'] \n",
    "    if config.verbose>1:\n",
    "        print(f'Processing {len(ft2_files)} S/C history (FT2) files')\n",
    "        print(f'  applying cuts cos(theta) < {config.cos_theta_max},  z < {config.z_max}')\n",
    "    sc_data=[]\n",
    "    for filename in ft2_files:\n",
    "        with fits.open(filename) as hdu:\n",
    "            scdata = hdu['SC_DATA'].data\n",
    "            # get times to check against MJD limits and GTI\n",
    "            start, stop = [MJD(np.array(scdata.START, float)), \n",
    "                           MJD(np.array(scdata.STOP, float))]\n",
    "            if config.mjd_range is not None:\n",
    "                a,b=  config.mjd_range\n",
    "                if start[0]>b or stop[-1]<a:\n",
    "                    print(f'Reject file {filename}: not in range' )\n",
    "                    continue\n",
    "            # apply GTI to bin center (avoid edge effects?)\n",
    "            in_gti = gti(0.5*(start+stop))\n",
    "            if config.verbose>2:\n",
    "                print(f'\\tfile {filename}: {len(start)} entries, {sum(in_gti)} in GTI')\n",
    "            t = [('start', start[in_gti]), ('stop',stop[in_gti])]+\\\n",
    "                [(field.lower(), np.array(scdata[field][in_gti],np.float32)) for field in fields ]                   \n",
    "            sc_data.append( pd.DataFrame(dict(t) ) )\n",
    "    df = pd.concat(sc_data, ignore_index=True)\n",
    "\n",
    "    # calculate cosines with respect to sky direction\n",
    "    sc = source \n",
    "    ra_r,dec_r = np.radians(sc.ra), np.radians(sc.dec)\n",
    "    sdec, cdec = np.sin(dec_r), np.cos(dec_r)\n",
    "\n",
    "    def cosines( ra2, dec2):\n",
    "        ra2_r =  np.radians(ra2.values)\n",
    "        dec2_r = np.radians(dec2.values)\n",
    "        return np.cos(dec2_r)*cdec*np.cos(ra_r-ra2_r) + np.sin(dec2_r)*sdec\n",
    "\n",
    "    pcosines = cosines(df.ra_scz,    df.dec_scz)\n",
    "    zcosines = cosines(df.ra_zenith, df.dec_zenith)\n",
    "\n",
    "    # mask out entries too close to zenith, or too far away from ROI center\n",
    "    mask =   (pcosines >= config.cos_theta_max) & (zcosines>=np.cos(np.radians(config.z_max)))\n",
    "    if config.verbose>1:\n",
    "        print(f'\\tFound {len(mask):,} S/C entries:  {sum(mask):,} remain after zenith and theta cuts')\n",
    "    dfm = df.loc[mask,:]\n",
    "    livetime = dfm.livetime.values\n",
    "    config.dfm = dfm ##############debug\n",
    "    # apply MJD range if present. note times in MJD\n",
    "    start, stop = dfm.start,dfm.stop\n",
    "    lims = slice(None)\n",
    "    if config.mjd_range is not None:\n",
    "        a, b = config._get_limits(start)\n",
    "        if a>0 or b<len(start):\n",
    "            if config.verbose>1:\n",
    "                print(f'\\tcut from {len(start):,} to {a} - {b}, or {b-a:,} entries after MJD range selection')\n",
    "            dfm = dfm.iloc[a:b]\n",
    "            lims = slice(a,b)\n",
    "\n",
    "    \n",
    "    expose = exposure(config, effective_area, livetime[lims], pcosines[mask][lims])\n",
    "    return pd.DataFrame(dict(start=start[lims],stop=stop[lims], exposure=expose))"
   ]
  },
  {
   "cell_type": "code",
   "execution_count": null,
   "metadata": {},
   "outputs": [],
   "source": [
    "#export\n",
    "def exposure(config, effective_area, livetime, pcosine):\n",
    "    \"\"\"return exposure calculated for each pair in livetime and cosines arrays\n",
    "    \n",
    "    uses effective area \n",
    "    \"\"\"\n",
    "    assert len(livetime)==len(pcosine), 'expect equal-length arrays'\n",
    "\n",
    "    # get a set of energies and associated weights from a trial spectrum\n",
    "\n",
    "    emin,emax = config.energy_range\n",
    "    loge1=np.log10(emin); loge2=np.log10(emax)\n",
    "\n",
    "    edom=np.logspace(loge1, loge2, int((loge2-loge1)*config.bins_per_decade+1))\n",
    "    if config.verbose>1:\n",
    "        print(f'Calculate exposure using the energy domain'\\\n",
    "              f' {emin}-{emax} {config.bins_per_decade} bins/decade' )\n",
    "    base_spectrum = eval(config.base_spectrum) #lambda E: (E/1000)**-2.1 \n",
    "    assert base_spectrum(1000)==1.\n",
    "    wts = base_spectrum(edom) \n",
    "\n",
    "    # effectivee area function from \n",
    "    ea = effective_area \n",
    "\n",
    "    # a table of the weighted for each pair in livetime and pcosine arrays\n",
    "    rvals = np.empty([len(wts),len(pcosine)]) \n",
    "    for i,(en,wt) in enumerate(zip(edom,wts)): \n",
    "        faeff,baeff = ea([en],pcosine) \n",
    "        rvals[i] = (faeff+baeff)*wt\n",
    "\n",
    "    aeff = simps(rvals,edom,axis=0)/simps(wts,edom)\n",
    "    return (aeff*livetime)"
   ]
  },
  {
   "cell_type": "markdown",
   "metadata": {},
   "source": [
    "Test using a single month, with source Geminga"
   ]
  },
  {
   "cell_type": "code",
   "execution_count": null,
   "metadata": {},
   "outputs": [
    {
     "name": "stdout",
     "output_type": "stream",
     "text": [
      "Processing 11 GTI files ...  11 files, 63635 intervals with 3,322 days live time\n",
      "\tGTI MjD range: 54682.66-58698.08, good fraction 0.83 \n",
      "Processing 1 S/C history (FT2) files\n",
      "  applying cuts cos(theta) < 0.5,  z < 100\n",
      "\tfile /home/burnett/work/lat-data/ft2/ft2_2008.fits: 362996 entries, 360944 in GTI\n",
      "\tFound 360,944 S/C entries:  92,991 remain after zenith and theta cuts\n",
      "Calculate exposure using the energy domain 100.0-1000000.0 4 bins/decade\n"
     ]
    }
   ],
   "source": [
    "from light_curves.config import Config, FileConfiguration, PointSource\n",
    "from light_curves.load_gti import process_gti\n",
    "from light_curves.effective_area import EffectiveArea\n",
    "config = Config()\n",
    "files = FileConfiguration()\n",
    "\n",
    "gti = process_gti(config, files.gti)\n",
    "aeff = EffectiveArea(file_path = files.aeff)\n",
    "source = PointSource('Geminga') \n",
    " \n",
    "exp = process_ft2(config, source, files.ft2[:1], gti, aeff)"
   ]
  },
  {
   "cell_type": "markdown",
   "metadata": {},
   "source": [
    "The result is a tuple of time intervals and the exposure"
   ]
  },
  {
   "cell_type": "code",
   "execution_count": null,
   "metadata": {},
   "outputs": [
    {
     "data": {
      "text/html": [
       "<div>\n",
       "<style scoped>\n",
       "    .dataframe tbody tr th:only-of-type {\n",
       "        vertical-align: middle;\n",
       "    }\n",
       "\n",
       "    .dataframe tbody tr th {\n",
       "        vertical-align: top;\n",
       "    }\n",
       "\n",
       "    .dataframe thead th {\n",
       "        text-align: right;\n",
       "    }\n",
       "</style>\n",
       "<table border=\"1\" class=\"dataframe\">\n",
       "  <thead>\n",
       "    <tr style=\"text-align: right;\">\n",
       "      <th></th>\n",
       "      <th>start</th>\n",
       "      <th>stop</th>\n",
       "      <th>exposure</th>\n",
       "    </tr>\n",
       "  </thead>\n",
       "  <tbody>\n",
       "    <tr>\n",
       "      <th>0</th>\n",
       "      <td>54682.656038</td>\n",
       "      <td>54682.656375</td>\n",
       "      <td>112998.052089</td>\n",
       "    </tr>\n",
       "    <tr>\n",
       "      <th>1</th>\n",
       "      <td>54682.656375</td>\n",
       "      <td>54682.656722</td>\n",
       "      <td>116901.160578</td>\n",
       "    </tr>\n",
       "    <tr>\n",
       "      <th>2</th>\n",
       "      <td>54682.656722</td>\n",
       "      <td>54682.657069</td>\n",
       "      <td>116857.143435</td>\n",
       "    </tr>\n",
       "    <tr>\n",
       "      <th>3</th>\n",
       "      <td>54682.657069</td>\n",
       "      <td>54682.657416</td>\n",
       "      <td>116791.434285</td>\n",
       "    </tr>\n",
       "    <tr>\n",
       "      <th>4</th>\n",
       "      <td>54682.657416</td>\n",
       "      <td>54682.657764</td>\n",
       "      <td>116876.550059</td>\n",
       "    </tr>\n",
       "    <tr>\n",
       "      <th>...</th>\n",
       "      <td>...</td>\n",
       "      <td>...</td>\n",
       "      <td>...</td>\n",
       "    </tr>\n",
       "    <tr>\n",
       "      <th>360827</th>\n",
       "      <td>54832.182671</td>\n",
       "      <td>54832.183018</td>\n",
       "      <td>76389.575259</td>\n",
       "    </tr>\n",
       "    <tr>\n",
       "      <th>360828</th>\n",
       "      <td>54832.183018</td>\n",
       "      <td>54832.183366</td>\n",
       "      <td>71710.358693</td>\n",
       "    </tr>\n",
       "    <tr>\n",
       "      <th>360829</th>\n",
       "      <td>54832.183366</td>\n",
       "      <td>54832.183713</td>\n",
       "      <td>66665.636738</td>\n",
       "    </tr>\n",
       "    <tr>\n",
       "      <th>360830</th>\n",
       "      <td>54832.183713</td>\n",
       "      <td>54832.184060</td>\n",
       "      <td>61750.776709</td>\n",
       "    </tr>\n",
       "    <tr>\n",
       "      <th>360831</th>\n",
       "      <td>54832.184060</td>\n",
       "      <td>54832.184407</td>\n",
       "      <td>56985.066475</td>\n",
       "    </tr>\n",
       "  </tbody>\n",
       "</table>\n",
       "<p>92991 rows × 3 columns</p>\n",
       "</div>"
      ],
      "text/plain": [
       "               start          stop       exposure\n",
       "0       54682.656038  54682.656375  112998.052089\n",
       "1       54682.656375  54682.656722  116901.160578\n",
       "2       54682.656722  54682.657069  116857.143435\n",
       "3       54682.657069  54682.657416  116791.434285\n",
       "4       54682.657416  54682.657764  116876.550059\n",
       "...              ...           ...            ...\n",
       "360827  54832.182671  54832.183018   76389.575259\n",
       "360828  54832.183018  54832.183366   71710.358693\n",
       "360829  54832.183366  54832.183713   66665.636738\n",
       "360830  54832.183713  54832.184060   61750.776709\n",
       "360831  54832.184060  54832.184407   56985.066475\n",
       "\n",
       "[92991 rows x 3 columns]"
      ]
     },
     "execution_count": null,
     "metadata": {},
     "output_type": "execute_result"
    }
   ],
   "source": [
    "exp"
   ]
  },
  {
   "cell_type": "code",
   "execution_count": null,
   "metadata": {},
   "outputs": [
    {
     "name": "stdout",
     "output_type": "stream",
     "text": [
      "Converted 00_config.ipynb.\n",
      "Converted 00_poisson.ipynb.\n",
      "Converted 01_effective_area.ipynb.\n",
      "Converted 02_load_gti.ipynb.\n",
      "Converted 03_data.ipynb.\n",
      "Converted 03_exposure.ipynb.\n",
      "Converted 04_binner.ipynb.\n",
      "Converted index.ipynb.\n",
      "Thu Dec  3 12:32:32 PST 2020\n"
     ]
    }
   ],
   "source": [
    "#hide\n",
    "from nbdev.export import notebook2script\n",
    "notebook2script()\n",
    "!date"
   ]
  }
 ],
 "metadata": {
  "kernelspec": {
   "display_name": "Python 3",
   "language": "python",
   "name": "python3"
  }
 },
 "nbformat": 4,
 "nbformat_minor": 4
}
