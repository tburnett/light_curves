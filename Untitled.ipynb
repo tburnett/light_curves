{
 "cells": [
  {
   "cell_type": "code",
   "execution_count": null,
   "metadata": {},
   "outputs": [
    {
     "name": "stdout",
     "output_type": "stream",
     "text": [
      "I was called\n",
      "0.3333333333333333\n",
      "0\n",
      "1\n",
      "2\n",
      "3\n",
      "4\n",
      "5\n",
      "6\n",
      "7\n",
      "8\n",
      "9\n",
      "generating stuff, name is userfun, local vars: dict_keys(['userfun', 'source', '_', 'code', 'name', 'doc', '_generate', 'inspect', '__doc__', 'y', 'i'])\n"
     ]
    }
   ],
   "source": [
    "def local():\n",
    "    return 1/3\n",
    "\n",
    "\n",
    "def testdoc(userfun):\n",
    "    import inspect\n",
    "\n",
    "    # process the function's code\n",
    "    source, _ = inspect.getsourcelines(userfun)\n",
    "    assert source[0].startswith('def '), 'Expect first line to be a \"def\"'\n",
    "    code = inspect.cleandoc(''.join(source[1:]))\n",
    "    name = userfun.__name__\n",
    "\n",
    "    doc = inspect.cleandoc(userfun.__doc__)\n",
    "    \n",
    "    # a call to this is added to end of the user code\n",
    "    def _generate(name):\n",
    "        # gets local symbols from calling function\n",
    "        back =inspect.currentframe().f_back\n",
    "        locs = inspect.getargvalues(back).locals\n",
    "        print(f'generating stuff, name is {name}, local vars: {locs.keys()}')\n",
    "        \n",
    "    exec(code + f'\\n_generate(\"{name}\")')# , globals(), locals())\n",
    "    \n",
    "def userfun(x):\n",
    "    \"\"\"this is a doc\"\"\"\n",
    "    \n",
    "    y=99\n",
    "    print('I was called')\n",
    "    print( local() )\n",
    "    for i in range(10):\n",
    "        print(i)\n",
    "    \n",
    "testdoc(userfun)"
   ]
  },
  {
   "cell_type": "code",
   "execution_count": null,
   "metadata": {},
   "outputs": [],
   "source": []
  }
 ],
 "metadata": {
  "kernelspec": {
   "display_name": "Python 3",
   "language": "python",
   "name": "python3"
  }
 },
 "nbformat": 4,
 "nbformat_minor": 4
}
