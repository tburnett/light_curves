{
 "cells": [
  {
   "cell_type": "code",
   "execution_count": null,
   "metadata": {},
   "outputs": [],
   "source": [
    "# default_exp binner\n",
    "%load_ext autoreload\n",
    "%autoreload 2"
   ]
  },
  {
   "cell_type": "markdown",
   "metadata": {},
   "source": [
    "# binner\n",
    "\n",
    "binning"
   ]
  },
  {
   "cell_type": "code",
   "execution_count": null,
   "metadata": {},
   "outputs": [],
   "source": [
    "#hide\n",
    "import numpy as np\n",
    "from nbdev.showdoc import *\n",
    "from jupydoc import NBdevCell\n",
    "!rm -f images/fig_*.*"
   ]
  },
  {
   "cell_type": "code",
   "execution_count": null,
   "metadata": {},
   "outputs": [],
   "source": [
    "#export\n",
    "import numpy as np\n",
    "import pandas as pd\n",
    "class BinnedWeights(object):\n",
    "    \"\"\" Generate a list of cells, with access to cell data\n",
    "        weights\n",
    "    \"\"\"\n",
    "    \n",
    "    def __init__(self, \n",
    "                    data:'WeightedData object, with edges, source_name', \n",
    "                    bins:''=None):\n",
    "        \"\"\"\n",
    "        Use time binning and data (a TimedData) object to generate list of cells\n",
    "        \"\"\"\n",
    "        self.data = data \n",
    "        self.source_name = data.source_name\n",
    "        self.verbose = getattr(data, 'verbose', 1)\n",
    "        \n",
    "        if bins is None:\n",
    "            # get predefined bin data and corresponding fractional exposure\n",
    "            # (this case using default step, range) \n",
    "            bins = data.edges\n",
    "        elif np.isscalar(bins):\n",
    "            # scalar is step\n",
    "            step = bins\n",
    "            tstart = data.edges[0]\n",
    "            time_range = data.edges[-1]-tstart\n",
    "            nbins = int(time_range/step)+1; \n",
    "            if self.verbose>0:\n",
    "                print(f'Selecting {nbins} intervals of {step} days')\n",
    "            bins = tstart + np.arange(nbins+1)*step \n",
    "        else:\n",
    "            pass # check that bins makes sense:\n",
    "        # the exposure array already part of of a WeightedDataX object\n",
    "        exposure =  data.get_binned_exposure(bins) \n",
    "        self.bins=bins\n",
    "        self.N = len(bins)-1 # number of bins\n",
    "        self.bin_centers = 0.5*(self.bins[1:]+self.bins[:-1])\n",
    "        self.fexposure = exposure/np.sum(exposure)   \n",
    "\n",
    "        # get the photon data with good weights, not NaN\n",
    "        if 'weight' in data.photon_data:\n",
    "            w = data.photon_data.weight\n",
    "            good = np.logical_not(np.isnan(w))\n",
    "            self.photons = data.photon_data.loc[good]\n",
    "            self.weights = w = self.photons.weight.values\n",
    "            # estimates for total signal and background\n",
    "            self.S = np.sum(w)\n",
    "            self.B = np.sum(1-w)\n",
    "        else:\n",
    "            # no weights specified\n",
    "            self.photons = data.photon_data\n",
    "            self.S = self.B = 0\n",
    "            self.weights=[]\n",
    "            \n",
    "        # use photon times to get indices of bin edges\n",
    "        self._edges = np.searchsorted(self.photons.time, self.bins)\n",
    "        \n",
    "        \n",
    "    def __repr__(self):\n",
    "        return f'''{self.__class__}:  \n",
    "        {len(self.fexposure)} intervals from {self.bins[0]:.1f} to {self.bins[-1]:.1f} for source {self.source_name}\n",
    "        S {self.S:.2f}  B {self.B:.2f} '''\n",
    "\n",
    "    def __getitem__(self, i):\n",
    "        \"\"\" get info for ith time bin and return dict with \n",
    "            t : MJD\n",
    "            tw: bin width, \n",
    "            fexp: exposure as fraction of total, \n",
    "            n : number of photons in bin\n",
    "            w : weights \n",
    "            S,B:  value\n",
    "        \"\"\"\n",
    "        k   = self._edges        \n",
    "        if len(self.weights)==0: \n",
    "            # No weights\n",
    "            wts = []\n",
    "            n = len(self.photons[k[i]:k[i+1]])\n",
    "        else:\n",
    "            wts = self.weights[k[i]:k[i+1]]\n",
    "            n = len(wts)\n",
    "        exp = self.fexposure[i]\n",
    "        tw  = self.bins[i+1]-self.bins[i]\n",
    "\n",
    "        return dict(\n",
    "                t=self.bin_centers[i], # time\n",
    "                tw = tw,  # bin width\n",
    "                fexp=exp*self.N, # exposure as a fraction of mean, for filtering\n",
    "                n=n, # number of photons in bin\n",
    "                w=wts,\n",
    "                S= exp*self.S,\n",
    "                B= exp*self.B,               \n",
    "                )\n",
    "\n",
    "    def __len__(self):\n",
    "        return self.N\n",
    "    \n",
    "    @property\n",
    "    def dataframe(self):\n",
    "        \"\"\" a view of the data as a DataFrame, using the MJD time as an index\n",
    "        \"\"\"\n",
    "        d = dict()\n",
    "        for cell in self:\n",
    "            d[cell['t']] = cell\n",
    "        return pd.DataFrame.from_dict(d, orient='index' )\n",
    "\n",
    "    def test_plots(self):\n",
    "        \"\"\"Make a set of plots of exposure, counts, properties of weights, if any\n",
    "        \"\"\"\n",
    "        import matplotlib.pyplot as plt\n",
    "\n",
    "        has_weights = len(self.weights)>0\n",
    "        fig, axx = plt.subplots( 5 if has_weights else 3, 1, \n",
    "                    figsize=(12,10 if has_weights else 6), \n",
    "                    sharex=True,\n",
    "                    gridspec_kw=dict(hspace=0,top=0.95),)\n",
    "        times=[]; vals = []\n",
    "\n",
    "        for cell in self:\n",
    "            t, e, n, w = [cell[q] for q in 't fexp n w'.split()]\n",
    "            if e==0:\n",
    "                continue\n",
    "            times.append(t)\n",
    "            v =  [e, n, n/e ]\n",
    "            if has_weights:\n",
    "                v= v + [ w.mean(), np.sum(w**2)/sum(w)]\n",
    "            vals.append(v)\n",
    "        vals = np.array(vals).T\n",
    "        labels =  ['rel exp','counts','count rate']\n",
    "        if has_weights: labels = labels +  ['mean weight', 'rms/mean weight']\n",
    "        for ax, v, ylabel in zip(axx, vals,labels):\n",
    "            ax.plot(times, v, '+b')\n",
    "            ax.set(ylabel=ylabel)\n",
    "            ax.grid(alpha=0.5)\n",
    "        axx[-1].set(xlabel='MJD')\n",
    "        fig.suptitle(self.source_name)"
   ]
  },
  {
   "cell_type": "code",
   "execution_count": null,
   "metadata": {},
   "outputs": [
    {
     "data": {
      "text/markdown": [
       "<h4 id=\"UTC\" class=\"doc_header\"><code>UTC</code><a href=\"__main__.py#L14\" class=\"source_link\" style=\"float:right\">[source]</a></h4>\n",
       "\n",
       "> <code>UTC</code>(**`mjd`**)\n",
       "\n",
       "convert MJD value to ISO date string"
      ],
      "text/plain": [
       "<IPython.core.display.Markdown object>"
      ]
     },
     "metadata": {},
     "output_type": "display_data"
    },
    {
     "data": {
      "text/markdown": [
       "<h4 id=\"MJD\" class=\"doc_header\"><code>MJD</code><a href=\"__main__.py#L11\" class=\"source_link\" style=\"float:right\">[source]</a></h4>\n",
       "\n",
       "> <code>MJD</code>(**`met`**)\n",
       "\n",
       "convert MET to MJD"
      ],
      "text/plain": [
       "<IPython.core.display.Markdown object>"
      ]
     },
     "metadata": {},
     "output_type": "display_data"
    },
    {
     "data": {
      "text/plain": [
       "'2001-01-01 00:01'"
      ]
     },
     "execution_count": null,
     "metadata": {},
     "output_type": "execute_result"
    }
   ],
   "source": []
  },
  {
   "cell_type": "code",
   "execution_count": null,
   "metadata": {},
   "outputs": [],
   "source": [
    "from light_curves.effective_area import EffectiveArea\n",
    "from utilities import keyword_options"
   ]
  },
  {
   "cell_type": "code",
   "execution_count": null,
   "metadata": {},
   "outputs": [
    {
     "name": "stdout",
     "output_type": "stream",
     "text": [
      "Converted 00_poisson.ipynb.\n",
      "Converted 01_effective_area.ipynb.\n",
      "Converted 02_data.ipynb.\n",
      "Converted index.ipynb.\n",
      "Sun Nov 29 12:30:18 PST 2020\n"
     ]
    }
   ],
   "source": [
    "#hide\n",
    "from nbdev.export import notebook2script\n",
    "notebook2script()\n",
    "!date"
   ]
  },
  {
   "cell_type": "code",
   "execution_count": null,
   "metadata": {},
   "outputs": [],
   "source": []
  }
 ],
 "metadata": {
  "kernelspec": {
   "display_name": "Python 3",
   "language": "python",
   "name": "python3"
  }
 },
 "nbformat": 4,
 "nbformat_minor": 4
}
