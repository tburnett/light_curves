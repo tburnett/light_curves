{
 "cells": [
  {
   "cell_type": "code",
   "execution_count": null,
   "metadata": {},
   "outputs": [],
   "source": [
    "#hide\n",
    "from utilities.ipynb_docgen import *\n",
    "from nbdev import *"
   ]
  },
  {
   "cell_type": "markdown",
   "metadata": {},
   "source": [
    "# Analyses\n",
    "\n",
    "> Ongoing analyses\n"
   ]
  },
  {
   "cell_type": "markdown",
   "metadata": {},
   "source": [
    "**`light_curves` library functions used here**\n",
    "- `get_cells`\n",
    "- `simulate_cells`\n",
    "- `get_lightcurve`\n",
    "- `get_bb_partition`\n",
    "- `partition_cells`\n",
    "- `fit_cells`\n",
    "- `flux_plot`\n"
   ]
  },
  {
   "cell_type": "markdown",
   "metadata": {},
   "source": [
    "## Introduction\n",
    "\n",
    "This notebook does not produce a module to add to the library, it a place to run, and report on analyses using the library. It uses local code, shown below.\n",
    "\n",
    "This is also an exploration of this style of presenting code, and data analysis based on it.\n",
    "\n",
    "## Geminga analyses\n",
    "\n",
    "Following Kerr's example, we use the source Geminga to verify that this analysis of data gives results consistent with its being constant. As you can see below, the BB analysis finds several breaks, which merit further checks. That is followed by a simulation using\n",
    "Geminga's weight distribution and exposure. The run shown here finds one minor break, a change of 0.08%. "
   ]
  },
  {
   "cell_type": "markdown",
   "metadata": {},
   "source": [
    "**Local code**"
   ]
  },
  {
   "cell_type": "code",
   "execution_count": null,
   "metadata": {},
   "outputs": [],
   "source": [
    "#collapse-hide\n",
    "from light_curves.config import *\n",
    "from light_curves.bayesian import *\n",
    "from light_curves.simulation import *\n",
    "from light_curves.lightcurve import *\n",
    "from light_curves.cells import *\n",
    "\n",
    "def bb_overplot(config, lc, bb_fit, ax=None,  **kwargs):\n",
    "    fig, ax = plt.subplots(1,1, figsize=(12,4)) if not ax else (ax.figure, ax)\n",
    "    flux_plot(config, lc, ax=ax, colors=(('lightblue', 'sandybrown', 'blue')),**kwargs)\n",
    "    flux_plot(config, bb_fit, ax=ax, step=True, **kwargs)\n",
    "    \n",
    "def simulation(config, source, bb_key=None):\n",
    "    \"\"\"Create and analyze a a simulation for the source\n",
    "    Returns the simulated, and fit light curves\n",
    "    \"\"\"\n",
    "\n",
    "    lc = get_lightcurve(config, source)\n",
    "    data_cells = get_cells(config, source)\n",
    "\n",
    "    #  Get the rate from the data\n",
    "    cq = data_cells.query('e>0.3')\n",
    "    T, N = np.sum(cq.tw), np.sum(cq.n)\n",
    "    sflux=lambda t: N/T\n",
    "\n",
    "    # simulate, then fit cells to create a simulated light curve \n",
    "    sim_cells = simulate_cells(config, source, source_flux=sflux  )\n",
    "    sim_lc  = fit_cells(config, sim_cells) \n",
    "\n",
    "    sim_edges = get_bb_partition(config, sim_lc,  key=bb_key) #'simulated_BB_partition_Geminga') \n",
    "\n",
    "    # partion, then fit the cells according to the edges\n",
    "    sim_bb_cells = partition_cells(config, sim_cells, sim_edges);\n",
    "    sim_bb_fit  = fit_cells(config, sim_bb_cells, )\n",
    "    return sim_lc, sim_bb_fit\n",
    "\n",
    "def analyze_data(config, source):\n",
    "    \"\"\"\n",
    "    Analyze data from the source\n",
    "    \n",
    "    Returns, data a partitioned light curves\n",
    "    \"\"\"\n",
    "    lc = get_lightcurve(config, source)\n",
    "    cells = get_cells(config, source)\n",
    "    edges = get_bb_partition(config, lc, LikelihoodFitness, key='bb-Geminga-test') \n",
    "    bb_cells = partition_cells(config, cells, edges);\n",
    "    bb_lc  = fit_cells(config, bb_cells, )\n",
    "    return lc, bb_lc\n",
    "\n",
    "def fit_table(lc, expect=1.0):\n",
    "    \"\"\"Generate a summary table from a light curve\"\"\"\n",
    "    fits = lc.fit\n",
    "    flux = fits.apply(lambda f: f.flux)\n",
    "    errors = fits.apply(lambda f: (round(f.errors[0]-f.flux,3), round(f.errors[1]-f.flux ,3) ) )\n",
    "    sigma_dev = fits.apply(lambda f: round(f.poiss.sigma_dev(expect),1) )\n",
    "    df = lc['t tw n'.split()].copy() # maybe fix warnings?\n",
    "    df.loc[:,'flux'] = flux.values.round(4)\n",
    "    df.loc[:, 'errors'] = errors.values\n",
    "    df.loc[:, 'sigma_dev'] = sigma_dev.values\n",
    "    return df"
   ]
  },
  {
   "cell_type": "markdown",
   "metadata": {},
   "source": [
    "#### Current Cache contents"
   ]
  },
  {
   "cell_type": "code",
   "execution_count": null,
   "metadata": {},
   "outputs": [
    {
     "name": "stdout",
     "output_type": "stream",
     "text": [
      "Cache contents\n",
      " key                          size  time                 name, in folder /tmp/cache\n",
      "  gti                      1018319  2020-12-27 07:24     cache_file_7190bdd9c0a092d.pkl\n",
      "  photons_Geminga         22334705  2020-12-27 07:24     cache_file_14b520ba39961079.pkl\n",
      "  weight_hist_Geminga          556  2020-12-27 07:25     cache_file_967f229ebf4ecb.pkl\n",
      "  exposure_Geminga        86263776  2020-12-27 07:28     cache_file_28955455e5c2fbc.pkl\n",
      "  binned_exposure_Geminga       64448  2020-12-27 07:28     cache_file_b02185c3dd43b6e.pkl\n",
      "\n"
     ]
    }
   ],
   "source": [
    "config = Config()\n",
    "print(config.cache)"
   ]
  },
  {
   "cell_type": "markdown",
   "metadata": {},
   "source": [
    "### Check fit to all simulated Geminga"
   ]
  },
  {
   "cell_type": "code",
   "execution_count": null,
   "metadata": {},
   "outputs": [
    {
     "name": "stdout",
     "output_type": "stream",
     "text": [
      "Cell data for Geminga: Saving to cache with key \"cells_Geminga\"\n",
      "Photon data: Restoring from cache with key \"photons_Geminga\"\n",
      "\n",
      "\tSelected 1,313,726 photons within 5 deg of  (195.13,4.27)\n",
      "\tEnergies: 100.0-1000000 MeV\n",
      "\tDates:    2008-08-04 15:46 - 2019-08-03 01:17\n",
      "\tMJD  :    54682.7          - 58698.1         \n",
      "Load weights from file /mnt/c/users/thbur/OneDrive/fermi/weight_files/Geminga_weights.pkl\n",
      "\tFound: PSR J0633+1746 at (195.14, 4.27)\n",
      "\tApplyng weights: 240 / 1313726 photon pixels are outside weight region\n",
      "\t233109 weights set to NaN\n",
      "binned exposure for source Geminga: Saving to cache with key \"binexp_Geminga\"\n",
      "exposure for Geminga: Restoring from cache with key \"exposure_Geminga\"\n",
      "Time bins: 4015 intervals of 1 days, in range (54683.0, 58698.0)\n"
     ]
    }
   ],
   "source": [
    "from light_curves.loglike import *\n",
    "source = PointSource('Geminga')\n",
    "cells = get_cells(config, source)\n",
    "cell = concatenate_cells(cells)"
   ]
  },
  {
   "cell_type": "code",
   "execution_count": null,
   "metadata": {},
   "outputs": [
    {
     "name": "stdout",
     "output_type": "stream",
     "text": [
      "light_curves.loglike.LogLike:  time 56690.500, 1080435 weights, S 716237.6, B 364197.6 \n",
      "Fit:  {'counts': 1080435, 'flux': 1.0, 'sig_flux': 0.0013}\n"
     ]
    },
    {
     "data": {
      "image/png": "[encoded data removed]",
      "text/plain": [
       "<Figure size 288x144 with 1 Axes>"
      ]
     },
     "metadata": {
      "needs_background": "light"
     },
     "output_type": "display_data"
    }
   ],
   "source": [
    "ll = LogLike(cell); \n",
    "print(ll,'\\nFit: ', ll.fit_info())\n",
    "ll.plot(xlim =( 0.99, 1.005))"
   ]
  },
  {
   "cell_type": "code",
   "execution_count": null,
   "metadata": {},
   "outputs": [
    {
     "data": {
      "text/plain": [
       "t                                               54683.5\n",
       "tw                                                    1\n",
       "e                                               1.26456\n",
       "n                                                   330\n",
       "w     [0.95343286, 0.83939403, 0.68349504, 0.0219892...\n",
       "S                                               225.585\n",
       "B                                               114.707\n",
       "Name: 0, dtype: object"
      ]
     },
     "execution_count": null,
     "metadata": {},
     "output_type": "execute_result"
    }
   ],
   "source": [
    "cells.iloc[0]"
   ]
  },
  {
   "cell_type": "code",
   "execution_count": null,
   "metadata": {},
   "outputs": [
    {
     "data": {
      "text/markdown": [
       "####  Geminga data\n",
       "\n",
       "Get the daily binned data, or cells; then perform a Bayesian Blocks partition;\n",
       "finally make fits to the resulting blocks. <br>(Run at 2020-12-27 07:34)\n",
       "\n",
       "<details  class=\"nbdoc-description\" >  <summary> Analysis output </summary>  <div style=\"margin-left: 5%\"><pre>Light curve for Geminga: Saving to cache with key \"lightfcurve_Geminga\"<br>Cell data for Geminga: Restoring from cache with key \"cells_Geminga\"<br>Loaded 3873 / 4015 cells with exposure &gt; 0.3 for light curve analysis<br>first cell: t                                                    54683.5<br>tw                                                         1<br>e                                                    1.26456<br>n                                                        330<br>w          [0.95343286, 0.83939403, 0.68349504, 0.0219892...<br>S                                                    225.585<br>B                                                    114.707<br>loglike    light_curves.loglike.LogLike:  time 54683.500,...<br>Name: 0, dtype: object<br>Fitting likelihoods with poisson representation<br>Cell data for Geminga: Restoring from cache with key \"cells_Geminga\"<br>BB edges for...: Saving to cache with key \"bb-Geminga-test\"<br>Partitioned 3873 cells into 15 blocks, using LikelihoodFitness <br>Loaded 15 / 15 cells with exposure &gt; 0.3 for fitting<br></pre></div> </details>\n",
       "\n",
       "This shows the fits to all cells, with the BB fit overlays.\n",
       "<div class=\"nbdoc_image\">\n",
       "<figure style=\"margin-left: 5%\" title=\"Figure 1\">  <a href=\"images/analysis_plots_fig_01.png\" title=\"images/analysis_plots_fig_01.png\">    <img src=\"images/analysis_plots_fig_01.png\" alt=\"Figure 1 at images/analysis_plots_fig_01.png\" width=600>   </a> </figure>\n",
       "</div>\n",
       "\n",
       "\n",
       "Since this is a constant source, there should be no breaks, that is, only one partition.\n",
       "Here is a table of the partition fits:\n",
       "\n",
       "<details open class=\"nbdoc-description\" >  <summary> BB fit table </summary>  <div style=\"margin-left: 5%\"><pre>          t      tw       n   flux           errors  sigma_dev<br>0   55027.0   688.0  207832  1.002  (-0.003, 0.003)        1.9<br>1   55378.0    14.0    3797  1.126  (-0.024, 0.025)        5.4<br>2   55560.5   351.0   96416  0.988  (-0.004, 0.004)       -1.8<br>3   55748.0    24.0    6887  1.127  (-0.018, 0.018)        7.4<br>4   56114.0   708.0  191491  0.995  (-0.003, 0.003)       -0.5<br>5   56487.0    38.0   10741  1.082  (-0.014, 0.014)        6.2<br>6   56512.5    13.0    3402  0.905  (-0.021, 0.022)       -4.1<br>7   56673.5   309.0   84043  0.993  (-0.005, 0.005)       -0.8<br>8   56879.5   103.0   28168  1.030  (-0.008, 0.008)        4.1<br>9   56972.5    83.0   20961  0.969  (-0.009, 0.009)       -2.9<br>10  57017.5     7.0    2070  1.160  (-0.034, 0.034)        5.0<br>11  57109.0   176.0   45616  1.007  (-0.006, 0.006)        1.6<br>12  57197.5     1.0     149  0.538  (-0.067, 0.071)       -5.7<br>13  57917.5  1439.0  368600  0.998  (-0.002, 0.002)        0.7<br>14  58667.0    60.0   10261  1.082  (-0.015, 0.015)        6.0</pre></div> </details>\n",
       "The last column represents the compatibility of the flux measurement for each partition\n",
       "with the expected value 0.9963 in equivalent sigma units.\n",
       "\n",
       "Expand the plot around short, < 50 day partitions.\n",
       "There are 6 such.\n",
       "\n",
       "<div class=\"nbdoc_image\">\n",
       "<figure style=\"margin-left: 5%\" title=\"Figure 2\">  <a href=\"images/analysis_plots_fig_02.png\" title=\"images/analysis_plots_fig_02.png\">    <img src=\"images/analysis_plots_fig_02.png\" alt=\"Figure 2 at images/analysis_plots_fig_02.png\" width=600>   </a> </figure>\n",
       "</div>\n",
       "\n"
      ],
      "text/plain": [
       "<utilities.ipynb_docgen.doc_formatter.<locals>.MimeBundleObject at 0x7f20f9513c90>"
      ]
     },
     "metadata": {},
     "output_type": "display_data"
    }
   ],
   "source": [
    "#collapse-hide\n",
    "def analysis_plots(name, expect=0.9963, short=50, simname=''):\n",
    "    \"\"\"\n",
    "    #### {sim} Geminga data\n",
    "    \n",
    "    {which_source} the daily binned data, or cells; then perform a Bayesian Blocks partition;\n",
    "    finally make fits to the resulting blocks. <br>(Run at {date})\n",
    "    \n",
    "    {output}\n",
    "    \n",
    "    This shows the fits to all cells, with the BB fit overlays.\n",
    "    {fig1}\n",
    "    \n",
    "    Since this is a constant source, there should be no breaks, that is, only one partition.\n",
    "    Here is a table of the partition fits:\n",
    "    \n",
    "    {df_text}\n",
    "    The last column represents the compatibility of the flux measurement for each partition\n",
    "    with the expected value {expect} in equivalent sigma units.\n",
    "    \n",
    "    Expand the plot around short, < {short} day partitions.\n",
    "    {short_check}\n",
    "    \n",
    "    {fig2}\n",
    "    \"\"\"\n",
    "    source = PointSource(name)\n",
    "    simulated = bool(simname)\n",
    "    sim= 'Simulated' if simulated else ''\n",
    "    which_source = 'Simulate a set of ' if simulated else 'Get'\n",
    "    with capture_print('Analysis output' ) as output:\n",
    "        if not simulated:\n",
    "            lc, bb_lc = analyze_data(config, source)\n",
    "        else: \n",
    "            lc, bb_lc = simulation(config, source, bb_key=simname) \n",
    "\n",
    "    pd.set_option('display.precision', 3)#, 'display.colheader_justify','left')\n",
    "    \n",
    "    df = fit_table(bb_lc, expect=expect)\n",
    "    df_text = monospace(str(df), 'BB fit table', open=True)\n",
    "        \n",
    "    plt.rc('font', size=16)\n",
    "    fig1, ax = plt.subplots(1,1, sharex=True, figsize=(10,4), num=1)\n",
    "    bb_overplot(config, lc, bb_lc, ax = ax)\n",
    "    ax.text(0.05, 0.85, name,  transform=ax.transAxes);\n",
    "    fig1.width=600\n",
    "\n",
    "    bb_short = bb_lc.query(f'tw<{short}'); ns =len(bb_short)\n",
    "    if ns>0:\n",
    "        short_check=f'There are {ns} such.'\n",
    "        rows, cols = (ns+2)//3, 3\n",
    "        fig2, axx = plt.subplots( rows,3,  figsize=(5*cols, 4*rows),\n",
    "                                 sharey=True, sharex=True,\n",
    "                     gridspec_kw=dict(top=0.85, left=0.08, bottom=0.15, hspace=0.2 ),num=2)\n",
    "        if ns>1: fig2.width=600\n",
    "        axf = axx.flatten()\n",
    "        [ax.set_visible(False) for ax in axf[ns:]]\n",
    "        for t, ax in zip(bb_short.t, axf):\n",
    "            bb_overplot(config, lc, bb_lc, ax=ax, tzero=t, xlim=(-50, +50))\n",
    "    else:\n",
    "        fig2=''\n",
    "        short_check = 'None found.'\n",
    "    return locals()\n",
    "if config.valid:\n",
    "    nbdoc(analysis_plots, 'Geminga')"
   ]
  },
  {
   "cell_type": "code",
   "execution_count": null,
   "metadata": {},
   "outputs": [
    {
     "data": {
      "text/markdown": [
       "#### Simulated Geminga data\n",
       "\n",
       "Simulate a set of  the daily binned data, or cells; then perform a Bayesian Blocks partition;\n",
       "finally make fits to the resulting blocks. <br>(Run at 2020-12-27 07:38)\n",
       "\n",
       "<details  class=\"nbdoc-description\" >  <summary> Analysis output </summary>  <div style=\"margin-left: 5%\"><pre>Light curve for Geminga: Restoring from cache with key \"lightfcurve_Geminga\"<br>Cell data for Geminga: Restoring from cache with key \"cells_Geminga\"<br>binned exposure for source Geminga: Restoring from cache with key \"binexp_Geminga\"<br>Weight histogram for Geminga: Restoring from cache with key \"weight_hist_Geminga\"<br>Loaded 3873 / 4015 cells with exposure &gt; 0.3 for fitting<br>BB edges for...: Saving to cache with key \"analysis_plot_sim\"<br>Partitioned 3873 cells into 1 blocks, using LikelihoodFitness <br>Loaded 1 / 1 cells with exposure &gt; 0.3 for fitting<br></pre></div> </details>\n",
       "\n",
       "This shows the fits to all cells, with the BB fit overlays.\n",
       "<div class=\"nbdoc_image\">\n",
       "<figure style=\"margin-left: 5%\" title=\"Figure 1\">  <a href=\"images/analysis_sim_fig_01.png\" title=\"images/analysis_sim_fig_01.png\">    <img src=\"images/analysis_sim_fig_01.png\" alt=\"Figure 1 at images/analysis_sim_fig_01.png\" width=600>   </a> </figure>\n",
       "</div>\n",
       "\n",
       "\n",
       "Since this is a constant source, there should be no breaks, that is, only one partition.\n",
       "Here is a table of the partition fits:\n",
       "\n",
       "<details open class=\"nbdoc-description\" >  <summary> BB fit table </summary>  <div style=\"margin-left: 5%\"><pre>         t      tw        n   flux           errors  sigma_dev<br>0  56690.0  4014.0  1116345  0.989  (-0.001, 0.001)       -2.1</pre></div> </details>\n",
       "The last column represents the compatibility of the flux measurement for each partition\n",
       "with the expected value 0.9915 in equivalent sigma units.\n",
       "\n",
       "Expand the plot around short, < 50 day partitions.\n",
       "None found.\n",
       "\n",
       "\n"
      ],
      "text/plain": [
       "<utilities.ipynb_docgen.doc_formatter.<locals>.MimeBundleObject at 0x7f20f98ec210>"
      ]
     },
     "metadata": {},
     "output_type": "display_data"
    }
   ],
   "source": [
    "#collapse-hide\n",
    "if config.valid:\n",
    "\n",
    "    nbdoc(analysis_plots, 'Geminga', name='analysis_sim',  simname='analysis_plot_sim', \n",
    "         expect=0.9915)"
   ]
  },
  {
   "cell_type": "markdown",
   "metadata": {},
   "source": [
    "## TO DO\n",
    "- Fix a 0.4% bias from the cell fit when applied to high-statisics data.\n",
    "\n",
    "- Look at the 6 intervals detected for the data, of which 5 have measured flux increases around 10%,  more than 4$\\sigma$. Possibilities are a problem with the exposure, and a change in the background. The latter can be examined by a 2-D fit with $\\beta$ free. Another possibility, fixing $\\alpha=0$ and fitting $\\beta$ is not (yet) supported.\n"
   ]
  },
  {
   "cell_type": "code",
   "execution_count": null,
   "metadata": {},
   "outputs": [
    {
     "name": "stdout",
     "output_type": "stream",
     "text": [
      "Sun Dec 27 07:43:36 PST 2020\n"
     ]
    }
   ],
   "source": [
    "!date"
   ]
  }
 ],
 "metadata": {
  "kernelspec": {
   "display_name": "Python 3",
   "language": "python",
   "name": "python3"
  }
 },
 "nbformat": 4,
 "nbformat_minor": 4
}
