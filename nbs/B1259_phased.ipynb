{
 "cells": [
  {
   "cell_type": "code",
   "execution_count": null,
   "id": "grand-crack",
   "metadata": {},
   "outputs": [
    {
     "name": "stdout",
     "output_type": "stream",
     "text": [
      "The autoreload extension is already loaded. To reload it, use:\n",
      "  %reload_ext autoreload\n",
      "Tue Apr 27 04:40:07 PDT 2021\n"
     ]
    }
   ],
   "source": [
    "from nbdev import *\n",
    "%nbdev_hide_input\n",
    "%load_ext autoreload\n",
    "%autoreload 2\n",
    "!date"
   ]
  },
  {
   "cell_type": "markdown",
   "id": "comic-database",
   "metadata": {},
   "source": [
    "# B1259-63 folded analysis\n",
    "> Rebin with time bins aligned with orbit"
   ]
  },
  {
   "cell_type": "markdown",
   "id": "cordless-timeline",
   "metadata": {},
   "source": []
  },
  {
   "cell_type": "code",
   "execution_count": null,
   "id": "armed-present",
   "metadata": {},
   "outputs": [],
   "source": [
    "%nbdev_collapse_input\n",
    "from wtlike.config import *\n",
    "from wtlike.cell_data import *\n",
    "from wtlike.bayesian import *\n",
    "from wtlike.lightcurve import *\n",
    "from light_curves.b1259 import *\n",
    "from utilities.ipynb_docgen import *\n",
    "\n",
    "config = Config(data_folder='/home/burnett/weekly', verbose=1)\n",
    "\n",
    "class B1259phased(B1259Periastron):\n",
    "    \n",
    "    def __init__(self, config, first=54683, last=59326, nbins=1000, clear=False):\n",
    "        \n",
    "        # construct bins with respect to phase\n",
    "        self.interval = interval=nbins/self.period\n",
    "        self.nbins = nbins\n",
    "        def mjd2phase_bin(mjd):\n",
    "            return (mjd-self.tp+self.period)*interval\n",
    "        def phase_bin2mjd(pb):\n",
    "            return pb/interval+self.tp-self.period\n",
    "        first_edge = int(mjd2phase_bin(first))+1\n",
    "        last_edge = int(mjd2phase_bin(last))\n",
    "        N = last_edge-first_edge\n",
    "        phasebins = np.array(list(map(phase_bin2mjd, np.linspace(first_edge, last_edge, N+1) )) )  \n",
    "        \n",
    "        super().__init__(config, bins=phasebins, bin_key='B1259_phase_bin_edges', clear=clear)\n",
    "        \n",
    "    def mjd2phase(self, t):\n",
    "        \"\"\"return the phase, [-0.5,0.5) for t in MJD \"\"\"\n",
    "        r = np.mod(t-self.tp, self.period)/self.period\n",
    "        if r>0.5: r-=1.0\n",
    "        return r\n",
    "    \n",
    "    def combine_phases(self):\n",
    "        \"\"\" Fold, and fit cells to a lightcurve  with respect to phase  \n",
    "        \"\"\"\n",
    "        cells = self.cells\n",
    "        cell_width = cells.iloc[0].tw \n",
    "        cells.loc[:,'phase'] = cells.t.apply(lambda t: self.mjd2phase(t).round(4))\n",
    "\n",
    "        # check how many of  each phase\n",
    "        if self.config.verbose>0:\n",
    "            t, c = np.unique(cells.phase, return_counts=True)\n",
    "            n, c = np.unique(c, return_counts=True)\n",
    "            fdf = pd.DataFrame(dict(cells=n, count=c))\n",
    "            print(f'Combine to {len(t)} phase cells: check number of cells \\n {fdf}')\n",
    "\n",
    "        # group by phase\n",
    "        gcells = cells.groupby('phase')\n",
    "\n",
    "        phased_cells = []\n",
    "        for phase, gcell in gcells:\n",
    "            newcell=dict(t=phase*self.period, tw=cell_width)\n",
    "            for col in ' n e S B'.split():\n",
    "                newcell[col] = gcell[col].sum()\n",
    "            newcell['w'] = np.concatenate(list(gcell.w.values))\n",
    "            phased_cells.append(newcell)\n",
    "        self.folded_cells = df = pd.DataFrame(phased_cells)\n",
    "        \n",
    "        # fold the phases, and make a folded lightCurve \n",
    "        \n",
    "        self.folded_lc = LightCurve(self.config, self.folded_cells, self.source)\n",
    "        \n",
    "\n",
    "    def do_folded_bb(self):\n",
    "        \"\"\"Perform Bayesian Block analysis on the folded\n",
    "        \"\"\"\n",
    "        # do the BB to get partition\n",
    "        self.bb_folded_edges = get_bb_partition(self.config, self.folded_lc)\n",
    "\n",
    "        # combine the cells\n",
    "        self.bb_folded_cells = partition_cells(self.config, self.folded_cells, self.bb_folded_edges)\n",
    "        # fit them\n",
    "        self.bb_folded_lc = fit_cells(self.config, self.bb_folded_cells,) "
   ]
  },
  {
   "cell_type": "code",
   "execution_count": null,
   "id": "chinese-brook",
   "metadata": {},
   "outputs": [
    {
     "data": {
      "text/markdown": [
       "## Run Bayesian Block analysis wwith phased bins\n",
       "\n",
       "Define 1000 bins with 1.24-day width.\n",
       "<details  class=\"nbdoc-description\" >  <summary> Output from phased bin analysis </summary>  <div style=\"margin-left: 5%\"><pre>photons and exposure for PSR_B1259-63: Restoring from cache with key \"PSR_B1259-63_weekly_data\"<br>Loaded 3622 / 3622 cells with exposure &gt; 0.3 for light curve analysis<br>B1259_phase_bin_edges: Restoring from cache<br>Partitioned 3622 cells into 26 blocks, using LikelihoodFitness <br>Loaded 26 / 26 cells with exposure &gt; 0.3 for fitting<br>Combine to 1000 phase cells: check number of cells <br>    cells  count<br>0      2     68<br>1      3    242<br>2      4    690<br>Loaded 1000 / 1000 cells with exposure &gt; 0.3 for light curve analysis<br></pre></div> </details>\n",
       "\n",
       "### The full light curve with BB overlay:\n",
       "<div class=\"nbdoc_image\">\n",
       "<figure style=\"margin-left: 5%\" title=\"Figure 1\">  <a href=\"images/B1259_phased_fig_01.png\" title=\"images/B1259_phased_fig_01.png\">    <img src=\"images/B1259_phased_fig_01.png\" alt=\"Figure 1 at images/B1259_phased_fig_01.png\" width=800>   </a> </figure>\n",
       "</div>\n",
       "\n",
       "\n",
       "### After folding:\n",
       "<div class=\"nbdoc_image\">\n",
       "<figure style=\"margin-left: 5%\" title=\"Figure 2\">  <a href=\"images/B1259_phased_fig_02.png\" title=\"images/B1259_phased_fig_02.png\">    <img src=\"images/B1259_phased_fig_02.png\" alt=\"Figure 2 at images/B1259_phased_fig_02.png\" width=800>   </a> </figure>\n",
       "</div>\n",
       "\n",
       "\n",
       "### Perform the Bayesian Block analysis on the folded light curve\n",
       "<details  class=\"nbdoc-description\" >  <summary> Output from Bayesian Block analysis of folded cells </summary>  <div style=\"margin-left: 5%\"><pre>Partitioned 1000 cells into 10 blocks, using LikelihoodFitness <br>Loaded 10 / 10 cells with exposure &gt; 0.3 for fitting<br></pre></div> </details>\n",
       "\n",
       "Table of blocks, fits:\n",
       "<div style=\"margin-left: 5%\"><pre>        t      tw      TS                                fit<br>0 -318.46  599.81     0.0       0.000[1+0.000-0.000], &lt; 0.08<br>1    0.62   38.34   116.3      8.974[1+0.098-0.099], &lt; 10.43<br>2   24.12    8.66     1.5       1.896[1+0.808-0.828], &lt; 4.62<br>3   31.54    6.18   107.1     20.339[1+0.107-0.108], &lt; 23.96<br>4   45.76   22.26  1180.9     41.431[1+0.034-0.034], &lt; 43.77<br>5   57.51    1.24   263.3    94.894[1+0.080-0.081], &lt; 107.66<br>6   60.60    4.95   114.5     27.790[1+0.106-0.107], &lt; 32.69<br>7   67.40    8.66   408.4     42.865[1+0.058-0.059], &lt; 47.02<br>8   85.33   27.21    25.5       5.887[1+0.205-0.208], &lt; 7.94<br>9  358.65  519.42     0.0       0.000[1+0.000-0.000], &lt; 0.09</pre></div>\n",
       "\n",
       "<div class=\"nbdoc_image\">\n",
       "<figure style=\"margin-left: 5%\" title=\"Figure 3\">  <a href=\"images/B1259_phased_fig_03.png\" title=\"images/B1259_phased_fig_03.png\">    <img src=\"images/B1259_phased_fig_03.png\" alt=\"Figure 3 at images/B1259_phased_fig_03.png\" width=800>   </a> </figure>\n",
       "</div>\n",
       "\n"
      ],
      "text/plain": [
       "<utilities.ipynb_docgen.doc_formatter.<locals>.MimeBundleObject at 0x7f0dfb7467d0>"
      ]
     },
     "metadata": {},
     "output_type": "display_data"
    }
   ],
   "source": [
    "%nbdev_collapse_input\n",
    "phase_bba=None\n",
    "\n",
    "def B1259_phased():\n",
    "    \"\"\"\n",
    "    ## Run Bayesian Block analysis wwith phased bins\n",
    "    \n",
    "    Define {nbins} bins with {width:.2f}-day width.\n",
    "    {printout1}\n",
    "    \n",
    "    ### The full light curve with BB overlay:\n",
    "    {fig1}\n",
    "    \n",
    "    ### After folding:\n",
    "    {fig2}\n",
    "    \n",
    "    ### Perform the Bayesian Block analysis on the folded light curve\n",
    "    {printout2}\n",
    "    \n",
    "    Table of blocks, fits:\n",
    "    {folded_bb_table}\n",
    "    \n",
    "    {fig4}\n",
    "    \"\"\"\n",
    "    plt.rc('font', size=16)\n",
    "    global phase_bba\n",
    "    \n",
    "    with capture_print('Output from phased bin analysis') as printout1:\n",
    "        phase_bba = B1259phased(config)\n",
    "        nbins, width=phase_bba.nbins, 1/phase_bba.interval ; \n",
    "        \n",
    "        phase_bba.combine_phases()\n",
    "\n",
    "    fig1 = figure(phase_bba.full_plot(fignum=1), width=800)\n",
    "\n",
    "    \n",
    "    fig2, ax = plt.subplots(figsize=(15,6), num=2)\n",
    "    fig2.width=800\n",
    "    ax.axvline(0, color='grey', ls='--')\n",
    "    phase_bba.folded_lc.plot(ax=ax, xlim=(-40,125), ylim=(3,120), yscale='log', ts_min=1.5,\n",
    "                xlabel='Days from periastron', ylabel='Relative flux', fmt='o',\n",
    "                title='B1259-63 flux folded with the orbital period',\n",
    "               )\n",
    "\n",
    "    with capture_print('Output from Bayesian Block analysis of folded cells') as printout2:\n",
    "        phase_bba.do_folded_bb()\n",
    "        \n",
    "    folded_lc = phase_bba.folded_lc\n",
    "    bb_folded_lc = phase_bba.bb_folded_lc\n",
    "    bb_folded_lc.loc[:,'TS'] = bb_folded_lc.fit.apply(lambda f: round(f.ts,1))\n",
    "    bb_folded_lc['t tw TS fit'.split()]\n",
    "    \n",
    "    folded_bb_table = monospace(bb_folded_lc['t tw TS fit'.split()])\n",
    "    \n",
    "    fig4, ax = plt.subplots(figsize=(15,6), num=4)\n",
    "    ax.axvline(0, color='grey', ls='--')\n",
    "    fig4.width=800\n",
    "    bb_overplot(config, folded_lc, bb_folded_lc, ax=ax, ts_min=1.5, xlim=(-50,140), fmt='o',\n",
    "                         colors=' orange lightgrey blue'.split(),\n",
    "                         yscale='log', ylim=(1,120),\n",
    "                           title='B1259-63 folded lightcurve with Bayesian Blocks')\n",
    "        \n",
    "    return locals()\n",
    "\n",
    "nbdoc(B1259_phased)"
   ]
  },
  {
   "cell_type": "markdown",
   "id": "front-bachelor",
   "metadata": {},
   "source": [
    "## TODO: \n",
    "* Use MC to understand BB sensitivity to a step\n",
    "* Try removing flares, treat seperately"
   ]
  },
  {
   "cell_type": "code",
   "execution_count": null,
   "id": "corresponding-jacket",
   "metadata": {},
   "outputs": [
    {
     "name": "stdout",
     "output_type": "stream",
     "text": [
      "Weight histogram for PSR_B1259-63: Restoring from cache with key \"PSR_B1259-63_weight_hist\"\n"
     ]
    },
    {
     "data": {
      "text/plain": [
       "array([2426993,  276276,  112835,   57328,   71060,   33651,   16556,\n",
       "         21586,   19821,   26781,       0,   13100,    7869,   12434,\n",
       "         10304,    4875,    3852,       0,    4487,     381,       0,\n",
       "          2504,    5484,       0,       0,       0,       0,       0,\n",
       "             0,       0,       0,    2251,    4625,       0,       0,\n",
       "           297,       0,       0,     600,       0,    3182,    1806,\n",
       "             0,       0,       0,       0,     158,       0,       0,\n",
       "             0])"
      ]
     },
     "execution_count": null,
     "metadata": {},
     "output_type": "execute_result"
    }
   ],
   "source": [
    "phase_bba.weight_histogram()[:50]"
   ]
  },
  {
   "cell_type": "code",
   "execution_count": null,
   "id": "olympic-interview",
   "metadata": {},
   "outputs": [],
   "source": []
  }
 ],
 "metadata": {
  "kernelspec": {
   "display_name": "Python 3",
   "language": "python",
   "name": "python3"
  }
 },
 "nbformat": 4,
 "nbformat_minor": 5
}
