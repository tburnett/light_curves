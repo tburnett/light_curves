{
 "cells": [
  {
   "cell_type": "code",
   "execution_count": null,
   "metadata": {},
   "outputs": [
    {
     "name": "stdout",
     "output_type": "stream",
     "text": [
      "Sat May  8 06:44:32 PDT 2021\n"
     ]
    }
   ],
   "source": [
    "from nbdev import *\n",
    "%nbdev_hide_input\n",
    "!date"
   ]
  },
  {
   "cell_type": "markdown",
   "metadata": {},
   "source": [
    "# Kerr Comparison\n",
    "\n",
    "> A few plots to compare with M. Kerr's results"
   ]
  },
  {
   "cell_type": "markdown",
   "metadata": {},
   "source": [
    "This notebook generates plots for two of the sources that he examined,\n",
    "and compare with figures from the  [Kerr paper](https://arxiv.org/pdf/1910.00140.pdf).\n",
    "\n",
    "Note the use of `ipynb_docgen` allowing a cell to create a document mixing markdown and plots. Each of the plots\n",
    "below is displayed as a link to an attached file, and can be clicked on to see the orginal."
   ]
  },
  {
   "cell_type": "code",
   "execution_count": null,
   "metadata": {},
   "outputs": [
    {
     "data": {
      "text/markdown": [
       "#### A bright pulsar, Geminga:\n",
       "<details  class=\"nbdoc-description\" >  <summary> output from this analysis </summary>  <div style=\"margin-left: 5%\"><pre>SourceData: photons and exposure for Geminga: Restoring from cache with key \"Geminga_data\"<br>WtLike: Source Geminga with:<br>\t data:     1,213,841 photons from   2008-08-04 to 2021-05-05<br>\t exposure: 3,117,669 intervals from 2008-08-04 to 2021-05-06<br>CellData: Bin photon data into 4657 1-day bins from 54683.0 to 59340.0<br>LightCurve: select 4530 cells for fitting with e&gt;0.5 & n&gt;2<br></pre></div> </details>    \n",
       "<div class=\"nbdoc_image\">\n",
       "<figure style=\"margin-left: 5%\" title=\"Figure 1\">  <a href=\"images/kerr_test_fig_01.png\" title=\"images/kerr_test_fig_01.png\">    <img src=\"images/kerr_test_fig_01.png\" alt=\"Figure 1 at images/kerr_test_fig_01.png\" width=500>   </a>  <figcaption><b>Figure 1</b>. </figcaption></figure>\n",
       "</div>\n",
       "    \n",
       "This is to be compared with Kerr's Figure 1:    \n",
       "<div class=\"nbdoc_image\">\n",
       "<figure style=\"margin-left: 5%\" title=\"Figure 2\">  <a href=\"images/kerr_test_fig_02.png\" title=\"images/kerr_test_fig_02.png\">    <img src=\"images/kerr_test_fig_02.png\" alt=\"Figure 2 at images/kerr_test_fig_02.png\" width=300>   </a>  <figcaption><b>Figure 2</b>. Kerr Figure 1</figcaption></figure>\n",
       "</div>\n",
       "\n",
       "\n",
       "#### A flaring AGN, 3C 279\n",
       "<details  class=\"nbdoc-description\" >  <summary> output from this analysis </summary>  <div style=\"margin-left: 5%\"><pre>SourceData: photons and exposure for 3C 279: Restoring from cache with key \"3C 279_data\"<br>WtLike: Source 3C 279 with:<br>\t data:       179,695 photons from   2008-08-04 to 2021-04-21<br>\t exposure: 2,817,749 intervals from 2008-08-04 to 2021-04-20<br>CellData: Bin photon data into 4642 1-day bins from 54683.0 to 59325.0<br>LightCurve: select 4472 cells for fitting with e&gt;0.5 & n&gt;2<br></pre></div> </details>\n",
       "<div class=\"nbdoc_image\">\n",
       "<figure style=\"margin-left: 5%\" title=\"Figure 3\">  <a href=\"images/kerr_test_fig_03.png\" title=\"images/kerr_test_fig_03.png\">    <img src=\"images/kerr_test_fig_03.png\" alt=\"Figure 3 at images/kerr_test_fig_03.png\" width=500>   </a>  <figcaption><b>Figure 3</b>. </figcaption></figure>\n",
       "</div>\n",
       "\n",
       "\n",
       "This corresponds to the upper central panel in Kerr's Figure 2.\n",
       "<div class=\"nbdoc_image\">\n",
       "<figure style=\"margin-left: 5%\" title=\"Figure 4\">  <a href=\"images/kerr_test_fig_04.png\" title=\"images/kerr_test_fig_04.png\">    <img src=\"images/kerr_test_fig_04.png\" alt=\"Figure 4 at images/kerr_test_fig_04.png\" width=500>   </a>  <figcaption><b>Figure 4</b>. Kerr Figure 2</figcaption></figure>\n",
       "</div>\n",
       "\n"
      ],
      "text/plain": [
       "<utilities.ipynb_docgen.doc_formatter.<locals>.MimeBundleObject at 0x7efd4c0523d0>"
      ]
     },
     "metadata": {},
     "output_type": "display_data"
    }
   ],
   "source": [
    "%nbdev_collapse_input\n",
    "from wtlike import *\n",
    "from utilities.ipynb_docgen import *\n",
    "\n",
    "def kerr_test():\n",
    "    \"\"\"\n",
    "    \n",
    "    #### A bright pulsar, {lc1.source.name}:\n",
    "    {print_out1}    \n",
    "    {fig1}    \n",
    "    This is to be compared with Kerr's Figure 1:    \n",
    "    {kerr_fig1}\n",
    "   \n",
    "    #### A flaring AGN, {lc2.source.name}\n",
    "    {print_out2}\n",
    "    {fig2}\n",
    "    \n",
    "    This corresponds to the upper central panel in Kerr's Figure 2.\n",
    "    {kerr_fig2}\n",
    "    \"\"\"\n",
    "\n",
    "    plt.rc('font', size=16)\n",
    "\n",
    "\n",
    "    with capture_print('output from this analysis') as print_out1:\n",
    "        lc1 = WtLike('Geminga', time_bins=(0,0,1))\n",
    "        fig1 = figure( \n",
    "                    lc1.plot(fignum=1, figsize=(15,8),colors=('cornflowerblue', 'orange'),\n",
    "                             ylim=(0.3,1.7), ts_bar_min=4,),\n",
    "                    caption='',   width=500, )\n",
    "        \n",
    "    kerr_fig1 = image('kerr_fig1.png', width=300, caption='Kerr Figure 1')\n",
    "    \n",
    "    with capture_print('output from this analysis') as print_out2:\n",
    "        lc2 = WtLike('3C 279', time_bins=(0,0,1))\n",
    "        fig2 = figure(\n",
    "                    lc2.plot( fignum=2, figsize=(16,10), yscale='log' , \n",
    "                          colors=('cornflowerblue','orange'), ts_bar_min=9,\n",
    "                         xlim=(54750, 54750+700),   ylim=(0.05,10)),\n",
    "                    caption='', width=500, )\n",
    "    kerr_fig2 = image('kerr_fig2.png', width=500, caption='Kerr Figure 2')\n",
    "   \n",
    "    return locals()\n",
    "\n",
    "\n",
    "nbdoc(kerr_test)"
   ]
  },
  {
   "cell_type": "code",
   "execution_count": null,
   "metadata": {},
   "outputs": [],
   "source": []
  }
 ],
 "metadata": {
  "kernelspec": {
   "display_name": "Python 3",
   "language": "python",
   "name": "python3"
  }
 },
 "nbformat": 4,
 "nbformat_minor": 4
}
