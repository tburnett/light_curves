{
 "cells": [
  {
   "cell_type": "code",
   "execution_count": null,
   "metadata": {},
   "outputs": [],
   "source": [
    "#hide\n",
    "from nbdev import *\n",
    "from utilities.ipynb_docgen import *"
   ]
  },
  {
   "cell_type": "code",
   "execution_count": null,
   "metadata": {},
   "outputs": [],
   "source": [
    "from light_curves.config import *\n",
    "# Config().cache.clear()\n"
   ]
  },
  {
   "cell_type": "markdown",
   "metadata": {},
   "source": [
    "# Kerr Comparison\n",
    "\n",
    "> A few plots to compare with M. Kerr's results"
   ]
  },
  {
   "cell_type": "markdown",
   "metadata": {},
   "source": [
    "This package implements a weighted likelihood analysis presented\n",
    "in a [paper](https://arxiv.org/pdf/1910.00140.pdf) by Matthew Kerr. \n",
    "\n",
    "Here I generate plots for two of the sources that he examined,\n",
    "and compare with figures from that paper."
   ]
  },
  {
   "cell_type": "code",
   "execution_count": null,
   "metadata": {},
   "outputs": [
    {
     "data": {
      "text/markdown": [
       "#### A bright pulsar, Geminga:\n",
       "<details  class=\"nbdoc-description\" >  <summary> printout from this analysis </summary>  <div style=\"margin-left: 5%\"><pre>Light curve for Geminga: Saving to cache with key \"lightfcurve_Geminga\"<br>Cell data for Geminga: Saving to cache with key \"cells_Geminga\"<br>Photon data: Restoring from cache with key \"photons_Geminga\"<br><br>\tSelected 1,313,726 photons within 5 deg of  (195.13,4.27)<br>\tEnergies: 100.0-1000000 MeV<br>\tDates:    2008-08-04 15:46 - 2019-08-03 01:17<br>\tMJD  :    54682.7          - 58698.1         <br>Load weights from file /mnt/c/users/thbur/OneDrive/fermi/weight_files/Geminga_weights.pkl<br>\tFound: PSR J0633+1746 at (195.14, 4.27)<br>\tApplyng weights: 240 / 1313726 photon pixels are outside weight region<br>\t233109 weights set to NaN<br>binned exposure for source Geminga: Saving to cache with key \"binned_exposure_Geminga\"<br>exposure for Geminga: Saving to cache with key \"exposure_Geminga\"<br>Processing 12 S/C history (FT2) files<br>  applying cuts cos(theta) &lt; 0.4,  z &lt; 100<br>\tfile /home/burnett/work/lat-data/ft2/ft2_2008.fits: 362996 entries, 360944 in GTI<br>\tfile /home/burnett/work/lat-data/ft2/ft2_2009.fits: 874661 entries, 870446 in GTI<br>\tfile /home/burnett/work/lat-data/ft2/ft2_2010.fits: 889547 entries, 884697 in GTI<br>\tfile /home/burnett/work/lat-data/ft2/ft2_2011.fits: 882832 entries, 871672 in GTI<br>\tfile /home/burnett/work/lat-data/ft2/ft2_2012.fits: 881317 entries, 868109 in GTI<br>\tfile /home/burnett/work/lat-data/ft2/ft2_2013.fits: 885307 entries, 867342 in GTI<br>\tfile /home/burnett/work/lat-data/ft2/ft2_2014.fits: 894730 entries, 886570 in GTI<br>\tfile /home/burnett/work/lat-data/ft2/ft2_2015.fits: 890006 entries, 886086 in GTI<br>\tfile /home/burnett/work/lat-data/ft2/ft2_2016.fits: 890933 entries, 884823 in GTI<br>\tfile /home/burnett/work/lat-data/ft2/ft2_2017.fits: 888349 entries, 883761 in GTI<br>\tfile /home/burnett/work/lat-data/ft2/ft2_2018.fits: 842824 entries, 830723 in GTI<br>\tfile /home/burnett/work/lat-data/ft2/ft2_2019.fits: 737029 entries, 514657 in GTI<br>\tFound 9,609,830 S/C entries:  2,695,715 remain after zenith and theta cuts<br>Calculate exposure using the energy domain 100.0-1000000.0 4 bins/decade<br>2695715 entries, MJD 54683 - 58698<br>Time bins: 4015 intervals of 1 days, in range (54683.0, 58698.0)<br>Loaded 3873 / 4015 cells with exposure &gt; 0.3 for light curve analysis<br>first cell: t                                                    54683.5<br>tw                                                         1<br>e                                                    1.26456<br>n                                                        330<br>w          [0.95343286, 0.83939403, 0.68349504, 0.0219892...<br>S                                                    225.585<br>B                                                    114.707<br>loglike    light_curves.loglike.LogLike:  time 54683.500,...<br>Name: 0, dtype: object<br>Fitting likelihoods with poisson representation<br></pre></div> </details>    \n",
       "<div class=\"nbdoc_image\">\n",
       "<figure style=\"margin-left: 5%\" title=\"Figure 1\">  <a href=\"images/kerr_test_fig_01.png\" title=\"images/kerr_test_fig_01.png\">    <img src=\"images/kerr_test_fig_01.png\" alt=\"Figure 1 at images/kerr_test_fig_01.png\" width=500>   </a>  <figcaption><b>Figure 1</b>. Geminga</figcaption></figure>\n",
       "</div>\n",
       "    \n",
       "This is to be compared with Kerr's Figure 1:    \n",
       "<div class=\"nbdoc_image\">\n",
       "<figure style=\"margin-left: 5%\" title=\"Figure 2\">  <a href=\"images/kerr_test_fig_02.png\" title=\"images/kerr_test_fig_02.png\">    <img src=\"images/kerr_test_fig_02.png\" alt=\"Figure 2 at images/kerr_test_fig_02.png\" width=300>   </a>  <figcaption><b>Figure 2</b>. Kerr Figure 1</figcaption></figure>\n",
       "</div>\n",
       "\n",
       "\n",
       "#### A flaring AGN, 3C 279\n",
       "<details  class=\"nbdoc-description\" >  <summary> printout from this analysis </summary>  <div style=\"margin-left: 5%\"><pre>Light curve for 3C 279: Saving to cache with key \"lightfcurve_3C 279\"<br>Cell data for 3C 279: Saving to cache with key \"cells_3C 279\"<br>Photon data: Saving to cache with key \"photons_3C 279\"<br>Loading  132 months from Arrow dataset /home/burnett/data/dataset<br>....................................................................................................................................<br>\tSelected 215,158 photons within 5 deg of  (305.10,57.06)<br>\tEnergies: 100.0-1000000 MeV<br>\tDates:    2008-08-04 15:52 - 2019-08-03 01:50<br>\tMJD  :    54682.7          - 58698.1         <br>Load weights from file /mnt/c/users/thbur/OneDrive/fermi/weight_files/3C_279_weights.pkl<br>\tFound: P88Y3243 at (305.10, 57.07)<br>\tApplyng weights: 2086 / 215158 photon pixels are outside weight region<br>\t67655 weights set to NaN<br>binned exposure for source 3C 279: Saving to cache with key \"binned_exposure_3C 279\"<br>exposure for 3C 279: Saving to cache with key \"exposure_3C 279\"<br>Processing 12 S/C history (FT2) files<br>  applying cuts cos(theta) &lt; 0.4,  z &lt; 100<br>\tfile /home/burnett/work/lat-data/ft2/ft2_2008.fits: 362996 entries, 360944 in GTI<br>\tfile /home/burnett/work/lat-data/ft2/ft2_2009.fits: 874661 entries, 870446 in GTI<br>\tfile /home/burnett/work/lat-data/ft2/ft2_2010.fits: 889547 entries, 884697 in GTI<br>\tfile /home/burnett/work/lat-data/ft2/ft2_2011.fits: 882832 entries, 871672 in GTI<br>\tfile /home/burnett/work/lat-data/ft2/ft2_2012.fits: 881317 entries, 868109 in GTI<br>\tfile /home/burnett/work/lat-data/ft2/ft2_2013.fits: 885307 entries, 867342 in GTI<br>\tfile /home/burnett/work/lat-data/ft2/ft2_2014.fits: 894730 entries, 886570 in GTI<br>\tfile /home/burnett/work/lat-data/ft2/ft2_2015.fits: 890006 entries, 886086 in GTI<br>\tfile /home/burnett/work/lat-data/ft2/ft2_2016.fits: 890933 entries, 884823 in GTI<br>\tfile /home/burnett/work/lat-data/ft2/ft2_2017.fits: 888349 entries, 883761 in GTI<br>\tfile /home/burnett/work/lat-data/ft2/ft2_2018.fits: 842824 entries, 830723 in GTI<br>\tfile /home/burnett/work/lat-data/ft2/ft2_2019.fits: 737029 entries, 514657 in GTI<br>\tFound 9,609,830 S/C entries:  2,438,906 remain after zenith and theta cuts<br>\tcut from 2,438,906 to 105 - 2438858, or 2,438,753 entries after MJD range selection<br>Calculate exposure using the energy domain 100.0-1000000.0 4 bins/decade<br>2438753 entries, MJD 54683 - 58697<br>Time bins: 4014 intervals of 1 days, in range (54683.0, 58697.0)<br>Loaded 3845 / 4014 cells with exposure &gt; 0.3 for light curve analysis<br>first cell: t                                                    54683.5<br>tw                                                         1<br>e                                                   0.858171<br>n                                                         19<br>w          [0.064962015, 0.8456794, 0.4740412, 0.5252704,...<br>S                                                    14.8428<br>B                                                      16.69<br>loglike    light_curves.loglike.LogLike:  time 54683.500,...<br>Name: 0, dtype: object<br>Fitting likelihoods with poisson representation<br></pre></div> </details>\n",
       "<div class=\"nbdoc_image\">\n",
       "<figure style=\"margin-left: 5%\" title=\"Figure 3\">  <a href=\"images/kerr_test_fig_03.png\" title=\"images/kerr_test_fig_03.png\">    <img src=\"images/kerr_test_fig_03.png\" alt=\"Figure 3 at images/kerr_test_fig_03.png\" width=500>   </a>  <figcaption><b>Figure 3</b>. 3C 279</figcaption></figure>\n",
       "</div>\n",
       "\n",
       "\n",
       "This corresponds to the upper central panel in Kerr's Figure 2.\n",
       "<div class=\"nbdoc_image\">\n",
       "<figure style=\"margin-left: 5%\" title=\"Figure 4\">  <a href=\"images/kerr_test_fig_04.png\" title=\"images/kerr_test_fig_04.png\">    <img src=\"images/kerr_test_fig_04.png\" alt=\"Figure 4 at images/kerr_test_fig_04.png\" width=500>   </a>  <figcaption><b>Figure 4</b>. Kerr Figure 2</figcaption></figure>\n",
       "</div>\n",
       "\n"
      ],
      "text/plain": [
       "<utilities.ipynb_docgen.doc_formatter.<locals>.MimeBundleObject at 0x7f5aabb22450>"
      ]
     },
     "metadata": {},
     "output_type": "display_data"
    }
   ],
   "source": [
    "#collapse_hide\n",
    "\n",
    "def kerr_test():\n",
    "    \"\"\"\n",
    "    \n",
    "    #### A bright pulsar, {source1.name}:\n",
    "    {print_out1}    \n",
    "    {fig1}    \n",
    "    This is to be compared with Kerr's Figure 1:    \n",
    "    {kerr_fig1}\n",
    "   \n",
    "    #### A flaring AGN, {source2.name}\n",
    "    {print_out2}\n",
    "    {fig2}\n",
    "    \n",
    "    This corresponds to the upper central panel in Kerr's Figure 2.\n",
    "    {kerr_fig2}\n",
    "    \"\"\"\n",
    "    from light_curves.config import Config, PointSource, Cache\n",
    "    from light_curves.lightcurve import get_lightcurve, flux_plot\n",
    "\n",
    "    config = Config()    \n",
    "    plt.rc('font', size=16)\n",
    "\n",
    "    with capture_print('printout from this analysis') as print_out1:\n",
    "        source1 = PointSource('Geminga')\n",
    "        lc1 = get_lightcurve(config, source1)\n",
    "        fig1 = figure( \n",
    "                    flux_plot(config, lc1, fignum=1, colors=('cornflowerblue', 'orange')),\n",
    "                    caption=f'{source1.name}',\n",
    "                    width=500, )\n",
    "    kerr_fig1 = image('kerr_fig1.png', width=300, caption='Kerr Figure 1')\n",
    "    \n",
    "    with capture_print('printout from this analysis') as print_out2:\n",
    "        source2 = PointSource('3C 279')\n",
    "        lc2 = get_lightcurve(config, source2)\n",
    "        fig2 = figure(\n",
    "                    flux_plot(config, lc2, fignum=2, figsize=(10,5), yscale='log' , \n",
    "                          colors=('cornflowerblue','orange'), fmt='o', \n",
    "                         xlim=(54750, 54750+700),   ylim=(0.05,10)),\n",
    "                    caption=f'{source2.name}', width=500, )\n",
    "    kerr_fig2 = image('kerr_fig2.png', width=500, caption='Kerr Figure 2')\n",
    "   \n",
    "    return locals()\n",
    "\n",
    "from light_curves.config import Config, PointSource\n",
    "if Config().valid:\n",
    "    nbdoc(kerr_test)"
   ]
  },
  {
   "cell_type": "code",
   "execution_count": null,
   "metadata": {},
   "outputs": [
    {
     "name": "stdout",
     "output_type": "stream",
     "text": [
      "Sat Dec 26 12:10:22 PST 2020\n"
     ]
    }
   ],
   "source": [
    "!date"
   ]
  }
 ],
 "metadata": {
  "kernelspec": {
   "display_name": "Python 3",
   "language": "python",
   "name": "python3"
  }
 },
 "nbformat": 4,
 "nbformat_minor": 4
}
