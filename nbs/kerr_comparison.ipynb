{
 "cells": [
  {
   "cell_type": "code",
   "execution_count": null,
   "metadata": {},
   "outputs": [
    {
     "name": "stdout",
     "output_type": "stream",
     "text": [
      "Fri Feb 26 16:37:03 PST 2021\n"
     ]
    }
   ],
   "source": [
    "#hide\n",
    "from nbdev import *\n",
    "!date"
   ]
  },
  {
   "cell_type": "markdown",
   "metadata": {},
   "source": [
    "# Kerr Comparison\n",
    "\n",
    "> A few plots to compare with M. Kerr's results"
   ]
  },
  {
   "cell_type": "markdown",
   "metadata": {},
   "source": [
    "This package implements a weighted likelihood analysis presented\n",
    "in a [paper](https://arxiv.org/pdf/1910.00140.pdf) by Matthew Kerr. \n",
    "\n",
    "Here I generate plots for two of the sources that he examined,\n",
    "and compare with figures from that paper."
   ]
  },
  {
   "cell_type": "code",
   "execution_count": null,
   "metadata": {},
   "outputs": [
    {
     "data": {
      "text/markdown": [
       "#### A bright pulsar, Geminga:\n",
       "<details  class=\"nbdoc-description\" >  <summary> printout from this analysis </summary>  <div style=\"margin-left: 5%\"><pre>Light curve for Geminga: Restoring from cache with key \"lightfcurve_Geminga\"<br></pre></div> </details>    \n",
       "<div class=\"nbdoc_image\">\n",
       "<figure style=\"margin-left: 5%\" title=\"Figure 1\">  <a href=\"images/kerr_test_fig_01.png\" title=\"images/kerr_test_fig_01.png\">    <img src=\"images/kerr_test_fig_01.png\" alt=\"Figure 1 at images/kerr_test_fig_01.png\" width=500>   </a>  <figcaption><b>Figure 1</b>. Geminga</figcaption></figure>\n",
       "</div>\n",
       "    \n",
       "This is to be compared with Kerr's Figure 1:    \n",
       "<div class=\"nbdoc_image\">\n",
       "<figure style=\"margin-left: 5%\" title=\"Figure 2\">  <a href=\"images/kerr_test_fig_02.png\" title=\"images/kerr_test_fig_02.png\">    <img src=\"images/kerr_test_fig_02.png\" alt=\"Figure 2 at images/kerr_test_fig_02.png\" width=300>   </a>  <figcaption><b>Figure 2</b>. Kerr Figure 1</figcaption></figure>\n",
       "</div>\n",
       "\n",
       "\n",
       "#### A flaring AGN, 3C 279\n",
       "<details  class=\"nbdoc-description\" >  <summary> printout from this analysis </summary>  <div style=\"margin-left: 5%\"><pre>Light curve for 3C 279: Restoring from cache with key \"lightfcurve_3C 279\"<br></pre></div> </details>\n",
       "<div class=\"nbdoc_image\">\n",
       "<figure style=\"margin-left: 5%\" title=\"Figure 3\">  <a href=\"images/kerr_test_fig_03.png\" title=\"images/kerr_test_fig_03.png\">    <img src=\"images/kerr_test_fig_03.png\" alt=\"Figure 3 at images/kerr_test_fig_03.png\" width=500>   </a>  <figcaption><b>Figure 3</b>. 3C 279</figcaption></figure>\n",
       "</div>\n",
       "\n",
       "\n",
       "This corresponds to the upper central panel in Kerr's Figure 2.\n",
       "<div class=\"nbdoc_image\">\n",
       "<figure style=\"margin-left: 5%\" title=\"Figure 4\">  <a href=\"images/kerr_test_fig_04.png\" title=\"images/kerr_test_fig_04.png\">    <img src=\"images/kerr_test_fig_04.png\" alt=\"Figure 4 at images/kerr_test_fig_04.png\" width=500>   </a>  <figcaption><b>Figure 4</b>. Kerr Figure 2</figcaption></figure>\n",
       "</div>\n",
       "\n"
      ],
      "text/plain": [
       "<utilities.ipynb_docgen.doc_formatter.<locals>.MimeBundleObject at 0x7efc46016050>"
      ]
     },
     "metadata": {},
     "output_type": "display_data"
    }
   ],
   "source": [
    "#collapse_hide\n",
    "from light_curves.tools import *\n",
    "from wtlike.config import *\n",
    "from utilities.ipynb_docgen import *\n",
    "\n",
    "def kerr_test():\n",
    "    \"\"\"\n",
    "    \n",
    "    #### A bright pulsar, {source1.name}:\n",
    "    {print_out1}    \n",
    "    {fig1}    \n",
    "    This is to be compared with Kerr's Figure 1:    \n",
    "    {kerr_fig1}\n",
    "   \n",
    "    #### A flaring AGN, {source2.name}\n",
    "    {print_out2}\n",
    "    {fig2}\n",
    "    \n",
    "    This corresponds to the upper central panel in Kerr's Figure 2.\n",
    "    {kerr_fig2}\n",
    "    \"\"\"\n",
    "    from wtlike.config import Config, PointSource, Cache\n",
    "    from wtlike.lightcurve import get_lightcurve, flux_plot\n",
    "\n",
    "    config = Config()    \n",
    "    plt.rc('font', size=16)\n",
    "\n",
    "    with capture_print('printout from this analysis') as print_out1:\n",
    "        source1 = PointSource('Geminga')\n",
    "        lc1 = get_lightcurve(config, source1)\n",
    "        fig1 = figure( \n",
    "                    flux_plot(config, lc1, fignum=1, colors=('cornflowerblue', 'orange')),\n",
    "                    caption=f'{source1.name}',\n",
    "                    width=500, )\n",
    "    kerr_fig1 = image('kerr_fig1.png', width=300, caption='Kerr Figure 1')\n",
    "    \n",
    "    with capture_print('printout from this analysis') as print_out2:\n",
    "        source2 = PointSource('3C 279')\n",
    "        lc2 = get_lightcurve(config, source2)\n",
    "        fig2 = figure(\n",
    "                    flux_plot(config, lc2, fignum=2, figsize=(10,5), yscale='log' , \n",
    "                          colors=('cornflowerblue','orange'), fmt='o', \n",
    "                         xlim=(54750, 54750+700),   ylim=(0.05,10)),\n",
    "                    caption=f'{source2.name}', width=500, )\n",
    "    kerr_fig2 = image('kerr_fig2.png', width=500, caption='Kerr Figure 2')\n",
    "   \n",
    "    return locals()\n",
    "\n",
    "if Config().valid:\n",
    "    nbdoc(kerr_test)"
   ]
  },
  {
   "cell_type": "code",
   "execution_count": null,
   "metadata": {},
   "outputs": [
    {
     "name": "stdout",
     "output_type": "stream",
     "text": [
      "Fri Feb 26 16:37:12 PST 2021\n"
     ]
    }
   ],
   "source": [
    "!date"
   ]
  },
  {
   "cell_type": "code",
   "execution_count": null,
   "metadata": {},
   "outputs": [],
   "source": []
  }
 ],
 "metadata": {
  "kernelspec": {
   "display_name": "Python 3",
   "language": "python",
   "name": "python3"
  }
 },
 "nbformat": 4,
 "nbformat_minor": 4
}
