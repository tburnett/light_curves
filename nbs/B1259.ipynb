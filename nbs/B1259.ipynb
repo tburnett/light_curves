{
 "cells": [
  {
   "cell_type": "code",
   "execution_count": null,
   "metadata": {},
   "outputs": [
    {
     "name": "stdout",
     "output_type": "stream",
     "text": [
      "Mon Jun  7 06:57:51 PDT 2021\n"
     ]
    }
   ],
   "source": [
    "# default_exp b1259\n",
    "!date"
   ]
  },
  {
   "cell_type": "markdown",
   "metadata": {},
   "source": [
    "# B1259-63 Analysis\n",
    "> Create a B1259-63 (aka PSR J1302-6350) light curve using Bayesian Blocks  "
   ]
  },
  {
   "cell_type": "markdown",
   "metadata": {},
   "source": [
    "* [HESS high-energy results](https://arxiv.org/pdf/astro-ph/0506280.pdf)\n",
    "\n",
    "* [Previouis *fermi* paper](https://arxiv.org/pdf/1912.05868.pdf)"
   ]
  },
  {
   "cell_type": "code",
   "execution_count": null,
   "metadata": {},
   "outputs": [],
   "source": [
    "# export\n",
    "import numpy as np\n",
    "import matplotlib.pyplot as plt\n",
    "from wtlike  import *\n",
    "\n",
    "from utilities.ipynb_docgen import *"
   ]
  },
  {
   "cell_type": "markdown",
   "metadata": {},
   "source": [
    "## Special data check"
   ]
  },
  {
   "cell_type": "code",
   "execution_count": null,
   "metadata": {},
   "outputs": [
    {
     "name": "stdout",
     "output_type": "stream",
     "text": [
      "Weekly folder \"/home/burnett/wtlike_data/data_files\" contains 670 weeks.\n",
      "\t Last week, # 679, has 3.4 days, ends at UTC 2021-06-06 09:18\n",
      "Will reload week 679 ...\n",
      "Saved to /home/burnett/wtlike_data/data_files/week_679.pkl\n",
      "Weekly folder \"/home/burnett/wtlike_data/data_files\" contains 670 weeks.\n",
      "\t Last week, # 679, has 4.4 days, ends at UTC 2021-06-07 10:30\n"
     ]
    }
   ],
   "source": [
    "#hide\n",
    "from wtlike.data_man import check_data, update_recent\n",
    "#check_data()\n",
    "clear = update_recent()"
   ]
  },
  {
   "cell_type": "code",
   "execution_count": null,
   "metadata": {},
   "outputs": [],
   "source": [
    "clear = True\n",
    "#update_cache(); "
   ]
  },
  {
   "cell_type": "code",
   "execution_count": null,
   "metadata": {},
   "outputs": [],
   "source": [
    "# export\n",
    "\n",
    "class B1259Periastron(WtLike):\n",
    "    \"\"\"\n",
    "    \"\"\"    \n",
    "    tp, period = 55544.694, 1236.7243\n",
    "    \n",
    "    def __init__(self, **kwargs):\n",
    "        super().__init__('PSR B1259-63',**kwargs)\n",
    "\n",
    "    @property\n",
    "    def mjd_dates(self):\n",
    "        return [self.tp+n*self.period for n in range(4)]\n",
    "         \n",
    "    def date_info(self):\n",
    "        return pd.DataFrame([dict(MJD=round(d,3), UTC=UTC(d)) for d in self.mjd_dates ])\n",
    "    \n",
    "    def stacked_plots(self, fignum=3, ylim=(2,200), ts_min=4, p0=0.5):\n",
    "        dailies = [self.view(tz, tz+125,1) for tz in self.mjd_dates]\n",
    "        self.bb_views = [daily.bb_view(p0=p0) for daily in dailies]\n",
    "        \n",
    "        fignum=1\n",
    "        fig, axx = plt.subplots(4,1, sharex=True, sharey=True, figsize=(12,10), num=fignum)\n",
    "        plt.subplots_adjust(hspace=0, top=0.92)\n",
    "        for i, (bbv, ax, tzero) in enumerate(zip(self.bb_views, axx.flatten(), self.mjd_dates)):\n",
    "            bbv.plot(ax=ax, show_flux=True, tzero =tzero, xlim=(0, 125),\n",
    "                                    source_name=f'{UTC(tzero)[:4]}', ylabel='',\n",
    "                        legend_loc='upper left' if i==0 else 'none',\n",
    "                       error_pixsize=0);\n",
    "        ax.set(xlabel='Days past periastron')\n",
    "        fig.suptitle('PSR B1259-63 peristron behavior')\n",
    "        fig.text(0.04, 0.5,'Count flux ($\\mathrm{10^{-6}\\ cm^{-2}\\ s^{-1}}$)', rotation='vertical', va='center' );\n",
    "\n",
    "        fig.width=600\n",
    "        return fig"
   ]
  },
  {
   "cell_type": "code",
   "execution_count": null,
   "metadata": {},
   "outputs": [
    {
     "name": "stdout",
     "output_type": "stream",
     "text": [
      "SourceData: photons and exposure for PSR B1259-63: Saving to cache with key \"PSR_B1259-63_data\"\n",
      "loading all filesSourceData: Assembling photon data and exposure for source PSR B1259-63\n",
      "\tfrom folder \"/home/burnett/wtlike_data/data_files\", with 670 files,\n",
      "\tWeights from file PSR_B1259-63_weights.pkl\n",
      "..............................................................................................................................................................................................................................................................................................................................................................................................................................................................................................................................................................................................................................................................................................\n",
      "SourceData: Source PSR B1259-63 with:\n",
      "\t data:       881,665 photons from 2008-08-04 to 2021-06-07\n",
      "\t exposure: 3,370,383 intervals,  average flux 3477 cm^2 for 100.6 Ms\n",
      "\t rates:  source 8.18e-09/s, background 2.51e-06/s, S/N ratio 3.26e-03\n",
      "CellData: Bin photon data into 669 1-week bins from 54683.0 to 59366.0\n",
      "LightCurve: select 662 cells for fitting with e>1 & n>2\n"
     ]
    }
   ],
   "source": [
    "weekly = self=B1259Periastron(clear= clear)"
   ]
  },
  {
   "cell_type": "code",
   "execution_count": null,
   "metadata": {},
   "outputs": [
    {
     "data": {
      "text/markdown": [
       "## Fit to all data\n",
       "\n",
       "2021-06-07 07:08\n",
       "\n",
       "Create a `WtLike` object with all the data\n",
       "\n",
       "<details  class=\"nbdoc-description\" >  <summary> Output from analysis: create cells, fit each, run BB partition, fit partitions. </summary>  <div style=\"margin-left: 5%\"><pre>(already done)<br>LightCurve: select 662 cells for fitting with e&gt;1 & n&gt;2<br>Bayesian Blocks: using penalty 0.5<br>Partitioned 662 cells into 31 blocks, using LikelihoodFitness <br>LightCurve: Loaded 31 / 31 cells for fitting<br></pre></div> </details>\n",
       "\n",
       "## The full weekly-interval light curve, showing the BB partitions\n",
       "<details  class=\"nbdoc-description\" >  <summary> Output from periastron analyses </summary>  <div style=\"margin-left: 5%\"><pre>CellData: Bin photon data into 125 1-day bins from 55544.7 to 55669.7<br>LightCurve: select 119 cells for fitting with e&gt;1 & n&gt;2<br>CellData: Bin photon data into 125 1-day bins from 56781.4 to 56906.4<br>LightCurve: select 125 cells for fitting with e&gt;1 & n&gt;2<br>CellData: Bin photon data into 125 1-day bins from 58018.1 to 58143.1<br>LightCurve: select 125 cells for fitting with e&gt;1 & n&gt;2<br>CellData: Bin photon data into 125 1-day bins from 59254.9 to 59379.9<br>LightCurve: select 118 cells for fitting with e&gt;1 & n&gt;2<br>LightCurve: select 119 cells for fitting with e&gt;1 & n&gt;2<br>Bayesian Blocks: using penalty 0.5<br>Partitioned 119 cells into 12 blocks, using LikelihoodFitness <br>LightCurve: Loaded 12 / 12 cells for fitting<br>LightCurve: select 125 cells for fitting with e&gt;1 & n&gt;2<br>Bayesian Blocks: using penalty 0.5<br>Partitioned 125 cells into 20 blocks, using LikelihoodFitness <br>LightCurve: Loaded 20 / 20 cells for fitting<br>LightCurve: select 125 cells for fitting with e&gt;1 & n&gt;2<br>Bayesian Blocks: using penalty 0.5<br>Partitioned 125 cells into 16 blocks, using LikelihoodFitness <br>LightCurve: Loaded 16 / 16 cells for fitting<br>LightCurve: select 118 cells for fitting with e&gt;1 & n&gt;2<br>Bayesian Blocks: using penalty 0.5<br>Partitioned 118 cells into 15 blocks, using LikelihoodFitness <br>LightCurve: Loaded 15 / 15 cells for fitting<br></pre></div> </details>\n",
       "<figure style=\"margin-left: 5%\" title=\"Figure 1\">  <a href=\"images/B1259_fig_01.png\" title=\"images/B1259_fig_01.png\">    <img src=\"images/B1259_fig_01.png\" alt=\"Figure 1 at images/B1259_fig_01.png\" width=600>   </a> </figure>\n",
       "Table of fits (note that the \"flux\" column is relative to the 12-year count flux measurement\n",
       "6.7e-9 cm**-2 s**-1.\n",
       "<details  class=\"nbdoc-description\" >  <summary> BB fit table </summary>  <div style=\"margin-left: 5%\"><pre>          t      tw       n     ts      flux           errors     limit<br>0   55103.0   840.0  145438    0.0    0.0000       (0, 0.039)    0.2348<br>1   55544.0    42.0    8515   37.3   12.1020   (-2.155, 2.17)   15.6960<br>2   55568.5     7.0    2302    1.6    1.9816  (-1.715, 2.362)    7.2135<br>3   55575.5     7.0    1923   64.3   40.5665  (-5.752, 5.841)   50.3100<br>4   55582.5     7.0    1746  253.9   97.9705   (-7.73, 7.855)  111.0829<br>5   55593.0    14.0    2654  228.5   70.7162  (-5.669, 5.743)   80.2762<br>6   55607.0    14.0    2879   89.3   39.0787  (-4.729, 4.789)   47.0466<br>7   55621.0    14.0    3895   11.8    8.9265  (-2.849, 3.011)   14.1380<br>8   56083.0   910.0  168666    0.0    0.0000       (0, 0.113)    0.4192<br>9   56660.5   245.0   40193    0.0    0.0000       (0, 0.367)    1.0271<br>10  56797.0    28.0    7546   18.4    9.1142  (-2.223, 2.277)   12.9447<br>11  56814.5     7.0    2803   95.7   39.4052  (-4.654, 4.713)   47.2486<br>12  56828.5    21.0    7207  623.0   71.0512   (-3.433, 3.46)   76.7843<br>13  56842.5     7.0    1899    2.6    7.2258  (-4.534, 4.712)   15.3769<br>14  56849.5     7.0    1622  121.6   64.9796  (-7.021, 7.138)   76.9030<br>15  56867.0    28.0    3914   10.3    9.4505   (-3.08, 3.193)   14.8815<br>16  57420.0  1078.0  201548    0.0    0.0000       (0, 0.055)    0.2680<br>17  57987.0    56.0   10849    6.1    4.0526  (-1.674, 1.725)    6.9756<br>18  58029.0    28.0    5319   63.1   20.6815  (-2.901, 2.927)   25.5374<br>19  58050.0    14.0    2516    0.1    0.8438  (-0.844, 3.572)    7.8938<br>20  58060.5     7.0    2238  164.4   62.2969  (-5.884, 5.967)   72.2418<br>21  58067.5     7.0    2181   53.8   34.2157  (-5.223, 5.298)   43.0462<br>22  58074.5     7.0    1844  373.8  117.5356  (-7.934, 8.059)  130.9832<br>23  58085.0    14.0    2509  169.6   57.2343  (-5.268, 5.339)   66.1248<br>24  58116.5    49.0   11403   11.0    5.1192  (-1.627, 1.689)    7.9951<br>25  58680.0  1078.0  206040    0.0    0.0000       (0, 0.045)    0.2675<br>26  59264.5    91.0   21018   31.3    6.4596   (-1.25, 1.255)    8.5331<br>27  59313.5     7.0    1159   33.1   33.4177  (-6.656, 6.788)   44.7878<br>28  59331.0    28.0    4825  324.2   60.6652   (-3.991, 4.03)   67.3529<br>29  59352.0    14.0    3080  406.4   93.8585  (-5.829, 5.899)  103.6710<br>30  59362.5     7.0    1028   34.9   37.3580  (-7.322, 7.476)   49.8937</pre></div> </details>\n",
       "\n",
       "## Expand about each periastron\n",
       "\n",
       "#### Periastron dates\n",
       "\n",
       "Assuming {period}-day orbital period, the MJD and UTC values are:\n",
       "\n",
       "<div style=\"margin-left: 5%\"><pre>         MJD               UTC<br>0  55544.694  2010-12-14 16:39<br>1  56781.418  2014-05-04 10:02<br>2  58018.143  2017-09-22 03:25<br>3  59254.867  2021-02-09 20:48</pre></div>\n",
       "\n",
       "Expand the above, with 1-day bins, following those dates:\n",
       "\n",
       "<figure style=\"margin-left: 5%\" title=\"Figure 2\">  <a href=\"images/B1259_fig_02.png\" title=\"images/B1259_fig_02.png\">    <img src=\"images/B1259_fig_02.png\" alt=\"Figure 2 at images/B1259_fig_02.png\" width=600>   </a> </figure>\n",
       "\n",
       "## Recent detail \n",
       "<details  class=\"nbdoc-description\" >  <summary> Output, with light curve table, from selecting the last two weeks </summary>  <div style=\"margin-left: 5%\"><pre>CellData: Bin photon data into 14 1-day bins from 59358.0 to 59372.0<br>LightCurve: select 14 cells for fitting with e&gt;1 & n&gt;2<br>          t   tw    n    ts      flux             errors     limit<br>0   59358.5  1.0  168   3.5   35.4451  (-19.778, 21.782)   74.8803<br>1   59359.5  1.0  179   9.9   45.9444   (-17.017, 19.28)   81.4914<br>2   59360.5  1.0   46   7.2  111.0989  (-47.705, 55.802)  216.9795<br>3   59361.5  1.0  138   5.4   37.4053   (-17.361, 19.39)   72.7737<br>4   59362.5  1.0  160   9.6   50.5254   (-18.247, 20.17)   86.9032<br>5   59363.5  1.0  174   1.4   19.0946  (-16.269, 18.613)   54.7079<br>6   59364.5  1.0  165   2.3   21.0946   (-14.533, 16.71)   52.7782<br>7   59365.5  1.0  166   4.2   35.4112  (-18.263, 20.138)   71.8151<br>8   59366.5  1.0  198  13.3   62.4958  (-19.596, 21.385)  100.6115<br>9   59367.5  1.0  119   0.0    0.0000        (0, 16.027)   40.9647<br>10  59368.5  1.0  106   0.0    0.0000        (0, 14.509)   42.0175<br>11  59369.5  1.0  106   1.9   25.2428   (-19.161, 22.18)   67.7728<br>12  59370.5  1.0  115   0.0    0.0000         (0, 8.212)   32.6119<br>13  59371.5  1.0  149   0.4   12.4996    (-12.5, 21.473)   54.6739<br></pre></div> </details><figure style=\"margin-left: 5%\" title=\"Figure 3\">  <a href=\"images/B1259_fig_03.png\" title=\"images/B1259_fig_03.png\">    <img src=\"images/B1259_fig_03.png\" alt=\"Figure 3 at images/B1259_fig_03.png\" width=600>   </a> </figure>\n"
      ],
      "text/plain": [
       "<utilities.ipynb_docgen.doc_formatter.<locals>.MimeBundleObject at 0x7f6c98c7cf10>"
      ]
     },
     "metadata": {},
     "output_type": "display_data"
    }
   ],
   "source": [
    "#collapse_hide\n",
    "def B1259( clear=False):\n",
    "    r\"\"\"\n",
    "    ## Fit to all data\n",
    "\n",
    "    {date}\n",
    "    \n",
    "    Create a `WtLike` object with all the data\n",
    "    \n",
    "    {outp}\n",
    " \n",
    "    ## The full weekly-interval light curve, showing the BB partitions\n",
    "    {out2}\n",
    "    {fig2}\n",
    "    Table of fits (note that the \"flux\" column is relative to the 12-year count flux measurement\n",
    "    6.7e-9 cm**-2 s**-1.\n",
    "    {bbf}\n",
    "    \n",
    "    ## Expand about each periastron\n",
    " \n",
    "    #### Periastron dates\n",
    "\n",
    "    Assuming {period}-day orbital period, the MJD and UTC values are:\n",
    "    \n",
    "    {utc}\n",
    " \n",
    "    Expand the above, with 1-day bins, following those dates:\n",
    "\n",
    "    {fig3}\n",
    "    \n",
    "    ## Recent detail \n",
    "    {out4}{fig4}\n",
    "    \n",
    "    \"\"\"\n",
    "    global weekly #  make availlable for follow-up cells\n",
    "\n",
    " \n",
    "    pd.set_option('display.precision', 4)#, 'display.colheader_justify','left')\n",
    "\n",
    "    \n",
    "    with capture_print('Output from analysis: create cells, fit each, run BB partition, fit partitions.') as outp:\n",
    "        if weekly is None or clear:\n",
    "            weekly = B1259Periastron(time_bins=(0,0,7), clear=clear)#.bb_view()\n",
    "        else:\n",
    "            print('(already done)')\n",
    "        bb = weekly.bb_view(0.5)\n",
    "    \n",
    "    bbf = monospace(str(bb.fluxes), 'BB fit table', open=False)\n",
    "\n",
    "    # fig 2: full light curbe\n",
    "    plt.rc('font', size=16)\n",
    "    \n",
    "    fig2 = figure( bb.plot(fignum=2, figsize=(15,4), title='Full weekly light curve'),\n",
    "                  width=600)\n",
    "    \n",
    "    # fig 3 -- stack light curves\n",
    "    utc = monospace(str(weekly.date_info())) \n",
    "    with capture_print('Output from periastron analyses') as out2:\n",
    "        fig3 = figure( weekly.stacked_plots( ylim=(4,300), fignum=3), width=600)\n",
    "    \n",
    "    # fit 4 -- last two weeks\n",
    "    with capture_print(f'Output, with light curve table, from selecting the last two weeks') as out4:\n",
    "        recent_wk = weekly.view(-14,0,1)\n",
    "        print(recent_wk.fluxes)\n",
    "        fig4=figure(\n",
    "            recent_wk.plot(show_flux=True, ylim=(-.1,2), title='Last 2 weeks',\n",
    "                       xlabel=f'MJD, until {UTC(weekly.stop)}',fignum=4),\n",
    "            caption=None, width=600)\n",
    "  \n",
    "    return locals()\n",
    "\n",
    "nbdoc(B1259, clear=False)"
   ]
  },
  {
   "cell_type": "markdown",
   "metadata": {},
   "source": [
    "<!-- ## Questions for Discussion, with 2/28 Scargle comments\n",
    "\n",
    "#### How do I interpret the apparent abrupt transitions? \n",
    ">Think of BB as the best step-function representation\n",
    "of the data.  It does not mean that the discontinuities \n",
    "are claimed to be real -- the underlying light curve\n",
    "is most likely continuous and smooth at some level.  \n",
    "BB is just saying that there is a statistically significant\n",
    "change from one block to the next.\n",
    "\n",
    "Compare with a [flare from 3C 279](https://tburnett.github.io/wtlike/bayesian.html#bb_overplot), which has measurements rather than limits for each day and the time scale is in the day range. \n",
    "\n",
    "#### Is the day interval appropriate? \n",
    ">BB can always benefit from finer sampling, so if you\n",
    "have data on shorter intervals (or even photon data)\n",
    "you can get more information out ... e.g. a better \n",
    "determination of the time of \"transitions\" (see above).\n",
    "\n",
    "\n",
    "\n",
    "#### I know that there is a ~4% systematic for the individual daily measurements, seen in the Geminga data. Does this matter?\n",
    ">Systematic errors are a problem ... BB is not magic here.\n",
    "\n",
    "## My observations, plans\n",
    "\n",
    "There are two related questions here. \n",
    "1. what is the actual behavior of B1259, besides the obvious flares? Can we characterize each periastron to detect changes? Kent Wood is very interested in this.\n",
    "2. How well does BB work, when applied to daily likelihoods, many of which are just limits, but do contain information? This is a question that Jeff Scargle had never considered before, but is quite interested in.\n",
    "\n",
    "\n",
    "#### Run Simulations\n",
    "\n",
    "I'll use the [wtlike simulation capability](https://tburnett.github.io/wtlike/simulation) to test the sensitivity to various light curves, when daily fits are all or mostly limits.\n",
    "\n",
    "#### Add Systematics to Likelihood\n",
    "The presence of a systematic error in the exposure--I've measured 4% with Geminga, slightly invalidates the likelihood. A fix is to widen it, which I can easily do using the [wtlike Poisson representation](https://tburnett.github.io/wtlike/poisson#Poisson).  -->"
   ]
  },
  {
   "cell_type": "code",
   "execution_count": null,
   "metadata": {},
   "outputs": [
    {
     "data": {
      "text/html": [
       "<div>\n",
       "<style scoped>\n",
       "    .dataframe tbody tr th:only-of-type {\n",
       "        vertical-align: middle;\n",
       "    }\n",
       "\n",
       "    .dataframe tbody tr th {\n",
       "        vertical-align: top;\n",
       "    }\n",
       "\n",
       "    .dataframe thead th {\n",
       "        text-align: right;\n",
       "    }\n",
       "</style>\n",
       "<table border=\"1\" class=\"dataframe\">\n",
       "  <thead>\n",
       "    <tr style=\"text-align: right;\">\n",
       "      <th></th>\n",
       "      <th>t</th>\n",
       "      <th>TS</th>\n",
       "      <th>flux</th>\n",
       "      <th>flux_error</th>\n",
       "      <th>limit</th>\n",
       "    </tr>\n",
       "  </thead>\n",
       "  <tbody>\n",
       "    <tr>\n",
       "      <th>count</th>\n",
       "      <td>226.00</td>\n",
       "      <td>226.00</td>\n",
       "      <td>226.00</td>\n",
       "      <td>226.00</td>\n",
       "      <td>2.26e+02</td>\n",
       "    </tr>\n",
       "    <tr>\n",
       "      <th>mean</th>\n",
       "      <td>59206.00</td>\n",
       "      <td>1.17</td>\n",
       "      <td>5.65</td>\n",
       "      <td>5.96</td>\n",
       "      <td>-1.89e+05</td>\n",
       "    </tr>\n",
       "    <tr>\n",
       "      <th>std</th>\n",
       "      <td>65.39</td>\n",
       "      <td>3.49</td>\n",
       "      <td>10.14</td>\n",
       "      <td>6.60</td>\n",
       "      <td>2.85e+06</td>\n",
       "    </tr>\n",
       "    <tr>\n",
       "      <th>min</th>\n",
       "      <td>59093.50</td>\n",
       "      <td>-0.00</td>\n",
       "      <td>0.00</td>\n",
       "      <td>0.00</td>\n",
       "      <td>-4.28e+07</td>\n",
       "    </tr>\n",
       "    <tr>\n",
       "      <th>50%</th>\n",
       "      <td>59206.00</td>\n",
       "      <td>-0.00</td>\n",
       "      <td>0.00</td>\n",
       "      <td>2.25</td>\n",
       "      <td>2.31e+01</td>\n",
       "    </tr>\n",
       "    <tr>\n",
       "      <th>max</th>\n",
       "      <td>59318.60</td>\n",
       "      <td>34.30</td>\n",
       "      <td>62.30</td>\n",
       "      <td>27.00</td>\n",
       "      <td>1.14e+02</td>\n",
       "    </tr>\n",
       "  </tbody>\n",
       "</table>\n",
       "</div>"
      ],
      "text/plain": [
       "              t      TS    flux  flux_error     limit\n",
       "count    226.00  226.00  226.00      226.00  2.26e+02\n",
       "mean   59206.00    1.17    5.65        5.96 -1.89e+05\n",
       "std       65.39    3.49   10.14        6.60  2.85e+06\n",
       "min    59093.50   -0.00    0.00        0.00 -4.28e+07\n",
       "50%    59206.00   -0.00    0.00        2.25  2.31e+01\n",
       "max    59318.60   34.30   62.30       27.00  1.14e+02"
      ]
     },
     "execution_count": null,
     "metadata": {},
     "output_type": "execute_result"
    }
   ],
   "source": [
    "#hide\n",
    "# Comparison with Tyrel's gtlike results\n",
    "\n",
    "#hide\n",
    "#collapse_input\n",
    "remote_file = '/nfs/farm/g/glast/u/tyrelj/forToby/FluxLC_output_PSRB1259.fits'\n",
    "local_copy = '/home/burnett/fromTyrel/FluxLC_output_PSRB1259.fits'\n",
    "from astropy.io import fits\n",
    "\n",
    "with fits.open(local_copy) as hdus: \n",
    "    tdata = hdus[1].data\n",
    "\n",
    "flux_factor = 4.28e7 # derived before, so apply here\n",
    "tdf = pd.DataFrame(dict(t=MJD((tdata.Start+tdata.Stop)/2).round(1),\n",
    "                        TS = tdata.TS.astype(float).round(1),\n",
    "                        flux = (tdata.flux.astype(float)*flux_factor).round(1),\n",
    "                        flux_error = (tdata.flux_error.astype(float)*flux_factor).round(1),\n",
    "                        limit = (tdata.UpperLimit.astype(float)*flux_factor).round(1),\n",
    "                       )\n",
    "                    ); \n",
    "tdf.describe(percentiles=[])"
   ]
  },
  {
   "cell_type": "code",
   "execution_count": null,
   "metadata": {},
   "outputs": [
    {
     "ename": "NameError",
     "evalue": "name 'daily' is not defined",
     "output_type": "error",
     "traceback": [
      "\u001b[0;31m---------------------------------------------------------------------------\u001b[0m",
      "\u001b[0;31mNameError\u001b[0m                                 Traceback (most recent call last)",
      "\u001b[0;32m<ipython-input-4-e4555ecb1020>\u001b[0m in \u001b[0;36m<module>\u001b[0;34m\u001b[0m\n\u001b[1;32m     24\u001b[0m \u001b[0;34m\u001b[0m\u001b[0m\n\u001b[1;32m     25\u001b[0m \u001b[0;34m\u001b[0m\u001b[0m\n\u001b[0;32m---> 26\u001b[0;31m \u001b[0mlc\u001b[0m\u001b[0;34m=\u001b[0m\u001b[0mdaily\u001b[0m\u001b[0;34m.\u001b[0m\u001b[0mlc\u001b[0m\u001b[0;34m;\u001b[0m\u001b[0;34m\u001b[0m\u001b[0;34m\u001b[0m\u001b[0m\n\u001b[0m\u001b[1;32m     27\u001b[0m \u001b[0mmdf\u001b[0m \u001b[0;34m=\u001b[0m \u001b[0mlc\u001b[0m\u001b[0;34m.\u001b[0m\u001b[0mdataframe\u001b[0m\u001b[0;34m.\u001b[0m\u001b[0mquery\u001b[0m\u001b[0;34m(\u001b[0m\u001b[0;34m'59319>t>59093'\u001b[0m\u001b[0;34m)\u001b[0m\u001b[0;34m.\u001b[0m\u001b[0mcopy\u001b[0m\u001b[0;34m(\u001b[0m\u001b[0;34m)\u001b[0m\u001b[0;34m\u001b[0m\u001b[0;34m\u001b[0m\u001b[0m\n\u001b[1;32m     28\u001b[0m \u001b[0mmdf\u001b[0m\u001b[0;34m.\u001b[0m\u001b[0mloc\u001b[0m\u001b[0;34m[\u001b[0m\u001b[0;34m:\u001b[0m\u001b[0;34m,\u001b[0m\u001b[0;34m'ts'\u001b[0m\u001b[0;34m]\u001b[0m\u001b[0;34m=\u001b[0m \u001b[0mmdf\u001b[0m\u001b[0;34m.\u001b[0m\u001b[0mfit\u001b[0m\u001b[0;34m.\u001b[0m\u001b[0mapply\u001b[0m\u001b[0;34m(\u001b[0m\u001b[0;32mlambda\u001b[0m \u001b[0mx\u001b[0m\u001b[0;34m:\u001b[0m \u001b[0mx\u001b[0m\u001b[0;34m.\u001b[0m\u001b[0mts\u001b[0m\u001b[0;34m)\u001b[0m\u001b[0;34m\u001b[0m\u001b[0;34m\u001b[0m\u001b[0m\n",
      "\u001b[0;31mNameError\u001b[0m: name 'daily' is not defined"
     ]
    }
   ],
   "source": [
    "#### Get my results for these dates\n",
    "\n",
    "\n",
    "mdf = d.query('59319>t>59093').copy()\n",
    "mdf.loc[:,'ts']= mdf.fit.apply(lambda x: x.ts)\n",
    "mdf.loc[:,'flux']=mdf.fit.apply(lambda x: round(x.flux,1) )\n",
    "mdf.loc[:,'errors']= mdf.fit.apply(lambda x: (np.array(x.errors)-x.flux).round(1))\n",
    "mdf.loc[:,'limit']= mdf.fit.apply(lambda x: x.limit.round(1))\n",
    "#mdf['t ts flux errors limit'.split()].describe(percentiles=[])\n",
    "\n",
    "### Use the last one, at 59318.5, +63, to make tentative normalization\n",
    "\n",
    "\n",
    "f = mdf.iloc[-1].fit\n",
    "print(f'Compare point at {mdf.iloc[-1].t}: TS: me {f.ts:.1f}, Tyrel {tdf.iloc[-1].TS:.1f}')\n",
    "a,b = f.flux, tdf.iloc[-1].flux; a,b, \n",
    "print(f'flux ratio check: {a/b:.3e}')\n",
    "\n",
    "fig, (ax1,ax2,ax3) = plt.subplots(1,3,figsize=(15,5))\n",
    "ax1.plot(mdf.ts, tdf.TS, 'o');\n",
    "ax1.set(xlabel='wtlike TS', ylabel='gtlike TS')\n",
    "ax1.grid(alpha=0.5)\n",
    "mtscut= (mdf.ts>4).values\n",
    "ax2.plot(mdf.flux, tdf.flux, 'o');\n",
    "ax2.plot(mdf.flux[mtscut], tdf[mtscut].flux, 'or', label='wtlike TS>4');\n",
    "ax2.plot([0,70], [0,70], '--', color='grey');\n",
    "ax2.set(xlabel='wtlike flux', ylabel=f'gtlike flux x {flux_factor:.2e}', xlim=(0,70), ylim=(0,70))\n",
    "ax2.legend();ax2.grid(alpha=0.5);\n",
    "\n",
    "ttscut=(tdf.TS>4).values\n",
    "ax3.plot(mdf.flux, tdf.flux, 'o');\n",
    "ax3.plot(mdf.flux[ttscut], tdf[ttscut].flux, 'or', label='gtlike TS>4');\n",
    "ax3.plot([0,70], [0,70], '--', color='grey');\n",
    "ax3.legend()\n",
    "ax3.set(xlabel='wtlike flux', ylabel=f'gtlike flux x {flux_factor:.2e}', xlim=(0,70), ylim=(0,70))\n",
    "ax3.legend();ax3.grid(alpha=0.5);"
   ]
  },
  {
   "cell_type": "code",
   "execution_count": null,
   "metadata": {},
   "outputs": [],
   "source": [
    "#hide\n",
    "### Add my TS, flux to Tyrel list\n",
    "\n",
    "# %nbdev_collapse_input\n",
    "# tdf.loc[:,'wt_ts']= mdf.ts.values\n",
    "# tdf.loc[:,'wt_flux']=mdf.flux.values\n",
    "# tdf.loc[:,'wt_errors'] = mdf.errors.values\n",
    "\n",
    "# pa = daily; tzero = pa.date_info().MJD[3]\n",
    "# fig, ax = plt.subplots(figsize=(15,4))\n",
    "# mcut=mdf.ts.values>4\n",
    "# tcut=tdf.TS.values>4\n",
    "# ax.plot((mdf.t-tzero)[mcut], mdf.flux[mcut], 'x',ms=10, label='wtlike')\n",
    "# ax.plot((tdf.t-tzero)[tcut], tdf.flux[tcut], '+', ms=15, label='gtlike')\n",
    "# ax.set(yscale='linear', ylim=(1,90), xlim=(-60, 70), xlabel='Days about periastron', \n",
    "#        ylabel='Relative Flux');\n",
    "# # ax.legend(loc='upper center', title='TS>4 cut on respective data sets')\n",
    "# ax.grid(alpha=0.5);"
   ]
  },
  {
   "cell_type": "code",
   "execution_count": null,
   "metadata": {},
   "outputs": [],
   "source": [
    "#hide\n",
    "# #### Generate table of 30-day fits, to compare with LightCurveRepository\n",
    "\n",
    "# wt3 = weekly.view((0., 0, 30))\n",
    "# wt3.plot();\n",
    "\n",
    "# ft = wt3.flux_table()\n",
    "# ft.to_csv('../b1259_3day.csv')\n",
    "\n",
    "# ft"
   ]
  },
  {
   "cell_type": "code",
   "execution_count": null,
   "metadata": {},
   "outputs": [],
   "source": []
  }
 ],
 "metadata": {
  "kernelspec": {
   "display_name": "Python 3",
   "language": "python",
   "name": "python3"
  }
 },
 "nbformat": 4,
 "nbformat_minor": 4
}
