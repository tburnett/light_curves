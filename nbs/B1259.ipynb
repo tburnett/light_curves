{
 "cells": [
  {
   "cell_type": "code",
   "execution_count": null,
   "metadata": {},
   "outputs": [
    {
     "name": "stdout",
     "output_type": "stream",
     "text": [
      "Cells will be exported to light_curves.b1259,\n",
      "unless a different module is specified after an export flag: `%nbdev_export special.module`\n",
      "Sun Apr 25 04:59:00 PDT 2021\n"
     ]
    }
   ],
   "source": [
    "from nbdev import *\n",
    "%nbdev_default_export b1259\n",
    "%load_ext autoreload\n",
    "%autoreload 2\n",
    "!date"
   ]
  },
  {
   "cell_type": "markdown",
   "metadata": {},
   "source": [
    "# B1259-63 Analysis\n",
    "> Create a B1259-63 (aka PSR J1302-6350) light curve using Bayesian Blocks  "
   ]
  },
  {
   "cell_type": "markdown",
   "metadata": {},
   "source": [
    "* [HESS high-energy results](https://arxiv.org/pdf/astro-ph/0506280.pdf)\n",
    "\n",
    "* [Previouis *fermi* paper](https://arxiv.org/pdf/1912.05868.pdf)"
   ]
  },
  {
   "cell_type": "code",
   "execution_count": null,
   "metadata": {},
   "outputs": [],
   "source": [
    "%nbdev_export\n",
    "import numpy as np\n",
    "import matplotlib.pyplot as plt\n",
    "from light_curves.tools import *\n",
    "from wtlike.config import *\n",
    "from wtlike.bayesian import *\n",
    "from wtlike.lightcurve import * \n",
    "from utilities.ipynb_docgen import *"
   ]
  },
  {
   "cell_type": "code",
   "execution_count": null,
   "metadata": {},
   "outputs": [],
   "source": [
    "%nbdev_export\n",
    "\n",
    "class B1259Periastron(BayesianBlockAnalysis):\n",
    "    \n",
    "    tp, period = 55544.694, 1236.7243\n",
    "    \n",
    "    def __init__(self, config, bins=None, bin_key=None, clear=None):\n",
    "        source = PointSource('PSR_B1259-63')\n",
    "        super().__init__(config, source, bins=bins, clear=clear)\n",
    "        self.partition( key = bin_key, clear=clear)\n",
    "        \n",
    "        self.mjd_dates = [self.tp+n*self.period for n in range(4)]\n",
    "        \n",
    "    def date_info(self):\n",
    "        return pd.DataFrame([dict(MJD=round(d,3), UTC=UTC(d)) for d in self.mjd_dates ])\n",
    "    \n",
    "    def full_plot(self, fignum=2):\n",
    "        fig, ax2 = plt.subplots(1,1, sharex=True, figsize=(20,4), num=fignum)\n",
    "        self.plot( ax = ax2, yscale='log')\n",
    "        ax2.text(0.05, 0.85, self.source.name,  transform=ax2.transAxes);\n",
    "        ax2.set_xlabel('MJD', fontsize=20)\n",
    "        return fig\n",
    "    \n",
    "    def stacked_plots(self, fignum=3, ylim=(2,200), ts_min=4):\n",
    " \n",
    "        tp, p =self.tp, self.period\n",
    "        fig, axx = plt.subplots(4,1, sharex=True, sharey=True, figsize=(12,12), num=fignum)\n",
    "        plt.subplots_adjust(hspace=0.)\n",
    "        for i, ax in enumerate(axx.flatten()):\n",
    "            self.plot( ax=ax, tzero=tp+i*p, xlim=(-60,150), ylim=ylim, ts_min=ts_min,\n",
    "                     colors=('red', 'bisque', 'blue'),\n",
    "                     fmt='o', yscale='log', xlabel='',ylabel='', )\n",
    "            ax.text(0.02, 0.85, UTC(tp+i*p)[:4], transform=ax.transAxes)\n",
    "            ax.axvline(0, color='grey', ls=':')\n",
    "        axx[-1].set_xlabel('days about periastron', fontsize=20)\n",
    "        fig.text(0.04, 0.5, 'Relative Flux', va='center', rotation='vertical', fontsize=20)\n",
    "        fig.width=600\n",
    "        return fig"
   ]
  },
  {
   "cell_type": "code",
   "execution_count": null,
   "metadata": {},
   "outputs": [
    {
     "name": "stdout",
     "output_type": "stream",
     "text": [
      "photons and exposure for PSR_B1259-63: Saving to cache with key \"PSR_B1259-63_weekly_data\"\n",
      ".......................................................................................................................................................................................................................................................................................................................................................................................................................................................................................................................................................................................................................................................................................\n",
      "Load weights from file /mnt/c/users/thbur/OneDrive/fermi/weight_files/PSR_B1259-63_weights.pkl\n",
      "\tFound: P88Y3278 at (304.20, -0.99)\n",
      "\tApplyng weights: 87062 / 4064359 photon pixels are outside weight region\n",
      "\t923135 weights set to NaN\n",
      "Time bins: 4643 intervals of 1 days, from MJD 54683.0(2008-08-05) to 59326.0(2021-04-22))\n",
      "Loaded 4472 / 4472 cells with exposure > 0.3 for light curve analysis\n",
      "PSR_B1259-63_weekly_bb_edges: Saving to cache with key \"PSR_B1259-63_weekly_bb_edges\"\n",
      "Partitioned 4472 cells into 32 blocks, using LikelihoodFitness \n",
      "Loaded 32 / 32 cells with exposure > 0.3 for fitting\n"
     ]
    }
   ],
   "source": [
    "%nbdev_collapse_input\n",
    "\n",
    "config = Config(data_folder='/home/burnett/weekly', verbose=1)\n",
    "bba = B1259Periastron(config)"
   ]
  },
  {
   "cell_type": "code",
   "execution_count": null,
   "metadata": {},
   "outputs": [
    {
     "data": {
      "text/markdown": [
       "## Fit to all data\n",
       "\n",
       "2021-04-25 05:06\n",
       "\n",
       "Create a `BayesianBlockAnalysis` object with all the data\n",
       "\n",
       "<details  class=\"nbdoc-description\" >  <summary> Output from analysis: create cells, fit each, run BB partition, fit partitions. </summary>  <div style=\"margin-left: 5%\"><pre>(already done)<br></pre></div> </details>\n",
       "\n",
       "Combine the likelihoods for all the data, check the fit. \n",
       "Normalization should be very close to 1.0, a check on the weights.\n",
       "<div class=\"nbdoc_image\">\n",
       "<figure style=\"margin-left: 5%\" title=\"Figure 1\">  <a href=\"images/B1259_fig_01.png\" title=\"images/B1259_fig_01.png\">    <img src=\"images/B1259_fig_01.png\" alt=\"Figure 1 at images/B1259_fig_01.png\" >   </a> </figure>\n",
       "</div>\n",
       "\n",
       "\n",
       "Note that the \"significant count factor\", $\\sigma_{flux} \\times \\sqrt{N}$, is 266.\n",
       "\n",
       "## The full daily-interval light curve, showing the BB partitions\n",
       "<div class=\"nbdoc_image\">\n",
       "<figure style=\"margin-left: 5%\" title=\"Figure 2\">  <a href=\"images/B1259_fig_02.png\" title=\"images/B1259_fig_02.png\">    <img src=\"images/B1259_fig_02.png\" alt=\"Figure 2 at images/B1259_fig_02.png\" width=600>   </a> </figure>\n",
       "</div>\n",
       "\n",
       "\n",
       "## Expand about each periastron\n",
       "\n",
       "#### Periastron dates\n",
       "\n",
       "Assuming 1236.7243-day orbital period, the MJD and UTC values are:\n",
       "\n",
       "<div style=\"margin-left: 5%\"><pre>         MJD               UTC<br>0  55544.694  2010-12-14 16:39<br>1  56781.418  2014-05-04 10:02<br>2  58018.143  2017-09-22 03:25<br>3  59254.867  2021-02-09 20:48</pre></div>\n",
       "\n",
       "Expand the above about those dates\n",
       "\n",
       "<div class=\"nbdoc_image\">\n",
       "<figure style=\"margin-left: 5%\" title=\"Figure 3\">  <a href=\"images/B1259_fig_03.png\" title=\"images/B1259_fig_03.png\">    <img src=\"images/B1259_fig_03.png\" alt=\"Figure 3 at images/B1259_fig_03.png\" width=600>   </a> </figure>\n",
       "</div>\n",
       "\n",
       "\n",
       "## Recent detail \n",
       "<div class=\"nbdoc_image\">\n",
       "<figure style=\"margin-left: 5%\" title=\"Figure 4\">  <a href=\"images/B1259_fig_04.png\" title=\"images/B1259_fig_04.png\">    <img src=\"images/B1259_fig_04.png\" alt=\"Figure 4 at images/B1259_fig_04.png\" width=400>   </a> </figure>\n",
       "</div>\n",
       "\n",
       "\n",
       "### Output Table\n",
       "\n",
       "<details  class=\"nbdoc-description\" >  <summary> fits to blocks. </summary>  <div style=\"margin-left: 5%\"><pre>          t      tw       n     flux             errors  sigma_dev    limit<br>0   55102.5   828.0  530570    0.000         (0, 0.028)       -5.5    0.171<br>1   55539.5    35.0   21588    7.420    (-1.948, 1.998)        3.5   10.786<br>2   55560.5     7.0    7437   23.955    (-3.975, 4.006)        5.9   30.592<br>3   55569.0    10.0   11610    0.000         (0, 2.117)        0.4    4.796<br>4   55576.5     5.0    4275   48.408    (-5.932, 5.992)        8.3   58.358<br>5   55580.5     3.0    2584  109.998   (-9.902, 10.032)       11.9  126.702<br>6   55590.0    16.0    9724   58.521    (-4.164, 4.192)       14.5   65.461<br>7   55606.5    17.0   11039   30.596    (-3.415, 3.437)        8.9   36.282<br>8   56190.5  1100.0  757398    0.000         (0, 0.033)       -5.0    0.197<br>9   56788.0    44.0   34389    5.365    (-1.522, 1.554)        3.0    7.969<br>10  56813.5     7.0    9046   26.962    (-3.653, 3.679)        7.3   33.053<br>11  56819.0     4.0    5368   86.051    (-6.098, 6.154)       14.9   96.260<br>12  56826.0    10.0   10429   39.057    (-3.572, 3.596)       11.0   45.007<br>13  56831.5     1.0     746  164.644  (-20.649, 21.159)        8.9  200.244<br>14  56835.5     7.0    6269   54.396    (-4.969, 5.012)       11.2   62.704<br>15  56843.0     8.0    7943   11.060    (-3.408, 3.528)        3.2   17.054<br>16  56850.5     7.0    4272   58.684    (-6.245, 6.309)        9.7   69.161<br>17  57431.5  1148.0  779911    0.000         (0, 0.039)       -4.6    0.231<br>18  58034.0    50.0   32481   11.063    (-1.652, 1.658)        6.2   13.800<br>19  58059.5     1.0     988  210.762  (-20.182, 20.615)       11.8  245.344<br>20  58065.0    10.0   10606   24.515    (-3.316, 3.338)        7.3   30.038<br>21  58072.5     5.0    4039   60.638    (-6.453, 6.521)        9.7   71.469<br>22  58076.0     2.0    1589  186.122  (-14.802, 15.052)       14.0  211.268<br>23  58078.0     2.0    1302   81.676  (-12.209, 12.436)        7.1  102.486<br>24  58083.5     9.0    5049   31.771    (-4.926, 4.973)        6.5   40.022<br>25  58088.5     1.0     716  193.159  (-22.293, 22.855)        9.7  231.632<br>26  58091.0     4.0    2180   32.077    (-7.188, 7.592)        5.0   45.212<br>27  58656.5  1025.0  782536    0.000         (0, 0.041)       -4.4    0.247<br>28  59264.5    89.0   72332    5.029     (-1.045, 1.06)        4.0    6.797<br>29  59313.0     8.0    4503   28.252    (-5.056, 5.106)        5.6   36.729<br>30  59319.0     4.0    2722   75.888    (-8.216, 8.321)        9.7   89.738<br>31  59323.5     5.0    2684   18.656    (-5.779, 6.116)        3.5   29.256</pre></div> </details>\n",
       "\n",
       "Download it: [B1259_lc.csv](images/B1259_lc.csv).\n"
      ],
      "text/plain": [
       "<utilities.ipynb_docgen.doc_formatter.<locals>.MimeBundleObject at 0x7ff785d47cd0>"
      ]
     },
     "metadata": {},
     "output_type": "display_data"
    },
    {
     "name": "stdout",
     "output_type": "stream",
     "text": [
      "CPU times: user 10.7 s, sys: 39.1 ms, total: 10.7 s\n",
      "Wall time: 10.8 s\n"
     ]
    }
   ],
   "source": [
    "%nbdev_collapse_input\n",
    "def B1259( expect=1, bins=None, clear=False):\n",
    "    r\"\"\"\n",
    "    ## Fit to all data\n",
    "\n",
    "    {date}\n",
    "    \n",
    "    Create a `BayesianBlockAnalysis` object with all the data\n",
    "    \n",
    "    {outp}\n",
    " \n",
    "    Combine the likelihoods for all the data, check the fit. \n",
    "    Normalization should be very close to 1.0, a check on the weights.\n",
    "    {fig1}\n",
    "    \n",
    "    Note that the \"significant count factor\", $\\sigma_{{flux}} \\times \\sqrt{{N}}$, is {sig_cnt_factor:.0f}.\n",
    " \n",
    "    ## The full daily-interval light curve, showing the BB partitions\n",
    "    {fig2}\n",
    "    \n",
    "    ## Expand about each periastron\n",
    " \n",
    "    #### Periastron dates\n",
    "\n",
    "    Assuming {period}-day orbital period, the MJD and UTC values are:\n",
    "    \n",
    "    {utc}\n",
    " \n",
    "    Expand the above about those dates\n",
    "\n",
    "    {fig3}\n",
    "    \n",
    "    ## Recent detail \n",
    "    {fig4}\n",
    "    \n",
    "    ### Output Table\n",
    "    \n",
    "    {df_text}\n",
    "    \n",
    "    Download it: {link_to_lcfile}.\n",
    "    \"\"\"\n",
    "    global bba #  make availlable for follow-up cells\n",
    "\n",
    "    assert config.valid, f\"Invalid configuration {config}\"\n",
    " \n",
    "    pd.set_option('display.precision', 3)#, 'display.colheader_justify','left')\n",
    "    plt.rc('font', size=14)\n",
    "    \n",
    "    with capture_print('Output from analysis: create cells, fit each, run BB partition, fit partitions.') as outp:\n",
    "        if bba is None:\n",
    "            bba = B1259Periastron(config,  bins=bins, clear=clear)\n",
    " \n",
    "        else:\n",
    "            print('(already done)')\n",
    "    lc = bba.lc_df\n",
    "    bb_lc = bba.bb_fit\n",
    "    period  = bba.period\n",
    "\n",
    "    # Fig 1 -- fit to combined data\n",
    "    \n",
    "    lka = bba.all_data_likelihood()\n",
    "    fig1,ax = plt.subplots(figsize=(4,2))\n",
    "    lka.plot(ax=ax, xlim=(0.5, 1.5) )\n",
    "    fi = lka.fit_info(); \n",
    "    sig_cnt_factor =  fi['sig_flux']*np.sqrt(fi['counts'])\n",
    "    \n",
    "    df = fit_table(bb_lc, expect=expect)\n",
    "    df_text = monospace(str(df), 'BB fit table', open=True)\n",
    "\n",
    "    # fig 2: full light curbe\n",
    "    plt.rc('font', size=16)\n",
    "    fig2 = bba.full_plot(2)\n",
    "    fig2.width=600\n",
    "    \n",
    "    # fig 3 -- stack light curves\n",
    "    utc = monospace(str(bba.date_info())) \n",
    "    fig3 = bba.stacked_plots(3)\n",
    "    fig3.width=600\n",
    "    \n",
    "    # fig 4 -- recent detail\n",
    "    fig4, ax=plt.subplots(figsize=(8,2.5))\n",
    "    bba.plot(ax=ax,yscale='log',colors=('red', 'lightgrey', 'blue'),\n",
    "             tzero=bba.mjd_dates[-1], xlim=(35, 75 ), ylim=(2,200));\n",
    "    ax.set(xlabel='Days after 2021 Periastron');\n",
    "    fig4.width=400\n",
    "    \n",
    "    # table of BB fits\n",
    "    df = fit_table(bb_lc, expect=expect)\n",
    "    df_text = monospace(str(df), 'fits to blocks.', open=False)\n",
    "        \n",
    "    ### Save the BB intervals\n",
    "    lc_out = bb_lc.copy()\n",
    "\n",
    "    lc_out.loc[:,'flux'] = bb_lc.fit.apply(lambda fit: round(fit.flux,3))\n",
    "    errors = bb_lc.fit.apply(lambda fit: np.array(fit.errors).round(3)).values\n",
    "    elow, ehigh = [[x[i] for x in errors] for i in range(2)]\n",
    "    lc_out['low']=elow\n",
    "    lc_out['high']=ehigh\n",
    "    lc_display = lc_out['t tw n flux low high'.split()]\n",
    "    \n",
    "    lc_file = 'B1259_lc.csv'\n",
    "    link_to_lcfile = create_file(lc_display.to_csv, lc_file)\n",
    "    \n",
    "    return locals()\n",
    "%time nbdoc(B1259, clear=False)"
   ]
  },
  {
   "cell_type": "markdown",
   "metadata": {},
   "source": [
    "## Questions for Discussion, with 2/28 Scargle comments\n",
    "\n",
    "#### How do I interpret the apparent abrupt transitions? \n",
    ">Think of BB as the best step-function representation\n",
    "of the data.  It does not mean that the discontinuities \n",
    "are claimed to be real -- the underlying light curve\n",
    "is most likely continuous and smooth at some level.  \n",
    "BB is just saying that there is a statistically significant\n",
    "change from one block to the next.\n",
    "\n",
    "Compare with a [flare from 3C 279](https://tburnett.github.io/wtlike/bayesian.html#bb_overplot), which has measurements rather than limits for each day and the time scale is in the day range. \n",
    "\n",
    "#### Is the day interval appropriate? \n",
    ">BB can always benefit from finer sampling, so if you\n",
    "have data on shorter intervals (or even photon data)\n",
    "you can get more information out ... e.g. a better \n",
    "determination of the time of \"transitions\" (see above).\n",
    "\n",
    "\n",
    "\n",
    "#### I know that there is a ~4% systematic for the individual daily measurements, seen in the Geminga data. Does this matter?\n",
    ">Systematic errors are a problem ... BB is not magic here.\n",
    "\n",
    "## My observations, plans\n",
    "\n",
    "There are two related questions here. \n",
    "1. what is the actual behavior of B1259, besides the obvious flares? Can we characterize each periastron to detect changes? Kent Wood is very interested in this.\n",
    "2. How well does BB work, when applied to daily likelihoods, many of which are just limits, but do contain information? This is a question that Jeff Scargle had never considered before, but is quite interested in.\n",
    "\n",
    "\n",
    "#### Run Simulations\n",
    "\n",
    "I'll use the [wtlike simulation capability](https://tburnett.github.io/wtlike/simulation) to test the sensitivity to various light curves, when daily fits are all or mostly limits.\n",
    "\n",
    "#### Add Systematics to Likelihood\n",
    "The presence of a systematic error in the exposure--I've measured 4% with Geminga, slightly invalidates the likelihood. A fix is to widen it, which I can easily do using the [wtlike Poisson representation](https://tburnett.github.io/wtlike/poisson#Poisson). "
   ]
  },
  {
   "cell_type": "markdown",
   "metadata": {},
   "source": [
    "# Comparison with Tyrel's gtlike results"
   ]
  },
  {
   "cell_type": "code",
   "execution_count": null,
   "metadata": {},
   "outputs": [
    {
     "data": {
      "text/html": [
       "<div>\n",
       "<style scoped>\n",
       "    .dataframe tbody tr th:only-of-type {\n",
       "        vertical-align: middle;\n",
       "    }\n",
       "\n",
       "    .dataframe tbody tr th {\n",
       "        vertical-align: top;\n",
       "    }\n",
       "\n",
       "    .dataframe thead th {\n",
       "        text-align: right;\n",
       "    }\n",
       "</style>\n",
       "<table border=\"1\" class=\"dataframe\">\n",
       "  <thead>\n",
       "    <tr style=\"text-align: right;\">\n",
       "      <th></th>\n",
       "      <th>t</th>\n",
       "      <th>TS</th>\n",
       "      <th>flux</th>\n",
       "      <th>flux_error</th>\n",
       "      <th>limit</th>\n",
       "    </tr>\n",
       "  </thead>\n",
       "  <tbody>\n",
       "    <tr>\n",
       "      <th>count</th>\n",
       "      <td>226.000</td>\n",
       "      <td>226.000</td>\n",
       "      <td>226.000</td>\n",
       "      <td>226.000</td>\n",
       "      <td>2.260e+02</td>\n",
       "    </tr>\n",
       "    <tr>\n",
       "      <th>mean</th>\n",
       "      <td>59206.000</td>\n",
       "      <td>1.169</td>\n",
       "      <td>5.649</td>\n",
       "      <td>5.964</td>\n",
       "      <td>-1.894e+05</td>\n",
       "    </tr>\n",
       "    <tr>\n",
       "      <th>std</th>\n",
       "      <td>65.386</td>\n",
       "      <td>3.493</td>\n",
       "      <td>10.135</td>\n",
       "      <td>6.604</td>\n",
       "      <td>2.847e+06</td>\n",
       "    </tr>\n",
       "    <tr>\n",
       "      <th>min</th>\n",
       "      <td>59093.500</td>\n",
       "      <td>-0.000</td>\n",
       "      <td>0.000</td>\n",
       "      <td>0.000</td>\n",
       "      <td>-4.280e+07</td>\n",
       "    </tr>\n",
       "    <tr>\n",
       "      <th>50%</th>\n",
       "      <td>59206.000</td>\n",
       "      <td>-0.000</td>\n",
       "      <td>0.000</td>\n",
       "      <td>2.250</td>\n",
       "      <td>2.315e+01</td>\n",
       "    </tr>\n",
       "    <tr>\n",
       "      <th>max</th>\n",
       "      <td>59318.600</td>\n",
       "      <td>34.300</td>\n",
       "      <td>62.300</td>\n",
       "      <td>27.000</td>\n",
       "      <td>1.144e+02</td>\n",
       "    </tr>\n",
       "  </tbody>\n",
       "</table>\n",
       "</div>"
      ],
      "text/plain": [
       "               t       TS     flux  flux_error      limit\n",
       "count    226.000  226.000  226.000     226.000  2.260e+02\n",
       "mean   59206.000    1.169    5.649       5.964 -1.894e+05\n",
       "std       65.386    3.493   10.135       6.604  2.847e+06\n",
       "min    59093.500   -0.000    0.000       0.000 -4.280e+07\n",
       "50%    59206.000   -0.000    0.000       2.250  2.315e+01\n",
       "max    59318.600   34.300   62.300      27.000  1.144e+02"
      ]
     },
     "execution_count": null,
     "metadata": {},
     "output_type": "execute_result"
    }
   ],
   "source": [
    "%nbdev_collapse_input\n",
    "remote_file = '/nfs/farm/g/glast/u/tyrelj/forToby/FluxLC_output_PSRB1259.fits'\n",
    "local_copy = '/home/burnett/fromTyrel/FluxLC_output_PSRB1259.fits'\n",
    "from astropy.io import fits\n",
    "hdus= fits.open(local_copy); \n",
    "\n",
    "tdata = hdus[1].data\n",
    "\n",
    "flux_factor = 4.28e7 # derived before, so apply here\n",
    "tdf = pd.DataFrame(dict(t=MJD((tdata.Start+tdata.Stop)/2).round(1),\n",
    "                        TS = tdata.TS.astype(float).round(1),\n",
    "                        flux = (tdata.flux.astype(float)*flux_factor).round(1),\n",
    "                        flux_error = (tdata.flux_error.astype(float)*flux_factor).round(1),\n",
    "                        limit = (tdata.UpperLimit.astype(float)*flux_factor).round(1),\n",
    "                       )\n",
    "                    ); \n",
    "tdf.describe(percentiles=[])"
   ]
  },
  {
   "cell_type": "markdown",
   "metadata": {},
   "source": [
    "#### Get my results for these dates"
   ]
  },
  {
   "cell_type": "code",
   "execution_count": null,
   "metadata": {},
   "outputs": [
    {
     "data": {
      "text/html": [
       "<div>\n",
       "<style scoped>\n",
       "    .dataframe tbody tr th:only-of-type {\n",
       "        vertical-align: middle;\n",
       "    }\n",
       "\n",
       "    .dataframe tbody tr th {\n",
       "        vertical-align: top;\n",
       "    }\n",
       "\n",
       "    .dataframe thead th {\n",
       "        text-align: right;\n",
       "    }\n",
       "</style>\n",
       "<table border=\"1\" class=\"dataframe\">\n",
       "  <thead>\n",
       "    <tr style=\"text-align: right;\">\n",
       "      <th></th>\n",
       "      <th>t</th>\n",
       "      <th>ts</th>\n",
       "      <th>flux</th>\n",
       "      <th>limit</th>\n",
       "    </tr>\n",
       "  </thead>\n",
       "  <tbody>\n",
       "    <tr>\n",
       "      <th>count</th>\n",
       "      <td>226.000</td>\n",
       "      <td>226.000</td>\n",
       "      <td>226.000</td>\n",
       "      <td>226.000</td>\n",
       "    </tr>\n",
       "    <tr>\n",
       "      <th>mean</th>\n",
       "      <td>59206.000</td>\n",
       "      <td>1.283</td>\n",
       "      <td>7.235</td>\n",
       "      <td>28.606</td>\n",
       "    </tr>\n",
       "    <tr>\n",
       "      <th>std</th>\n",
       "      <td>65.385</td>\n",
       "      <td>3.345</td>\n",
       "      <td>11.383</td>\n",
       "      <td>14.383</td>\n",
       "    </tr>\n",
       "    <tr>\n",
       "      <th>min</th>\n",
       "      <td>59093.500</td>\n",
       "      <td>0.000</td>\n",
       "      <td>0.000</td>\n",
       "      <td>11.500</td>\n",
       "    </tr>\n",
       "    <tr>\n",
       "      <th>50%</th>\n",
       "      <td>59206.000</td>\n",
       "      <td>0.032</td>\n",
       "      <td>1.750</td>\n",
       "      <td>25.300</td>\n",
       "    </tr>\n",
       "    <tr>\n",
       "      <th>max</th>\n",
       "      <td>59318.500</td>\n",
       "      <td>29.561</td>\n",
       "      <td>71.800</td>\n",
       "      <td>101.400</td>\n",
       "    </tr>\n",
       "  </tbody>\n",
       "</table>\n",
       "</div>"
      ],
      "text/plain": [
       "               t       ts     flux    limit\n",
       "count    226.000  226.000  226.000  226.000\n",
       "mean   59206.000    1.283    7.235   28.606\n",
       "std       65.385    3.345   11.383   14.383\n",
       "min    59093.500    0.000    0.000   11.500\n",
       "50%    59206.000    0.032    1.750   25.300\n",
       "max    59318.500   29.561   71.800  101.400"
      ]
     },
     "execution_count": null,
     "metadata": {},
     "output_type": "execute_result"
    }
   ],
   "source": [
    "%nbdev_collapse_input\n",
    "lc=bba.lc; \n",
    "mdf = lc.dataframe.query('59319>t>59093').copy()\n",
    "mdf.loc[:,'ts']= mdf.fit.apply(lambda x: x.ts)\n",
    "mdf.loc[:,'flux']=mdf.fit.apply(lambda x: round(x.flux,1) )\n",
    "mdf.loc[:,'errors']= mdf.fit.apply(lambda x: (np.array(x.errors)-x.flux).round(1))\n",
    "mdf.loc[:,'limit']= mdf.fit.apply(lambda x: x.limit.round(1))\n",
    "mdf['t ts flux errors limit'.split()].describe(percentiles=[])"
   ]
  },
  {
   "cell_type": "markdown",
   "metadata": {},
   "source": [
    "### Use the last one, at 59318.5, +63, to make tentative normalization"
   ]
  },
  {
   "cell_type": "code",
   "execution_count": null,
   "metadata": {},
   "outputs": [
    {
     "name": "stdout",
     "output_type": "stream",
     "text": [
      "Compare point at 59318.5: TS: me 21.6, Tyrel 34.3\n",
      "flux ratio check: 9.991e-01\n"
     ]
    },
    {
     "data": {
      "image/png": "[encoded data removed]",
      "text/plain": [
       "<Figure size 1080x360 with 3 Axes>"
      ]
     },
     "metadata": {
      "needs_background": "light"
     },
     "output_type": "display_data"
    }
   ],
   "source": [
    "%nbdev_collapse_input\n",
    "f = mdf.iloc[-1].fit\n",
    "print(f'Compare point at {mdf.iloc[-1].t}: TS: me {f.ts:.1f}, Tyrel {tdf.iloc[-1].TS:.1f}')\n",
    "a,b = f.flux, tdf.iloc[-1].flux; a,b, \n",
    "print(f'flux ratio check: {a/b:.3e}')\n",
    "\n",
    "fig, (ax1,ax2,ax3) = plt.subplots(1,3,figsize=(15,5))\n",
    "ax1.plot(mdf.ts, tdf.TS, 'o');\n",
    "ax1.set(xlabel='wtlike TS', ylabel='gtlike TS')\n",
    "ax1.grid(alpha=0.5)\n",
    "mtscut= (mdf.ts>4).values\n",
    "ax2.plot(mdf.flux, tdf.flux, 'o');\n",
    "ax2.plot(mdf.flux[mtscut], tdf[mtscut].flux, 'or', label='wtlike TS>4');\n",
    "ax2.plot([0,70], [0,70], '--', color='grey');\n",
    "ax2.set(xlabel='wtlike flux', ylabel=f'gtlike flux x {flux_factor:.2e}', xlim=(0,70), ylim=(0,70))\n",
    "ax2.legend();ax2.grid(alpha=0.5);\n",
    "\n",
    "ttscut=(tdf.TS>4).values\n",
    "ax3.plot(mdf.flux, tdf.flux, 'o');\n",
    "ax3.plot(mdf.flux[ttscut], tdf[ttscut].flux, 'or', label='gtlike TS>4');\n",
    "ax3.plot([0,70], [0,70], '--', color='grey');\n",
    "ax3.legend()\n",
    "ax3.set(xlabel='wtlike flux', ylabel=f'gtlike flux x {flux_factor:.2e}', xlim=(0,70), ylim=(0,70))\n",
    "ax3.legend();ax3.grid(alpha=0.5);"
   ]
  },
  {
   "cell_type": "markdown",
   "metadata": {},
   "source": [
    "### Add my TS, flux to Tyrel list"
   ]
  },
  {
   "cell_type": "code",
   "execution_count": null,
   "metadata": {},
   "outputs": [
    {
     "data": {
      "image/png": "[encoded data removed]",
      "text/plain": [
       "<Figure size 1080x288 with 1 Axes>"
      ]
     },
     "metadata": {
      "needs_background": "light"
     },
     "output_type": "display_data"
    }
   ],
   "source": [
    "%nbdev_collapse_input\n",
    "tdf.loc[:,'wt_ts']= mdf.ts.values\n",
    "tdf.loc[:,'wt_flux']=mdf.flux.values\n",
    "tdf.loc[:,'wt_errors'] = mdf.errors.values\n",
    "\n",
    "pa = bba; tzero = pa.date_info().MJD[3]\n",
    "fig, ax = plt.subplots(figsize=(15,4))\n",
    "mcut=mdf.ts.values>4\n",
    "tcut=tdf.TS.values>4\n",
    "ax.plot((mdf.t-tzero)[mcut], mdf.flux[mcut], 'x',ms=10, label='wtlike')\n",
    "ax.plot((tdf.t-tzero)[tcut], tdf.flux[tcut], '+', ms=15, label='gtlike')\n",
    "ax.set(yscale='linear', ylim=(1,90), xlim=(-60, 70), xlabel='Days about periastron', \n",
    "       ylabel='Relative Flux');\n",
    "ax.legend(loc='upper center', title='TS>4 cut on respective data sets')\n",
    "ax.grid(alpha=0.5);"
   ]
  },
  {
   "cell_type": "code",
   "execution_count": null,
   "metadata": {},
   "outputs": [],
   "source": []
  }
 ],
 "metadata": {
  "kernelspec": {
   "display_name": "Python 3",
   "language": "python",
   "name": "python3"
  }
 },
 "nbformat": 4,
 "nbformat_minor": 4
}
