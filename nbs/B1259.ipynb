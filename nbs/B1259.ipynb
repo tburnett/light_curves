{
 "cells": [
  {
   "cell_type": "code",
   "execution_count": null,
   "metadata": {},
   "outputs": [
    {
     "name": "stdout",
     "output_type": "stream",
     "text": [
      "Cells will be exported to light_curves.b1259,\n",
      "unless a different module is specified after an export flag: `%nbdev_export special.module`\n",
      "Fri May  7 16:30:11 PDT 2021\n"
     ]
    }
   ],
   "source": [
    "from nbdev import *\n",
    "%nbdev_default_export b1259\n",
    "%load_ext autoreload\n",
    "%autoreload 2\n",
    "!date"
   ]
  },
  {
   "cell_type": "markdown",
   "metadata": {},
   "source": [
    "# B1259-63 Analysis\n",
    "> Create a B1259-63 (aka PSR J1302-6350) light curve using Bayesian Blocks  "
   ]
  },
  {
   "cell_type": "markdown",
   "metadata": {},
   "source": [
    "* [HESS high-energy results](https://arxiv.org/pdf/astro-ph/0506280.pdf)\n",
    "\n",
    "* [Previouis *fermi* paper](https://arxiv.org/pdf/1912.05868.pdf)"
   ]
  },
  {
   "cell_type": "code",
   "execution_count": null,
   "metadata": {},
   "outputs": [],
   "source": [
    "%nbdev_export\n",
    "import numpy as np\n",
    "import matplotlib.pyplot as plt\n",
    "from wtlike  import Config, PointSource, WtLike, UTC, MJD\n",
    "\n",
    "from utilities.ipynb_docgen import *"
   ]
  },
  {
   "cell_type": "code",
   "execution_count": null,
   "metadata": {},
   "outputs": [],
   "source": [
    "%nbdev_export\n",
    "\n",
    "class B1259(WtLike):\n",
    "    \n",
    "    tp, period = 55544.694, 1236.7243\n",
    "    \n",
    "    def __init__(self, **kwargs):\n",
    "        time_bins =kwargs.pop('time_bins', (0,0,1))\n",
    "        super().__init__('PSR B1259-63', time_bins=time_bins, **kwargs)\n",
    "        self.applyBB(key='B1259_BB')\n",
    "\n",
    "    @property\n",
    "    def mjd_dates(self):\n",
    "        return [self.tp+n*self.period for n in range(4)]\n",
    "         \n",
    "    def date_info(self):\n",
    "        return pd.DataFrame([dict(MJD=round(d,3), UTC=UTC(d)) for d in self.mjd_dates ])\n",
    "    \n",
    "    def stacked_plots(self, fignum=3, ylim=(2,200), ts_min=4):\n",
    " \n",
    "        tp, p =self.tp, self.period\n",
    "        fig, axx = plt.subplots(4,1, sharex=True, sharey=True, figsize=(12,12), num=fignum)\n",
    "        plt.subplots_adjust(hspace=0.)\n",
    "        for i, ax in enumerate(axx.flatten()):\n",
    "            self.plot_BB( ax=ax, tzero=tp+i*p, xlim=(-60,150), ylim=ylim, ts_min=ts_min,\n",
    "                     colors=('coral', 'bisque', 'blue'),\n",
    "                     fmt='o', yscale='log', xlabel='',ylabel='', \n",
    "                        source_name=self.source.name if i==0 else '')\n",
    "            ax.text(0.02, 0.05, UTC(tp+i*p)[:4], transform=ax.transAxes)\n",
    "            ax.axvline(0, color='grey', ls=':')\n",
    "        axx[-1].set_xlabel('days about periastron', fontsize=20)\n",
    "        fig.text(0.04, 0.5, 'Relative Flux', va='center', rotation='vertical', fontsize=20)\n",
    "        fig.width=600\n",
    "        return fig"
   ]
  },
  {
   "cell_type": "code",
   "execution_count": null,
   "metadata": {},
   "outputs": [
    {
     "name": "stdout",
     "output_type": "stream",
     "text": [
      "SourceData: photons and exposure for PSR B1259-63: Restoring from cache with key \"PSR B1259-63_data\"\n",
      "B1259: Source PSR B1259-63 with:\n",
      "\t data:     1,335,825 photons from   2008-08-04 to 2021-05-06\n",
      "\t exposure: 3,351,183 intervals from 2008-08-04 to 2021-05-06\n",
      "CellData: Bin photon data into 4657 1-day bins from 54683.0 to 59340.0\n",
      "LightCurve: select 4509 cells for fitting with e>0.5 & n>2\n",
      "B1259_BB: Restoring from cache\n",
      "Partitioned 4509 cells into 32 blocks, using LikelihoodFitness \n",
      "LightCurve: Loaded 32 / 32 cells for fitting\n"
     ]
    }
   ],
   "source": [
    "# preload\n",
    "daily = B1259()\n"
   ]
  },
  {
   "cell_type": "code",
   "execution_count": null,
   "metadata": {},
   "outputs": [],
   "source": [
    "#daily.plot(ylim=(0.2, 55000),xlim=(55400, 55000), yscale='log', ts_min=0, ts_bar_min=2);"
   ]
  },
  {
   "cell_type": "code",
   "execution_count": null,
   "metadata": {},
   "outputs": [
    {
     "data": {
      "text/markdown": [
       "## Fit to all data\n",
       "\n",
       "2021-05-07 17:31\n",
       "\n",
       "Create a `WtLike` object with all the data\n",
       "\n",
       "<details  class=\"nbdoc-description\" >  <summary> Output from analysis: create cells, fit each, run BB partition, fit partitions. </summary>  <div style=\"margin-left: 5%\"><pre>(already done)<br></pre></div> </details>\n",
       "\n",
       "Combine the likelihoods for all the data, check the fit. \n",
       "Normalization should be very close to 1.0, a check on the weights.\n",
       "<div class=\"nbdoc_image\">\n",
       "<figure style=\"margin-left: 5%\" title=\"Figure 1\">  <a href=\"images/B1259_fig_01.png\" title=\"images/B1259_fig_01.png\">    <img src=\"images/B1259_fig_01.png\" alt=\"Figure 1 at images/B1259_fig_01.png\" >   </a> </figure>\n",
       "</div>\n",
       "\n",
       "\n",
       "Note that the \"significant count factor\", $\\sigma_{flux} \\times \\sqrt{N}$, is 174.\n",
       "\n",
       "## The full daily-interval light curve, showing the BB partitions\n",
       "<div class=\"nbdoc_image\">\n",
       "<figure style=\"margin-left: 5%\" title=\"Figure 2\">  <a href=\"images/B1259_fig_02.png\" title=\"images/B1259_fig_02.png\">    <img src=\"images/B1259_fig_02.png\" alt=\"Figure 2 at images/B1259_fig_02.png\" width=600>   </a> </figure>\n",
       "</div>\n",
       "\n",
       "\n",
       "## Expand about each periastron\n",
       "\n",
       "#### Periastron dates\n",
       "\n",
       "Assuming 1236.7243-day orbital period, the MJD and UTC values are:\n",
       "\n",
       "<div style=\"margin-left: 5%\"><pre>         MJD               UTC<br>0  55544.694  2010-12-14 16:39<br>1  56781.418  2014-05-04 10:02<br>2  58018.143  2017-09-22 03:25<br>3  59254.867  2021-02-09 20:48</pre></div>\n",
       "\n",
       "Expand the above about those dates\n",
       "\n",
       "<div class=\"nbdoc_image\">\n",
       "<figure style=\"margin-left: 5%\" title=\"Figure 3\">  <a href=\"images/B1259_fig_03.png\" title=\"images/B1259_fig_03.png\">    <img src=\"images/B1259_fig_03.png\" alt=\"Figure 3 at images/B1259_fig_03.png\" width=600>   </a> </figure>\n",
       "</div>\n",
       "\n",
       "\n",
       "## Recent detail \n",
       "<details  class=\"nbdoc-description\" >  <summary> Recent 1/2-day bins, new BB </summary>  <div style=\"margin-left: 5%\"><pre>CellData: Bin photon data into 70 12-hour bins from 59304.9 to 59339.9<br>LightCurve: select 70 cells for fitting with e&gt;0.5 & n&gt;2<br>Partitioned 70 cells into 6 blocks, using LikelihoodFitness <br>LightCurve: Loaded 6 / 6 cells for fitting<br></pre></div> </details><div class=\"nbdoc_image\">\n",
       "<figure style=\"margin-left: 5%\" title=\"Figure 4\">  <a href=\"images/B1259_fig_04.png\" title=\"images/B1259_fig_04.png\">    <img src=\"images/B1259_fig_04.png\" alt=\"Figure 4 at images/B1259_fig_04.png\" width=600>   </a> </figure>\n",
       "</div>\n",
       "\n"
      ],
      "text/plain": [
       "<utilities.ipynb_docgen.doc_formatter.<locals>.MimeBundleObject at 0x7fee221314d0>"
      ]
     },
     "metadata": {},
     "output_type": "display_data"
    }
   ],
   "source": [
    "%nbdev_collapse_input\n",
    "def B1259( clear=False):\n",
    "    r\"\"\"\n",
    "    ## Fit to all data\n",
    "\n",
    "    {date}\n",
    "    \n",
    "    Create a `WtLike` object with all the data\n",
    "    \n",
    "    {outp}\n",
    " \n",
    "    Combine the likelihoods for all the data, check the fit. \n",
    "    Normalization should be very close to 1.0, a check on the weights.\n",
    "    {fig1}\n",
    "    \n",
    "    Note that the \"significant count factor\", $\\sigma_{{flux}} \\times \\sqrt{{N}}$, is {sig_cnt_factor:.0f}.\n",
    " \n",
    "    ## The full daily-interval light curve, showing the BB partitions\n",
    "    {fig2}\n",
    "    \n",
    "    ## Expand about each periastron\n",
    " \n",
    "    #### Periastron dates\n",
    "\n",
    "    Assuming {period}-day orbital period, the MJD and UTC values are:\n",
    "    \n",
    "    {utc}\n",
    " \n",
    "    Expand the above about those dates\n",
    "\n",
    "    {fig3}\n",
    "    \n",
    "    ## Recent detail \n",
    "    {out4}{fig4}\n",
    "    \n",
    "    \"\"\"\n",
    "    global daily #  make availlable for follow-up cells\n",
    "\n",
    " \n",
    "    pd.set_option('display.precision', 4)#, 'display.colheader_justify','left')\n",
    "\n",
    "    \n",
    "    with capture_print('Output from analysis: create cells, fit each, run BB partition, fit partitions.') as outp:\n",
    "        if daily is None or clear:\n",
    "            daily = B1259Periastron(time_bins=(0,0,1), clear=clear)\n",
    "            daily.applyBB()\n",
    "        else:\n",
    "            print('(already done)')\n",
    "    lc = daily.fits\n",
    "    bb_lc = daily.bb_fit\n",
    "    period  = daily.period\n",
    "\n",
    "    # Fig 1 -- fit to combined data\n",
    "    \n",
    "    lka = daily.full_likelihood()\n",
    "    fig1,ax = plt.subplots(figsize=(4,2))\n",
    "    lka.plot(ax=ax, xlim=(0.5, 1.5) )\n",
    "    fi = lka.fit_info(); \n",
    "    sig_cnt_factor =  fi['sig_flux']*np.sqrt(fi['counts'])\n",
    "    \n",
    "    bb_df = daily.bb_table()\n",
    "    df_text = monospace(str(bb_df), 'BB fit table', open=True)\n",
    "\n",
    "    # fig 2: full light curbe\n",
    "    plt.rc('font', size=16)\n",
    "    fig2 = figure( daily.plot_BB(fignum=2), \n",
    "                  width=600)\n",
    "    \n",
    "    # fig 3 -- stack light curves\n",
    "    utc = monospace(str(daily.date_info())) \n",
    "    fig3 = figure( daily.stacked_plots( ylim=(4,300), fignum=3), width=600)\n",
    "    \n",
    "    # fig 4 -- recent with orbit\n",
    "    tzero=daily.mjd_dates[-1]\n",
    "    with capture_print('Recent 1/2-day bins, new BB') as out4:\n",
    "        half_day = daily.view((tzero+50, 0,1/2))\n",
    "        half_day.applyBB()\n",
    "    fig4 = figure(\n",
    "           half_day.plot_BB(fignum=4, yscale='log', colors=('coral', 'lightgrey', 'blue'),\n",
    "                 tzero=tzero, xlim=(50, 90 ), xlabel='Days after 2021 Periastron',\n",
    "                         ylim=(2,400), figsize=(12,9)), \n",
    "        width=600)\n",
    "\n",
    "   \n",
    "    return locals()\n",
    "\n",
    "nbdoc(B1259, clear=False)"
   ]
  },
  {
   "cell_type": "markdown",
   "metadata": {},
   "source": [
    "## Questions for Discussion, with 2/28 Scargle comments\n",
    "\n",
    "#### How do I interpret the apparent abrupt transitions? \n",
    ">Think of BB as the best step-function representation\n",
    "of the data.  It does not mean that the discontinuities \n",
    "are claimed to be real -- the underlying light curve\n",
    "is most likely continuous and smooth at some level.  \n",
    "BB is just saying that there is a statistically significant\n",
    "change from one block to the next.\n",
    "\n",
    "Compare with a [flare from 3C 279](https://tburnett.github.io/wtlike/bayesian.html#bb_overplot), which has measurements rather than limits for each day and the time scale is in the day range. \n",
    "\n",
    "#### Is the day interval appropriate? \n",
    ">BB can always benefit from finer sampling, so if you\n",
    "have data on shorter intervals (or even photon data)\n",
    "you can get more information out ... e.g. a better \n",
    "determination of the time of \"transitions\" (see above).\n",
    "\n",
    "\n",
    "\n",
    "#### I know that there is a ~4% systematic for the individual daily measurements, seen in the Geminga data. Does this matter?\n",
    ">Systematic errors are a problem ... BB is not magic here.\n",
    "\n",
    "## My observations, plans\n",
    "\n",
    "There are two related questions here. \n",
    "1. what is the actual behavior of B1259, besides the obvious flares? Can we characterize each periastron to detect changes? Kent Wood is very interested in this.\n",
    "2. How well does BB work, when applied to daily likelihoods, many of which are just limits, but do contain information? This is a question that Jeff Scargle had never considered before, but is quite interested in.\n",
    "\n",
    "\n",
    "#### Run Simulations\n",
    "\n",
    "I'll use the [wtlike simulation capability](https://tburnett.github.io/wtlike/simulation) to test the sensitivity to various light curves, when daily fits are all or mostly limits.\n",
    "\n",
    "#### Add Systematics to Likelihood\n",
    "The presence of a systematic error in the exposure--I've measured 4% with Geminga, slightly invalidates the likelihood. A fix is to widen it, which I can easily do using the [wtlike Poisson representation](https://tburnett.github.io/wtlike/poisson#Poisson). "
   ]
  },
  {
   "cell_type": "markdown",
   "metadata": {},
   "source": [
    "# Comparison with Tyrel's gtlike results"
   ]
  },
  {
   "cell_type": "code",
   "execution_count": null,
   "metadata": {},
   "outputs": [],
   "source": [
    "%nbdev_collapse_input\n",
    "remote_file = '/nfs/farm/g/glast/u/tyrelj/forToby/FluxLC_output_PSRB1259.fits'\n",
    "local_copy = '/home/burnett/fromTyrel/FluxLC_output_PSRB1259.fits'\n",
    "from astropy.io import fits\n",
    "\n",
    "with fits.open(local_copy) as hdus: \n",
    "    tdata = hdus[1].data\n",
    "\n",
    "flux_factor = 4.28e7 # derived before, so apply here\n",
    "tdf = pd.DataFrame(dict(t=MJD((tdata.Start+tdata.Stop)/2).round(1),\n",
    "                        TS = tdata.TS.astype(float).round(1),\n",
    "                        flux = (tdata.flux.astype(float)*flux_factor).round(1),\n",
    "                        flux_error = (tdata.flux_error.astype(float)*flux_factor).round(1),\n",
    "                        limit = (tdata.UpperLimit.astype(float)*flux_factor).round(1),\n",
    "                       )\n",
    "                    ); \n",
    "#tdf.describe(percentiles=[])\n",
    "\n",
    "#### Get my results for these dates\n",
    "\n",
    "%nbdev_collapse_input\n",
    "lc=daily.lc; \n",
    "mdf = lc.dataframe.query('59319>t>59093').copy()\n",
    "mdf.loc[:,'ts']= mdf.fit.apply(lambda x: x.ts)\n",
    "mdf.loc[:,'flux']=mdf.fit.apply(lambda x: round(x.flux,1) )\n",
    "mdf.loc[:,'errors']= mdf.fit.apply(lambda x: (np.array(x.errors)-x.flux).round(1))\n",
    "mdf.loc[:,'limit']= mdf.fit.apply(lambda x: x.limit.round(1))\n",
    "#mdf['t ts flux errors limit'.split()].describe(percentiles=[])\n",
    "\n",
    "### Use the last one, at 59318.5, +63, to make tentative normalization\n",
    "\n",
    "\n",
    "f = mdf.iloc[-1].fit\n",
    "print(f'Compare point at {mdf.iloc[-1].t}: TS: me {f.ts:.1f}, Tyrel {tdf.iloc[-1].TS:.1f}')\n",
    "a,b = f.flux, tdf.iloc[-1].flux; a,b, \n",
    "print(f'flux ratio check: {a/b:.3e}')\n",
    "\n",
    "fig, (ax1,ax2,ax3) = plt.subplots(1,3,figsize=(15,5))\n",
    "ax1.plot(mdf.ts, tdf.TS, 'o');\n",
    "ax1.set(xlabel='wtlike TS', ylabel='gtlike TS')\n",
    "ax1.grid(alpha=0.5)\n",
    "mtscut= (mdf.ts>4).values\n",
    "ax2.plot(mdf.flux, tdf.flux, 'o');\n",
    "ax2.plot(mdf.flux[mtscut], tdf[mtscut].flux, 'or', label='wtlike TS>4');\n",
    "ax2.plot([0,70], [0,70], '--', color='grey');\n",
    "ax2.set(xlabel='wtlike flux', ylabel=f'gtlike flux x {flux_factor:.2e}', xlim=(0,70), ylim=(0,70))\n",
    "ax2.legend();ax2.grid(alpha=0.5);\n",
    "\n",
    "ttscut=(tdf.TS>4).values\n",
    "ax3.plot(mdf.flux, tdf.flux, 'o');\n",
    "ax3.plot(mdf.flux[ttscut], tdf[ttscut].flux, 'or', label='gtlike TS>4');\n",
    "ax3.plot([0,70], [0,70], '--', color='grey');\n",
    "ax3.legend()\n",
    "ax3.set(xlabel='wtlike flux', ylabel=f'gtlike flux x {flux_factor:.2e}', xlim=(0,70), ylim=(0,70))\n",
    "ax3.legend();ax3.grid(alpha=0.5);"
   ]
  },
  {
   "cell_type": "markdown",
   "metadata": {},
   "source": [
    "### Add my TS, flux to Tyrel list"
   ]
  },
  {
   "cell_type": "code",
   "execution_count": null,
   "metadata": {},
   "outputs": [],
   "source": [
    "%nbdev_collapse_input\n",
    "tdf.loc[:,'wt_ts']= mdf.ts.values\n",
    "tdf.loc[:,'wt_flux']=mdf.flux.values\n",
    "tdf.loc[:,'wt_errors'] = mdf.errors.values\n",
    "\n",
    "pa = daily; tzero = pa.date_info().MJD[3]\n",
    "fig, ax = plt.subplots(figsize=(15,4))\n",
    "mcut=mdf.ts.values>4\n",
    "tcut=tdf.TS.values>4\n",
    "ax.plot((mdf.t-tzero)[mcut], mdf.flux[mcut], 'x',ms=10, label='wtlike')\n",
    "ax.plot((tdf.t-tzero)[tcut], tdf.flux[tcut], '+', ms=15, label='gtlike')\n",
    "ax.set(yscale='linear', ylim=(1,90), xlim=(-60, 70), xlabel='Days about periastron', \n",
    "       ylabel='Relative Flux');\n",
    "ax.legend(loc='upper center', title='TS>4 cut on respective data sets')\n",
    "ax.grid(alpha=0.5);"
   ]
  },
  {
   "cell_type": "markdown",
   "metadata": {},
   "source": [
    "## Generate table of 3-day fits, to compare with LightCurveRepository"
   ]
  },
  {
   "cell_type": "code",
   "execution_count": null,
   "metadata": {},
   "outputs": [],
   "source": [
    "wt3 = daily.view((0., 0, 3))\n",
    "\n",
    "wt3.plot_BB();\n",
    "\n",
    "ft = wt3.flux_table()\n",
    "\n",
    "ft.to_csv('../b1259_3day.csv')"
   ]
  },
  {
   "cell_type": "code",
   "execution_count": null,
   "metadata": {},
   "outputs": [],
   "source": []
  }
 ],
 "metadata": {
  "kernelspec": {
   "display_name": "Python 3",
   "language": "python",
   "name": "python3"
  }
 },
 "nbformat": 4,
 "nbformat_minor": 4
}
