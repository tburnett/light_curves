{
 "cells": [
  {
   "cell_type": "code",
   "execution_count": null,
   "id": "residential-hampshire",
   "metadata": {},
   "outputs": [
    {
     "name": "stdout",
     "output_type": "stream",
     "text": [
      "Cells will be exported to light_curves.tools,\n",
      "unless a different module is specified after an export flag: `%nbdev_export special.module`\n",
      "Tue Apr 20 13:52:46 PDT 2021\n"
     ]
    }
   ],
   "source": [
    "from nbdev import *\n",
    "%nbdev_default_export tools\n",
    "from utilities.ipynb_docgen import *\n",
    "\n",
    "!date"
   ]
  },
  {
   "cell_type": "markdown",
   "id": "horizontal-easter",
   "metadata": {},
   "source": [
    "# Light curve tools\n",
    "> Useful function interface to wtlike "
   ]
  },
  {
   "cell_type": "code",
   "execution_count": null,
   "id": "abstract-syria",
   "metadata": {},
   "outputs": [],
   "source": [
    "%nbdev_export\n",
    "import pickle\n",
    "import numpy as np\n",
    "import matplotlib.pyplot as plt\n",
    "from wtlike.config import *\n",
    "from wtlike.bayesian import *\n",
    "from wtlike.simulation import *\n",
    "from wtlike.lightcurve import *\n",
    "from wtlike.loglike import *\n",
    "from wtlike.cell_data import *\n",
    "\n",
    "def analyze_data(config, source):\n",
    "    \"\"\"\n",
    "    Analyze data from the source\n",
    "    \n",
    "    Returns data and partitioned light curves\n",
    "    \"\"\"\n",
    "    lc = LightCurve(config, source).dataframe\n",
    "    # generate the edges\n",
    "    edges  = get_bb_partition(config, lc,  key=None) \n",
    "    \n",
    "    # to refit, need the cells again\n",
    "    cells = CellData(config, source).dataframe\n",
    "    bb_cells = partition_cells(config, cells, edges);\n",
    "    bb_fit = fit_cells(config, bb_cells, )\n",
    "    bb_lc.loc[:,'TS'] = (bb_lc.fit.apply(lambda fit: fit.ts))\n",
    "    return lc, bb_lc\n",
    "\n",
    "\n",
    "def simulation(config, source, bb_key=None):\n",
    "    \"\"\"Create and analyze a simulation for the source\n",
    "    Returns the simulated, and fit light curves\n",
    "    \"\"\"\n",
    "\n",
    "    lc = get_lightcurve(config, source)\n",
    "    data_cells = get_cells(config, source)\n",
    "\n",
    "    #  Get the rate from the data\n",
    "    cq = data_cells.query('e>0.3')\n",
    "    T, N = np.sum(cq.tw), np.sum(cq.n)\n",
    "    sflux=lambda t: N/T\n",
    "\n",
    "    # simulate, then fit cells to create a simulated light curve \n",
    "    sim_cells = simulate_cells(config, source, source_flux=sflux  )\n",
    "    sim_lc  = fit_cells(config, sim_cells) \n",
    "\n",
    "    sim_edges = get_bb_partition(config, sim_lc,  key=bb_key) #'simulated_BB_partition_Geminga') \n",
    "\n",
    "    # partion, then fit the cells according to the edges\n",
    "    sim_bb_cells = partition_cells(config, sim_cells, sim_edges);\n",
    "    sim_bb_fit  = fit_cells(config, sim_bb_cells, )\n",
    "    return sim_lc, sim_bb_fit\n",
    "\n",
    "\n",
    "    \n",
    "class WeightedSource(PointSource):\n",
    "    \"\"\"\n",
    "    \"\"\"\n",
    "    def __init__(self, config, sname):\n",
    "        self.config=config\n",
    "        \n",
    "        fname = sname.replace(' ', '_').replace('+', 'p')\n",
    "        wff = config.files.weights\n",
    "        wfiles =list(wff.glob(f'{fname}_weights.pkl'))\n",
    "        if len(wfiles)!=1:\n",
    "            raise Exception(f'Weights for source {sname} not found.')\n",
    "        with open(wfiles[0], 'rb') as file:\n",
    "            self.weights =w = pickle.load(file, encoding='latin1')\n",
    "        super().__init__(sname, w['source_lb'] )\n",
    "        \n",
    "    def analyze(self):\n",
    "        lc, bb_lc = self.lt_curves = analyze_data(self.config, self)\n",
    "        bb_overplot(self.config, *self.lt_curves , yscale='log', title=self.name);\n",
    "        bb_lc.loc[:,'TS'] = (bb_lc.fit.apply(lambda fit: fit.ts)).round()\n",
    "        return bb_lc\n",
    "        \n"
   ]
  },
  {
   "cell_type": "code",
   "execution_count": null,
   "id": "distinct-incentive",
   "metadata": {},
   "outputs": [
    {
     "name": "stdout",
     "output_type": "stream",
     "text": [
      "Converted B1259.ipynb.\n",
      "Converted geminga.ipynb.\n",
      "Converted index.ipynb.\n",
      "Converted kerr_comparison.ipynb.\n",
      "Converted tools.ipynb.\n",
      "Tue Apr 20 13:52:50 PDT 2021\n"
     ]
    }
   ],
   "source": [
    "%nbdev_hide\n",
    "from nbdev.export import notebook2script\n",
    "notebook2script()\n",
    "!date"
   ]
  },
  {
   "cell_type": "code",
   "execution_count": null,
   "id": "returning-gallery",
   "metadata": {},
   "outputs": [],
   "source": []
  }
 ],
 "metadata": {
  "kernelspec": {
   "display_name": "Python 3",
   "language": "python",
   "name": "python3"
  }
 },
 "nbformat": 4,
 "nbformat_minor": 5
}
