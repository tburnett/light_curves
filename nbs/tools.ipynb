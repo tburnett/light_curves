{
 "cells": [
  {
   "cell_type": "code",
   "execution_count": null,
   "id": "packed-reunion",
   "metadata": {},
   "outputs": [
    {
     "name": "stdout",
     "output_type": "stream",
     "text": [
      "Cells will be exported to light_curves.tools,\n",
      "unless a different module is specified after an export flag: `%nbdev_export special.module`\n",
      "Sat Feb 27 10:57:21 PST 2021\n"
     ]
    }
   ],
   "source": [
    "from nbdev import *\n",
    "%nbdev_default_export tools\n",
    "from utilities.ipynb_docgen import *\n",
    "\n",
    "!date"
   ]
  },
  {
   "cell_type": "markdown",
   "id": "impossible-surge",
   "metadata": {},
   "source": [
    "# Light curve tools\n",
    "> Useful function interface to wtlike "
   ]
  },
  {
   "cell_type": "code",
   "execution_count": null,
   "id": "tutorial-state",
   "metadata": {},
   "outputs": [],
   "source": [
    "%nbdev_export\n",
    "import pickle\n",
    "import numpy as np\n",
    "import matplotlib.pyplot as plt\n",
    "from wtlike.config import *\n",
    "from wtlike.bayesian import *\n",
    "from wtlike.simulation import *\n",
    "from wtlike.lightcurve import *\n",
    "from wtlike.loglike import *\n",
    "from wtlike.cells import *\n",
    "\n",
    "def analyze_data(config, source):\n",
    "    \"\"\"\n",
    "    Analyze data from the source\n",
    "    \n",
    "    Returns data and partitioned light curves\n",
    "    \"\"\"\n",
    "    lc = get_lightcurve(config, source)\n",
    "    cells = get_cells(config, source)\n",
    "    edges = get_bb_partition(config, lc, LikelihoodFitness, key=f'BB-{source.name}') \n",
    "    bb_cells = partition_cells(config, cells, edges);\n",
    "    bb_lc  = fit_cells(config, bb_cells, )\n",
    "    bb_lc.loc[:,'TS'] = (bb_lc.fit.apply(lambda fit: fit.ts))\n",
    "    return lc, bb_lc\n",
    "\n",
    "def all_data_likelihood(config, source):\n",
    "    \"\"\"\n",
    "    Return likekihood for full dataset\n",
    "    \"\"\"\n",
    "    cells = get_cells(config, source)\n",
    "    return LogLike(concatenate_cells(cells))\n",
    "    # fig1, ax1 = plt.subplots(num=1, figsize=(3,2))\n",
    "    # ll.plot(xlim =( 0.5, 1.5), ax=ax1)\n",
    "    \n",
    "def fit_table(lc, expect=1.0):\n",
    "    \"\"\"Generate a summary table from a light curve\"\"\"\n",
    "    fits = lc.fit\n",
    "    flux = fits.apply(lambda f: f.flux)\n",
    "    errors = fits.apply(lambda f: (round(f.errors[0]-f.flux,3), round(f.errors[1]-f.flux ,3) ) )\n",
    "    sigma_dev = fits.apply(lambda f: round(f.poiss.sigma_dev(expect),1) )\n",
    "    df = lc['t tw n'.split()].copy() # maybe fix warnings?\n",
    "    df.loc[:,'flux'] = flux.values.round(4)\n",
    "    df.loc[:, 'errors'] = errors.values\n",
    "    df.loc[:, 'sigma_dev'] = sigma_dev.values\n",
    "    df.loc[:, 'limit'] =  fits.apply(lambda f: f.limit)\n",
    "    return df\n",
    "\n",
    "def simulation(config, source, bb_key=None):\n",
    "    \"\"\"Create and analyze a simulation for the source\n",
    "    Returns the simulated, and fit light curves\n",
    "    \"\"\"\n",
    "\n",
    "    lc = get_lightcurve(config, source)\n",
    "    data_cells = get_cells(config, source)\n",
    "\n",
    "    #  Get the rate from the data\n",
    "    cq = data_cells.query('e>0.3')\n",
    "    T, N = np.sum(cq.tw), np.sum(cq.n)\n",
    "    sflux=lambda t: N/T\n",
    "\n",
    "    # simulate, then fit cells to create a simulated light curve \n",
    "    sim_cells = simulate_cells(config, source, source_flux=sflux  )\n",
    "    sim_lc  = fit_cells(config, sim_cells) \n",
    "\n",
    "    sim_edges = get_bb_partition(config, sim_lc,  key=bb_key) #'simulated_BB_partition_Geminga') \n",
    "\n",
    "    # partion, then fit the cells according to the edges\n",
    "    sim_bb_cells = partition_cells(config, sim_cells, sim_edges);\n",
    "    sim_bb_fit  = fit_cells(config, sim_bb_cells, )\n",
    "    return sim_lc, sim_bb_fit\n",
    "\n",
    "def bb_overplot(config, lc, bb_fit, ax=None,  **kwargs):\n",
    "    fig, ax = plt.subplots(1,1, figsize=(12,4)) if not ax else (ax.figure, ax)\n",
    "    flux_plot(config, lc, ax=ax, colors=(('lightblue', 'sandybrown', 'blue')),**kwargs)\n",
    "    flux_plot(config, bb_fit, ax=ax, step=True, **kwargs)\n",
    "    \n",
    "class WeightedSource(PointSource):\n",
    "    \"\"\"\n",
    "    \"\"\"\n",
    "    def __init__(self, config, sname):\n",
    "        self.config=config\n",
    "        \n",
    "        fname = sname.replace(' ', '_').replace('+', 'p')\n",
    "        wff = config.files.weights\n",
    "        wfiles =list(wff.glob(f'{fname}_weights.pkl'))\n",
    "        if len(wfiles)!=1:\n",
    "            raise Exception(f'Weights for source {sname} not found.')\n",
    "        with open(wfiles[0], 'rb') as file:\n",
    "            self.weights =w = pickle.load(file, encoding='latin1')\n",
    "        super().__init__(sname, w['source_lb'] )\n",
    "        \n",
    "    def analyze(self):\n",
    "        lc, bb_lc = self.lt_curves = analyze_data(self.config, self)\n",
    "        bb_overplot(self.config, *self.lt_curves , yscale='log', title=self.name);\n",
    "        bb_lc.loc[:,'TS'] = (bb_lc.fit.apply(lambda fit: fit.ts)).round()\n",
    "        return bb_lc\n",
    "        "
   ]
  },
  {
   "cell_type": "code",
   "execution_count": null,
   "id": "novel-departure",
   "metadata": {},
   "outputs": [
    {
     "name": "stdout",
     "output_type": "stream",
     "text": [
      "Converted B1259.ipynb.\n",
      "Converted geminga.ipynb.\n",
      "Converted index.ipynb.\n",
      "Converted kerr_comparison.ipynb.\n",
      "Converted tools.ipynb.\n",
      "Fri Feb 26 17:29:41 PST 2021\n"
     ]
    }
   ],
   "source": [
    "%nbdev_hide\n",
    "from nbdev.export import notebook2script\n",
    "notebook2script()\n",
    "!date"
   ]
  },
  {
   "cell_type": "code",
   "execution_count": null,
   "id": "informative-cable",
   "metadata": {},
   "outputs": [],
   "source": []
  }
 ],
 "metadata": {
  "kernelspec": {
   "display_name": "Python 3",
   "language": "python",
   "name": "python3"
  }
 },
 "nbformat": 4,
 "nbformat_minor": 5
}
