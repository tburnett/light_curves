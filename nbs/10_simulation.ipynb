{
 "cells": [
  {
   "cell_type": "code",
   "execution_count": null,
   "metadata": {},
   "outputs": [],
   "source": [
    "# default_exp simulation\n",
    "%load_ext autoreload\n",
    "%autoreload 2"
   ]
  },
  {
   "cell_type": "markdown",
   "metadata": {},
   "source": [
    "# Simulation\n",
    "> Generate simulated cells using the weighted likelihood"
   ]
  },
  {
   "cell_type": "markdown",
   "metadata": {},
   "source": [
    "Implemented here:\n",
    "\n",
    "- `generate_lightcurve`\n"
   ]
  },
  {
   "cell_type": "code",
   "execution_count": null,
   "metadata": {},
   "outputs": [],
   "source": [
    "#hide\n",
    "from nbdev.showdoc import show_doc"
   ]
  },
  {
   "cell_type": "code",
   "execution_count": null,
   "metadata": {},
   "outputs": [],
   "source": [
    "#export\n",
    "import os\n",
    "import numpy as np\n",
    "import pandas as pd\n",
    "import scipy\n",
    "from scipy.stats import poisson\n",
    "from light_curves.loglike import *"
   ]
  },
  {
   "cell_type": "code",
   "execution_count": null,
   "metadata": {},
   "outputs": [],
   "source": [
    "#export\n",
    "class Sampler():\n",
    "    \"\"\" Sample an arbitrary function or histogram\n",
    "    \n",
    "    - func -- the function, or a histogram\n",
    "    - a,b  -- limits (default 0,1)\n",
    "    - n    -- table size (ignored if a histogram)\n",
    "    \n",
    "    Note the property `mean` is the expected mean.\n",
    "    \"\"\"\n",
    "     \n",
    "    def __init__(self, func, limits=(0,1), n=100):\n",
    "\n",
    "        a,b = limits\n",
    "        self.x = np.linspace(a,b,n+1) # bin edges\n",
    "        dx = (b-a)/(n)/2\n",
    "\n",
    "        if not hasattr(func, '__len__'):\n",
    "            # evaluate at bin centers\n",
    "            y = [func(t-dx) for t in self.x]\n",
    "        else:\n",
    "            n = len(func) \n",
    "            self.x = np.linspace(a,b,n)\n",
    "            y = func\n",
    "        cy = np.cumsum(y)\n",
    "        d = cy[-1]-cy[0]\n",
    "        self.sy = (cy-cy[0])/d\n",
    "        \n",
    "        self.mean = np.sum( (self.x-dx) * y) / d\n",
    "\n",
    "    def _evaluate(self, r):\n",
    "        \"\"\"evaluate inverse integral. expect 0<r<1 \"\"\"\n",
    "        return np.interp(r, self.sy, self.x)\n",
    "    \n",
    "    def __call__(self, size):\n",
    "        \"\"\"Generate `size` values\n",
    "        \"\"\"\n",
    "        from scipy.stats import uniform\n",
    "        return self._evaluate(uniform.rvs(size=size))"
   ]
  },
  {
   "cell_type": "code",
   "execution_count": null,
   "metadata": {},
   "outputs": [],
   "source": [
    "s = Sampler(lambda x: x, (0,1))"
   ]
  },
  {
   "cell_type": "code",
   "execution_count": null,
   "metadata": {},
   "outputs": [
    {
     "data": {
      "text/markdown": [
       "<h2 id=\"Sampler\" class=\"doc_header\"><code>class</code> <code>Sampler</code><a href=\"\" class=\"source_link\" style=\"float:right\">[source]</a></h2>\n",
       "\n",
       "> <code>Sampler</code>(**`func`**, **`limits`**=*`(0, 1)`*, **`n`**=*`100`*)\n",
       "\n",
       "Sample an arbitrary function or histogram\n",
       "\n",
       "- func -- the function, or a histogram\n",
       "- a,b  -- limits (default 0,1)\n",
       "- n    -- table size (ignored if a histogram)\n",
       "\n",
       "Note the property `mean` is the expected mean."
      ],
      "text/plain": [
       "<IPython.core.display.Markdown object>"
      ]
     },
     "metadata": {},
     "output_type": "display_data"
    },
    {
     "data": {
      "text/markdown": [
       "<h4 id=\"Sampler.__call__\" class=\"doc_header\"><code>Sampler.__call__</code><a href=\"__main__.py#L35\" class=\"source_link\" style=\"float:right\">[source]</a></h4>\n",
       "\n",
       "> <code>Sampler.__call__</code>(**`size`**)\n",
       "\n",
       "Generate `size` values\n",
       "        "
      ],
      "text/plain": [
       "<IPython.core.display.Markdown object>"
      ]
     },
     "metadata": {},
     "output_type": "display_data"
    }
   ],
   "source": [
    "#hide\n",
    "show_doc(Sampler)\n",
    "show_doc(Sampler.__call__)"
   ]
  },
  {
   "cell_type": "markdown",
   "metadata": {},
   "source": [
    "###  Sampler tests:  Gaussian and quadratic functions\n"
   ]
  },
  {
   "cell_type": "code",
   "execution_count": null,
   "metadata": {},
   "outputs": [],
   "source": [
    "n = 20\n",
    "sf = Sampler(lambda x: np.exp(-(x**2)/2), limits=(-4, 4) )\n",
    "\n",
    "data = sf(10000)\n",
    "tests = np.array([np.abs(data.mean()), np.abs(data.std()-1) ])\n",
    "assert np.all(tests<5e-2 ), f'Failed Tests: mean {data.mean()}, std {data.std()}'\n",
    "\n",
    "func = lambda x: x**2\n",
    "wfun = Sampler(func)\n",
    "\n",
    "test2 = wfun.mean,  np.mean(wfun(1000))\n",
    "assert np.abs( test2[0]-test2[1] ) < 1e-1, f'Not almost equal: {test2}'"
   ]
  },
  {
   "cell_type": "code",
   "execution_count": null,
   "metadata": {},
   "outputs": [],
   "source": [
    "#export\n",
    "class WeightGenerator(Sampler):\n",
    "    \"\"\"Generate a set of weights\n",
    "    \n",
    "    - `func` -- nominal weight distribution function, evaluated on (0,1)\n",
    "    - `alpha, beta` -- (default 0,0). Values for $\\\\alpha$, $\\\\beta$.\n",
    "    \n",
    "    \"\"\"\n",
    "    def __init__(self, func, alpha=0, beta=0, n=100):\n",
    "        if alpha==0 and beta==0:\n",
    "            fprime = func\n",
    "        else:\n",
    "            # weight the function\n",
    "            fprime = lambda w: func(w) * ( 1 + alpha*w + beta*(1-w) )\n",
    "        super().__init__( fprime, limits=(0,1),  n=n)\n",
    "  "
   ]
  },
  {
   "cell_type": "code",
   "execution_count": null,
   "metadata": {},
   "outputs": [
    {
     "data": {
      "text/markdown": [
       "<h2 id=\"WeightGenerator\" class=\"doc_header\"><code>class</code> <code>WeightGenerator</code><a href=\"\" class=\"source_link\" style=\"float:right\">[source]</a></h2>\n",
       "\n",
       "> <code>WeightGenerator</code>(**`func`**, **`alpha`**=*`0`*, **`beta`**=*`0`*, **`n`**=*`100`*) :: [`Sampler`](/light_curves/simulation.html#Sampler)\n",
       "\n",
       "Generate a set of weights\n",
       "\n",
       "- `func` -- nominal weight distribution function, evaluated on (0,1)\n",
       "- `alpha, beta` -- (default 0,0). Values for $\\alpha$, $\\beta$."
      ],
      "text/plain": [
       "<IPython.core.display.Markdown object>"
      ]
     },
     "metadata": {},
     "output_type": "display_data"
    }
   ],
   "source": [
    "#hide\n",
    "show_doc(WeightGenerator)"
   ]
  },
  {
   "cell_type": "code",
   "execution_count": null,
   "metadata": {},
   "outputs": [],
   "source": [
    "      \n",
    "wg = WeightGenerator(func)\n",
    "test2 = wg.mean,  np.mean(wg(1000))\n",
    "assert np.abs( test2[0]-test2[1] ) < 1e-1, f'Not almost equal: {test2}'"
   ]
  },
  {
   "cell_type": "code",
   "execution_count": null,
   "metadata": {},
   "outputs": [],
   "source": [
    "#export\n",
    "def generate_cell(wfun, mu, alpha=0, beta=0):\n",
    "    \"\"\" Generate a cell\n",
    "\n",
    "    - `wfun` -- weight function, or histogram. \n",
    "        Defined on (0,1)\n",
    "    - `mu` -- number of expected weights, on average\n",
    "    - `alpha`, `beta`  -- default 0,0; values for $\\\\alpha$ and  $\\\\beta$ for this cell \n",
    "    \n",
    "    Returns a dict with:\n",
    "    - `n` -- actual generated number of weights, from Poisson \n",
    "    - `w` -- array of weights \n",
    "    - `S, B` -- expected values for $\\sum w$ and $\\sum(1-w)$, calulated from wfun\n",
    "    \"\"\"\n",
    "\n",
    "    wgen_nominal = WeightGenerator(wfun)\n",
    "    wgen_cell =wgen_nominal if alpha==0 and beta==0 else WeightGenerator(wfun, alpha, beta)\n",
    "    \n",
    "    # adjust expected number of events:\n",
    "    wbar = wgen_nominal.mean\n",
    "    mu_cell = mu * (1+alpha*wbar+beta*(1-wbar))\n",
    "   \n",
    "    # the weight array\n",
    "    n = poisson.rvs(mu_cell )    \n",
    "    w = wgen_cell(n)\n",
    "    \n",
    "    S = wgen_nominal.mean * mu\n",
    "    B = mu-S\n",
    "    \n",
    "    return dict(\n",
    "        n=n,\n",
    "        w=np.array(w, np.float32), #np.uint8),\n",
    "        S=S,\n",
    "        B=B,\n",
    "    )"
   ]
  },
  {
   "cell_type": "code",
   "execution_count": null,
   "metadata": {},
   "outputs": [
    {
     "data": {
      "text/markdown": [
       "<h4 id=\"generate_cell\" class=\"doc_header\"><code>generate_cell</code><a href=\"__main__.py#L2\" class=\"source_link\" style=\"float:right\">[source]</a></h4>\n",
       "\n",
       "> <code>generate_cell</code>(**`wfun`**, **`mu`**, **`alpha`**=*`0`*, **`beta`**=*`0`*)\n",
       "\n",
       "Generate a cell\n",
       "\n",
       "- `wfun` -- weight function, or histogram. \n",
       "    Defined on (0,1)\n",
       "- `mu` -- number of expected weights, on average\n",
       "- `alpha`, `beta`  -- default 0,0; values for $\\alpha$ and  $\\beta$ for this cell \n",
       "\n",
       "Returns a dict with:\n",
       "- `n` -- actual generated number of weights, from Poisson \n",
       "- `w` -- array of weights \n",
       "- `S, B` -- expected values for $\\sum w$ and $\\sum(1-w)$, calulated from wfun"
      ],
      "text/plain": [
       "<IPython.core.display.Markdown object>"
      ]
     },
     "metadata": {},
     "output_type": "display_data"
    }
   ],
   "source": [
    "show_doc(generate_cell)"
   ]
  },
  {
   "cell_type": "markdown",
   "metadata": {},
   "source": [
    "Test with a function peaked at both ends, generate equal signal and background"
   ]
  },
  {
   "cell_type": "code",
   "execution_count": null,
   "metadata": {},
   "outputs": [
    {
     "name": "stdout",
     "output_type": "stream",
     "text": [
      "Test with alpha=0.1, beta=None\n",
      "Generated cell info:\n",
      "light_curves.loglike.LogLike:  10435 weights, S 4998.5, B 5001.5\n",
      "1-D fit info:\n",
      "counts      10435.000\n",
      "flux            1.084\n",
      "sig_flux        0.016\n",
      "dtype: float64\n"
     ]
    }
   ],
   "source": [
    "#collapse_hide\n",
    "def test_gen(alpha, beta, mu=10000, tol=3, quiet=True):\n",
    "    wfun = lambda x: (x-0.5)**2\n",
    "    pd.set_option('display.precision', 3)\n",
    "    if not quiet: print(f'Test with alpha={alpha}, beta={beta}')\n",
    "    cell = generate_cell( wfun, mu,  alpha, 0 if beta is None else beta)\n",
    "    #\n",
    "    ll = LogLike(cell); \n",
    "    if not quiet: print(f'Generated cell info:\\n{ ll}')\n",
    "\n",
    "    fit = ll.fit_info(beta is None )\n",
    "    if not quiet: print(f'{2 if beta is not None else 1}-D fit info:\\n{pd.Series(fit)}')\n",
    "    t, sigt = fit['flux']-(1+alpha),  fit['sig_flux']\n",
    "    check_alpha = '' if  np.abs(t)<tol*sigt else f'alpha: abs({t:.3f}) > {tol} * {sigt:.3f}'\n",
    "\n",
    "    if beta is None:\n",
    "        assert not bool(check_alpha), f'Failed: {check_alpha} '\n",
    "    else:\n",
    "        t, sigt = fit['beta']-beta, fit['sig_beta']\n",
    "        check_beta ='' if np.abs(t)<tol*sigt else f'beta: abs({t:.3f}) > {tol} * {sigt:.3f}'\n",
    "\n",
    "        assert not ( bool(check_alpha)  or bool(check_beta)), f'{check_alpha}  {check_beta}'\n",
    "test_gen(0,None)\n",
    "test_gen(10,None)\n",
    "#test_gen(10, 0, tol=5, quiet=False)\n",
    "test_gen(0,2)\n",
    "test_gen(0.1, None, quiet=False)"
   ]
  },
  {
   "cell_type": "code",
   "execution_count": null,
   "metadata": {},
   "outputs": [],
   "source": [
    "#export\n",
    "def generate_lightcurve():\n",
    "    \"\"\"\n",
    "    Depends on\n",
    "    - time_bins\n",
    "    - exposure -- function of time that returns  \n",
    "    \"\"\"\n",
    "    "
   ]
  },
  {
   "cell_type": "markdown",
   "metadata": {},
   "source": [
    "## Generate a set of poisson-like fits to the likelihoods"
   ]
  },
  {
   "cell_type": "code",
   "execution_count": null,
   "metadata": {},
   "outputs": [],
   "source": [
    "#\n",
    "\n",
    "wfun = lambda x: (x-0.5)**2\n",
    "mu = 100\n",
    "alpha = 0.1\n",
    "N = 10000\n",
    "def generate_cells(wfun, mu, alpha, N):\n",
    "    return  [generate_cell( wfun, mu ,alpha) for i in range(N)]\n",
    "cells =  generate_cells(wfun, mu, alpha, N)"
   ]
  },
  {
   "cell_type": "code",
   "execution_count": null,
   "metadata": {},
   "outputs": [],
   "source": [
    "pfits  = [PoissonRep(LogLike(cell )) for cell in cells]"
   ]
  },
  {
   "cell_type": "code",
   "execution_count": null,
   "metadata": {},
   "outputs": [
    {
     "name": "stdout",
     "output_type": "stream",
     "text": [
      "Flux: mean, std: 1.101, 0.165\n"
     ]
    }
   ],
   "source": [
    "flux = np.array([p.flux for p in pfits]); \n",
    "print(f'Flux: mean, std: {flux.mean():.3f}, {flux.std():.3f}')"
   ]
  },
  {
   "cell_type": "code",
   "execution_count": null,
   "metadata": {},
   "outputs": [
    {
     "name": "stdout",
     "output_type": "stream",
     "text": [
      " pulls: mean, std: -0.061, 1.015\n"
     ]
    }
   ],
   "source": [
    "fmean = 1+alpha\n",
    "def pull(p):\n",
    "    f, (l, h)  = p.flux, p.errors\n",
    "    s = (h-l)/2\n",
    "    return (f-fmean)/s\n",
    "pulls = np.array(list(map(pull, pfits)))\n",
    "print(f' pull: mean, std: {pulls.mean():.3f}, {pulls.std():.3f}')"
   ]
  },
  {
   "cell_type": "code",
   "execution_count": null,
   "metadata": {},
   "outputs": [
    {
     "data": {
      "image/png": "[encoded data removed]",
      "text/plain": [
       "<Figure size 288x216 with 1 Axes>"
      ]
     },
     "metadata": {
      "needs_background": "light"
     },
     "output_type": "display_data"
    }
   ],
   "source": [
    "#\n",
    "fig,ax = plt.subplots(figsize=(4,3))\n",
    "ax.hist(pull, np.linspace(-5, 5, 21), lw=2, histtype='step', log=True);\n",
    "ax.set(ylim=(0.8,None), xlabel='pull'); ax.grid(alpha=0.5)"
   ]
  },
  {
   "cell_type": "markdown",
   "metadata": {},
   "source": [
    "Compare observed std with means"
   ]
  },
  {
   "cell_type": "code",
   "execution_count": null,
   "metadata": {},
   "outputs": [],
   "source": [
    "uppers = np.array([p.errors[1]-p.flux for p in pfits])\n",
    "lowers = np.array([p.flux - p.errors[0] for p in pfits])"
   ]
  },
  {
   "cell_type": "code",
   "execution_count": null,
   "metadata": {},
   "outputs": [
    {
     "name": "stdout",
     "output_type": "stream",
     "text": [
      "mean errors: 0.165, STD: 0.166 \n"
     ]
    }
   ],
   "source": [
    "print(f'mean errors: {(np.mean(uppers)+ np.mean(lowers))/2:.3f}, STD: {flux.std():.3f} ')"
   ]
  },
  {
   "cell_type": "code",
   "execution_count": null,
   "metadata": {},
   "outputs": [
    {
     "data": {
      "text/plain": [
       "  1.330[1+0.131-0.142], < 1.67"
      ]
     },
     "execution_count": null,
     "metadata": {},
     "output_type": "execute_result"
    }
   ],
   "source": [
    "p = pfits[0]; p"
   ]
  },
  {
   "cell_type": "code",
   "execution_count": null,
   "metadata": {},
   "outputs": [],
   "source": [
    "#\n",
    "class CDF():\n",
    "    def __init__(self, alpha):\n",
    "        self.f = 1+alpha\n",
    "    def __call__(self, p):\n",
    "        return p.poiss.cdf(self.f)\n",
    "def cdf(p, fmean=1.1):\n",
    "    return p.poiss.cdf(fmean)"
   ]
  },
  {
   "cell_type": "code",
   "execution_count": null,
   "metadata": {},
   "outputs": [
    {
     "data": {
      "image/png": "[encoded data removed]",
      "text/plain": [
       "<Figure size 432x288 with 1 Axes>"
      ]
     },
     "metadata": {
      "needs_background": "light"
     },
     "output_type": "display_data"
    }
   ],
   "source": [
    "#\n",
    "cd = np.array(list(map(CDF(0.1), pfits)))\n",
    "plt.hist(cd, np.linspace(0,1,21), histtype='step', lw=2);"
   ]
  },
  {
   "cell_type": "code",
   "execution_count": null,
   "metadata": {},
   "outputs": [
    {
     "data": {
      "image/png": "[encoded data removed]",
      "text/plain": [
       "<Figure size 432x288 with 1 Axes>"
      ]
     },
     "metadata": {
      "needs_background": "light"
     },
     "output_type": "display_data"
    }
   ],
   "source": [
    "cd = np.array(list(map(CDF(0.11), pfits)))\n",
    "\n",
    "plt.hist(cd, np.linspace(0,1,21), histtype='step', lw=2);"
   ]
  },
  {
   "cell_type": "code",
   "execution_count": null,
   "metadata": {},
   "outputs": [
    {
     "data": {
      "image/png": "[encoded data removed]",
      "text/plain": [
       "<Figure size 432x288 with 1 Axes>"
      ]
     },
     "metadata": {
      "needs_background": "light"
     },
     "output_type": "display_data"
    }
   ],
   "source": [
    "cd = np.array(list(map(CDF(1.12), pfits)))\n",
    "plt.hist(cd, np.linspace(0,1,21), histtype='step', lw=2);"
   ]
  },
  {
   "cell_type": "code",
   "execution_count": null,
   "metadata": {},
   "outputs": [
    {
     "name": "stdout",
     "output_type": "stream",
     "text": [
      "Converted 00_config.ipynb.\n",
      "Converted 01_effective_area.ipynb.\n",
      "Converted 02_load_gti.ipynb.\n",
      "Converted 03_exposure.ipynb.\n",
      "Converted 04_photon_data.ipynb.\n",
      "Converted 05_weights.ipynb.\n",
      "Converted 07_cells.ipynb.\n",
      "Converted 08_poisson.ipynb.\n",
      "Converted 09_simulation.ipynb.\n",
      "Converted 10_loglike.ipynb.\n",
      "Converted 11_lightcurve.ipynb.\n",
      "Converted 12_roadmap.ipynb.\n",
      "Converted 13_kerr_comparison.ipynb.\n",
      "Converted 14_bayesian.ipynb.\n",
      "Converted index.ipynb.\n",
      "Sat Dec 19 04:47:45 PST 2020\n"
     ]
    }
   ],
   "source": [
    "#hide\n",
    "from nbdev.export import notebook2script\n",
    "notebook2script()\n",
    "!date"
   ]
  },
  {
   "cell_type": "code",
   "execution_count": null,
   "metadata": {},
   "outputs": [],
   "source": []
  }
 ],
 "metadata": {
  "kernelspec": {
   "display_name": "Python 3",
   "language": "python",
   "name": "python3"
  }
 },
 "nbformat": 4,
 "nbformat_minor": 4
}
