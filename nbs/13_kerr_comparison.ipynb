{
 "cells": [
  {
   "cell_type": "code",
   "execution_count": null,
   "metadata": {},
   "outputs": [],
   "source": [
    "#hide\n",
    "from nbdev import *\n",
    "from utilities import nbdoc"
   ]
  },
  {
   "cell_type": "markdown",
   "metadata": {},
   "source": [
    "# Kerr Comparison\n",
    "\n",
    "> A few plots to compare with M. Kerr's results"
   ]
  },
  {
   "cell_type": "code",
   "execution_count": null,
   "metadata": {},
   "outputs": [
    {
     "data": {
      "text/markdown": [
       "### Plots to compare with Kerr\n",
       "    \n",
       "This package implements a weighted likelihood analysis presented\n",
       "in a [paper](https://arxiv.org/pdf/1910.00140.pdf) by Matthew Kerr, \n",
       "\n",
       "Here I generate plots for two of the sources that he examined,\n",
       "and compare with figures from that paper.\n",
       "\n",
       "- A bright pulsar, Geminga:\n",
       "<details class=\"descripton\" ><summary data-open=\"Hide \" data-close=\"Show \"> printout from this analysis </summary> <p style=\"margin-left: 5%\"><pre>Restoring the light curve from /tmp/light_curves/Geminga_lightcurve.pkl <br></pre></p> </details>    \n",
       "<div class=\"jupydoc_fig\"><a href=\"images/kerr_check_fig_01.png\"<figure>   <img src=\"images/kerr_check_fig_01.png\" alt=\"Figure 1 at images/kerr_check_fig_01.png\" width=500>  <figcaption><b>Figure 1</b>. Geminga</figcaption></figure></a></div>\n",
       "    \n",
       "This is to be compared with Kerr's Figure 1:    \n",
       "<div class=\"jupydoc_fig\"> <a href=\"images/kerr_fig1.png\">  <figure>    <img src=\"images/kerr_fig1.png\"  width=500       alt=\"Image kerr_fig1.png at images/kerr_fig1.png\">\n",
       "  <figcaption></figcaption></figure></a></div>\n",
       "\n",
       "\n",
       "    \n",
       "- A flaring AGN, 3C 279\n",
       "<details class=\"descripton\" ><summary data-open=\"Hide \" data-close=\"Show \"> printout from this analysis </summary> <p style=\"margin-left: 5%\"><pre>Restoring the light curve from /tmp/light_curves/3C_279_lightcurve.pkl <br></pre></p> </details>\n",
       "<div class=\"jupydoc_fig\"><a href=\"images/kerr_check_fig_02.png\"<figure>   <img src=\"images/kerr_check_fig_02.png\" alt=\"Figure 2 at images/kerr_check_fig_02.png\" width=500>  <figcaption><b>Figure 2</b>. 3C 279</figcaption></figure></a></div>\n",
       "\n",
       "\n",
       "This corresponds to the upper central panel in Kerr's Figure 2.\n",
       "<div class=\"jupydoc_fig\"> <a href=\"images/kerr_fig2.png\">  <figure>    <img src=\"images/kerr_fig2.png\"  width=500       alt=\"Image kerr_fig2.png at images/kerr_fig2.png\">\n",
       "  <figcaption></figcaption></figure></a></div>\n",
       "\n"
      ],
      "text/plain": [
       "<utilities.ipynb_docgen.doc_formatter.<locals>.MimeBundleObject at 0x7f60dabce650>"
      ]
     },
     "metadata": {},
     "output_type": "display_data"
    }
   ],
   "source": [
    "#collapse_hide\n",
    "\n",
    "def kerr_check():\n",
    "    \"\"\"\n",
    "    ### Plots to compare with Kerr\n",
    "        \n",
    "    This package implements a weighted likelihood analysis presented\n",
    "    in a [paper](https://arxiv.org/pdf/1910.00140.pdf) by Matthew Kerr, \n",
    "\n",
    "    Here I generate plots for two of the sources that he examined,\n",
    "    and compare with figures from that paper.\n",
    " \n",
    "    - A bright pulsar, {source1.name}:\n",
    "    {print_out1}    \n",
    "    {fig1}    \n",
    "    This is to be compared with Kerr's Figure 1:    \n",
    "    {kerr_fig1}\n",
    "    \n",
    "        \n",
    "    - A flaring AGN, {source2.name}\n",
    "    {print_out2}\n",
    "    {fig2}\n",
    "    \n",
    "    This corresponds to the upper central panel in Kerr's Figure 2.\n",
    "    {kerr_fig2}\n",
    "   \n",
    "    \"\"\"\n",
    "    from light_curves.config import Config, Files, PointSource\n",
    "    from light_curves.lightcurve import get_lightcurve, flux_plot\n",
    "    \n",
    "    config = Config()\n",
    "    files = Files()\n",
    "    assert files.valid\n",
    "    #files.clear_cache()\n",
    "    plt.rc('font', size=16)\n",
    "    kerr_fig1 = image('kerr_fig1.png', width=500)\n",
    "    kerr_fig2 = image('kerr_fig2.png', width=500)\n",
    "    \n",
    "    with capture_print(summary='printout from this analysis') as print_out1:\n",
    "        source1 = PointSource('Geminga')\n",
    "        lc1 = get_lightcurve(config, files, source1)\n",
    "        fig1 = flux_plot(config, lc1, fignum=1, colors=('cornflowerblue', 'orange'))\n",
    "        fig1.caption=f'{source1.name}'\n",
    "        fig1.width=500\n",
    "\n",
    "    with capture_print(summary='printout from this analysis') as print_out2:\n",
    "        source2 = PointSource('3C 279')\n",
    "        lc2 = get_lightcurve(config, files, source2)\n",
    "        fig2 = flux_plot(config, lc2, fignum=2, figsize=(10,5), yscale='log' , \n",
    "                         colors=('cornflowerblue','orange'), fmt='o', \n",
    "                         xlim=(54750, 54750+700),   ylim=(0.05,10))\n",
    "        fig2.caption=f'{source2.name}'\n",
    "        fig2.width=500\n",
    "\n",
    "\n",
    "from light_curves.config import Files\n",
    "if Files().valid:\n",
    "    nbdoc(kerr_check)"
   ]
  },
  {
   "cell_type": "code",
   "execution_count": null,
   "metadata": {},
   "outputs": [],
   "source": []
  }
 ],
 "metadata": {
  "kernelspec": {
   "display_name": "Python 3",
   "language": "python",
   "name": "python3"
  }
 },
 "nbformat": 4,
 "nbformat_minor": 4
}
