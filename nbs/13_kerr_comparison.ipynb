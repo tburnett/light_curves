{
 "cells": [
  {
   "cell_type": "code",
   "execution_count": null,
   "metadata": {},
   "outputs": [],
   "source": [
    "#hide\n",
    "from nbdev import *\n",
    "from utilities.ipynb_docgen import *"
   ]
  },
  {
   "cell_type": "markdown",
   "metadata": {},
   "source": [
    "# Kerr Comparison\n",
    "\n",
    "> A few plots to compare with M. Kerr's results"
   ]
  },
  {
   "cell_type": "code",
   "execution_count": null,
   "metadata": {},
   "outputs": [
    {
     "data": {
      "text/markdown": [
       "### Plots to compare with Kerr\n",
       "    \n",
       "This package implements a weighted likelihood analysis presented\n",
       "in a [paper](https://arxiv.org/pdf/1910.00140.pdf) by Matthew Kerr. \n",
       "\n",
       "Here I generate plots for two of the sources that he examined,\n",
       "and compare with figures from that paper.\n",
       "\n",
       "#### A bright pulsar, Geminga:\n",
       "<details class=\"descripton\" ><summary data-open=\"Hide \" data-close=\"Show \"> printout from this analysis </summary> <p style=\"margin-left: 5%\"><pre>restoring photon data from /tmp/light_curves/Geminga_photons.pkl <br>\tSelected 1313726 photons within 5 deg of  (195.13,4.27)<br>\tEnergies: 100.0-1000000 MeV<br>\tDates:    2008-08-04 15:46 - 2019-08-03 01:17<br>\tMJD  :    54682.7          - 58698.1         <br>Load weights from file /mnt/c/users/thbur/OneDrive/fermi/weight_files/Geminga_weights.pkl<br>\tFound: PSR J0633+1746 at (195.14, 4.27)<br>\tApplyng weights: 240 / 1313726 photon pixels are outside weight region<br>\t233109 weights set to NaN<br>restoring exposure from /tmp/light_curves/Geminga_exposure.pkl 2695715 entries, MJD 54683 - 58698<br>Time bins: 4015 intervals of 1 days, in range (54683.0, 58698.0)<br>Loaded 3873 / 4015 cells with exposure > 0.3 for light curve analysis<br>Fitting likelihoods with poisson representation<br>Saving the light curve at /tmp/light_curves/Geminga_lightcurve.pkl <br></pre></p> </details>    \n",
       "<div class=\"nbdoc_image\">\n",
       "<a href=\"images/kerr_check_fig_03.png\"><figure>\n",
       "   <img src=\"images/kerr_check_fig_03.png\" alt=\"Figure 3 at images/kerr_check_fig_03.png\" width=500>  <figcaption><b>Figure 3</b>. Geminga</figcaption>\n",
       "</figure></a></div>\n",
       "    \n",
       "This is to be compared with Kerr's Figure 1:    \n",
       "<div class=\"nbdoc_image\">\n",
       "<a href=\"images/kerr_check_fig_01.png\"><figure>\n",
       "   <img src=\"images/kerr_check_fig_01.png\" alt=\"Figure 1 at images/kerr_check_fig_01.png\" width=500>  <figcaption><b>Figure 1</b>. </figcaption>\n",
       "</figure></a></div>\n",
       "\n",
       "\n",
       "    \n",
       "#### A flaring AGN, 3C 279\n",
       "<details class=\"descripton\" ><summary data-open=\"Hide \" data-close=\"Show \"> printout from this analysis </summary> <p style=\"margin-left: 5%\"><pre>restoring photon data from /tmp/light_curves/3C_279_photons.pkl <br>\tSelected 215158 photons within 5 deg of  (305.10,57.06)<br>\tEnergies: 100.0-1000000 MeV<br>\tDates:    2008-08-04 15:52 - 2019-08-03 01:50<br>\tMJD  :    54682.7          - 58698.1         <br>Load weights from file /mnt/c/users/thbur/OneDrive/fermi/weight_files/3C_279_weights.pkl<br>\tFound: P88Y3243 at (305.10, 57.07)<br>\tApplyng weights: 2086 / 215158 photon pixels are outside weight region<br>\t67655 weights set to NaN<br>restoring exposure from /tmp/light_curves/3C_279_exposure.pkl 2438906 entries, MJD 54683 - 58698<br>Time bins: 4015 intervals of 1 days, in range (54683.0, 58698.0)<br>Loaded 3845 / 4015 cells with exposure > 0.3 for light curve analysis<br>Fitting likelihoods with poisson representation<br>Saving the light curve at /tmp/light_curves/3C_279_lightcurve.pkl <br></pre></p> </details>\n",
       "<div class=\"nbdoc_image\">\n",
       "<a href=\"images/kerr_check_fig_04.png\"><figure>\n",
       "   <img src=\"images/kerr_check_fig_04.png\" alt=\"Figure 4 at images/kerr_check_fig_04.png\" width=500>  <figcaption><b>Figure 4</b>. 3C 279</figcaption>\n",
       "</figure></a></div>\n",
       "\n",
       "\n",
       "This corresponds to the upper central panel in Kerr's Figure 2.\n",
       "<div class=\"nbdoc_image\">\n",
       "<a href=\"images/kerr_check_fig_02.png\"><figure>\n",
       "   <img src=\"images/kerr_check_fig_02.png\" alt=\"Figure 2 at images/kerr_check_fig_02.png\" width=500>  <figcaption><b>Figure 2</b>. </figcaption>\n",
       "</figure></a></div>\n",
       "\n"
      ],
      "text/plain": [
       "<utilities.ipynb_docgen.doc_formatter.<locals>.MimeBundleObject at 0x7ff395eb8910>"
      ]
     },
     "metadata": {},
     "output_type": "display_data"
    }
   ],
   "source": [
    "#collapse_hide\n",
    "\n",
    "def kerr_check():\n",
    "    \"\"\"\n",
    "    ### Plots to compare with Kerr\n",
    "        \n",
    "    This package implements a weighted likelihood analysis presented\n",
    "    in a [paper](https://arxiv.org/pdf/1910.00140.pdf) by Matthew Kerr. \n",
    "\n",
    "    Here I generate plots for two of the sources that he examined,\n",
    "    and compare with figures from that paper.\n",
    " \n",
    "    #### A bright pulsar, {source1.name}:\n",
    "    {print_out1}    \n",
    "    {fig1}    \n",
    "    This is to be compared with Kerr's Figure 1:    \n",
    "    {kerr_fig1}\n",
    "    \n",
    "        \n",
    "    #### A flaring AGN, {source2.name}\n",
    "    {print_out2}\n",
    "    {fig2}\n",
    "    \n",
    "    This corresponds to the upper central panel in Kerr's Figure 2.\n",
    "    {kerr_fig2}\n",
    "   \n",
    "    \"\"\"\n",
    "    from light_curves.config import Config, Files, PointSource\n",
    "    from light_curves.lightcurve import get_lightcurve, flux_plot\n",
    "\n",
    "    \n",
    "    config = Config(use_cache=False)\n",
    "    files = Files()\n",
    "    assert files.valid\n",
    "    #files.clear_cache()\n",
    "    plt.rc('font', size=16)\n",
    "    kerr_fig1 = image('kerr_fig1.png', width=500)\n",
    "    kerr_fig2 = image('kerr_fig2.png', width=500)\n",
    "    \n",
    "    with capture_print(summary='printout from this analysis') as print_out1:\n",
    "        source1 = PointSource('Geminga')\n",
    "        lc1 = get_lightcurve(config, files, source1)\n",
    "        fig1 = flux_plot(config, lc1, fignum=1, colors=('cornflowerblue', 'orange'))\n",
    "        fig1.caption=f'{source1.name}'\n",
    "        fig1.width=500\n",
    "\n",
    "    with capture_print(summary='printout from this analysis') as print_out2:\n",
    "        source2 = PointSource('3C 279')\n",
    "        lc2 = get_lightcurve(config, files, source2)\n",
    "        fig2 = flux_plot(config, lc2, fignum=2, figsize=(10,5), yscale='log' , \n",
    "                         colors=('cornflowerblue','orange'), fmt='o', \n",
    "                         xlim=(54750, 54750+700),   ylim=(0.05,10))\n",
    "        fig2.caption=f'{source2.name}'\n",
    "        fig2.width=500\n",
    "    return locals()\n",
    "\n",
    "from light_curves.config import Files\n",
    "if Files().valid:\n",
    "    nbdoc(kerr_check)"
   ]
  },
  {
   "cell_type": "code",
   "execution_count": null,
   "metadata": {},
   "outputs": [],
   "source": []
  }
 ],
 "metadata": {
  "kernelspec": {
   "display_name": "Python 3",
   "language": "python",
   "name": "python3"
  }
 },
 "nbformat": 4,
 "nbformat_minor": 4
}
