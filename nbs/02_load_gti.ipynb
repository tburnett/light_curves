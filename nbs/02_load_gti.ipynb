{
 "cells": [
  {
   "cell_type": "code",
   "execution_count": null,
   "metadata": {},
   "outputs": [
    {
     "name": "stdout",
     "output_type": "stream",
     "text": [
      "The autoreload extension is already loaded. To reload it, use:\n",
      "  %reload_ext autoreload\n"
     ]
    }
   ],
   "source": [
    "# default_exp load_gti\n",
    "%load_ext autoreload\n",
    "%autoreload 2"
   ]
  },
  {
   "cell_type": "markdown",
   "metadata": {},
   "source": [
    "# GTI, or Good Time Interval\n",
    "\n",
    "> Process GTI information"
   ]
  },
  {
   "cell_type": "code",
   "execution_count": null,
   "metadata": {},
   "outputs": [],
   "source": [
    "#export\n",
    "from astropy.io import fits\n",
    "import numpy as np\n",
    "import pandas as pd\n",
    "\n",
    "from light_curves.config import MJD\n",
    "\n",
    "def get_gti(config, gti_files):\n",
    "    \"\"\"Combine the GTI intervals that fall within the gti range\n",
    "    Return a function that tests a list of times\n",
    "    \"\"\"\n",
    "    gti_files = list(gti_files.glob('*.fits'))\n",
    "    if config.verbose>1:\n",
    "        print(f'Processing {len(gti_files)} FITS files with GTI information ... ', end='')\n",
    "    starts=[]\n",
    "    stops=[]\n",
    "    for i, ft1 in enumerate(gti_files):\n",
    "        with fits.open(ft1) as hdu:\n",
    "            gti_data = hdu['GTI'].data\n",
    "            start = gti_data.START\n",
    "            if i>0:\n",
    "                assert start[0]>= stops[-1][-1], f'file {ft1} has start time not following preceding file'\n",
    "            starts.append(start)\n",
    "            stops.append( gti_data.STOP)\n",
    "    start = MJD(np.concatenate(starts))\n",
    "    stop  = MJD(np.concatenate(stops))\n",
    "\n",
    "    if config.verbose>1:\n",
    "        livetime = (stop-start).sum()\n",
    "        print( f' {len(gti_files)} files, {len(start)} intervals with'\\\n",
    "               f' {int(livetime):,} days live time')\n",
    "\n",
    "    sel = slice(None)\n",
    "    if config.mjd_range is not None:\n",
    "        a,b =  np.searchsorted(start, config.mjd_range)\n",
    "        if a>0 or b<len(start):\n",
    "            if config.verbose>1:\n",
    "                print(f'\\tcut from {len(start):,} to {a} - {b}, or {b-a:,} entries after MJD range selection')\n",
    "            sel = slice(a,b)\n",
    "\n",
    "\n",
    "    class GTI(object):\n",
    "        \"\"\" functor class that tests for being in the GTI range\n",
    "        \"\"\"\n",
    "        def __init__(config, start, stop):\n",
    "            # prepare single merged array with even, odd entries start and stop\n",
    "            a,b =start, stop\n",
    "            config.fraction = np.sum(b-a)/(b[-1]-a[0])\n",
    "            assert len(a)==len(b)\n",
    "            config.g = np.array([a,b]).T.flatten()\n",
    "            assert np.sum(np.diff(config.g)<0)==0, 'Bad GTI ordering'\n",
    "\n",
    "        def __call__(config, time):\n",
    "            # use digitize to find if in good/bad interval by odd/even\n",
    "            x = np.digitize(time, config.g)\n",
    "            return np.bitwise_and(x,1).astype(bool)\n",
    "\n",
    "        def __repr__(config):\n",
    "            return  f'{config.__class__.__name__} MJD range: {config.g[0]:.2f}-{config.g[-1]:.2f}'\\\n",
    "                    f', good fraction {config.fraction:.2f} '\n",
    "\n",
    "    gti =  GTI(start[sel],stop[sel])\n",
    "    if config.verbose>1:\n",
    "        print(f'\\t{gti}')\n",
    "    return gti"
   ]
  },
  {
   "cell_type": "code",
   "execution_count": null,
   "metadata": {},
   "outputs": [
    {
     "name": "stdout",
     "output_type": "stream",
     "text": [
      "Test with GTI files from /home/burnett/work/lat-data/binned\n",
      "Processing 11 FITS files with GTI information ...  11 files, 63635 intervals with 3,322 days live time\n",
      "\tcut from 63,635 to 0 - 4816, or 4,816 entries after MJD range selection\n",
      "\tGTI MJD range: 54682.66-55000.03, good fraction 0.82 \n"
     ]
    }
   ],
   "source": [
    "from light_curves.config import Config, Files\n",
    "config = Config(mjd_range=(54000,55000))\n",
    "gti_files = Files().gti\n",
    "if gti_files.exists():\n",
    "    print(f'Test with GTI files from {gti_files}')\n",
    "    gti_list = get_gti(config, gti_files)\n",
    "else:\n",
    "    print('No files, so no test')"
   ]
  },
  {
   "cell_type": "code",
   "execution_count": null,
   "metadata": {},
   "outputs": [
    {
     "name": "stdout",
     "output_type": "stream",
     "text": [
      "Converted 00_config.ipynb.\n",
      "Converted 01_effective_area.ipynb.\n",
      "Converted 02_load_gti.ipynb.\n",
      "Converted 03_exposure.ipynb.\n",
      "Converted 04_photon_data.ipynb.\n",
      "Converted 05_weights.ipynb.\n",
      "Converted 07_cells.ipynb.\n",
      "Converted 09_poisson.ipynb.\n",
      "Converted 10_loglike.ipynb.\n",
      "Converted 11_lightcurve.ipynb.\n",
      "Converted index.ipynb.\n",
      "Mon Dec  7 08:17:50 PST 2020\n"
     ]
    }
   ],
   "source": [
    "#hide\n",
    "from nbdev.export import notebook2script\n",
    "notebook2script()\n",
    "!date"
   ]
  }
 ],
 "metadata": {
  "kernelspec": {
   "display_name": "Python 3",
   "language": "python",
   "name": "python3"
  }
 },
 "nbformat": 4,
 "nbformat_minor": 4
}
