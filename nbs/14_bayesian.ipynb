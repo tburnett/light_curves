{
 "cells": [
  {
   "cell_type": "code",
   "execution_count": null,
   "metadata": {},
   "outputs": [],
   "source": [
    "# default_exp bayesian\n",
    "%load_ext autoreload\n",
    "%autoreload 2\n",
    "from nbdev import *\n",
    "from utilities.ipynb_docgen import *"
   ]
  },
  {
   "cell_type": "markdown",
   "metadata": {},
   "source": [
    "# Bayesian Blocks\n",
    "\n",
    "> Partition a light curve with the Bayesian Block algorithm"
   ]
  },
  {
   "cell_type": "markdown",
   "metadata": {},
   "source": [
    "The algorithm depends on a 'fitness' function of the light curve, an evaluation of the \n",
    "likelihoods for a set of sequential cells. There are two such, using the number of counts, and the Kerr likelihood.\n",
    "\n",
    "- `CountFitness`\n",
    "- `LikelihoodFitness`\n",
    "\n",
    "See the [Bayesian Block reference](https://arxiv.org/pdf/1207.5578.pdf)"
   ]
  },
  {
   "cell_type": "code",
   "execution_count": null,
   "metadata": {},
   "outputs": [],
   "source": [
    "#export\n",
    "import os\n",
    "import numpy as np\n",
    "import pandas as pd\n",
    "from astropy.stats.bayesian_blocks import FitnessFunc\n",
    "from light_curves.lightcurve import get_lightcurve, flux_plot\n"
   ]
  },
  {
   "cell_type": "code",
   "execution_count": null,
   "metadata": {},
   "outputs": [
    {
     "data": {
      "text/markdown": [
       "## Generate data sets for an AGN and a pulsar\n",
       "<details class=\"descripton\" ><summary data-open=\"Hide \" data-close=\"Show \"> printout </summary> <p style=\"margin-left: 5%\"><pre>using cache with key \"lightcurve_Geminga\", exists: True<br>using cache with key \"lightcurve_3C 279\", exists: True<br></pre></p> </details>\n",
       "\n",
       "Choose the time interval,  to bracket a modest flare of the AGN.\n",
       " \n",
       "<table>\n",
       "<tr> <td>Pulsar</td><td>AGN</td></tr>\n",
       "<tr>\n",
       "<td><div class=\"nbdoc_image\">\n",
       "<a href=\"images/data_setup_fig_02.png\"><figure>\n",
       "   <img src=\"images/data_setup_fig_02.png\" alt=\"Figure 2 at images/data_setup_fig_02.png\" width=400> \n",
       "</figure></a></div>\n",
       "</td> <td><div class=\"nbdoc_image\">\n",
       "<a href=\"images/data_setup_fig_03.png\"><figure>\n",
       "   <img src=\"images/data_setup_fig_03.png\" alt=\"Figure 3 at images/data_setup_fig_03.png\" width=400> \n",
       "</figure></a></div>\n",
       "</td>\n",
       "</tr>\n",
       "</table>\n"
      ],
      "text/plain": [
       "<utilities.ipynb_docgen.doc_formatter.<locals>.MimeBundleObject at 0x7fa356b26550>"
      ]
     },
     "metadata": {},
     "output_type": "display_data"
    }
   ],
   "source": [
    "#collapse_hide\n",
    "from light_curves.config import Config, Files, PointSource, Cache\n",
    "\n",
    "lcs ={}\n",
    "def data_setup(lcs = lcs, mjd_query='54750<t<54855', names=['Geminga','3C 279']):\n",
    "    \"\"\"\n",
    "    ## Generate data sets for an AGN and a pulsar\n",
    "    {printout}\n",
    "    \n",
    "    Choose the time interval, {mjd_query} to bracket a modest flare of the AGN.\n",
    "     \n",
    "    <table>\n",
    "    <tr> <td>Pulsar</td><td>AGN</td></tr>\n",
    "    <tr>\n",
    "    <td>{fig1}</td> <td>{fig2}</td>\n",
    "    </tr>\n",
    "    </table>\n",
    "    \"\"\"\n",
    "    \n",
    "    from light_curves.config import Config, Files, PointSource\n",
    "    from light_curves.lightcurve import get_lightcurve, flux_plot\n",
    "    config = Config()\n",
    "    files = Files()\n",
    "    figs=[]\n",
    "    plt.rc('font', size=20)\n",
    "    with capture_print('printout') as printout:\n",
    "        for i,name in enumerate(names):\n",
    "            lcfull = get_lightcurve(config, files, PointSource(name))\n",
    "            if mjd_query: lcfull\n",
    "            lc = lcs[name] = lcfull.query(mjd_query) if mjd_query else lcfull\n",
    "            fig= flux_plot(config,lc, fignum=i, title=name)\n",
    "            figs.append(figure(fig, width=400))\n",
    "    fig1, fig2 = figs\n",
    "    mjd_query = mjd_query.replace('<', '&lt;')\n",
    "    return locals()\n",
    "\n",
    "if Files().valid:\n",
    "    nbdoc(data_setup, lcs, mjd_query='')"
   ]
  },
  {
   "cell_type": "code",
   "execution_count": null,
   "metadata": {},
   "outputs": [
    {
     "data": {
      "text/plain": [
       "{'photons_Geminga': Path('/tmp/lc_cache/cache_file_270870a16929d2.pkl'),\n",
       " 'exposure_Geminga': Path('/tmp/lc_cache/cache_file_52ab4b3386fa0447.pkl'),\n",
       " 'lightcurve_Geminga': Path('/tmp/lc_cache/cache_file_25033e18d005d04.pkl'),\n",
       " 'photons_3C 279': Path('/tmp/lc_cache/cache_file_d72f17a84dfd2e7.pkl'),\n",
       " 'exposure_3C 279': Path('/tmp/lc_cache/cache_file_8762d8153c1b249.pkl'),\n",
       " 'lightcurve_3C 279': Path('/tmp/lc_cache/cache_file_11d230d1c44af32.pkl')}"
      ]
     },
     "execution_count": null,
     "metadata": {},
     "output_type": "execute_result"
    }
   ],
   "source": [
    "from light_curves.config import Cache\n",
    "Cache('/tmp/lc_cache')"
   ]
  },
  {
   "cell_type": "code",
   "execution_count": null,
   "metadata": {},
   "outputs": [],
   "source": [
    "#export\n",
    "class CountFitness(FitnessFunc):\n",
    "    \"\"\"\n",
    "    Adapted version of a astropy.stats.bayesian_blocks.FitnessFunc\n",
    "    Considerably modified to give the `fitness function` access to the cell data.\n",
    "    Implements the Event model using exposure instead of time.\n",
    "\n",
    "    \"\"\"\n",
    "\n",
    "    def __init__(self, lc, p0=0.05,):\n",
    "        \"\"\"lc  : a LightCurve data table, with  exposure (e) and counts (n),\n",
    "            as well as a representation of the likelihood for each cell\n",
    "        \"\"\"\n",
    "        self.p0=p0\n",
    "        self.df= df= lc\n",
    "        N = self.N = len(df)\n",
    "        # Invoke empirical function from Scargle 2012\n",
    "        self.ncp_prior = self.p0_prior(N)\n",
    "\n",
    "        #actual times for bin edges\n",
    "        t = df.t.values\n",
    "        dt = df.tw.values/2\n",
    "        self.mjd = np.concatenate([t-dt, [t[-1]+dt[-1]] ] ) # put one at the end\n",
    "        self.name = self.__class__.__name__\n",
    "        self.setup()\n",
    "\n",
    "    def setup(self):\n",
    "        df = self.df\n",
    "\n",
    "        # counts per cell\n",
    "        self.nn = df.n.values\n",
    "        assert min(self.nn)>0, 'Attempt to Include a cell with no contents'\n",
    "\n",
    "        # edges and block_length use exposure as \"time\"\n",
    "        e = df.e.values\n",
    "        self.edges = np.concatenate([[0], np.cumsum(e)])\n",
    "        self.block_length = self.edges[-1] - self.edges\n",
    "\n",
    "    def __str__(self):\n",
    "        \n",
    "        return f'{self.name}: {self.N} cells, spanning {self.block_length[0]:.1f} days, prior={self.ncp_prior:.1f}'\n",
    "        \n",
    "    def __call__(self, R):\n",
    "        \"\"\" The fitness function needed for BB algorithm\n",
    "        For cells 0..R return array of length R+1 of the maximum log likelihoods for combined cells\n",
    "        0..R, 1..R, ... R\n",
    "        \"\"\"\n",
    "        # exposures and corresponding counts\n",
    "        w_k = self.block_length[:R + 1] - self.block_length[R + 1]\n",
    "        N_k = np.cumsum(self.nn[:R + 1][::-1])[::-1]\n",
    "\n",
    "        # Solving eq. 26 from Scargle 2012 for maximum $\\lambda$ gives\n",
    "        return N_k * (np.log(N_k) - np.log(w_k))\n",
    "\n",
    "    def fit(self):\n",
    "        \"\"\"Fit the Bayesian Blocks model given the specified fitness function.\n",
    "        Refactored version using code from bayesian_blocks.FitnesFunc.fit\n",
    "        Returns\n",
    "        -------\n",
    "        edges : ndarray\n",
    "            array containing the (M+1) edges, in MJD units, defining the M optimal bins\n",
    "        \"\"\"\n",
    "        # This is the basic Scargle algoritm, copied almost verbatum\n",
    "        # ---------------------------------------------------------------\n",
    "\n",
    "        # arrays to store the best configuration\n",
    "        N = self.N\n",
    "        best = np.zeros(N, dtype=float)\n",
    "        last = np.zeros(N, dtype=int)\n",
    "\n",
    "        # ----------------------------------------------------------------\n",
    "        # Start with first data cell; add one cell at each iteration\n",
    "        # ----------------------------------------------------------------\n",
    "        for R in range(N):\n",
    "\n",
    "            # evaluate fitness function\n",
    "            fit_vec = self(R)\n",
    "\n",
    "            A_R = fit_vec - self.ncp_prior\n",
    "            A_R[1:] += best[:R]\n",
    "\n",
    "            i_max = np.argmax(A_R)\n",
    "            last[R] = i_max\n",
    "            best[R] = A_R[i_max]\n",
    "\n",
    "        # ----------------------------------------------------------------\n",
    "        # Now find changepoints by iteratively peeling off the last block\n",
    "        # ----------------------------------------------------------------\n",
    "        change_points = np.zeros(N, dtype=int)\n",
    "        i_cp = N\n",
    "        ind = N\n",
    "        while True:\n",
    "            i_cp -= 1\n",
    "            change_points[i_cp] = ind\n",
    "            if ind == 0:\n",
    "                break\n",
    "            ind = last[ind - 1]\n",
    "        change_points = change_points[i_cp:]\n",
    "\n",
    "        return self.mjd[change_points]"
   ]
  },
  {
   "cell_type": "code",
   "execution_count": null,
   "metadata": {},
   "outputs": [],
   "source": [
    "#collapse_hide\n",
    "\n",
    "def doc_countfitness( fitness, light_curve_dict, source_name):\n",
    "    \"\"\"\n",
    "    ### {class_name} test with source {source_name}\n",
    "         \n",
    "    Create object: `bbfitter = {class_name}(lc)`\n",
    "    \n",
    "    Object description:   {bbfitter}\n",
    "    \n",
    "    Then `bbfitter({n})` returns the values\n",
    "        {values}\n",
    "   \n",
    "    Finally, the partition algorithm, 'bbfitter.fit()' returns {cffit}\n",
    "    \n",
    "    \"\"\"\n",
    "    \n",
    "    lc = light_curve_dict[source_name]\n",
    "    bbfitter = fitness(lc)\n",
    "    class_name = bbfitter.name\n",
    "    n = 10\n",
    "    values  = np.array(bbfitter(n)).round()    \n",
    "    cffit = bbfitter.fit()\n",
    "    \n",
    "    return locals()"
   ]
  },
  {
   "cell_type": "code",
   "execution_count": null,
   "metadata": {},
   "outputs": [
    {
     "data": {
      "text/markdown": [
       "### CountFitness test with source Geminga\n",
       "     \n",
       "Create object: `bbfitter = CountFitness(lc)`\n",
       "\n",
       "Object description:   CountFitness: 3873 cells, spanning 4006.1 days, prior=6.6\n",
       "\n",
       "Then `bbfitter(10)` returns the values\n",
       "    [20740. 18904. 16936. 15025. 12911. 11012.  9013.  7083.  5177.  3313.\n",
       "  1451.]\n",
       "\n",
       "Finally, the partition algorithm, 'bbfitter.fit()' returns [54683. 55371. 55384. 55732. 55757. 56102. 56113. 56117. 56129. 56468.\n",
       " 56506. 56530. 56650. 56659. 56727. 56734. 56931. 57014. 57022. 57197.\n",
       " 57198. 57675. 57690. 58239. 58333. 58638. 58697.]\n"
      ],
      "text/plain": [
       "<utilities.ipynb_docgen.doc_formatter.<locals>.MimeBundleObject at 0x7fa355c606d0>"
      ]
     },
     "metadata": {},
     "output_type": "display_data"
    },
    {
     "data": {
      "text/markdown": [
       "### CountFitness test with source 3C 279\n",
       "     \n",
       "Create object: `bbfitter = CountFitness(lc)`\n",
       "\n",
       "Object description:   CountFitness: 3845 cells, spanning 4008.0 days, prior=6.6\n",
       "\n",
       "Then `bbfitter(10)` returns the values\n",
       "    [756. 704. 657. 586. 459. 379. 321. 265. 223. 127.  54.]\n",
       "\n",
       "Finally, the partition algorithm, 'bbfitter.fit()' returns [54683. 54742. 54754. 54785. 54790. 54807. 54877. 54889. 54898. 55010.\n",
       " 55025. 55039. 55047. 55108. 55118. 55132. 55299. 55444. 55459. 55482.\n",
       " 55508. 55570. 55667. 55670. 55691. 55722. 55738. 55751. 55839. 55852.\n",
       " 56162. 56202. 56217. 56457. 56560. 56579. 56621. 56630. 56635. 56638.\n",
       " 56646. 56647. 56655. 56660. 56672. 56676. 56713. 56717. 56719. 56742.\n",
       " 56747. 56749. 56750. 56753. 56755. 56758. 56799. 56857. 56866. 56871.\n",
       " 56875. 56881. 56886. 56935. 56947. 56963. 56984. 56995. 57093. 57098.\n",
       " 57149. 57152. 57156. 57184. 57187. 57189. 57190. 57191. 57212. 57216.\n",
       " 57226. 57301. 57313. 57338. 57355. 57393. 57441. 57517. 57526. 57552.\n",
       " 57554. 57613. 57661. 57680. 57705. 57745. 57757. 57787. 57807. 57826.\n",
       " 57830. 57833. 57837. 57841. 57844. 57848. 57849. 57852. 57858. 57872.\n",
       " 57885. 57892. 57894. 57902. 57926. 57928. 57929. 57940. 57941. 57945.\n",
       " 57959. 57969. 57985. 57991. 58005. 58011. 58015. 58018. 58042. 58046.\n",
       " 58062. 58078. 58084. 58087. 58089. 58116. 58117. 58118. 58119. 58120.\n",
       " 58130. 58132. 58134. 58135. 58137. 58138. 58142. 58147. 58149. 58150.\n",
       " 58155. 58161. 58169. 58174. 58184. 58220. 58222. 58223. 58224. 58225.\n",
       " 58227. 58228. 58229. 58230. 58231. 58235. 58240. 58245. 58247. 58248.\n",
       " 58251. 58258. 58260. 58265. 58268. 58269. 58272. 58274. 58276. 58278.\n",
       " 58286. 58287. 58293. 58311. 58342. 58344. 58354. 58395. 58431. 58450.\n",
       " 58454. 58476. 58574. 58583. 58650. 58697.]\n"
      ],
      "text/plain": [
       "<utilities.ipynb_docgen.doc_formatter.<locals>.MimeBundleObject at 0x7fa355c38b90>"
      ]
     },
     "metadata": {},
     "output_type": "display_data"
    }
   ],
   "source": [
    "#hide\n",
    "from light_curves.config import Config, Files, PointSource\n",
    "from light_curves.lightcurve import get_lightcurve, flux_plot\n",
    "if Files().valid:\n",
    "    nbdoc(doc_countfitness, CountFitness, light_curve_dict = lcs, source_name='Geminga')\n",
    "    nbdoc(doc_countfitness, CountFitness, light_curve_dict = lcs, source_name='3C 279')\n",
    "     "
   ]
  },
  {
   "cell_type": "code",
   "execution_count": null,
   "metadata": {},
   "outputs": [],
   "source": [
    "#export\n",
    "class LikelihoodFitness(CountFitness):\n",
    "    \"\"\" Fitness function that uses the full likelihood\n",
    "    \"\"\"\n",
    "    \n",
    "    def __init__(self, lc,  p0=0.05, npt=25):\n",
    "        self.npt = npt\n",
    "        super().__init__(lc, p0)\n",
    "        \n",
    "    def setup(self):\n",
    "        df = self.df\n",
    "        N = self.N\n",
    "        \n",
    "        def liketable(prep):\n",
    "            return prep.create_table(self.npt)\n",
    "        \n",
    "        self.tables = df.fit.apply(liketable).values\n",
    "\n",
    "    def __str__(self):\n",
    "        return f'{self.__class__.__name__}: {self.N} cells,  prior={self.ncp_prior:.1f}'\n",
    "\n",
    "    def __call__(self, R):\n",
    "        \n",
    "        a, y  = self.tables[R]\n",
    "        x = np.linspace(*a)\n",
    "        y = np.zeros(self.npt)\n",
    "        rv = np.empty(R+1)\n",
    "        for i in range(R, -1, -1): \n",
    "            a, yi = self.tables[i]\n",
    "            xi = np.linspace(*a)\n",
    "            y += np.interp(x, xi, yi, left=-np.inf, right=-np.inf)\n",
    "            amax = np.argmax(y)\n",
    "            rv[i] =y[amax]\n",
    "        return rv    "
   ]
  },
  {
   "cell_type": "code",
   "execution_count": null,
   "metadata": {},
   "outputs": [
    {
     "data": {
      "text/markdown": [
       "### LikelihoodFitness test with source Geminga\n",
       "     \n",
       "Create object: `bbfitter = LikelihoodFitness(lc)`\n",
       "\n",
       "Object description:   LikelihoodFitness: 3873 cells,  prior=6.6\n",
       "\n",
       "Then `bbfitter(10)` returns the values\n",
       "    [-4. -3. -3. -2. -1. -1. -1. -1. -0. -0. -0.]\n",
       "\n",
       "Finally, the partition algorithm, 'bbfitter.fit()' returns [54683. 55371. 55385. 55736. 55760. 56466. 56506. 56519. 56828. 56931.\n",
       " 57014. 57021. 57197. 57198. 58248. 58300. 58637. 58697.]\n"
      ],
      "text/plain": [
       "<utilities.ipynb_docgen.doc_formatter.<locals>.MimeBundleObject at 0x7fa355c42350>"
      ]
     },
     "metadata": {},
     "output_type": "display_data"
    },
    {
     "data": {
      "text/markdown": [
       "### LikelihoodFitness test with source 3C 279\n",
       "     \n",
       "Create object: `bbfitter = LikelihoodFitness(lc)`\n",
       "\n",
       "Object description:   LikelihoodFitness: 3845 cells,  prior=6.6\n",
       "\n",
       "Then `bbfitter(10)` returns the values\n",
       "    [-7. -6. -5. -5. -4. -4. -2. -2. -1. -0. -0.]\n",
       "\n",
       "Finally, the partition algorithm, 'bbfitter.fit()' returns [54683. 54774. 54785. 54789. 54809. 54827. 54843. 54877. 54889. 54898.\n",
       " 54972. 54973. 55010. 55025. 55034. 55043. 55046. 55091. 55107. 55123.\n",
       " 55194. 55299. 55444. 55453. 55481. 55507. 55583. 55655. 55667. 55670.\n",
       " 55693. 55728. 55738. 55745. 55827. 55839. 55845. 55961. 56204. 56215.\n",
       " 56423. 56468. 56499. 56509. 56551. 56578. 56621. 56630. 56635. 56639.\n",
       " 56646. 56647. 56651. 56659. 56672. 56676. 56717. 56719. 56742. 56744.\n",
       " 56747. 56749. 56750. 56753. 56755. 56759. 56787. 56799. 56856. 56866.\n",
       " 56871. 56875. 56881. 56887. 56982. 56984. 56994. 57037. 57093. 57100.\n",
       " 57149. 57152. 57156. 57184. 57187. 57189. 57190. 57191. 57193. 57196.\n",
       " 57200. 57212. 57216. 57224. 57301. 57321. 57335. 57363. 57406. 57442.\n",
       " 57474. 57491. 57517. 57526. 57552. 57554. 57613. 57659. 57680. 57707.\n",
       " 57757. 57787. 57807. 57826. 57830. 57833. 57837. 57841. 57844. 57848.\n",
       " 57849. 57852. 57853. 57877. 57885. 57892. 57893. 57894. 57901. 57926.\n",
       " 57928. 57929. 57932. 57938. 57940. 57941. 57952. 57963. 57965. 57969.\n",
       " 57985. 57991. 58008. 58011. 58015. 58022. 58042. 58046. 58063. 58078.\n",
       " 58084. 58087. 58092. 58098. 58111. 58116. 58117. 58118. 58119. 58120.\n",
       " 58124. 58127. 58130. 58132. 58134. 58135. 58137. 58138. 58142. 58147.\n",
       " 58149. 58150. 58155. 58159. 58169. 58174. 58184. 58220. 58222. 58223.\n",
       " 58224. 58225. 58227. 58228. 58229. 58230. 58231. 58235. 58240. 58245.\n",
       " 58247. 58248. 58251. 58258. 58260. 58265. 58268. 58269. 58272. 58273.\n",
       " 58274. 58276. 58278. 58286. 58287. 58293. 58311. 58342. 58344. 58354.\n",
       " 58397. 58431. 58450. 58454. 58476. 58490. 58502. 58507. 58536. 58551.\n",
       " 58574. 58583. 58668. 58684. 58697.]\n"
      ],
      "text/plain": [
       "<utilities.ipynb_docgen.doc_formatter.<locals>.MimeBundleObject at 0x7fa355c11810>"
      ]
     },
     "metadata": {},
     "output_type": "display_data"
    }
   ],
   "source": [
    "if Files().valid:\n",
    "    nbdoc(doc_countfitness, LikelihoodFitness, light_curve_dict = lcs, source_name='Geminga')\n",
    "    nbdoc(doc_countfitness, LikelihoodFitness, light_curve_dict = lcs, source_name='3C 279')\n",
    "     "
   ]
  },
  {
   "cell_type": "code",
   "execution_count": null,
   "metadata": {},
   "outputs": [],
   "source": [
    "\n",
    "def binned_weights(self, bins=None, contiguous=False):\n",
    "    \"\"\" \n",
    "    Parameter:\n",
    "        bins : None | float | array\n",
    "            if None, use defaults\n",
    "            Otherwise an array of MJD bin edges\n",
    "        contiguous : bool\n",
    "            if True ignore bins arg and use a list of contiguous exposure intervals\n",
    "\n",
    "    Returns: a BinnedWeight object for access to each set of binned weights\n",
    "        The object can be indexed, or used in a for loop\n",
    "        bw[i] returns a  dict (t, tw, e, w, S, B)\n",
    "        where t   : bin center time (MJD)\n",
    "              tw  : bin width in days (assume 1 if not preseent)\n",
    "              e   : associated fractional exposure\n",
    "              w   : array of weights for the time range\n",
    "              S,B : predicted source, background counts for this bin\n",
    "        \"\"\"\n",
    "    if contiguous:\n",
    "        assert bins is None, 'contiguous selected'\n",
    "        a, b = self.get_contiguous_exposures()\n",
    "        edges = np.empty(len(a)+1)\n",
    "        edges[0] = a[0]\n",
    "        edges[1:-1] = 0.5*(a[1:]+b[:-1])\n",
    "        edges[-1]= b[-1]\n",
    "        bins = edges\n",
    "    return BinnedWeights(self, bins)   "
   ]
  },
  {
   "cell_type": "code",
   "execution_count": null,
   "metadata": {},
   "outputs": [],
   "source": [
    "#export\n",
    "def get_bb_partition(config, lc, fitness_class=CountFitness, p0=0.05):    \n",
    "\n",
    "    \"\"\"Perform Bayesian Block partition of the cells found in a light curve\n",
    "    \n",
    "    - lc : input light curve\n",
    "    - fitness_func : \n",
    "    \n",
    "    return edges for partition\n",
    "    \"\"\"\n",
    "    cells = lc\n",
    "    assert 'fit' in cells.columns, 'Expect the dataframe ho have the Poisson representation'\n",
    "    assert issubclass(fitness_class,CountFitness), 'fitness_class wrong'\n",
    "    # Now run the astropy Bayesian Blocks code using my version of the 'event' model\n",
    "    fitness = fitness_class(lc, p0=p0)\n",
    "    edges = fitness.fit() \n",
    "\n",
    "    if config.verbose>0:\n",
    "        print(f'Partitioned {fitness.N} cells into {len(edges)-1} blocks, with prior {fitness.ncp_prior:.1f}'\\\n",
    "              f' using {fitness.__class__.__name__} ' )\n",
    "    return edges"
   ]
  },
  {
   "cell_type": "code",
   "execution_count": null,
   "metadata": {},
   "outputs": [
    {
     "name": "stdout",
     "output_type": "stream",
     "text": [
      "Partitioned 3845 cells into 195 blocks, with prior 6.6 using CountFitness \n"
     ]
    },
    {
     "data": {
      "text/markdown": [
       "### Display results of the BB partition for 3C 279\n",
       "\n",
       "<div class=\"nbdoc_image\">\n",
       "<a href=\"images/test_bb_fig_01.png\"><figure>\n",
       "   <img src=\"images/test_bb_fig_01.png\" alt=\"Figure 1 at images/test_bb_fig_01.png\" width=400> \n",
       "</figure></a></div>\n",
       "\n"
      ],
      "text/plain": [
       "<utilities.ipynb_docgen.doc_formatter.<locals>.MimeBundleObject at 0x7fa356013e90>"
      ]
     },
     "metadata": {},
     "output_type": "display_data"
    },
    {
     "name": "stdout",
     "output_type": "stream",
     "text": [
      "Partitioned 3845 cells into 224 blocks, with prior 6.6 using LikelihoodFitness \n"
     ]
    },
    {
     "data": {
      "text/markdown": [
       "### Display results of the BB partition for 3C 279\n",
       "\n",
       "<div class=\"nbdoc_image\">\n",
       "<a href=\"images/test_bb_fig_01.png\"><figure>\n",
       "   <img src=\"images/test_bb_fig_01.png\" alt=\"Figure 1 at images/test_bb_fig_01.png\" width=400> \n",
       "</figure></a></div>\n",
       "\n"
      ],
      "text/plain": [
       "<utilities.ipynb_docgen.doc_formatter.<locals>.MimeBundleObject at 0x7fa3551ebed0>"
      ]
     },
     "metadata": {},
     "output_type": "display_data"
    }
   ],
   "source": [
    "#collapse_hide\n",
    "\n",
    "def test_bb(lcs, name, fitness):\n",
    "    \"\"\"\n",
    "    ### Display results of the BB partition for {name}\n",
    "    \n",
    "    {lc_fig}\n",
    "    \"\"\"\n",
    "    files = Files()\n",
    "    config = Config()\n",
    "    \n",
    "    lc = lcs[name]\n",
    "    edges = get_bb_partition(config, lc, fitness) \n",
    "    lc_fig = flux_plot(config, lc, title=f'{name} partition with {fitness.__name__}')\n",
    "    lc_fig.width=400\n",
    "    ax = lc_fig.axes[0]\n",
    "    edges = np.concatenate([edges, [edges[-1]] ])\n",
    "    for  i,t in enumerate(edges[::2]):\n",
    "        if 2*i+1==len(edges): break\n",
    "        t2 = edges[2*i+1]\n",
    "        ax.axvspan(t, t2, color='lightcyan')\n",
    "    for t in edges:\n",
    "        ax.axvline(t, ls=':', color='cyan')\n",
    "    return locals()\n",
    "\n",
    "if Files().valid:\n",
    "    nbdoc(test_bb, lcs, '3C 279', CountFitness)\n",
    "    nbdoc(test_bb, lcs, '3C 279', LikelihoodFitness)"
   ]
  },
  {
   "cell_type": "code",
   "execution_count": null,
   "metadata": {},
   "outputs": [
    {
     "name": "stdout",
     "output_type": "stream",
     "text": [
      "Partitioned 3873 cells into 17 blocks, with prior 6.6 using LikelihoodFitness \n",
      "restored photons_Geminga from cache\n",
      "\n",
      "\tSelected 1313726 photons within 5 deg of  (195.13,4.27)\n",
      "\tEnergies: 100.0-1000000 MeV\n",
      "\tDates:    2008-08-04 15:46 - 2019-08-03 01:17\n",
      "\tMJD  :    54682.7          - 58698.1         \n",
      "Load weights from file /mnt/d/OneDrive/fermi/weight_files/Geminga_weights.pkl\n",
      "\tFound: PSR J0633+1746 at (195.14, 4.27)\n",
      "\tApplyng weights: 240 / 1313726 photon pixels are outside weight region\n",
      "\t233109 weights set to NaN\n",
      "restore exposure_Geminga from cache\n",
      "2695715 entries, MJD 54683 - 58698\n",
      "Loaded 9 / 17 cells with exposure > 0.3 for light curve analysis\n",
      "first cell: t                                                      55027\n",
      "tw                                                       688\n",
      "e                                                    3.28107\n",
      "n                                                     207832\n",
      "w          [244, 214, 174, 5, 246, 150, 187, 65, 91, 215,...\n",
      "S                                                     138237\n",
      "B                                                    70291.5\n",
      "loglike    light_curves.loglike.LogLike: time 55027.000, ...\n",
      "Name: 0, dtype: object\n",
      "Fitting likelihoods with poisson representation\n"
     ]
    }
   ],
   "source": [
    "source = PointSource('Geminga')\n",
    "config = Config()\n",
    "files = Files()\n",
    "edges = get_bb_partition(config, lcs['Geminga'], LikelihoodFitness) \n",
    "lcx = get_lightcurve(config, files, source, edges)\n"
   ]
  },
  {
   "cell_type": "code",
   "execution_count": null,
   "metadata": {},
   "outputs": [
    {
     "ename": "AttributeError",
     "evalue": "'AxesSubplot' object has no property 'step'",
     "output_type": "error",
     "traceback": [
      "\u001b[0;31m---------------------------------------------------------------------------\u001b[0m",
      "\u001b[0;31mAttributeError\u001b[0m                            Traceback (most recent call last)",
      "\u001b[0;32m<ipython-input-23-1977cae57787>\u001b[0m in \u001b[0;36m<module>\u001b[0;34m\u001b[0m\n\u001b[0;32m----> 1\u001b[0;31m \u001b[0mfig\u001b[0m \u001b[0;34m=\u001b[0m \u001b[0mflux_plot\u001b[0m\u001b[0;34m(\u001b[0m\u001b[0mconfig\u001b[0m\u001b[0;34m,\u001b[0m\u001b[0mlcx\u001b[0m\u001b[0;34m,\u001b[0m \u001b[0mstep\u001b[0m\u001b[0;34m=\u001b[0m\u001b[0;32mTrue\u001b[0m\u001b[0;34m)\u001b[0m\u001b[0;34m;\u001b[0m\u001b[0;34m\u001b[0m\u001b[0;34m\u001b[0m\u001b[0m\n\u001b[0m",
      "\u001b[0;32m/mnt/d/OneDrive/work/light_curves/light_curves/lightcurve.py\u001b[0m in \u001b[0;36mflux_plot\u001b[0;34m(config, lightcurve, ts_min, title, ax, fignum, figsize, colors, fmt, **kwargs)\u001b[0m\n\u001b[1;32m    157\u001b[0m \u001b[0;34m\u001b[0m\u001b[0m\n\u001b[1;32m    158\u001b[0m     \u001b[0;31m#ax.axhline(1., color='grey')\u001b[0m\u001b[0;34m\u001b[0m\u001b[0;34m\u001b[0m\u001b[0;34m\u001b[0m\u001b[0m\n\u001b[0;32m--> 159\u001b[0;31m     \u001b[0max\u001b[0m\u001b[0;34m.\u001b[0m\u001b[0mset\u001b[0m\u001b[0;34m(\u001b[0m\u001b[0;34m**\u001b[0m\u001b[0mkw\u001b[0m\u001b[0;34m)\u001b[0m\u001b[0;34m\u001b[0m\u001b[0;34m\u001b[0m\u001b[0m\n\u001b[0m\u001b[1;32m    160\u001b[0m     \u001b[0max\u001b[0m\u001b[0;34m.\u001b[0m\u001b[0mset_title\u001b[0m\u001b[0;34m(\u001b[0m\u001b[0mtitle\u001b[0m\u001b[0;34m)\u001b[0m \u001b[0;31m# or f'{source_name}, rep {self.rep}')\u001b[0m\u001b[0;34m\u001b[0m\u001b[0;34m\u001b[0m\u001b[0m\n\u001b[1;32m    161\u001b[0m     \u001b[0max\u001b[0m\u001b[0;34m.\u001b[0m\u001b[0mgrid\u001b[0m\u001b[0;34m(\u001b[0m\u001b[0malpha\u001b[0m\u001b[0;34m=\u001b[0m\u001b[0;36m0.5\u001b[0m\u001b[0;34m)\u001b[0m\u001b[0;34m\u001b[0m\u001b[0;34m\u001b[0m\u001b[0m\n",
      "\u001b[0;32m~/miniconda3/lib/python3.7/site-packages/matplotlib/artist.py\u001b[0m in \u001b[0;36mset\u001b[0;34m(self, **kwargs)\u001b[0m\n\u001b[1;32m   1069\u001b[0m             sorted(kwargs.items(), reverse=True,\n\u001b[1;32m   1070\u001b[0m                    key=lambda x: (self._prop_order.get(x[0], 0), x[0])))\n\u001b[0;32m-> 1071\u001b[0;31m         \u001b[0;32mreturn\u001b[0m \u001b[0mself\u001b[0m\u001b[0;34m.\u001b[0m\u001b[0mupdate\u001b[0m\u001b[0;34m(\u001b[0m\u001b[0mprops\u001b[0m\u001b[0;34m)\u001b[0m\u001b[0;34m\u001b[0m\u001b[0;34m\u001b[0m\u001b[0m\n\u001b[0m\u001b[1;32m   1072\u001b[0m \u001b[0;34m\u001b[0m\u001b[0m\n\u001b[1;32m   1073\u001b[0m     \u001b[0;32mdef\u001b[0m \u001b[0mfindobj\u001b[0m\u001b[0;34m(\u001b[0m\u001b[0mself\u001b[0m\u001b[0;34m,\u001b[0m \u001b[0mmatch\u001b[0m\u001b[0;34m=\u001b[0m\u001b[0;32mNone\u001b[0m\u001b[0;34m,\u001b[0m \u001b[0minclude_self\u001b[0m\u001b[0;34m=\u001b[0m\u001b[0;32mTrue\u001b[0m\u001b[0;34m)\u001b[0m\u001b[0;34m:\u001b[0m\u001b[0;34m\u001b[0m\u001b[0;34m\u001b[0m\u001b[0m\n",
      "\u001b[0;32m~/miniconda3/lib/python3.7/site-packages/matplotlib/artist.py\u001b[0m in \u001b[0;36mupdate\u001b[0;34m(self, props)\u001b[0m\n\u001b[1;32m    972\u001b[0m \u001b[0;34m\u001b[0m\u001b[0m\n\u001b[1;32m    973\u001b[0m         \u001b[0;32mwith\u001b[0m \u001b[0mcbook\u001b[0m\u001b[0;34m.\u001b[0m\u001b[0m_setattr_cm\u001b[0m\u001b[0;34m(\u001b[0m\u001b[0mself\u001b[0m\u001b[0;34m,\u001b[0m \u001b[0meventson\u001b[0m\u001b[0;34m=\u001b[0m\u001b[0;32mFalse\u001b[0m\u001b[0;34m)\u001b[0m\u001b[0;34m:\u001b[0m\u001b[0;34m\u001b[0m\u001b[0;34m\u001b[0m\u001b[0m\n\u001b[0;32m--> 974\u001b[0;31m             \u001b[0mret\u001b[0m \u001b[0;34m=\u001b[0m \u001b[0;34m[\u001b[0m\u001b[0m_update_property\u001b[0m\u001b[0;34m(\u001b[0m\u001b[0mself\u001b[0m\u001b[0;34m,\u001b[0m \u001b[0mk\u001b[0m\u001b[0;34m,\u001b[0m \u001b[0mv\u001b[0m\u001b[0;34m)\u001b[0m \u001b[0;32mfor\u001b[0m \u001b[0mk\u001b[0m\u001b[0;34m,\u001b[0m \u001b[0mv\u001b[0m \u001b[0;32min\u001b[0m \u001b[0mprops\u001b[0m\u001b[0;34m.\u001b[0m\u001b[0mitems\u001b[0m\u001b[0;34m(\u001b[0m\u001b[0;34m)\u001b[0m\u001b[0;34m]\u001b[0m\u001b[0;34m\u001b[0m\u001b[0;34m\u001b[0m\u001b[0m\n\u001b[0m\u001b[1;32m    975\u001b[0m \u001b[0;34m\u001b[0m\u001b[0m\n\u001b[1;32m    976\u001b[0m         \u001b[0;32mif\u001b[0m \u001b[0mlen\u001b[0m\u001b[0;34m(\u001b[0m\u001b[0mret\u001b[0m\u001b[0;34m)\u001b[0m\u001b[0;34m:\u001b[0m\u001b[0;34m\u001b[0m\u001b[0;34m\u001b[0m\u001b[0m\n",
      "\u001b[0;32m~/miniconda3/lib/python3.7/site-packages/matplotlib/artist.py\u001b[0m in \u001b[0;36m<listcomp>\u001b[0;34m(.0)\u001b[0m\n\u001b[1;32m    972\u001b[0m \u001b[0;34m\u001b[0m\u001b[0m\n\u001b[1;32m    973\u001b[0m         \u001b[0;32mwith\u001b[0m \u001b[0mcbook\u001b[0m\u001b[0;34m.\u001b[0m\u001b[0m_setattr_cm\u001b[0m\u001b[0;34m(\u001b[0m\u001b[0mself\u001b[0m\u001b[0;34m,\u001b[0m \u001b[0meventson\u001b[0m\u001b[0;34m=\u001b[0m\u001b[0;32mFalse\u001b[0m\u001b[0;34m)\u001b[0m\u001b[0;34m:\u001b[0m\u001b[0;34m\u001b[0m\u001b[0;34m\u001b[0m\u001b[0m\n\u001b[0;32m--> 974\u001b[0;31m             \u001b[0mret\u001b[0m \u001b[0;34m=\u001b[0m \u001b[0;34m[\u001b[0m\u001b[0m_update_property\u001b[0m\u001b[0;34m(\u001b[0m\u001b[0mself\u001b[0m\u001b[0;34m,\u001b[0m \u001b[0mk\u001b[0m\u001b[0;34m,\u001b[0m \u001b[0mv\u001b[0m\u001b[0;34m)\u001b[0m \u001b[0;32mfor\u001b[0m \u001b[0mk\u001b[0m\u001b[0;34m,\u001b[0m \u001b[0mv\u001b[0m \u001b[0;32min\u001b[0m \u001b[0mprops\u001b[0m\u001b[0;34m.\u001b[0m\u001b[0mitems\u001b[0m\u001b[0;34m(\u001b[0m\u001b[0;34m)\u001b[0m\u001b[0;34m]\u001b[0m\u001b[0;34m\u001b[0m\u001b[0;34m\u001b[0m\u001b[0m\n\u001b[0m\u001b[1;32m    975\u001b[0m \u001b[0;34m\u001b[0m\u001b[0m\n\u001b[1;32m    976\u001b[0m         \u001b[0;32mif\u001b[0m \u001b[0mlen\u001b[0m\u001b[0;34m(\u001b[0m\u001b[0mret\u001b[0m\u001b[0;34m)\u001b[0m\u001b[0;34m:\u001b[0m\u001b[0;34m\u001b[0m\u001b[0;34m\u001b[0m\u001b[0m\n",
      "\u001b[0;32m~/miniconda3/lib/python3.7/site-packages/matplotlib/artist.py\u001b[0m in \u001b[0;36m_update_property\u001b[0;34m(self, k, v)\u001b[0m\n\u001b[1;32m    968\u001b[0m                 \u001b[0;32mif\u001b[0m \u001b[0;32mnot\u001b[0m \u001b[0mcallable\u001b[0m\u001b[0;34m(\u001b[0m\u001b[0mfunc\u001b[0m\u001b[0;34m)\u001b[0m\u001b[0;34m:\u001b[0m\u001b[0;34m\u001b[0m\u001b[0;34m\u001b[0m\u001b[0m\n\u001b[1;32m    969\u001b[0m                     raise AttributeError('{!r} object has no property {!r}'\n\u001b[0;32m--> 970\u001b[0;31m                                          .format(type(self).__name__, k))\n\u001b[0m\u001b[1;32m    971\u001b[0m                 \u001b[0;32mreturn\u001b[0m \u001b[0mfunc\u001b[0m\u001b[0;34m(\u001b[0m\u001b[0mv\u001b[0m\u001b[0;34m)\u001b[0m\u001b[0;34m\u001b[0m\u001b[0;34m\u001b[0m\u001b[0m\n\u001b[1;32m    972\u001b[0m \u001b[0;34m\u001b[0m\u001b[0m\n",
      "\u001b[0;31mAttributeError\u001b[0m: 'AxesSubplot' object has no property 'step'"
     ]
    },
    {
     "data": {
      "image/png": "[encoded data removed]",
      "text/plain": [
       "<Figure size 864x288 with 1 Axes>"
      ]
     },
     "metadata": {
      "needs_background": "light"
     },
     "output_type": "display_data"
    }
   ],
   "source": [
    "fig = flux_plot(config,lcx, step=True); "
   ]
  },
  {
   "cell_type": "code",
   "execution_count": null,
   "metadata": {},
   "outputs": [
    {
     "data": {
      "image/png": "[encoded data removed]",
      "text/plain": [
       "<Figure size 864x288 with 1 Axes>"
      ]
     },
     "execution_count": null,
     "metadata": {},
     "output_type": "execute_result"
    }
   ],
   "source": [
    "ax = fig.axes[0]\n",
    "flux_plot(config, lcx, ax=ax)"
   ]
  },
  {
   "cell_type": "code",
   "execution_count": null,
   "metadata": {},
   "outputs": [
    {
     "data": {
      "text/plain": [
       "(t                                                  55027\n",
       " tw                                                   688\n",
       " n                                                 207832\n",
       " e                                                3.28107\n",
       " fit    light_curves.loglike.PoissonRep: flux: 0.998[1...\n",
       " Name: 0, dtype: object,\n",
       " 9)"
      ]
     },
     "execution_count": null,
     "metadata": {},
     "output_type": "execute_result"
    }
   ],
   "source": [
    "lcx.iloc[0], len(lcx)"
   ]
  },
  {
   "cell_type": "code",
   "execution_count": null,
   "metadata": {},
   "outputs": [
    {
     "data": {
      "text/html": [
       "<div>\n",
       "<style scoped>\n",
       "    .dataframe tbody tr th:only-of-type {\n",
       "        vertical-align: middle;\n",
       "    }\n",
       "\n",
       "    .dataframe tbody tr th {\n",
       "        vertical-align: top;\n",
       "    }\n",
       "\n",
       "    .dataframe thead th {\n",
       "        text-align: right;\n",
       "    }\n",
       "</style>\n",
       "<table border=\"1\" class=\"dataframe\">\n",
       "  <thead>\n",
       "    <tr style=\"text-align: right;\">\n",
       "      <th></th>\n",
       "      <th>t</th>\n",
       "      <th>tw</th>\n",
       "      <th>n</th>\n",
       "      <th>e</th>\n",
       "      <th>fit</th>\n",
       "    </tr>\n",
       "  </thead>\n",
       "  <tbody>\n",
       "    <tr>\n",
       "      <th>0</th>\n",
       "      <td>55027.0</td>\n",
       "      <td>688.0</td>\n",
       "      <td>207832</td>\n",
       "      <td>3.281069</td>\n",
       "      <td>light_curves.loglike.PoissonRep: flux: 0.998[1...</td>\n",
       "    </tr>\n",
       "    <tr>\n",
       "      <th>2</th>\n",
       "      <td>55560.5</td>\n",
       "      <td>351.0</td>\n",
       "      <td>96416</td>\n",
       "      <td>1.527257</td>\n",
       "      <td>light_curves.loglike.PoissonRep: flux: 0.985[1...</td>\n",
       "    </tr>\n",
       "    <tr>\n",
       "      <th>4</th>\n",
       "      <td>56113.0</td>\n",
       "      <td>706.0</td>\n",
       "      <td>190965</td>\n",
       "      <td>3.020903</td>\n",
       "      <td>light_curves.loglike.PoissonRep: flux: 0.991[1...</td>\n",
       "    </tr>\n",
       "    <tr>\n",
       "      <th>7</th>\n",
       "      <td>56673.5</td>\n",
       "      <td>309.0</td>\n",
       "      <td>84043</td>\n",
       "      <td>1.334203</td>\n",
       "      <td>light_curves.loglike.PoissonRep: flux: 0.989[1...</td>\n",
       "    </tr>\n",
       "    <tr>\n",
       "      <th>8</th>\n",
       "      <td>56879.5</td>\n",
       "      <td>103.0</td>\n",
       "      <td>28168</td>\n",
       "      <td>0.434166</td>\n",
       "      <td>light_curves.loglike.PoissonRep: flux: 1.027[1...</td>\n",
       "    </tr>\n",
       "    <tr>\n",
       "      <th>9</th>\n",
       "      <td>56972.5</td>\n",
       "      <td>83.0</td>\n",
       "      <td>20961</td>\n",
       "      <td>0.336465</td>\n",
       "      <td>light_curves.loglike.PoissonRep: flux: 0.966[1...</td>\n",
       "    </tr>\n",
       "    <tr>\n",
       "      <th>11</th>\n",
       "      <td>57109.0</td>\n",
       "      <td>176.0</td>\n",
       "      <td>45616</td>\n",
       "      <td>0.708227</td>\n",
       "      <td>light_curves.loglike.PoissonRep: flux: 1.003[1...</td>\n",
       "    </tr>\n",
       "    <tr>\n",
       "      <th>13</th>\n",
       "      <td>57723.0</td>\n",
       "      <td>1050.0</td>\n",
       "      <td>285243</td>\n",
       "      <td>4.501777</td>\n",
       "      <td>light_curves.loglike.PoissonRep: flux: 0.992[1...</td>\n",
       "    </tr>\n",
       "    <tr>\n",
       "      <th>15</th>\n",
       "      <td>58468.5</td>\n",
       "      <td>337.0</td>\n",
       "      <td>74075</td>\n",
       "      <td>1.161036</td>\n",
       "      <td>light_curves.loglike.PoissonRep: flux: 0.991[1...</td>\n",
       "    </tr>\n",
       "  </tbody>\n",
       "</table>\n",
       "</div>"
      ],
      "text/plain": [
       "          t      tw       n         e  \\\n",
       "0   55027.0   688.0  207832  3.281069   \n",
       "2   55560.5   351.0   96416  1.527257   \n",
       "4   56113.0   706.0  190965  3.020903   \n",
       "7   56673.5   309.0   84043  1.334203   \n",
       "8   56879.5   103.0   28168  0.434166   \n",
       "9   56972.5    83.0   20961  0.336465   \n",
       "11  57109.0   176.0   45616  0.708227   \n",
       "13  57723.0  1050.0  285243  4.501777   \n",
       "15  58468.5   337.0   74075  1.161036   \n",
       "\n",
       "                                                  fit  \n",
       "0   light_curves.loglike.PoissonRep: flux: 0.998[1...  \n",
       "2   light_curves.loglike.PoissonRep: flux: 0.985[1...  \n",
       "4   light_curves.loglike.PoissonRep: flux: 0.991[1...  \n",
       "7   light_curves.loglike.PoissonRep: flux: 0.989[1...  \n",
       "8   light_curves.loglike.PoissonRep: flux: 1.027[1...  \n",
       "9   light_curves.loglike.PoissonRep: flux: 0.966[1...  \n",
       "11  light_curves.loglike.PoissonRep: flux: 1.003[1...  \n",
       "13  light_curves.loglike.PoissonRep: flux: 0.992[1...  \n",
       "15  light_curves.loglike.PoissonRep: flux: 0.991[1...  "
      ]
     },
     "execution_count": null,
     "metadata": {},
     "output_type": "execute_result"
    }
   ],
   "source": [
    "lcx"
   ]
  },
  {
   "cell_type": "code",
   "execution_count": null,
   "metadata": {},
   "outputs": [
    {
     "name": "stdout",
     "output_type": "stream",
     "text": [
      "Converted 00_config.ipynb.\n",
      "Converted 01_effective_area.ipynb.\n",
      "Converted 02_load_gti.ipynb.\n",
      "Converted 03_exposure.ipynb.\n",
      "Converted 04_photon_data.ipynb.\n",
      "Converted 05_weights.ipynb.\n",
      "Converted 07_cells.ipynb.\n",
      "Converted 09_poisson.ipynb.\n",
      "Converted 10_loglike.ipynb.\n",
      "Converted 11_lightcurve.ipynb.\n",
      "Converted 12_instructions.ipynb.\n",
      "Converted 13_kerr_comparison.ipynb.\n",
      "Converted 14_bayesian.ipynb.\n",
      "Converted index.ipynb.\n",
      "Tue Dec 15 10:05:02 PST 2020\n"
     ]
    }
   ],
   "source": [
    "#hide\n",
    "from nbdev.export import notebook2script\n",
    "notebook2script()\n",
    "!date"
   ]
  },
  {
   "cell_type": "code",
   "execution_count": null,
   "metadata": {},
   "outputs": [],
   "source": []
  }
 ],
 "metadata": {
  "kernelspec": {
   "display_name": "Python 3",
   "language": "python",
   "name": "python3"
  }
 },
 "nbformat": 4,
 "nbformat_minor": 4
}
