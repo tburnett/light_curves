{
 "cells": [
  {
   "cell_type": "code",
   "execution_count": null,
   "id": "attractive-pepper",
   "metadata": {},
   "outputs": [
    {
     "name": "stdout",
     "output_type": "stream",
     "text": [
      "Tue Apr 27 13:00:17 PDT 2021\n"
     ]
    }
   ],
   "source": [
    "from nbdev import *\n",
    "%nbdev_hide_input\n",
    "%load_ext autoreload\n",
    "%autoreload 2\n",
    "!date\n",
    "# import warnings\n",
    "# warnings.filterwarnings('error')"
   ]
  },
  {
   "cell_type": "markdown",
   "id": "lasting-sharp",
   "metadata": {},
   "source": [
    "# 4FGL J1257.0-6339 (P88Y3250)"
   ]
  },
  {
   "cell_type": "code",
   "execution_count": null,
   "id": "neither-cooler",
   "metadata": {},
   "outputs": [],
   "source": [
    "%nbdev_collapse_input\n",
    "from time import perf_counter\n",
    "from wtlike.config import Config, PointSource\n",
    "from wtlike.lightcurve import fit_table\n",
    "from wtlike.bayesian import BayesianBlockAnalysis\n",
    "from utilities.ipynb_docgen import *\n",
    "\n",
    "config = Config(data_folder='/home/burnett/weekly', verbose=1)\n",
    "source = PointSource('P88Y3250', (303.549,-0.756))\n",
    "bba = None\n",
    "\n",
    "\n",
    "def P88Y3250(clear=False):\n",
    "    r\"\"\"\n",
    "    ## Variability analysis of 4FGL J1257.0-6339\n",
    "    \n",
    "    This source, ~$0.5^\\circ$ distant from B1259-63, has a nickname P88Y3250. \n",
    "    I look at it because it may be variable. \n",
    "    \n",
    "    It is unassociated, with a pointlike TS=287, and flux uncertainty of 0.7%. Its SED is:\n",
    "    \n",
    "    {sed}\n",
    "    \n",
    "    {out1}\n",
    "    \n",
    "    {out2}\n",
    "    \n",
    "    Here is the light curve, measured in daily intervals.\n",
    "    {fig1}\n",
    "    \n",
    "    Note that all the days are limits, except for a few quite significant ones.\n",
    "    The blue line is the result of the Bayesian block analysis, which found only one block.\n",
    "    \n",
    "    Here is a an expansion about the 2017 B1259-63 periastron:\n",
    "    \n",
    "    {fig2}\n",
    "    \n",
    "\n",
    "    Finally, a plot showing the full likelihood, combining all {days} days, is\n",
    "    \n",
    "    {fig3}\n",
    "    For this fit the TS is {fit_ts:.0f}.\n",
    "    \"\"\"\n",
    "    global bba\n",
    "    \n",
    "    sed = image('P88Y3250_sed_uw1216.jpg', width=250, caption=None)\n",
    "    \n",
    "    with capture_print('Output from loading data, forming time bins, and fitting each') as out1:\n",
    "        t0= perf_counter()\n",
    "        if bba is None or clear:\n",
    "            bba = BayesianBlockAnalysis(config, source, clear=clear)\n",
    "        t1 = perf_counter() \n",
    "        print(f\"Time elapsed: {(t1-t0)/60:.1f} min \") # CPU seconds elapsed (floating point)\n",
    "        \n",
    "    with capture_print('BB partition output') as out2:\n",
    "        bba.partition(clear=clear)\n",
    "        t2 = perf_counter()\n",
    "        print(f\"Time elapsed: {(t2-t1)/60:.1f} min \") # CPU seconds elapsed (floating point)\n",
    "        \n",
    "    fig1 =figure(\n",
    "            bba.plot(title='Light curve for 4FGL J1257.0-6339',\n",
    "                   colors=('red', 'lightgrey', 'blue'), yscale='log', ylim=(0.5, 200)),\n",
    "            width=800)\n",
    "    \n",
    "    fig2 = figure(\n",
    "            bba.plot(title='Light curve for 4FGL J1257.0-6339',colors=('red', 'lightgrey', 'blue'),\n",
    "             tzero=58018.1, xlim=(20,90),ylim=(4,200), yscale='log', fignum=2),\n",
    "            width=800);\n",
    "    \n",
    "    lka = bba.all_data_likelihood()\n",
    "    fig3,ax = plt.subplots(figsize=(4,2), num=3)\n",
    "    lka.plot(ax=ax, xlim=(0.5, 1.5) ) \n",
    "    fig3.width=300\n",
    "    days = len(bba.lc_df)\n",
    "    \n",
    "    fit_ts = bba.bb_fit.iloc[0].fit.ts\n",
    "    return locals()"
   ]
  },
  {
   "cell_type": "code",
   "execution_count": null,
   "id": "interior-religion",
   "metadata": {},
   "outputs": [
    {
     "data": {
      "text/markdown": [
       "## Variability analysis of 4FGL J1257.0-6339\n",
       "\n",
       "This source, ~$0.5^\\circ$ distance from B1259-63, has a nickname P88Y3250. It is unassociated, with a \n",
       "pointlike TS=287, and flux uncertainty of 0.7%. The SED is:\n",
       "\n",
       "<div class=\"nbdoc_image\">\n",
       "<figure style=\"margin-left: 5%\" title=\"Figure 1\">  <a href=\"images/P88Y3250_fig_01.png\" title=\"images/P88Y3250_fig_01.png\">    <img src=\"images/P88Y3250_fig_01.png\" alt=\"Figure 1 at images/P88Y3250_fig_01.png\" width=250>   </a> </figure>\n",
       "</div>\n",
       "\n",
       "\n",
       "<details  class=\"nbdoc-description\" >  <summary> Output from loading data, forming time bins, and fitting each </summary>  <div style=\"margin-left: 5%\"><pre>photons and exposure for P88Y3250: Restoring from cache with key \"P88Y3250_weekly_data\"<br>Time bins: 4643 intervals of 1 days, from MJD 54683.0(2008-08-05) to 59326.0(2021-04-22))<br>Loaded 4471 / 4471 cells with exposure &gt; 0.3 for light curve analysis<br>Time elapsed: 0.2 min <br></pre></div> </details>\n",
       "\n",
       "<details  class=\"nbdoc-description\" >  <summary> BB partition output </summary>  <div style=\"margin-left: 5%\"><pre>P88Y3250_weekly_bb_edges: Restoring from cache<br>Partitioned 4471 cells into 1 blocks, using LikelihoodFitness <br>Loaded 1 / 1 cells with exposure &gt; 0.3 for fitting<br>Time elapsed: 0.0 min <br></pre></div> </details>\n",
       "\n",
       "Here is the light curve, measured in daily intervals.\n",
       "<div class=\"nbdoc_image\">\n",
       "<figure style=\"margin-left: 5%\" title=\"Figure 2\">  <a href=\"images/P88Y3250_fig_02.png\" title=\"images/P88Y3250_fig_02.png\">    <img src=\"images/P88Y3250_fig_02.png\" alt=\"Figure 2 at images/P88Y3250_fig_02.png\" width=800>   </a> </figure>\n",
       "</div>\n",
       "\n",
       "\n",
       "Note that all the days are limits, except for a few quite significant ones.\n",
       "The blue line is the result of the Bayesian block analysis, which found only one block.\n",
       "\n",
       "Here is a an expansion about the 2017 B1259-63 periastron:\n",
       "\n",
       "<div class=\"nbdoc_image\">\n",
       "<figure style=\"margin-left: 5%\" title=\"Figure 3\">  <a href=\"images/P88Y3250_fig_03.png\" title=\"images/P88Y3250_fig_03.png\">    <img src=\"images/P88Y3250_fig_03.png\" alt=\"Figure 3 at images/P88Y3250_fig_03.png\" width=800>   </a> </figure>\n",
       "</div>\n",
       "\n",
       "\n",
       "\n",
       "Finally, a plot showing the full likelihood, combining all 4471 days, is\n",
       "\n",
       "<div class=\"nbdoc_image\">\n",
       "<figure style=\"margin-left: 5%\" title=\"Figure 4\">  <a href=\"images/P88Y3250_fig_04.png\" title=\"images/P88Y3250_fig_04.png\">    <img src=\"images/P88Y3250_fig_04.png\" alt=\"Figure 4 at images/P88Y3250_fig_04.png\" width=300>   </a> </figure>\n",
       "</div>\n",
       "\n",
       "For ths fit the TS is 116.\n"
      ],
      "text/plain": [
       "<utilities.ipynb_docgen.doc_formatter.<locals>.MimeBundleObject at 0x7f1586f91050>"
      ]
     },
     "metadata": {},
     "output_type": "display_data"
    }
   ],
   "source": [
    "nbdoc(P88Y3250)"
   ]
  },
  {
   "cell_type": "code",
   "execution_count": null,
   "id": "prostate-azerbaijan",
   "metadata": {},
   "outputs": [],
   "source": []
  }
 ],
 "metadata": {
  "kernelspec": {
   "display_name": "Python 3",
   "language": "python",
   "name": "python3"
  }
 },
 "nbformat": 4,
 "nbformat_minor": 5
}
