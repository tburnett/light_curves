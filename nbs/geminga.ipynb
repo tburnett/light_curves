{
 "cells": [
  {
   "cell_type": "code",
   "execution_count": null,
   "metadata": {},
   "outputs": [
    {
     "name": "stdout",
     "output_type": "stream",
     "text": [
      "Sun Feb 28 09:41:45 PST 2021\n"
     ]
    }
   ],
   "source": [
    "from nbdev import *\n",
    "%nbdev_hide_input\n",
    "!date"
   ]
  },
  {
   "cell_type": "markdown",
   "metadata": {},
   "source": [
    "# Geminga Analyses\n",
    "\n",
    "> Ongoing analyses\n"
   ]
  },
  {
   "cell_type": "markdown",
   "metadata": {},
   "source": [
    "** `wtlike` library functions used here **\n",
    "- `get_cells`\n",
    "- `simulate_cells`\n",
    "- `get_lightcurve`\n",
    "- `get_bb_partition`\n",
    "- `partition_cells`\n",
    "- `fit_cells`\n",
    "- `flux_plot`\n"
   ]
  },
  {
   "cell_type": "markdown",
   "metadata": {},
   "source": [
    "## Introduction\n",
    "\n",
    "This notebook does not produce a module to add to the library, it a place to run, and report on analyses using the library. It uses local code, shown below.\n",
    "\n",
    "This is also an exploration of this style of presenting code, and data analysis based on it.\n",
    "\n",
    "## Geminga analyses\n",
    "\n",
    "Following Kerr's example, we use the source Geminga to verify that this analysis of data gives results consistent with its being constant. As you can see below, the BB analysis finds several breaks, which merit further checks. That is followed by a simulation using\n",
    "Geminga's weight distribution and exposure. The run shown here finds one minor break, a change of 0.08%. "
   ]
  },
  {
   "cell_type": "code",
   "execution_count": null,
   "metadata": {},
   "outputs": [
    {
     "data": {
      "text/markdown": [
       "### Cache contents for this source\n",
       "\n",
       "<details  class=\"nbdoc-description\" >  <summary> contents </summary>  <div style=\"margin-left: 5%\"><pre>Cache contents for source geminga<br>  key                         size  time                <br>  photons_geminga         31679265  2021-02-28 08:20     <br>  exposure_geminga        86263776  2021-02-28 08:22     <br>  binexp_geminga             64448  2021-02-28 08:22     <br>  cells_geminga            5132223  2021-02-28 08:22     <br>  lightfcurve_geminga      7289195  2021-02-28 08:39     <br>  BB-geminga                   281  2021-02-28 08:43     <br>  weight_hist_geminga          556  2021-02-28 08:43     <br><br></pre></div> </details>\n",
       "\n",
       "## Fit to all data\n",
       "<details  class=\"nbdoc-description\" >  <summary> Analysis output </summary>  <div style=\"margin-left: 5%\"><pre>Cell data for geminga: Restoring from cache with key \"cells_geminga\"<br></pre></div> </details>\n",
       "This is the likelihood, for the combined dataset, a consistency check of the weight calculation.\n",
       "<div class=\"nbdoc_image\">\n",
       "<figure style=\"margin-left: 5%\" title=\"Figure 1\">  <a href=\"images/geminga_combined_fig_01.png\" title=\"images/geminga_combined_fig_01.png\">    <img src=\"images/geminga_combined_fig_01.png\" alt=\"Figure 1 at images/geminga_combined_fig_01.png\" >   </a> </figure>\n",
       "</div>\n",
       "\n"
      ],
      "text/plain": [
       "<utilities.ipynb_docgen.doc_formatter.<locals>.MimeBundleObject at 0x7f550a7547d0>"
      ]
     },
     "metadata": {},
     "output_type": "display_data"
    }
   ],
   "source": [
    "%nbdev_collapse_input\n",
    "\n",
    "from light_curves.tools import *\n",
    "from wtlike.config import *\n",
    "from utilities.ipynb_docgen import *\n",
    "config = Config()\n",
    "source = PointSource('geminga')\n",
    "\n",
    "def geminga_combined():\n",
    "    \"\"\"\n",
    "    ### Cache contents for this source\n",
    "    \n",
    "    {geminga_cache}\n",
    "    \n",
    "    ## Fit to all data\n",
    "    {outp}\n",
    "    This is the likelihood, for the combined dataset, a consistency check of the weight calculation.\n",
    "    {fig1}\n",
    "    \"\"\"\n",
    "        \n",
    "    with capture_print('contents') as geminga_cache: \n",
    "        print(show_cache(config, source.name))\n",
    "       \n",
    "    with capture_print('Analysis output') as outp:\n",
    "        ll = all_data_likelihood(config, source)\n",
    "\n",
    "    #print(ll,'\\nFit: ', ll.fit_info())\n",
    "    fig1, ax1 = plt.subplots(num=1, figsize=(3,2))\n",
    "    ll.plot(xlim =( 0.99, 1.01), ax=ax1)\n",
    "    return locals()\n",
    "if config.valid:\n",
    "    nbdoc(geminga_combined)"
   ]
  },
  {
   "cell_type": "code",
   "execution_count": null,
   "metadata": {},
   "outputs": [],
   "source": [
    "%nbdev_collapse_input\n",
    "def analysis_plots(name, expect=0.9963, short=50, simname=''):\n",
    "    \"\"\"\n",
    "    ### {sim} Geminga data\n",
    "    \n",
    "    {which_source} the daily binned data, or cells; then perform a Bayesian Blocks partition;\n",
    "    finally make fits to the resulting blocks. <br>(Run at {date})\n",
    "    \n",
    "    {output}\n",
    "    \n",
    "    This shows the fits to all cells, with the BB fit overlays.\n",
    "    {fig1}\n",
    "    \n",
    "    Since this is a constant source, there should be no breaks, that is, only one partition.\n",
    "    Here is a table of the partition fits:\n",
    "    \n",
    "    {df_text}\n",
    "    The last column represents the compatibility of the flux measurement for each partition\n",
    "    with the expected value {expect} in equivalent sigma units.\n",
    "    \n",
    "    Expand the plot around short, < {short} day partitions.\n",
    "    {short_check}\n",
    "    \n",
    "    {fig2}\n",
    "    \"\"\"\n",
    "\n",
    "    simulated = bool(simname)\n",
    "    sim= 'Simulated' if simulated else ''\n",
    "    which_source = 'Simulate a set of ' if simulated else 'Get'\n",
    "    with capture_print('Analysis output' ) as output:\n",
    "        if not simulated:\n",
    "            lc, bb_lc = analyze_data(config, source)\n",
    "        else: \n",
    "            lc, bb_lc = simulation(config, source, bb_key=simname) \n",
    "\n",
    "    pd.set_option('display.precision', 3)#, 'display.colheader_justify','left')\n",
    "    \n",
    "    df = fit_table(bb_lc, expect=expect)\n",
    "    df_text = monospace(str(df), 'BB fit table', open=True)\n",
    "        \n",
    "    plt.rc('font', size=16)\n",
    "    fig1, ax = plt.subplots(1,1, sharex=True, figsize=(10,4), num=1)\n",
    "    bb_overplot(config, lc, bb_lc, ax = ax)\n",
    "    ax.text(0.05, 0.85, name,  transform=ax.transAxes);\n",
    "    fig1.width=600\n",
    "\n",
    "    bb_short = bb_lc.query(f'tw<{short}'); ns =len(bb_short)\n",
    "    if ns>0:\n",
    "        short_check=f'There are {ns} such.'\n",
    "        rows, cols = (ns+2)//3, 3\n",
    "        fig2, axx = plt.subplots( rows,3,  figsize=(5*cols, 4*rows),\n",
    "                                 sharey=True, sharex=True,\n",
    "                     gridspec_kw=dict(top=0.85, left=0.08, bottom=0.15, hspace=0.2 ),num=2)\n",
    "        if ns>1: fig2.width=600\n",
    "        axf = axx.flatten()\n",
    "        [ax.set_visible(False) for ax in axf[ns:]]\n",
    "        for t, ax in zip(bb_short.t, axf):\n",
    "            bb_overplot(config, lc, bb_lc, ax=ax, tzero=t, xlim=(-50, +50))\n",
    "    else:\n",
    "        fig2=''\n",
    "        short_check = 'None found.'\n",
    "    return locals()"
   ]
  },
  {
   "cell_type": "code",
   "execution_count": null,
   "metadata": {},
   "outputs": [],
   "source": [
    "%nbdev_collapse_input\n",
    "if config.valid:\n",
    "    nbdoc(analysis_plots, 'Geminga')"
   ]
  },
  {
   "cell_type": "code",
   "execution_count": null,
   "metadata": {},
   "outputs": [],
   "source": [
    "%nbdev_collapse_input\n",
    "if config.valid:\n",
    "\n",
    "    nbdoc(analysis_plots, 'Geminga', name='analysis_sim',  simname='analysis_plot_sim', \n",
    "         expect=0.9915)"
   ]
  },
  {
   "cell_type": "markdown",
   "metadata": {},
   "source": [
    "# TO DO\n",
    "- Fix a 0.4% bias from the cell fit when applied to high-statisics data.\n",
    "\n",
    "- Look at the intervals detected for the data, of which 5 have measured flux increases around 10%,  more than 4$\\sigma$. Possibilities are a problem with the exposure, and a change in the background. The latter can be examined by a 2-D fit with $\\beta$ free. Another possibility, fixing $\\alpha=0$ and fitting $\\beta$ is not (yet) supported.\n"
   ]
  }
 ],
 "metadata": {
  "kernelspec": {
   "display_name": "Python 3",
   "language": "python",
   "name": "python3"
  }
 },
 "nbformat": 4,
 "nbformat_minor": 4
}
