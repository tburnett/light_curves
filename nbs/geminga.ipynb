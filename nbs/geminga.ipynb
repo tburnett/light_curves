{
 "cells": [
  {
   "cell_type": "code",
   "execution_count": null,
   "metadata": {},
   "outputs": [
    {
     "name": "stdout",
     "output_type": "stream",
     "text": [
      "Sun Feb 28 09:07:22 PST 2021\n"
     ]
    }
   ],
   "source": [
    "from nbdev import *\n",
    "%nbdev_hide_input\n",
    "!date"
   ]
  },
  {
   "cell_type": "markdown",
   "metadata": {},
   "source": [
    "# Geminga Analyses\n",
    "\n",
    "> Ongoing analyses\n"
   ]
  },
  {
   "cell_type": "markdown",
   "metadata": {},
   "source": [
    "** `wtlike` library functions used here **\n",
    "- `get_cells`\n",
    "- `simulate_cells`\n",
    "- `get_lightcurve`\n",
    "- `get_bb_partition`\n",
    "- `partition_cells`\n",
    "- `fit_cells`\n",
    "- `flux_plot`\n"
   ]
  },
  {
   "cell_type": "markdown",
   "metadata": {},
   "source": [
    "## Introduction\n",
    "\n",
    "This notebook does not produce a module to add to the library, it a place to run, and report on analyses using the library. It uses local code, shown below.\n",
    "\n",
    "This is also an exploration of this style of presenting code, and data analysis based on it.\n",
    "\n",
    "## Geminga analyses\n",
    "\n",
    "Following Kerr's example, we use the source Geminga to verify that this analysis of data gives results consistent with its being constant. As you can see below, the BB analysis finds several breaks, which merit further checks. That is followed by a simulation using\n",
    "Geminga's weight distribution and exposure. The run shown here finds one minor break, a change of 0.08%. "
   ]
  },
  {
   "cell_type": "code",
   "execution_count": null,
   "metadata": {},
   "outputs": [
    {
     "data": {
      "text/markdown": [
       "## Current Cache\n",
       "<details  class=\"nbdoc-description\" >  <summary> contents </summary>  <div style=\"margin-left: 5%\"><pre>Cache contents for source geminga<br>  key                         size  time                <br>  photons_geminga         31679265  2021-02-28 08:20     <br>  exposure_geminga        86263776  2021-02-28 08:22     <br>  binexp_geminga             64448  2021-02-28 08:22     <br>  cells_geminga            5132223  2021-02-28 08:22     <br>  lightfcurve_geminga      7289195  2021-02-28 08:39     <br>  BB-geminga                   281  2021-02-28 08:43     <br>  weight_hist_geminga          556  2021-02-28 08:43     <br><br></pre></div> </details>\n"
      ],
      "text/plain": [
       "<utilities.ipynb_docgen.doc_formatter.<locals>.MimeBundleObject at 0x7fa4bb4259d0>"
      ]
     },
     "metadata": {},
     "output_type": "display_data"
    }
   ],
   "source": [
    "%nbdev_collapse_input\n",
    "from light_curves.tools import *\n",
    "from wtlike.config import *\n",
    "from utilities.ipynb_docgen import *\n",
    "config = Config()\n",
    "source = PointSource('geminga')\n",
    "\n",
    "def show_cache():\n",
    "    \"\"\"\n",
    "    ## Current Cache\n",
    "    {the_cache}\n",
    "    \"\"\"\n",
    "    import pickle, datetime\n",
    "    sname = source.name\n",
    "    with capture_print('contents') as the_cache:                    \n",
    "        c = config.cache\n",
    "        s = f'Cache contents for source {sname}\\n  {\"key\":20}  {\"size\":>10}  {\"time\":20}\\n'\n",
    "        for name,value in c.items():\n",
    "            if name.endswith(sname):\n",
    "                stat = value.stat()\n",
    "                size = stat.st_size\n",
    "                mtime= str(datetime.datetime.fromtimestamp(stat.st_mtime))[:16]\n",
    "                s += f'  {name:20s}  {size:10}  {mtime:20} \\n'\n",
    "        print(s)\n",
    "    return locals()\n",
    "\n",
    "if config.valid:\n",
    "    nbdoc(show_cache)\n",
    "else:\n",
    "    print('Invalid data--not generating plots.')"
   ]
  },
  {
   "cell_type": "code",
   "execution_count": null,
   "metadata": {},
   "outputs": [
    {
     "data": {
      "text/markdown": [
       "## Fit to all data\n",
       "<details  class=\"nbdoc-description\" >  <summary> Analysis output </summary>  <div style=\"margin-left: 5%\"><pre>Cell data for geminga: Restoring from cache with key \"cells_geminga\"<br></pre></div> </details>\n",
       "This is the likelihood, for the combined dataset, a consistency check of the weight calculation.\n",
       "<div class=\"nbdoc_image\">\n",
       "<figure style=\"margin-left: 5%\" title=\"Figure 1\">  <a href=\"images/geminga_combined_fig_01.png\" title=\"images/geminga_combined_fig_01.png\">    <img src=\"images/geminga_combined_fig_01.png\" alt=\"Figure 1 at images/geminga_combined_fig_01.png\" >   </a> </figure>\n",
       "</div>\n",
       "\n"
      ],
      "text/plain": [
       "<utilities.ipynb_docgen.doc_formatter.<locals>.MimeBundleObject at 0x7fa4c749d090>"
      ]
     },
     "metadata": {},
     "output_type": "display_data"
    }
   ],
   "source": [
    "%nbdev_collapse_input\n",
    "def geminga_combined():\n",
    "    \"\"\"\n",
    "    ## Fit to all data\n",
    "    {outp}\n",
    "    This is the likelihood, for the combined dataset, a consistency check of the weight calculation.\n",
    "    {fig1}\n",
    "    \"\"\"\n",
    "       \n",
    "    with capture_print('Analysis output') as outp:\n",
    "        ll = all_data_likelihood(config, source)\n",
    "\n",
    "    #print(ll,'\\nFit: ', ll.fit_info())\n",
    "    fig1, ax1 = plt.subplots(num=1, figsize=(3,2))\n",
    "    ll.plot(xlim =( 0.99, 1.01), ax=ax1)\n",
    "    return locals()\n",
    "if config.valid:\n",
    "    nbdoc(geminga_combined)"
   ]
  },
  {
   "cell_type": "code",
   "execution_count": null,
   "metadata": {},
   "outputs": [],
   "source": [
    "%nbdev_collapse_input\n",
    "def analysis_plots(name, expect=0.9963, short=50, simname=''):\n",
    "    \"\"\"\n",
    "    ### {sim} Geminga data\n",
    "    \n",
    "    {which_source} the daily binned data, or cells; then perform a Bayesian Blocks partition;\n",
    "    finally make fits to the resulting blocks. <br>(Run at {date})\n",
    "    \n",
    "    {output}\n",
    "    \n",
    "    This shows the fits to all cells, with the BB fit overlays.\n",
    "    {fig1}\n",
    "    \n",
    "    Since this is a constant source, there should be no breaks, that is, only one partition.\n",
    "    Here is a table of the partition fits:\n",
    "    \n",
    "    {df_text}\n",
    "    The last column represents the compatibility of the flux measurement for each partition\n",
    "    with the expected value {expect} in equivalent sigma units.\n",
    "    \n",
    "    Expand the plot around short, < {short} day partitions.\n",
    "    {short_check}\n",
    "    \n",
    "    {fig2}\n",
    "    \"\"\"\n",
    "\n",
    "    simulated = bool(simname)\n",
    "    sim= 'Simulated' if simulated else ''\n",
    "    which_source = 'Simulate a set of ' if simulated else 'Get'\n",
    "    with capture_print('Analysis output' ) as output:\n",
    "        if not simulated:\n",
    "            lc, bb_lc = analyze_data(config, source)\n",
    "        else: \n",
    "            lc, bb_lc = simulation(config, source, bb_key=simname) \n",
    "\n",
    "    pd.set_option('display.precision', 3)#, 'display.colheader_justify','left')\n",
    "    \n",
    "    df = fit_table(bb_lc, expect=expect)\n",
    "    df_text = monospace(str(df), 'BB fit table', open=True)\n",
    "        \n",
    "    plt.rc('font', size=16)\n",
    "    fig1, ax = plt.subplots(1,1, sharex=True, figsize=(10,4), num=1)\n",
    "    bb_overplot(config, lc, bb_lc, ax = ax)\n",
    "    ax.text(0.05, 0.85, name,  transform=ax.transAxes);\n",
    "    fig1.width=600\n",
    "\n",
    "    bb_short = bb_lc.query(f'tw<{short}'); ns =len(bb_short)\n",
    "    if ns>0:\n",
    "        short_check=f'There are {ns} such.'\n",
    "        rows, cols = (ns+2)//3, 3\n",
    "        fig2, axx = plt.subplots( rows,3,  figsize=(5*cols, 4*rows),\n",
    "                                 sharey=True, sharex=True,\n",
    "                     gridspec_kw=dict(top=0.85, left=0.08, bottom=0.15, hspace=0.2 ),num=2)\n",
    "        if ns>1: fig2.width=600\n",
    "        axf = axx.flatten()\n",
    "        [ax.set_visible(False) for ax in axf[ns:]]\n",
    "        for t, ax in zip(bb_short.t, axf):\n",
    "            bb_overplot(config, lc, bb_lc, ax=ax, tzero=t, xlim=(-50, +50))\n",
    "    else:\n",
    "        fig2=''\n",
    "        short_check = 'None found.'\n",
    "    return locals()"
   ]
  },
  {
   "cell_type": "code",
   "execution_count": null,
   "metadata": {},
   "outputs": [
    {
     "data": {
      "text/markdown": [
       "###  Geminga data\n",
       "\n",
       "Get the daily binned data, or cells; then perform a Bayesian Blocks partition;\n",
       "finally make fits to the resulting blocks. <br>(Run at 2021-02-28 09:07)\n",
       "\n",
       "<details  class=\"nbdoc-description\" >  <summary> Analysis output </summary>  <div style=\"margin-left: 5%\"><pre>Light curve for geminga: Restoring from cache with key \"lightfcurve_geminga\"<br>Cell data for geminga: Restoring from cache with key \"cells_geminga\"<br>BB-geminga: Restoring from cache with key \"BB-geminga\"<br>Partitioned 3873 cells into 15 blocks, using LikelihoodFitness <br>Loaded 15 / 15 cells with exposure &gt; 0.3 for fitting<br></pre></div> </details>\n",
       "\n",
       "This shows the fits to all cells, with the BB fit overlays.\n",
       "<div class=\"nbdoc_image\">\n",
       "<figure style=\"margin-left: 5%\" title=\"Figure 1\">  <a href=\"images/analysis_plots_fig_01.png\" title=\"images/analysis_plots_fig_01.png\">    <img src=\"images/analysis_plots_fig_01.png\" alt=\"Figure 1 at images/analysis_plots_fig_01.png\" width=600>   </a> </figure>\n",
       "</div>\n",
       "\n",
       "\n",
       "Since this is a constant source, there should be no breaks, that is, only one partition.\n",
       "Here is a table of the partition fits:\n",
       "\n",
       "<details open class=\"nbdoc-description\" >  <summary> BB fit table </summary>  <div style=\"margin-left: 5%\"><pre>          t      tw       n   flux           errors  sigma_dev  limit<br>0   55027.0   688.0  226266  1.002  (-0.003, 0.003)        1.9  1.007<br>1   55378.0    14.0    4175  1.127  (-0.024, 0.025)        5.5  1.168<br>2   55559.0   348.0  104103  0.988  (-0.004, 0.004)       -1.9  0.995<br>3   55746.5    27.0    8423  1.119  (-0.017, 0.017)        7.3  1.147<br>4   56114.0   708.0  208558  0.995  (-0.003, 0.003)       -0.5  1.000<br>5   56487.0    38.0   11673  1.082  (-0.014, 0.014)        6.3  1.106<br>6   56512.5    13.0    3701  0.905  (-0.021, 0.022)       -4.1  0.941<br>7   56674.0   310.0   91733  0.993  (-0.005, 0.005)       -0.8  1.000<br>8   56880.0   102.0   30315  1.030  (-0.008, 0.008)        4.0  1.043<br>9   56972.5    83.0   22865  0.969  (-0.009, 0.009)       -2.9  0.985<br>10  57017.5     7.0    2259  1.161  (-0.034, 0.034)        5.0  1.218<br>11  57109.0   176.0   49643  1.007  (-0.006, 0.006)        1.6  1.017<br>12  57197.5     1.0     157  0.536   (-0.067, 0.07)       -5.7  0.658<br>13  57917.0  1438.0  401432  0.998  (-0.002, 0.002)        0.7  1.002<br>14  58666.5    61.0   11453  1.083  (-0.014, 0.014)        6.1  1.107</pre></div> </details>\n",
       "The last column represents the compatibility of the flux measurement for each partition\n",
       "with the expected value 0.9963 in equivalent sigma units.\n",
       "\n",
       "Expand the plot around short, < 50 day partitions.\n",
       "There are 6 such.\n",
       "\n",
       "<div class=\"nbdoc_image\">\n",
       "<figure style=\"margin-left: 5%\" title=\"Figure 2\">  <a href=\"images/analysis_plots_fig_02.png\" title=\"images/analysis_plots_fig_02.png\">    <img src=\"images/analysis_plots_fig_02.png\" alt=\"Figure 2 at images/analysis_plots_fig_02.png\" width=600>   </a> </figure>\n",
       "</div>\n",
       "\n"
      ],
      "text/plain": [
       "<utilities.ipynb_docgen.doc_formatter.<locals>.MimeBundleObject at 0x7fa4bb0c9610>"
      ]
     },
     "metadata": {},
     "output_type": "display_data"
    }
   ],
   "source": [
    "%nbdev_collapse_input\n",
    "if config.valid:\n",
    "    nbdoc(analysis_plots, 'Geminga')"
   ]
  },
  {
   "cell_type": "code",
   "execution_count": null,
   "metadata": {},
   "outputs": [
    {
     "data": {
      "text/markdown": [
       "### Simulated Geminga data\n",
       "\n",
       "Simulate a set of  the daily binned data, or cells; then perform a Bayesian Blocks partition;\n",
       "finally make fits to the resulting blocks. <br>(Run at 2021-02-28 09:07)\n",
       "\n",
       "<details  class=\"nbdoc-description\" >  <summary> Analysis output </summary>  <div style=\"margin-left: 5%\"><pre>Light curve for geminga: Restoring from cache with key \"lightfcurve_geminga\"<br>Cell data for geminga: Restoring from cache with key \"cells_geminga\"<br>binned exposure for source geminga: Restoring from cache with key \"binexp_geminga\"<br>Weight histogram for geminga: Restoring from cache with key \"weight_hist_geminga\"<br>Loaded 3873 / 4015 cells with exposure &gt; 0.3 for fitting<br>analysis_plot_sim: Restoring from cache with key \"analysis_plot_sim\"<br>Partitioned 3873 cells into 2 blocks, using LikelihoodFitness <br>Loaded 2 / 2 cells with exposure &gt; 0.3 for fitting<br></pre></div> </details>\n",
       "\n",
       "This shows the fits to all cells, with the BB fit overlays.\n",
       "<div class=\"nbdoc_image\">\n",
       "<figure style=\"margin-left: 5%\" title=\"Figure 1\">  <a href=\"images/analysis_sim_fig_01.png\" title=\"images/analysis_sim_fig_01.png\">    <img src=\"images/analysis_sim_fig_01.png\" alt=\"Figure 1 at images/analysis_sim_fig_01.png\" width=600>   </a> </figure>\n",
       "</div>\n",
       "\n",
       "\n",
       "Since this is a constant source, there should be no breaks, that is, only one partition.\n",
       "Here is a table of the partition fits:\n",
       "\n",
       "<details open class=\"nbdoc-description\" >  <summary> BB fit table </summary>  <div style=\"margin-left: 5%\"><pre>         t      tw        n   flux           errors  sigma_dev  limit<br>0  56318.0  3270.0  1031971  0.992  (-0.001, 0.001)        0.1  0.994<br>1  58325.0   744.0   186592  0.995  (-0.003, 0.003)        0.9  1.000</pre></div> </details>\n",
       "The last column represents the compatibility of the flux measurement for each partition\n",
       "with the expected value 0.9915 in equivalent sigma units.\n",
       "\n",
       "Expand the plot around short, < 50 day partitions.\n",
       "None found.\n",
       "\n",
       "\n"
      ],
      "text/plain": [
       "<utilities.ipynb_docgen.doc_formatter.<locals>.MimeBundleObject at 0x7fa4baf66590>"
      ]
     },
     "metadata": {},
     "output_type": "display_data"
    }
   ],
   "source": [
    "%nbdev_collapse_input\n",
    "if config.valid:\n",
    "\n",
    "    nbdoc(analysis_plots, 'Geminga', name='analysis_sim',  simname='analysis_plot_sim', \n",
    "         expect=0.9915)"
   ]
  },
  {
   "cell_type": "markdown",
   "metadata": {},
   "source": [
    "# TO DO\n",
    "- Fix a 0.4% bias from the cell fit when applied to high-statisics data.\n",
    "\n",
    "- Look at the intervals detected for the data, of which 5 have measured flux increases around 10%,  more than 4$\\sigma$. Possibilities are a problem with the exposure, and a change in the background. The latter can be examined by a 2-D fit with $\\beta$ free. Another possibility, fixing $\\alpha=0$ and fitting $\\beta$ is not (yet) supported.\n"
   ]
  }
 ],
 "metadata": {
  "kernelspec": {
   "display_name": "Python 3",
   "language": "python",
   "name": "python3"
  }
 },
 "nbformat": 4,
 "nbformat_minor": 4
}
