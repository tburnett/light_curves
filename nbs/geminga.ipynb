{
 "cells": [
  {
   "cell_type": "code",
   "execution_count": null,
   "metadata": {},
   "outputs": [
    {
     "name": "stdout",
     "output_type": "stream",
     "text": [
      "Tue Apr 20 13:46:23 PDT 2021\n"
     ]
    }
   ],
   "source": [
    "from nbdev import *\n",
    "%nbdev_hide_input\n",
    "!date"
   ]
  },
  {
   "cell_type": "markdown",
   "metadata": {},
   "source": [
    "# Geminga Analyses\n",
    "\n",
    "> Ongoing analyses\n"
   ]
  },
  {
   "cell_type": "markdown",
   "metadata": {},
   "source": [
    "## `wtlike` library functions used here **\n",
    "- `get_cells`\n",
    "- `simulate_cells`\n",
    "- `get_lightcurve`\n",
    "- `get_bb_partition`\n",
    "- `partition_cells`\n",
    "- `fit_cells`\n",
    "- `flux_plot`\n"
   ]
  },
  {
   "cell_type": "markdown",
   "metadata": {},
   "source": [
    "## Introduction\n",
    "\n",
    "This notebook does not produce a module to add to the library, it a place to run, and report on analyses using the library. It uses local code, shown below.\n",
    "\n",
    "This is also an exploration of this style of presenting code, and data analysis based on it.\n",
    "\n",
    "## Geminga analyses\n",
    "\n",
    "Following Kerr's example, we use the source Geminga to verify that this analysis of data gives results consistent with its being constant. As you can see below, the BB analysis finds several breaks, which merit further checks. That is followed by a simulation using\n",
    "Geminga's weight distribution and exposure. The run shown here finds one minor break, a change of 0.08%. "
   ]
  },
  {
   "cell_type": "code",
   "execution_count": null,
   "metadata": {},
   "outputs": [
    {
     "data": {
      "text/markdown": [
       "### Cache contents for this source\n",
       "\n",
       "<div style=\"margin-left: 5%\"><pre>Cache entries starting with Geminga<br> key                                    size  time                 name, in folder /tmp/cache<br>  Geminga_weekly_data              133875174  2021-04-19 05:57     cache_file_1cfb0f0e1a6f3db0.pkl<br>  Geminga_monthly_data             123320753  2021-04-19 08:16     cache_file_f18e23751afb28a.pkl<br>  Geminga_weekly_bb_edges                225  2021-04-20 06:52     cache_file_61e8b1afba964328.pkl<br><br></pre></div>\n",
       "\n",
       "## Fit to all data\n",
       "<details  class=\"nbdoc-description\" >  <summary> Analysis output </summary>  <div style=\"margin-left: 5%\"><pre>photons and exposure for Geminga: Restoring from cache with key \"Geminga_weekly_data\"<br>Time bins: 4636 intervals of 1 days, from MJD 54683.0(2008-08-05) to 59319.0(2021-04-15))<br>Loaded 4436 / 4436 cells with exposure &gt; 0.3 for light curve analysis<br></pre></div> </details>\n",
       "This is the likelihood, for the combined dataset, a consistency check of the weight calculation.\n",
       "<div class=\"nbdoc_image\">\n",
       "<figure style=\"margin-left: 5%\" title=\"Figure 1\">  <a href=\"images/geminga_combined_fig_01.png\" title=\"images/geminga_combined_fig_01.png\">    <img src=\"images/geminga_combined_fig_01.png\" alt=\"Figure 1 at images/geminga_combined_fig_01.png\" >   </a> </figure>\n",
       "</div>\n",
       "\n"
      ],
      "text/plain": [
       "<utilities.ipynb_docgen.doc_formatter.<locals>.MimeBundleObject at 0x7fb2bda94450>"
      ]
     },
     "metadata": {},
     "output_type": "display_data"
    }
   ],
   "source": [
    "%nbdev_collapse_input\n",
    "\n",
    "#from light_curves.tools import *\n",
    "from wtlike.config import *\n",
    "from wtlike.bayesian import *\n",
    "from wtlike.lightcurve import *\n",
    "from utilities.ipynb_docgen import *\n",
    "config = Config(data_folder='/home/burnett/weekly')\n",
    "source = PointSource('Geminga')\n",
    "bba = None\n",
    "plt.rcParams['savefig.pad_inches']= 0.1\n",
    "\n",
    "def geminga_combined():\n",
    "    \"\"\"\n",
    "    ### Cache contents for this source\n",
    "    \n",
    "    {geminga_cache}\n",
    "    \n",
    "    ## Fit to all data\n",
    "    {outp}\n",
    "    This is the likelihood, for the combined dataset, a consistency check of the weight calculation.\n",
    "    {fig1}\n",
    "    \"\"\"\n",
    "    global bba\n",
    "    with capture_print() as geminga_cache: \n",
    "        print(config.cache.show( source.name))\n",
    "       \n",
    "    with capture_print('Analysis output') as outp:\n",
    "        bba = BayesianBlockAnalysis(config, source)\n",
    "        lla = bba.all_data_likelihood()\n",
    "\n",
    "    #print(ll,'\\nFit: ', ll.fit_info())\n",
    "    fig1, ax1 = plt.subplots(num=1, figsize=(4,2))\n",
    "\n",
    "    lla.plot(xlim =( 0.99, 1.01), ax=ax1)\n",
    "    #fig1.savefig('test.png', bbox_inches='tight')\n",
    "\n",
    "    return locals()\n",
    "if config.valid:\n",
    "    nbdoc(geminga_combined)\n",
    "else:\n",
    "    print('config not valid')"
   ]
  },
  {
   "cell_type": "code",
   "execution_count": null,
   "metadata": {},
   "outputs": [],
   "source": [
    "%nbdev_collapse_input\n",
    "def analysis_plots(name, expect=0.9963, short=50, simname=''):\n",
    "    \"\"\"\n",
    "    ### {sim} Geminga data\n",
    "    \n",
    "    {which_source} the daily binned data, or cells; then perform a Bayesian Blocks partition;\n",
    "    finally make fits to the resulting blocks. <br>(Run at {date})\n",
    "    \n",
    "    {output}\n",
    "    \n",
    "    This shows the fits to all cells, with the BB fit overlays.\n",
    "    {fig1}\n",
    "    \n",
    "    Since this is a constant source, there should be no breaks, that is, only one partition.\n",
    "    Here is a table of the partition fits:\n",
    "    \n",
    "    {df_text}\n",
    "    The last column represents the compatibility of the flux measurement for each partition\n",
    "    with the expected value {expect} in equivalent sigma units.\n",
    "    \n",
    "    Expand the plot around short, < {short} day partitions.\n",
    "    {short_check}\n",
    "    \n",
    "    {fig2}\n",
    "    \"\"\"\n",
    "\n",
    "    simulated = bool(simname)\n",
    "    sim= 'Simulated' if simulated else ''\n",
    "    which_source = 'Simulate a set of ' if simulated else 'Get'\n",
    "    with capture_print('Analysis output' ) as output:\n",
    "        if not simulated:\n",
    "            lc = bba.lc_df\n",
    "            bba.partition()\n",
    "            bb_lc =  bba.bb_fit\n",
    "        else: \n",
    "            lc, bb_lc = simulation(config, source, bb_key=simname) \n",
    "\n",
    "    pd.set_option('display.precision', 3)#, 'display.colheader_justify','left')\n",
    "    \n",
    "    df = fit_table(bb_lc, expect=expect)\n",
    "    df_text = monospace(str(df), 'BB fit table', open=True)\n",
    "        \n",
    "    plt.rc('font', size=16)\n",
    "    fig1, ax = plt.subplots(1,1, sharex=True, figsize=(10,4), num=1)\n",
    "    bb_overplot(config, lc, bb_lc, ax = ax)\n",
    "    ax.text(0.05, 0.85, name,  transform=ax.transAxes);\n",
    "    fig1.width=600\n",
    "\n",
    "    bb_short = bb_lc.query(f'tw<{short}'); ns =len(bb_short)\n",
    "    if ns>0:\n",
    "        short_check=f'There are {ns} such.'\n",
    "        rows, cols = (ns+2)//3, 3\n",
    "        fig2, axx = plt.subplots( rows,3,  figsize=(5*cols, 4*rows),\n",
    "                                 sharey=True, sharex=True,\n",
    "                     gridspec_kw=dict(top=0.85, left=0.08, bottom=0.15, hspace=0.2 ),num=2)\n",
    "        if ns>1: fig2.width=600\n",
    "        axf = axx.flatten()\n",
    "        [ax.set_visible(False) for ax in axf[ns:]]\n",
    "        for t, ax in zip(bb_short.t, axf):\n",
    "            bb_overplot(config, lc, bb_lc, ax=ax, tzero=t, xlim=(-50, +50))\n",
    "    else:\n",
    "        fig2=''\n",
    "        short_check = 'None found.'\n",
    "    return locals()"
   ]
  },
  {
   "cell_type": "code",
   "execution_count": null,
   "metadata": {},
   "outputs": [
    {
     "data": {
      "text/markdown": [
       "###  Geminga data\n",
       "\n",
       "Get the daily binned data, or cells; then perform a Bayesian Blocks partition;\n",
       "finally make fits to the resulting blocks. <br>(Run at 2021-04-20 13:50)\n",
       "\n",
       "<details  class=\"nbdoc-description\" >  <summary> Analysis output </summary>  <div style=\"margin-left: 5%\"><pre>Geminga_weekly_bb_edges: Restoring from cache with key \"Geminga_weekly_bb_edges\"<br>Partitioned 4436 cells into 8 blocks, using LikelihoodFitness <br>Loaded 8 / 8 cells with exposure &gt; 0.3 for fitting<br></pre></div> </details>\n",
       "\n",
       "This shows the fits to all cells, with the BB fit overlays.\n",
       "<div class=\"nbdoc_image\">\n",
       "<figure style=\"margin-left: 5%\" title=\"Figure 1\">  <a href=\"images/analysis_plots_fig_01.png\" title=\"images/analysis_plots_fig_01.png\">    <img src=\"images/analysis_plots_fig_01.png\" alt=\"Figure 1 at images/analysis_plots_fig_01.png\" width=600>   </a> </figure>\n",
       "</div>\n",
       "\n",
       "\n",
       "Since this is a constant source, there should be no breaks, that is, only one partition.\n",
       "Here is a table of the partition fits:\n",
       "\n",
       "<details open class=\"nbdoc-description\" >  <summary> BB fit table </summary>  <div style=\"margin-left: 5%\"><pre>         t      tw       n   flux           errors  sigma_dev  limit<br>0  55027.0   683.0  258110  1.004  (-0.003, 0.003)        2.6  1.009<br>1  55378.0    14.0    4685  1.116  (-0.024, 0.024)        5.2  1.155<br>2  55560.5   350.0  121782  0.990  (-0.004, 0.004)       -1.6  0.997<br>3  55748.0    24.0    8417  1.110  (-0.017, 0.018)        6.6  1.139<br>4  56114.0   708.0  240991  0.993  (-0.003, 0.003)       -1.0  0.998<br>5  56487.0    38.0   13164  1.071  (-0.013, 0.014)        5.7  1.094<br>6  56523.0    34.0   10325  0.944  (-0.014, 0.014)       -3.7  0.967<br>7  57929.5  2585.0  865013  1.000  (-0.002, 0.002)        2.4  1.003</pre></div> </details>\n",
       "The last column represents the compatibility of the flux measurement for each partition\n",
       "with the expected value 0.9963 in equivalent sigma units.\n",
       "\n",
       "Expand the plot around short, < 50 day partitions.\n",
       "There are 4 such.\n",
       "\n",
       "<div class=\"nbdoc_image\">\n",
       "<figure style=\"margin-left: 5%\" title=\"Figure 2\">  <a href=\"images/analysis_plots_fig_02.png\" title=\"images/analysis_plots_fig_02.png\">    <img src=\"images/analysis_plots_fig_02.png\" alt=\"Figure 2 at images/analysis_plots_fig_02.png\" width=600>   </a> </figure>\n",
       "</div>\n",
       "\n"
      ],
      "text/plain": [
       "<utilities.ipynb_docgen.doc_formatter.<locals>.MimeBundleObject at 0x7fb2bd85ea10>"
      ]
     },
     "metadata": {},
     "output_type": "display_data"
    }
   ],
   "source": [
    "%nbdev_collapse_input\n",
    "if config.valid:\n",
    "    nbdoc(analysis_plots, 'Geminga')\n",
    "else:\n",
    "    print('config invalid')"
   ]
  },
  {
   "cell_type": "code",
   "execution_count": null,
   "metadata": {},
   "outputs": [
    {
     "name": "stdout",
     "output_type": "stream",
     "text": [
      "Simulation needs to be updated\n"
     ]
    }
   ],
   "source": [
    "%nbdev_collapse_input\n",
    "if config.valid:\n",
    "    print('Simulation needs to be updated')\n",
    "#     nbdoc(analysis_plots, 'Geminga', name='analysis_sim',  simname='analysis_plot_sim', \n",
    "#          expect=0.9915)\n",
    "else:\n",
    "    print('config invalid')"
   ]
  },
  {
   "cell_type": "markdown",
   "metadata": {},
   "source": [
    "# TO DO\n",
    "- Fix a 0.4% bias from the cell fit when applied to high-statisics data.\n",
    "\n",
    "- Look at the intervals detected for the data, of which 5 have measured flux increases around 10%,  more than 4$\\sigma$. Possibilities are a problem with the exposure, and a change in the background. The latter can be examined by a 2-D fit with $\\beta$ free. Another possibility, fixing $\\alpha=0$ and fitting $\\beta$ is not (yet) supported.\n"
   ]
  },
  {
   "cell_type": "code",
   "execution_count": null,
   "metadata": {},
   "outputs": [],
   "source": []
  }
 ],
 "metadata": {
  "kernelspec": {
   "display_name": "Python 3",
   "language": "python",
   "name": "python3"
  }
 },
 "nbformat": 4,
 "nbformat_minor": 4
}
