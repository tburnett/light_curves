{
 "cells": [
  {
   "cell_type": "code",
   "execution_count": null,
   "metadata": {},
   "outputs": [],
   "source": [
    "# default_exp weights\n",
    "%load_ext autoreload\n",
    "%autoreload 2\n",
    "# from nbdev.export2html import nbdev_build_docs\n",
    "# nbdev_build_docs()"
   ]
  },
  {
   "cell_type": "markdown",
   "metadata": {},
   "source": [
    "# Weights\n",
    "> Load weighted data, combine with photon data"
   ]
  },
  {
   "cell_type": "code",
   "execution_count": null,
   "metadata": {},
   "outputs": [],
   "source": [
    "#export\n",
    "import os,  pickle, healpy\n",
    "import numpy as np\n",
    "from light_curves.config import LCconfig, FileConfiguration, PointSource\n",
    "from light_curves.load_gti import get_gti\n",
    "from light_curves.photon_data import get_photon_data\n",
    "\n",
    "config = None\n",
    "files = None"
   ]
  },
  {
   "cell_type": "markdown",
   "metadata": {},
   "source": [
    "Set up photon data for tests"
   ]
  },
  {
   "cell_type": "code",
   "execution_count": null,
   "metadata": {},
   "outputs": [
    {
     "name": "stdout",
     "output_type": "stream",
     "text": [
      "Loading photon data for using source Geminga to test adding weights\n",
      "Processing 11 GTI files ...  11 files, 63635 intervals with 3,322 days live time\n",
      "\tcut from 63,635 to 0 - 4816, or 4,816 entries after MJD range selection\n",
      "\tGTI MJD range: 54682.66-55000.03, good fraction 0.82 \n",
      "Loading  132 months from Arrow dataset /home/burnett/data/dataset\n",
      "..........."
     ]
    },
    {
     "name": "stderr",
     "output_type": "stream",
     "text": [
      "WARNING: no photons in GTI for month 12!\n",
      "WARNING: no photons in GTI for month 13!\n",
      "WARNING: no photons in GTI for month 14!\n",
      "WARNING: no photons in GTI for month 15!\n"
     ]
    },
    {
     "name": "stdout",
     "output_type": "stream",
     "text": [
      "...."
     ]
    },
    {
     "name": "stderr",
     "output_type": "stream",
     "text": [
      "WARNING: no photons in GTI for month 16!\n",
      "WARNING: no photons in GTI for month 17!\n",
      "WARNING: no photons in GTI for month 18!\n",
      "WARNING: no photons in GTI for month 19!\n",
      "WARNING: no photons in GTI for month 20!\n"
     ]
    },
    {
     "name": "stdout",
     "output_type": "stream",
     "text": [
      "....."
     ]
    },
    {
     "name": "stderr",
     "output_type": "stream",
     "text": [
      "WARNING: no photons in GTI for month 21!\n",
      "WARNING: no photons in GTI for month 22!\n",
      "WARNING: no photons in GTI for month 23!\n",
      "WARNING: no photons in GTI for month 24!\n",
      "WARNING: no photons in GTI for month 25!\n"
     ]
    },
    {
     "name": "stdout",
     "output_type": "stream",
     "text": [
      "....."
     ]
    },
    {
     "name": "stderr",
     "output_type": "stream",
     "text": [
      "WARNING: no photons in GTI for month 26!\n",
      "WARNING: no photons in GTI for month 27!\n",
      "WARNING: no photons in GTI for month 28!\n",
      "WARNING: no photons in GTI for month 29!\n",
      "WARNING: no photons in GTI for month 30!\n"
     ]
    },
    {
     "name": "stdout",
     "output_type": "stream",
     "text": [
      "....."
     ]
    },
    {
     "name": "stderr",
     "output_type": "stream",
     "text": [
      "WARNING: no photons in GTI for month 31!\n",
      "WARNING: no photons in GTI for month 32!\n",
      "WARNING: no photons in GTI for month 33!\n",
      "WARNING: no photons in GTI for month 34!\n",
      "WARNING: no photons in GTI for month 35!\n"
     ]
    },
    {
     "name": "stdout",
     "output_type": "stream",
     "text": [
      "....."
     ]
    },
    {
     "name": "stderr",
     "output_type": "stream",
     "text": [
      "WARNING: no photons in GTI for month 36!\n",
      "WARNING: no photons in GTI for month 37!\n",
      "WARNING: no photons in GTI for month 38!\n",
      "WARNING: no photons in GTI for month 39!\n",
      "WARNING: no photons in GTI for month 40!\n"
     ]
    },
    {
     "name": "stdout",
     "output_type": "stream",
     "text": [
      "....."
     ]
    },
    {
     "name": "stderr",
     "output_type": "stream",
     "text": [
      "WARNING: no photons in GTI for month 41!\n",
      "WARNING: no photons in GTI for month 42!\n",
      "WARNING: no photons in GTI for month 43!\n",
      "WARNING: no photons in GTI for month 44!\n",
      "WARNING: no photons in GTI for month 45!\n"
     ]
    },
    {
     "name": "stdout",
     "output_type": "stream",
     "text": [
      "....."
     ]
    },
    {
     "name": "stderr",
     "output_type": "stream",
     "text": [
      "WARNING: no photons in GTI for month 46!\n",
      "WARNING: no photons in GTI for month 47!\n",
      "WARNING: no photons in GTI for month 48!\n",
      "WARNING: no photons in GTI for month 49!\n",
      "WARNING: no photons in GTI for month 50!\n"
     ]
    },
    {
     "name": "stdout",
     "output_type": "stream",
     "text": [
      "....."
     ]
    },
    {
     "name": "stderr",
     "output_type": "stream",
     "text": [
      "WARNING: no photons in GTI for month 51!\n",
      "WARNING: no photons in GTI for month 52!\n",
      "WARNING: no photons in GTI for month 53!\n",
      "WARNING: no photons in GTI for month 54!\n",
      "WARNING: no photons in GTI for month 55!\n"
     ]
    },
    {
     "name": "stdout",
     "output_type": "stream",
     "text": [
      "......"
     ]
    },
    {
     "name": "stderr",
     "output_type": "stream",
     "text": [
      "WARNING: no photons in GTI for month 56!\n",
      "WARNING: no photons in GTI for month 57!\n",
      "WARNING: no photons in GTI for month 58!\n",
      "WARNING: no photons in GTI for month 59!\n",
      "WARNING: no photons in GTI for month 60!\n"
     ]
    },
    {
     "name": "stdout",
     "output_type": "stream",
     "text": [
      "....."
     ]
    },
    {
     "name": "stderr",
     "output_type": "stream",
     "text": [
      "WARNING: no photons in GTI for month 61!\n",
      "WARNING: no photons in GTI for month 62!\n",
      "WARNING: no photons in GTI for month 63!\n",
      "WARNING: no photons in GTI for month 64!\n",
      "WARNING: no photons in GTI for month 65!\n"
     ]
    },
    {
     "name": "stdout",
     "output_type": "stream",
     "text": [
      "....."
     ]
    },
    {
     "name": "stderr",
     "output_type": "stream",
     "text": [
      "WARNING: no photons in GTI for month 66!\n",
      "WARNING: no photons in GTI for month 67!\n",
      "WARNING: no photons in GTI for month 68!\n",
      "WARNING: no photons in GTI for month 69!\n",
      "WARNING: no photons in GTI for month 70!\n"
     ]
    },
    {
     "name": "stdout",
     "output_type": "stream",
     "text": [
      "....."
     ]
    },
    {
     "name": "stderr",
     "output_type": "stream",
     "text": [
      "WARNING: no photons in GTI for month 71!\n",
      "WARNING: no photons in GTI for month 72!\n",
      "WARNING: no photons in GTI for month 73!\n",
      "WARNING: no photons in GTI for month 74!\n",
      "WARNING: no photons in GTI for month 75!\n"
     ]
    },
    {
     "name": "stdout",
     "output_type": "stream",
     "text": [
      "....."
     ]
    },
    {
     "name": "stderr",
     "output_type": "stream",
     "text": [
      "WARNING: no photons in GTI for month 76!\n",
      "WARNING: no photons in GTI for month 77!\n",
      "WARNING: no photons in GTI for month 78!\n",
      "WARNING: no photons in GTI for month 79!\n",
      "WARNING: no photons in GTI for month 80!\n"
     ]
    },
    {
     "name": "stdout",
     "output_type": "stream",
     "text": [
      "....."
     ]
    },
    {
     "name": "stderr",
     "output_type": "stream",
     "text": [
      "WARNING: no photons in GTI for month 81!\n",
      "WARNING: no photons in GTI for month 82!\n",
      "WARNING: no photons in GTI for month 83!\n",
      "WARNING: no photons in GTI for month 84!\n",
      "WARNING: no photons in GTI for month 85!\n"
     ]
    },
    {
     "name": "stdout",
     "output_type": "stream",
     "text": [
      "....."
     ]
    },
    {
     "name": "stderr",
     "output_type": "stream",
     "text": [
      "WARNING: no photons in GTI for month 86!\n",
      "WARNING: no photons in GTI for month 87!\n",
      "WARNING: no photons in GTI for month 88!\n",
      "WARNING: no photons in GTI for month 89!\n",
      "WARNING: no photons in GTI for month 90!\n"
     ]
    },
    {
     "name": "stdout",
     "output_type": "stream",
     "text": [
      "....."
     ]
    },
    {
     "name": "stderr",
     "output_type": "stream",
     "text": [
      "WARNING: no photons in GTI for month 91!\n",
      "WARNING: no photons in GTI for month 92!\n",
      "WARNING: no photons in GTI for month 93!\n",
      "WARNING: no photons in GTI for month 94!\n",
      "WARNING: no photons in GTI for month 95!\n"
     ]
    },
    {
     "name": "stdout",
     "output_type": "stream",
     "text": [
      "....."
     ]
    },
    {
     "name": "stderr",
     "output_type": "stream",
     "text": [
      "WARNING: no photons in GTI for month 96!\n",
      "WARNING: no photons in GTI for month 97!\n",
      "WARNING: no photons in GTI for month 98!\n",
      "WARNING: no photons in GTI for month 99!\n",
      "WARNING: no photons in GTI for month 100!\n"
     ]
    },
    {
     "name": "stdout",
     "output_type": "stream",
     "text": [
      "....."
     ]
    },
    {
     "name": "stderr",
     "output_type": "stream",
     "text": [
      "WARNING: no photons in GTI for month 101!\n",
      "WARNING: no photons in GTI for month 102!\n",
      "WARNING: no photons in GTI for month 103!\n",
      "WARNING: no photons in GTI for month 104!\n",
      "WARNING: no photons in GTI for month 105!\n"
     ]
    },
    {
     "name": "stdout",
     "output_type": "stream",
     "text": [
      "....."
     ]
    },
    {
     "name": "stderr",
     "output_type": "stream",
     "text": [
      "WARNING: no photons in GTI for month 106!\n",
      "WARNING: no photons in GTI for month 107!\n",
      "WARNING: no photons in GTI for month 108!\n",
      "WARNING: no photons in GTI for month 109!\n",
      "WARNING: no photons in GTI for month 110!\n"
     ]
    },
    {
     "name": "stdout",
     "output_type": "stream",
     "text": [
      "....."
     ]
    },
    {
     "name": "stderr",
     "output_type": "stream",
     "text": [
      "WARNING: no photons in GTI for month 111!\n",
      "WARNING: no photons in GTI for month 112!\n",
      "WARNING: no photons in GTI for month 113!\n",
      "WARNING: no photons in GTI for month 114!\n",
      "WARNING: no photons in GTI for month 115!\n"
     ]
    },
    {
     "name": "stdout",
     "output_type": "stream",
     "text": [
      "....."
     ]
    },
    {
     "name": "stderr",
     "output_type": "stream",
     "text": [
      "WARNING: no photons in GTI for month 116!\n",
      "WARNING: no photons in GTI for month 117!\n",
      "WARNING: no photons in GTI for month 118!\n",
      "WARNING: no photons in GTI for month 119!\n",
      "WARNING: no photons in GTI for month 120!\n"
     ]
    },
    {
     "name": "stdout",
     "output_type": "stream",
     "text": [
      "....."
     ]
    },
    {
     "name": "stderr",
     "output_type": "stream",
     "text": [
      "WARNING: no photons in GTI for month 121!\n",
      "WARNING: no photons in GTI for month 122!\n",
      "WARNING: no photons in GTI for month 123!\n",
      "WARNING: no photons in GTI for month 124!\n",
      "WARNING: no photons in GTI for month 125!\n"
     ]
    },
    {
     "name": "stdout",
     "output_type": "stream",
     "text": [
      "....."
     ]
    },
    {
     "name": "stderr",
     "output_type": "stream",
     "text": [
      "WARNING: no photons in GTI for month 126!\n",
      "WARNING: no photons in GTI for month 127!\n",
      "WARNING: no photons in GTI for month 128!\n",
      "WARNING: no photons in GTI for month 129!\n"
     ]
    },
    {
     "name": "stdout",
     "output_type": "stream",
     "text": [
      "......\n",
      "\tSelected 126602 photons within 5 deg of  (195.13,4.27)\n",
      "\tEnergies: 100.0-1000000 MeV\n",
      "\tDates:    2008-08-04 15:46 - 2009-06-18 00:26\n",
      "\tMJD  :    54682.7          - 55000.0         \n"
     ]
    },
    {
     "name": "stderr",
     "output_type": "stream",
     "text": [
      "WARNING: no photons in GTI for month 130!\n",
      "WARNING: no photons in GTI for month 131!\n",
      "WARNING: no photons in GTI for month 132!\n"
     ]
    }
   ],
   "source": [
    "config = LCconfig(mjd_range=(54682,55000 ))\n",
    "files = FileConfiguration()\n",
    "source = PointSource('Geminga')\n",
    "\n",
    "if files.valid:\n",
    "    print(f'Loading photon data for using source {source.name} to test adding weights')\n",
    "    photon_data = get_photon_data(config, files,  source )\n",
    "else:\n",
    "    print('Not testing since no files.')"
   ]
  },
  {
   "cell_type": "code",
   "execution_count": null,
   "metadata": {},
   "outputs": [],
   "source": [
    "#export\n",
    "def _load_weights(filename, ):\n",
    "    \"\"\"Load the weight informaton\n",
    "\n",
    "    filename: pickled dict with map info\n",
    "\n",
    "    \"\"\"\n",
    "    # load a pickle containing weights, generated by pointlike\n",
    "    assert os.path.exists(filename),f'File {filename} not found.'\n",
    "    with open(filename, 'rb') as file:\n",
    "        wtd = pickle.load(file, encoding='latin1')\n",
    "    assert type(wtd)==dict, 'Expect a dictionary'\n",
    "    test_elements = 'energy_bins pixels weights nside model_name radius order roi_name'.split()\n",
    "    assert np.all([x in wtd.keys() for x in test_elements]),f'Dict missing one of the keys {test_elements}'\n",
    "    if config.verbose>0:\n",
    "        print(f'Load weights from file {os.path.realpath(filename)}')\n",
    "        pos = wtd['source_lb']\n",
    "        print(f'\\tFound: {wtd[\"source_name\"]} at ({pos[0]:.2f}, {pos[1]:.2f})')\n",
    "    # extract pixel ids and nside used\n",
    "    wt_pix   = wtd['pixels']\n",
    "    nside_wt = wtd['nside']\n",
    "\n",
    "    # merge the weights into a table, with default nans\n",
    "    # indexing is band id rows by weight pixel columns\n",
    "    # append one empty column for photons not in a weight pixel\n",
    "    # calculated weights are in a dict with band id keys\n",
    "    wts = np.full((32, len(wt_pix)+1), np.nan, dtype=np.float32)\n",
    "    weight_dict = wtd['weights']\n",
    "    for k in weight_dict.keys():\n",
    "        t = weight_dict[k]\n",
    "        if len(t.shape)==2:\n",
    "            t = t.T[0] #???\n",
    "        wts[k,:-1] = t\n",
    "    return wts , wt_pix , nside_wt"
   ]
  },
  {
   "cell_type": "code",
   "execution_count": null,
   "metadata": {},
   "outputs": [
    {
     "name": "stdout",
     "output_type": "stream",
     "text": [
      "Load weights from file /mnt/c/users/thbur/OneDrive/fermi/weight_files/Geminga_weights.pkl\n",
      "\tFound: PSR J0633+1746 at (195.14, 4.27)\n"
     ]
    }
   ],
   "source": [
    "if files.valid:\n",
    "    weight_file =  os.path.join(files.weights, source.name+'_weights.pkl')\n",
    "    assert os.path.exists( weight_file ), 'Failed check for weights'\n",
    "    wts, wt_pix, nside_wt = _load_weights(weight_file)\n"
   ]
  },
  {
   "cell_type": "code",
   "execution_count": null,
   "metadata": {},
   "outputs": [],
   "source": [
    "#export\n",
    "def _add_weights(wts, wt_pix, nside_wt, photon_data):\n",
    "    # get the photon pixel ids, convert to NEST (if not already) and right shift them\n",
    "\n",
    "    if not config.nest:\n",
    "        # data are RING\n",
    "        photon_pix = healpy.ring2nest(config.nside, photon_data.pixel.values)\n",
    "    else:\n",
    "        photon_pix = photon_data.pixel.values\n",
    "    to_shift = 2*int(np.log2(config.nside/nside_wt));\n",
    "    shifted_pix =   np.right_shift(photon_pix, to_shift)\n",
    "    bad = np.logical_not(np.isin(shifted_pix, wt_pix))\n",
    "    if config.verbose>0:\n",
    "        print(f'\\tApplyng weights: {sum(bad)} / {len(bad)} photon pixels are outside weight region')\n",
    "    if sum(bad)==len(bad):\n",
    "        a = np.array(healpy.pix2ang(nside_wt, wt_pix, nest=True, lonlat=True)).mean(axis=1).round(1)\n",
    "        b = np.array(healpy.pix2ang(nside_wt, shifted_pix, nest=True, lonlat=True)).mean(axis=1).round(1)\n",
    "\n",
    "        raise Exception(f'There was no overlap of the photon data at {b} and the weights at {a}')\n",
    "    shifted_pix[bad] = 12*nside_wt**2 # set index to be beyond pixel indices\n",
    "\n",
    "    # find indices with search and add a \"weights\" column\n",
    "    # (expect that wt_pix are NEST ordering and sorted)\n",
    "    weight_index = np.searchsorted(wt_pix,shifted_pix)\n",
    "    band_index = np.fmin(31, photon_data.band.values) #all above 1 TeV into last bin\n",
    "\n",
    "    # final grand lookup -- isn't numpy wonderful!\n",
    "    photon_data.loc[:,'weight'] = wts[tuple([band_index, weight_index])]\n",
    "    if config.verbose>0:\n",
    "        print(f'\\t{sum(np.isnan(photon_data.weight.values))} weights set to NaN')"
   ]
  },
  {
   "cell_type": "markdown",
   "metadata": {},
   "source": [
    "For each photon, add a weight appropriate for its energy and position"
   ]
  },
  {
   "cell_type": "code",
   "execution_count": null,
   "metadata": {},
   "outputs": [
    {
     "name": "stdout",
     "output_type": "stream",
     "text": [
      "\tApplyng weights: 29 / 126602 photon pixels are outside weight region\n",
      "\t22345 weights set to NaN\n"
     ]
    }
   ],
   "source": [
    "if files.valid:\n",
    "    _add_weights(wts, wt_pix, nside_wt , photon_data)\n",
    "    photon_data.head()"
   ]
  },
  {
   "cell_type": "markdown",
   "metadata": {},
   "source": [
    "The photon data now has a weight columnn: "
   ]
  },
  {
   "cell_type": "code",
   "execution_count": null,
   "metadata": {},
   "outputs": [],
   "source": [
    "#export\n",
    "def add_weights(xconfig, xfiles, photon_data, source):\n",
    "    \"\"\" add weights for the soruce to the photons data\n",
    "    \"\"\"\n",
    "    global config, files\n",
    "    config = xconfig\n",
    "    files = xfiles\n",
    "\n",
    "    weight_file =  os.path.join(files.weights, source.name+'_weights.pkl')\n",
    "    assert os.path.exists(weight_file)\n",
    "\n",
    "    wts, wt_pix, nside_wt = _load_weights(weight_file)\n",
    "    _add_weights(wts, wt_pix, nside_wt, photon_data)"
   ]
  },
  {
   "cell_type": "code",
   "execution_count": null,
   "metadata": {},
   "outputs": [],
   "source": [
    "# add_weights(config, files, photon_data, source)"
   ]
  },
  {
   "cell_type": "code",
   "execution_count": null,
   "metadata": {},
   "outputs": [],
   "source": [
    "#hide\n",
    "from nbdev.export import notebook2script\n",
    "notebook2script()\n",
    "!date"
   ]
  }
 ],
 "metadata": {
  "kernelspec": {
   "display_name": "Python 3",
   "language": "python",
   "name": "python3"
  }
 },
 "nbformat": 4,
 "nbformat_minor": 4
}
