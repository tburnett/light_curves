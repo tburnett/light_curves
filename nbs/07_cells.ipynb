{
 "cells": [
  {
   "cell_type": "code",
   "execution_count": null,
   "metadata": {},
   "outputs": [],
   "source": [
    "# default_exp cells\n",
    "%load_ext autoreload\n",
    "%autoreload 2"
   ]
  },
  {
   "cell_type": "markdown",
   "metadata": {},
   "source": [
    "# Cells\n",
    "> Combine exposure, and list of weighted photons to create cells for likelihood calculation"
   ]
  },
  {
   "cell_type": "markdown",
   "metadata": {},
   "source": [
    "A list of cells, represented with a DataFrame, has the following columns\n",
    "\n",
    "- t, tw : time (in MJD) an width of the cell\n",
    "- e : the exposure, relative to the expection for the cell size\n",
    "- n : the number of photons\n",
    "- w : a list of weights, represtend by unit8 numbers: divide by 256 for the values\n",
    "- S,B : expected values for the sums of w and (1-w) for the cell\n",
    "\n",
    "Implemented here:\n",
    "\n",
    "- `get_cells` -- return such a set for a given source.\n",
    "- `partition_cells` -- combine a set of cells with a partition, as in the Bayesian Block analysis"
   ]
  },
  {
   "cell_type": "code",
   "execution_count": null,
   "metadata": {},
   "outputs": [],
   "source": [
    "#hide\n",
    "from nbdev.showdoc import show_doc"
   ]
  },
  {
   "cell_type": "code",
   "execution_count": null,
   "metadata": {},
   "outputs": [],
   "source": [
    "#export\n",
    "import os\n",
    "import numpy as np\n",
    "import pandas as pd\n",
    "from light_curves.config import Config,  PointSource\n",
    "from light_curves.photon_data import get_photon_data\n",
    "from light_curves.weights import add_weights, check_source\n",
    "from light_curves.exposure import get_exposure"
   ]
  },
  {
   "cell_type": "markdown",
   "metadata": {},
   "source": [
    "Prepare test data "
   ]
  },
  {
   "cell_type": "code",
   "execution_count": null,
   "metadata": {},
   "outputs": [
    {
     "name": "stdout",
     "output_type": "stream",
     "text": [
      "Loading photon data for using source Geminga to test adding weights\n",
      "restored photons_Geminga from cache\n",
      "\n",
      "\tSelected 1313726 photons within 5 deg of  (195.13,4.27)\n",
      "\tEnergies: 100.0-1000000 MeV\n",
      "\tDates:    2008-08-04 15:46 - 2019-08-03 01:17\n",
      "\tMJD  :    54682.7          - 58698.1         \n",
      "Load weights from file /mnt/c/users/thbur/OneDrive/fermi/weight_files/Geminga_weights.pkl\n",
      "\tFound: PSR J0633+1746 at (195.14, 4.27)\n",
      "\tApplyng weights: 240 / 1313726 photon pixels are outside weight region\n",
      "\t233109 weights set to NaN\n",
      "using cache with key \"exposure_Geminga\", exists: False\n",
      "Processing 12 S/C history (FT2) files\n",
      "  applying cuts cos(theta) < 0.4,  z < 100\n",
      "\tfile /home/burnett/work/lat-data/ft2/ft2_2008.fits: 362996 entries, 360944 in GTI\n",
      "\tfile /home/burnett/work/lat-data/ft2/ft2_2009.fits: 874661 entries, 870446 in GTI\n",
      "\tfile /home/burnett/work/lat-data/ft2/ft2_2010.fits: 889547 entries, 884697 in GTI\n",
      "\tfile /home/burnett/work/lat-data/ft2/ft2_2011.fits: 882832 entries, 871672 in GTI\n",
      "\tfile /home/burnett/work/lat-data/ft2/ft2_2012.fits: 881317 entries, 868109 in GTI\n",
      "\tfile /home/burnett/work/lat-data/ft2/ft2_2013.fits: 885307 entries, 867342 in GTI\n",
      "\tfile /home/burnett/work/lat-data/ft2/ft2_2014.fits: 894730 entries, 886570 in GTI\n",
      "\tfile /home/burnett/work/lat-data/ft2/ft2_2015.fits: 890006 entries, 886086 in GTI\n",
      "\tfile /home/burnett/work/lat-data/ft2/ft2_2016.fits: 890933 entries, 884823 in GTI\n",
      "\tfile /home/burnett/work/lat-data/ft2/ft2_2017.fits: 888349 entries, 883761 in GTI\n",
      "\tfile /home/burnett/work/lat-data/ft2/ft2_2018.fits: 842824 entries, 830723 in GTI\n",
      "\tfile /home/burnett/work/lat-data/ft2/ft2_2019.fits: 737029 entries, 514657 in GTI\n",
      "\tFound 9,609,830 S/C entries:  2,695,715 remain after zenith and theta cuts\n",
      "Calculate exposure using the energy domain 100.0-1000000.0 4 bins/decade\n",
      "2695715 entries, MJD 54683 - 58698\n"
     ]
    }
   ],
   "source": [
    "\n",
    "config = Config()\n",
    "source = PointSource('Geminga')\n",
    "\n",
    "if config.valid:\n",
    "    print(f'Loading photon data for using source {source.name} to test adding weights')\n",
    "    check_source(config.files, source)\n",
    "    photon_data = get_photon_data(config, source )\n",
    "    add_weights(config, config.files, photon_data, source)\n",
    "    exposure = get_exposure(config,  source)\n",
    "else:\n",
    "    print('Not testing since no files.')"
   ]
  },
  {
   "cell_type": "code",
   "execution_count": null,
   "metadata": {},
   "outputs": [],
   "source": [
    "#export\n",
    "def _get_default_bins(config, exposure):\n",
    "    \"\"\"set up default bins from exposure; adjust stop to come out even\n",
    "    # round to whole day\n",
    "    \"\"\"\n",
    "\n",
    "    start = np.round(exposure.start.values[0])\n",
    "    stop =  np.round(exposure.stop.values[-1])\n",
    "    if config.mjd_range is None:\n",
    "        config.mjd_range = (start,stop)\n",
    "\n",
    "    step = config.time_interval\n",
    "    nbins = int(round((stop-start)/step))\n",
    "    tb =time_bins = np.linspace(start, stop, nbins+1)\n",
    "    if config.verbose>0:\n",
    "        print(f'Time bins: {nbins} intervals of {step} days, '\\\n",
    "              f'in range ({time_bins[0]:.1f}, {time_bins[-1]:.1f})')\n",
    "    return time_bins"
   ]
  },
  {
   "cell_type": "code",
   "execution_count": null,
   "metadata": {},
   "outputs": [
    {
     "name": "stdout",
     "output_type": "stream",
     "text": [
      "Time bins: 4015 intervals of 1 days, in range (54683.0, 58698.0)\n"
     ]
    }
   ],
   "source": [
    "if config.valid: time_bins = _get_default_bins(config, exposure)     \n",
    "else: time_bins = None"
   ]
  },
  {
   "cell_type": "code",
   "execution_count": null,
   "metadata": {},
   "outputs": [],
   "source": [
    "#export\n",
    "def _get_binned_exposure(time_bins, exposure):\n",
    "\n",
    "    # get stuff from photon data, exposure calculation\n",
    "    exp   = exposure.exposure.values\n",
    "    estart= exposure.start.values\n",
    "    estop = exposure.stop.values\n",
    "\n",
    "    #use cumulative exposure to integrate over larger periods\n",
    "    cumexp = np.concatenate(([0],np.cumsum(exp)) )\n",
    "\n",
    "    # get index into tstop array of the bin edges\n",
    "    edge_index = np.searchsorted(estop, time_bins)\n",
    "    # return the exposure integrated over the intervals\n",
    "    cum = cumexp[edge_index]\n",
    "    return np.diff(cum)/(cum[-1]-cum[0]) * (len(time_bins)-1)"
   ]
  },
  {
   "cell_type": "markdown",
   "metadata": {},
   "source": [
    "Create the binned exposure, and make a histogram of its output, the exposure per bin\n",
    "relative to the aveage. "
   ]
  },
  {
   "cell_type": "code",
   "execution_count": null,
   "metadata": {},
   "outputs": [
    {
     "data": {
      "image/png": "[encoded data removed]",
      "text/plain": [
       "<Figure size 432x288 with 1 Axes>"
      ]
     },
     "metadata": {
      "needs_background": "light"
     },
     "output_type": "display_data"
    }
   ],
   "source": [
    "if time_bins is not None:\n",
    "    binned_exposure = _get_binned_exposure(time_bins, exposure)\n",
    "    plt.hist(binned_exposure.clip(0,2), 50, histtype='stepfilled');\n",
    "    plt.xlabel('Relative exposure/timebin');"
   ]
  },
  {
   "cell_type": "code",
   "execution_count": null,
   "metadata": {},
   "outputs": [],
   "source": [
    "#export\n",
    "class _WeightedCells(object):\n",
    "    \"\"\" Generate a list of cells, with access to cell data\n",
    "        weights\n",
    "    \"\"\"\n",
    "\n",
    "    def __init__(self, config, source,\n",
    "                 photon_data:'DataFrame with photon data',\n",
    "                 exposure: 'DataFrame with exposure',\n",
    "                 bins: 'time bins default if None'=None,\n",
    "                ):\n",
    "        \"\"\"\n",
    "        Use time binning photon_data to generate list of cells\n",
    "        \"\"\"\n",
    "        self.source_name =source.name\n",
    "        self.verbose = config.verbose\n",
    "\n",
    "        bins = bins if bins is not None else  _get_default_bins(config, exposure)\n",
    "        self.bins = bins \n",
    "        \n",
    "        # restrict photons to range of bin times\n",
    "        photons = photon_data.query(f'{bins[0]}<time<{bins[-1]}')\n",
    " \n",
    "        self.N = len(bins)-1 # number of bins\n",
    "        self.bin_centers = 0.5*(bins[1:]+bins[:-1])\n",
    "        \n",
    "        # exposure binned as well\n",
    "        self.fexposure = _get_binned_exposure(bins, exposure)\n",
    "\n",
    "        # get the photon data with good weights, not NaN\n",
    "        w = photons.weight\n",
    "        good = np.logical_not(np.isnan(w))\n",
    "        self.photons = photons.loc[good]\n",
    "        self.weights = w = self.photons.weight.values\n",
    "        \n",
    "        # estimates for averate signal and background per cell\n",
    "        self.S = np.sum(w)/self.N\n",
    "        self.B = np.sum(1-w)/self.N\n",
    "\n",
    "        # use photon times to get indices of bin edges\n",
    "        self._edges = np.searchsorted(self.photons.time, bins)\n",
    "\n",
    "\n",
    "    def __repr__(self):\n",
    "        return f'''{self.__class__}:\n",
    "        {len(self.fexposure)} intervals from {self.bins[0]:.1f} to {self.bins[-1]:.1f} for source {self.source_name}\n",
    "        S {self.S:.2f}  B {self.B:.2f} '''\n",
    "\n",
    "    def __getitem__(self, i):\n",
    "        \"\"\" get info for ith time bin and return dict with\n",
    "            t : MJD\n",
    "            tw: bin width,\n",
    "            e: exposure as fraction of total,\n",
    "            n : number of photons in bin\n",
    "            w : list of weights as uint8 integers<=255\n",
    "            S,B:  value\n",
    "        \"\"\"\n",
    "        k   = self._edges\n",
    "\n",
    "        wts = np.array(self.weights[k[i]:k[i+1]]*256, np.uint8)\n",
    "        n = len(wts)\n",
    "        e = self.fexposure[i]\n",
    "        tw  = self.bins[i+1]-self.bins[i]\n",
    "\n",
    "        return dict(\n",
    "                t=self.bin_centers[i], # time\n",
    "                tw = tw,  # bin width\n",
    "                e=e, # moving to this name\n",
    "                n=n, # number of photons in bin\n",
    "                w=wts,\n",
    "                S= e *self.S,\n",
    "                B= e *self.B,\n",
    "                )\n",
    "\n",
    "    def __len__(self):\n",
    "        return self.N\n",
    "\n",
    "    @property\n",
    "    def dataframe(self):\n",
    "        \"\"\" combine all cells into a dataframe\n",
    "        \"\"\"\n",
    "        df = pd.DataFrame([cell for cell in self])\n",
    "        return df\n"
   ]
  },
  {
   "cell_type": "code",
   "execution_count": null,
   "metadata": {},
   "outputs": [],
   "source": [
    "#export\n",
    "def get_cells(config,  source, bins=None):\n",
    "    \"\"\"Return a cells DataFrame for the source\n",
    "    \n",
    "    - source -- `PointSource` object\n",
    "    - bins -- None, or an array of bin edges to define cells. If None use the default defined in config\n",
    "    \n",
    "  \n",
    "    \"\"\"\n",
    "\n",
    "    photon_data = get_photon_data(config,   source )\n",
    "    add_weights(config, config.files, photon_data, source)\n",
    "    exposure = get_exposure(config,  source)\n",
    "\n",
    "    return _WeightedCells(config, source,photon_data, exposure, bins).dataframe"
   ]
  },
  {
   "cell_type": "code",
   "execution_count": null,
   "metadata": {},
   "outputs": [
    {
     "data": {
      "text/markdown": [
       "<h4 id=\"get_cells\" class=\"doc_header\"><code>get_cells</code><a href=\"__main__.py#L2\" class=\"source_link\" style=\"float:right\">[source]</a></h4>\n",
       "\n",
       "> <code>get_cells</code>(**`config`**, **`source`**, **`bins`**=*`None`*)\n",
       "\n",
       "Return a cells DataFrame for the source\n",
       "\n",
       "- source -- [`PointSource`](/light_curves/config.html#PointSource) object\n",
       "- bins -- None, or an array of bin edges to define cells. If None use the default defined in config"
      ],
      "text/plain": [
       "<IPython.core.display.Markdown object>"
      ]
     },
     "metadata": {},
     "output_type": "display_data"
    }
   ],
   "source": [
    "show_doc(get_cells)"
   ]
  },
  {
   "cell_type": "markdown",
   "metadata": {},
   "source": [
    "Create a table of cells"
   ]
  },
  {
   "cell_type": "code",
   "execution_count": null,
   "metadata": {},
   "outputs": [
    {
     "name": "stdout",
     "output_type": "stream",
     "text": [
      "restored photons_Geminga from cache\n",
      "\n",
      "\tSelected 1313726 photons within 5 deg of  (195.13,4.27)\n",
      "\tEnergies: 100.0-1000000 MeV\n",
      "\tDates:    2008-08-04 15:46 - 2019-08-03 01:17\n",
      "\tMJD  :    54682.7          - 58698.1         \n",
      "Load weights from file /mnt/c/users/thbur/OneDrive/fermi/weight_files/Geminga_weights.pkl\n",
      "\tFound: PSR J0633+1746 at (195.14, 4.27)\n",
      "\tApplyng weights: 240 / 1313726 photon pixels are outside weight region\n",
      "\t233109 weights set to NaN\n",
      "using cache with key \"exposure_Geminga\", exists: True\n",
      "Time bins: 4015 intervals of 1 days, in range (54683.0, 58698.0)\n"
     ]
    }
   ],
   "source": [
    "#hide\n",
    "if config.valid:\n",
    "    cells = get_cells(config, source)"
   ]
  },
  {
   "cell_type": "markdown",
   "metadata": {},
   "source": [
    "A look at the contents of the first cell"
   ]
  },
  {
   "cell_type": "code",
   "execution_count": null,
   "metadata": {},
   "outputs": [
    {
     "data": {
      "text/plain": [
       "t                                               54683.5\n",
       "tw                                                    1\n",
       "e                                               1.26456\n",
       "n                                                   330\n",
       "w     [244, 214, 174, 5, 246, 150, 187, 65, 91, 215,...\n",
       "S                                               225.585\n",
       "B                                               114.707\n",
       "Name: 0, dtype: object"
      ]
     },
     "execution_count": null,
     "metadata": {},
     "output_type": "execute_result"
    }
   ],
   "source": [
    "#hide\n",
    "cells.iloc[0] if config.valid else None"
   ]
  },
  {
   "cell_type": "markdown",
   "metadata": {},
   "source": [
    "An important check of the procedure is a comparison of the sum of weights in a cell with the exposure for that time interval."
   ]
  },
  {
   "cell_type": "code",
   "execution_count": null,
   "metadata": {},
   "outputs": [
    {
     "data": {
      "image/png": "[encoded data removed]",
      "text/plain": [
       "<Figure size 432x288 with 1 Axes>"
      ]
     },
     "metadata": {
      "needs_background": "light"
     },
     "output_type": "display_data"
    }
   ],
   "source": [
    "#collapse_input\n",
    "if config.valid:\n",
    "    # check sums\n",
    "    S = np.sum(cells.S.values)\n",
    "    B = np.sum(cells.B.values)\n",
    "    n = np.sum(cells.n)\n",
    "    assert np.abs((S+B)/n -1)  < 0.1, f'Failed count check: total counts, {n}  shouuld be same as S+B,  {S+B}'\n",
    "    wsum = cells.w.apply(np.sum)/256.;\n",
    "    plt.semilogy(cells.e, (wsum/cells.e).clip(1e2,5e2), '.');\n",
    "    plt.xlabel('exposure')\n",
    "    plt.ylabel('sum of weights / exposure');\n",
    "    plt.grid(alpha=0.5)"
   ]
  },
  {
   "cell_type": "code",
   "execution_count": null,
   "metadata": {},
   "outputs": [],
   "source": [
    "#export\n",
    "def partition_cells(config, cells, edges):\n",
    "    \"\"\" Partition a set of cells\n",
    "     - cells -- A DataFrame of cells\n",
    "     - edges  -- a list of edges delimiting boundaries between cells\n",
    "    \"\"\"\n",
    "    # should check limitsk\n",
    "    ii = np.searchsorted(cells.t, edges)\n",
    "    \n",
    "    newcells = []\n",
    "    for k in range(len(ii)-1):\n",
    "        a,b = ii[k:k+2]\n",
    "        subset = cells.iloc[a:b]; \n",
    "\n",
    "        ca, cb = subset.iloc[0], subset.iloc[-1]\n",
    "        newcell = dict(t= 0.5*(ca.t-ca.tw/2 + cb.t+cb.tw/2)  )\n",
    "\n",
    "        for col in 'tw e n S B'.split():\n",
    "            newcell[col] = subset[col].sum()\n",
    "        newcell['e'] /= len(subset)\n",
    "        newcell['w'] = np.concatenate(list(subset.w.values)) #np.array(w, np.uint8)\n",
    "        newcells.append(newcell)\n",
    "    return pd.DataFrame(newcells)        \n",
    "    "
   ]
  },
  {
   "cell_type": "code",
   "execution_count": null,
   "metadata": {},
   "outputs": [
    {
     "data": {
      "text/markdown": [
       "<h4 id=\"partition_cells\" class=\"doc_header\"><code>partition_cells</code><a href=\"__main__.py#L2\" class=\"source_link\" style=\"float:right\">[source]</a></h4>\n",
       "\n",
       "> <code>partition_cells</code>(**`config`**, **`cells`**, **`edges`**)\n",
       "\n",
       "Partition a set of cells\n",
       "- cells -- A DataFrame of cells\n",
       "- edges  -- a list of edges delimiting boundaries between cells"
      ],
      "text/plain": [
       "<IPython.core.display.Markdown object>"
      ]
     },
     "metadata": {},
     "output_type": "display_data"
    }
   ],
   "source": [
    "#hide\n",
    "show_doc(partition_cells)"
   ]
  },
  {
   "cell_type": "code",
   "execution_count": null,
   "metadata": {},
   "outputs": [
    {
     "name": "stdout",
     "output_type": "stream",
     "text": [
      "Test partition by selecting subset of current bin edges\n",
      "         t   tw     e     n       S       B                         w\n",
      "0  54685.0  4.0  1.27  1394  904.65  460.01   [244, 214, 174, 5, ...]\n",
      "1  54689.0  4.0  1.27  1380  906.13  460.75  [246, 185, 82, 163, ...]\n",
      "2  54693.0  4.0  1.07  1202  766.07  389.54   [240, 33, 231, 22, ...]\n",
      "3  54697.0  4.0  0.89   938  636.59  323.70  [150, 43, 185, 235, ...]\n"
     ]
    }
   ],
   "source": [
    "#hide\n",
    "if config.valid:\n",
    "    print('Test partition by selecting subset of current bin edges')\n",
    "    edges = cells.t.values-cells.tw.values/2\n",
    "    width = 4\n",
    "    newbins = edges[:20:width ];\n",
    "    pd.set_option('display.precision',2 )\n",
    "    pd.set_option('display.max_seq_items',4 )\n",
    "    newcells = partition_cells(config, cells, newbins)\n",
    "    print(newcells)"
   ]
  },
  {
   "cell_type": "markdown",
   "metadata": {},
   "source": [
    "## Monte Carlo\n",
    "\n",
    "Generate a set of cells"
   ]
  },
  {
   "cell_type": "code",
   "execution_count": null,
   "metadata": {},
   "outputs": [
    {
     "data": {
      "text/plain": [
       "(40.0106, 39.871087640000006)"
      ]
     },
     "execution_count": null,
     "metadata": {},
     "output_type": "execute_result"
    }
   ],
   "source": [
    "from scipy.stats import poisson, uniform\n",
    "r = poisson.rvs(mu=40, size=10000)\n",
    "np.mean(r), np.std(r)**2\n"
   ]
  },
  {
   "cell_type": "code",
   "execution_count": null,
   "metadata": {},
   "outputs": [],
   "source": [
    "#export\n",
    "class SampleFunction():\n",
    "    \"\"\" Sample an arbitrary function or histogram\n",
    "    \n",
    "    - func -- the function, or a histogram\n",
    "    - a,b  -- limits\n",
    "    - n    -- table size\n",
    "    \"\"\"\n",
    "    from scipy.stats import uniform\n",
    "    \n",
    "    def __init__(self, func, a, b, n=100):\n",
    "        self.x = np.linspace(a,b,n+1) # bin edges\n",
    "        dx = (b-a)/(n)/2\n",
    "\n",
    "        if not hasattr(func, '__len__'):\n",
    "            # evaluate ad bin centers\n",
    "            y = [func(t-dx) for t in self.x]\n",
    "        else:\n",
    "            n = len(func) \n",
    "            self.x = np.linspace(a,b,n)\n",
    "            y = func\n",
    "        cy = np.cumsum(y)\n",
    "        self.sy = (cy-cy[0])/([cy[-1]-cy[0]])\n",
    "        \n",
    "    def __call__(self, r):\n",
    "        \"\"\"evaluate intergral. expect 0<r<1 \"\"\"\n",
    "        return np.interp(r, self.sy, self.x)\n",
    "    \n",
    "    def generate(self, size):\n",
    "        \"\"\"Generate `size` values\n",
    "        \"\"\"\n",
    "        return self(uniform.rvs(size=size))"
   ]
  },
  {
   "cell_type": "code",
   "execution_count": null,
   "metadata": {},
   "outputs": [
    {
     "data": {
      "text/plain": [
       "(-4.0, -6.661338147750939e-16, 4.0)"
      ]
     },
     "execution_count": null,
     "metadata": {},
     "output_type": "execute_result"
    },
    {
     "data": {
      "image/png": "[encoded data removed]",
      "text/plain": [
       "<Figure size 432x288 with 1 Axes>"
      ]
     },
     "metadata": {
      "needs_background": "light"
     },
     "output_type": "display_data"
    }
   ],
   "source": [
    "n = 10\n",
    "sf = SampleFunction(lambda x: np.exp(-(x**2)/2), -4, 4, n)\n",
    "\n",
    "plt.plot(sf.sy, sf.x, '-o');\n",
    "plt.grid()\n",
    "sf(0), sf(0.5), sf(1)"
   ]
  },
  {
   "cell_type": "code",
   "execution_count": null,
   "metadata": {},
   "outputs": [],
   "source": [
    "#hide    \n",
    "data = sf.generate(10000)\n",
    "tests = np.array([np.abs(data.mean()), np.abs(data.std()-1) ])\n",
    "assert np.all(tests<5e-2 ), f'Failed Tests: mean {data.mean()}, std {data.std()}'"
   ]
  },
  {
   "cell_type": "code",
   "execution_count": null,
   "metadata": {},
   "outputs": [],
   "source": [
    "#\n",
    "w = photon_data.weight.values\n",
    "gw = w[~np.isnan(w)]\n",
    "h = np.histogram(gw, np.linspace(0,1,51))[0]; \n",
    "sf2 = SampleFunction(h, 0,1)"
   ]
  },
  {
   "cell_type": "code",
   "execution_count": null,
   "metadata": {},
   "outputs": [
    {
     "data": {
      "image/png": "[encoded data removed]",
      "text/plain": [
       "<Figure size 432x288 with 1 Axes>"
      ]
     },
     "metadata": {
      "needs_background": "light"
     },
     "output_type": "display_data"
    }
   ],
   "source": [
    "data2 = sf2.generate(10000)\n",
    "plt.hist(data2, bins=100);"
   ]
  },
  {
   "cell_type": "code",
   "execution_count": null,
   "metadata": {},
   "outputs": [
    {
     "name": "stdout",
     "output_type": "stream",
     "text": [
      "Converted 00_config.ipynb.\n",
      "Converted 01_effective_area.ipynb.\n",
      "Converted 02_load_gti.ipynb.\n",
      "Converted 03_exposure.ipynb.\n",
      "Converted 04_photon_data.ipynb.\n",
      "Converted 05_weights.ipynb.\n",
      "Converted 07_cells.ipynb.\n",
      "Converted 08_simulation.ipynb.\n",
      "Converted 09_poisson.ipynb.\n",
      "Converted 10_loglike.ipynb.\n",
      "Converted 11_lightcurve.ipynb.\n",
      "Converted 12_roadmap.ipynb.\n",
      "Converted 13_kerr_comparison.ipynb.\n",
      "Converted 14_bayesian.ipynb.\n",
      "Converted index.ipynb.\n",
      "Thu Dec 17 15:47:22 PST 2020\n"
     ]
    }
   ],
   "source": [
    "#hide\n",
    "from nbdev.export import notebook2script\n",
    "notebook2script()\n",
    "!date"
   ]
  }
 ],
 "metadata": {
  "kernelspec": {
   "display_name": "Python 3",
   "language": "python",
   "name": "python3"
  }
 },
 "nbformat": 4,
 "nbformat_minor": 4
}
