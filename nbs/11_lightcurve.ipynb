{
 "cells": [
  {
   "cell_type": "code",
   "execution_count": null,
   "metadata": {},
   "outputs": [],
   "source": [
    "#default_exp lightcurve\n",
    "%load_ext autoreload\n",
    "from nbdev.showdoc import show_doc"
   ]
  },
  {
   "cell_type": "markdown",
   "metadata": {},
   "source": [
    "# Light Curve Generation\n",
    "> Generate light curves from cells\n",
    "\n",
    "A \"light curve\" is a table indexed by time, 't', in MJD with columns\n",
    "\n",
    "- tw -- the cell width, initialized to be config.time_interval: when cells are combined\n",
    "- n  -- number of photons\n",
    "- e  -- relative exposure\n",
    "- fit -- the fit object, containing info about the flux. This is usually a `PoissonRep` object\n",
    "\n"
   ]
  },
  {
   "cell_type": "code",
   "execution_count": null,
   "metadata": {},
   "outputs": [],
   "source": [
    "#export\n",
    "import numpy as np\n",
    "import pylab as plt\n",
    "import pandas as pd"
   ]
  },
  {
   "cell_type": "code",
   "execution_count": null,
   "metadata": {},
   "outputs": [],
   "source": [
    "#export\n",
    "from light_curves.loglike import (LogLike, GaussianRep, Gaussian2dRep, PoissonRep, PoissonRepTable)\n",
    "\n",
    "class _LightCurve(object):\n",
    "    \"\"\" Apply likelihood fits to a set of cells\n",
    "    \n",
    "    parameters:\n",
    "       - cells : a table with index t, columns  tw, n, e, w, S, B\n",
    "       - min_exp : minimum fractional exposure allowed\n",
    "       - rep_name : represention to use \n",
    "\n",
    "    Generates a DataTable with columns n, ep, fit\n",
    "        \n",
    "    \"\"\"\n",
    "\n",
    "    rep_class =  [GaussianRep, Gaussian2dRep, PoissonRep, PoissonRepTable]\n",
    "    rep_list =   'gauss gauss2d poisson poissontable'.split()\n",
    "\n",
    "    def __init__(self, config, \n",
    "                all_cells, \n",
    "                source, \n",
    "                min_exp:  'minimum exposure factor'= 0.3,\n",
    "                rep_name: 'likelihood rep name'='',\n",
    "    \n",
    "                ):\n",
    "        \"\"\"Apply fits to the likelihoods for a set of cells\n",
    "        \n",
    " \n",
    "        \"\"\"\n",
    "\n",
    "        self.source_name = source.name\n",
    " \n",
    "        # select the set of cells\n",
    "        cells = all_cells.query(f'e>{min_exp}').copy()\n",
    "        \n",
    "        # generate a list of LogLike objects for each\n",
    "        cells.loc[:,'loglike'] = cells.apply(LogLike, axis=1)\n",
    "        if config.verbose>0:\n",
    "            print(f'Loaded {len(cells)} / {len(all_cells)} cells with exposure >'\\\n",
    "                  f' {min_exp} for light curve analysis')\n",
    "            print(f'first cell: {cells.iloc[0]}')\n",
    "\n",
    "        # analyze using selected rep\n",
    "        rep_name = rep_name or config.likelihood_rep\n",
    "        \n",
    "        if rep_name not in self.rep_list:\n",
    "            raise Exception(f'Unrecognized rep: \"{rep_name}\", must be one of {self.rep_list}')\n",
    "        repcl = self.rep_class[self.rep_list.index(rep_name)]\n",
    "\n",
    "        if config.verbose>1:\n",
    "            print(f'Fitting likelihoods with {rep_name} representation')\n",
    "        \n",
    "        # making output with reduced columns \n",
    "        self.ll_fits = cells['t tw n e'.split()].copy()\n",
    "        self.ll_fits.loc[:,'fit'] = cells.loglike.apply(repcl)\n",
    "\n",
    "    def __repr__(self):\n",
    "        return f'{self.__class__.__name__}: source \"{self.source_name}\" fit with {len(self.ll_fits)} cells'\n",
    "\n",
    "\n",
    "    @property\n",
    "    def dataframe(self):\n",
    "        \"\"\"return the DataFrame\n",
    "        \"\"\"\n",
    "        return self.ll_fits"
   ]
  },
  {
   "cell_type": "code",
   "execution_count": null,
   "metadata": {},
   "outputs": [],
   "source": [
    "#export    \n",
    "\n",
    "from light_curves.config import Config, Files, PointSource\n",
    "from light_curves.cells import get_cells\n",
    "\n",
    "def get_lightcurve(config, files, source, bin_edges=None):\n",
    "    \"\"\"Returns a lightcurve table for the source\n",
    "    \n",
    "    \"\"\"\n",
    "    def doit():\n",
    "        cells = get_cells(config, files, source, bin_edges)\n",
    "        lc = _LightCurve(config, cells, source).dataframe\n",
    "        return lc\n",
    "        \n",
    "    if bin_edges is None:\n",
    "        key = f'lightcurve_{source.name}'\n",
    "        # use cache only for full data set\n",
    "        if config.verbose>1: \n",
    "            print(f'using cache with key \"{key}\", exists: {key in files.cache}')\n",
    "        return files.cache(key, doit)\n",
    "    else:\n",
    "        return doit()"
   ]
  },
  {
   "cell_type": "code",
   "execution_count": null,
   "metadata": {},
   "outputs": [
    {
     "name": "stdout",
     "output_type": "stream",
     "text": [
      "Loading cells with source Geminga bins None \n",
      "using cache with key \"lightcurve_Geminga\", exists: True\n",
      "LIght curve has 3873 cells\n",
      "\n",
      "First cell fit: light_curves.loglike.PoissonRep: flux: 0.927[1+0.076-0.079], limit: 1.05, ts: 481.9\n"
     ]
    },
    {
     "data": {
      "text/html": [
       "<div>\n",
       "<style scoped>\n",
       "    .dataframe tbody tr th:only-of-type {\n",
       "        vertical-align: middle;\n",
       "    }\n",
       "\n",
       "    .dataframe tbody tr th {\n",
       "        vertical-align: top;\n",
       "    }\n",
       "\n",
       "    .dataframe thead th {\n",
       "        text-align: right;\n",
       "    }\n",
       "</style>\n",
       "<table border=\"1\" class=\"dataframe\">\n",
       "  <thead>\n",
       "    <tr style=\"text-align: right;\">\n",
       "      <th></th>\n",
       "      <th>t</th>\n",
       "      <th>n</th>\n",
       "      <th>e</th>\n",
       "      <th>tw</th>\n",
       "      <th>fit</th>\n",
       "    </tr>\n",
       "  </thead>\n",
       "  <tbody>\n",
       "    <tr>\n",
       "      <th>0</th>\n",
       "      <td>54683.5</td>\n",
       "      <td>330</td>\n",
       "      <td>1.264560</td>\n",
       "      <td>1</td>\n",
       "      <td>light_curves.loglike.PoissonRep: flux: 0.927[1...</td>\n",
       "    </tr>\n",
       "    <tr>\n",
       "      <th>1</th>\n",
       "      <td>54684.5</td>\n",
       "      <td>348</td>\n",
       "      <td>1.216036</td>\n",
       "      <td>1</td>\n",
       "      <td>light_curves.loglike.PoissonRep: flux: 1.097[1...</td>\n",
       "    </tr>\n",
       "    <tr>\n",
       "      <th>2</th>\n",
       "      <td>54685.5</td>\n",
       "      <td>338</td>\n",
       "      <td>1.183077</td>\n",
       "      <td>1</td>\n",
       "      <td>light_curves.loglike.PoissonRep: flux: 1.146[1...</td>\n",
       "    </tr>\n",
       "    <tr>\n",
       "      <th>3</th>\n",
       "      <td>54686.5</td>\n",
       "      <td>378</td>\n",
       "      <td>1.407534</td>\n",
       "      <td>1</td>\n",
       "      <td>light_curves.loglike.PoissonRep: flux: 0.989[1...</td>\n",
       "    </tr>\n",
       "    <tr>\n",
       "      <th>4</th>\n",
       "      <td>54687.5</td>\n",
       "      <td>341</td>\n",
       "      <td>1.299294</td>\n",
       "      <td>1</td>\n",
       "      <td>light_curves.loglike.PoissonRep: flux: 0.975[1...</td>\n",
       "    </tr>\n",
       "  </tbody>\n",
       "</table>\n",
       "</div>"
      ],
      "text/plain": [
       "         t    n         e  tw  \\\n",
       "0  54683.5  330  1.264560   1   \n",
       "1  54684.5  348  1.216036   1   \n",
       "2  54685.5  338  1.183077   1   \n",
       "3  54686.5  378  1.407534   1   \n",
       "4  54687.5  341  1.299294   1   \n",
       "\n",
       "                                                 fit  \n",
       "0  light_curves.loglike.PoissonRep: flux: 0.927[1...  \n",
       "1  light_curves.loglike.PoissonRep: flux: 1.097[1...  \n",
       "2  light_curves.loglike.PoissonRep: flux: 1.146[1...  \n",
       "3  light_curves.loglike.PoissonRep: flux: 0.989[1...  \n",
       "4  light_curves.loglike.PoissonRep: flux: 0.975[1...  "
      ]
     },
     "execution_count": null,
     "metadata": {},
     "output_type": "execute_result"
    }
   ],
   "source": [
    "#collapse_hide\n",
    "from light_curves.config import Config, Files, PointSource\n",
    "from light_curves.cells import get_cells\n",
    "\n",
    "def test_lc(bins=None):\n",
    "    config = Config()\n",
    "    files = Files()\n",
    "    source = PointSource('Geminga')\n",
    "    if not files.valid:\n",
    "        return\n",
    "    print(f'Loading cells with source {source.name} bins {bins} ')\n",
    "    lc = get_lightcurve(config, files, source, bins)\n",
    "    assert lc is not None\n",
    "    print(f'LIght curve has {len(lc)} cells')\n",
    "    c = lc.iloc[0]\n",
    "    print(f'\\nFirst cell fit: {c[\"fit\"]}')\n",
    "    return lc\n",
    "test_lc().head()"
   ]
  },
  {
   "cell_type": "code",
   "execution_count": null,
   "metadata": {},
   "outputs": [
    {
     "name": "stdout",
     "output_type": "stream",
     "text": [
      "Loading cells with source Geminga bins [54683. 54685. 54687. 54689. 54691.] \n",
      "restored photons_Geminga from cache\n",
      "\n",
      "\tSelected 1313726 photons within 5 deg of  (195.13,4.27)\n",
      "\tEnergies: 100.0-1000000 MeV\n",
      "\tDates:    2008-08-04 15:46 - 2019-08-03 01:17\n",
      "\tMJD  :    54682.7          - 58698.1         \n",
      "Load weights from file /mnt/d/OneDrive/fermi/weight_files/Geminga_weights.pkl\n",
      "\tFound: PSR J0633+1746 at (195.14, 4.27)\n",
      "\tApplyng weights: 240 / 1313726 photon pixels are outside weight region\n",
      "\t233109 weights set to NaN\n",
      "restore exposure_Geminga from cache\n",
      "2695715 entries, MJD 54683 - 58698\n",
      "Loaded 4 / 4 cells with exposure > 0.3 for light curve analysis\n",
      "first cell: t                                                      54684\n",
      "tw                                                         2\n",
      "e                                                   0.977511\n",
      "n                                                        678\n",
      "w          [244, 214, 174, 5, 246, 150, 187, 65, 91, 215,...\n",
      "S                                                    451.057\n",
      "B                                                    226.846\n",
      "loglike    light_curves.loglike.LogLike: time 54684.000, ...\n",
      "Name: 0, dtype: object\n",
      "Fitting likelihoods with poisson representation\n",
      "LIght curve has 4 cells\n",
      "\n",
      "First cell fit: light_curves.loglike.PoissonRep: flux: 0.987[1+0.052-0.053], limit: 1.08, ts: 1069.0\n"
     ]
    },
    {
     "data": {
      "text/html": [
       "<div>\n",
       "<style scoped>\n",
       "    .dataframe tbody tr th:only-of-type {\n",
       "        vertical-align: middle;\n",
       "    }\n",
       "\n",
       "    .dataframe tbody tr th {\n",
       "        vertical-align: top;\n",
       "    }\n",
       "\n",
       "    .dataframe thead th {\n",
       "        text-align: right;\n",
       "    }\n",
       "</style>\n",
       "<table border=\"1\" class=\"dataframe\">\n",
       "  <thead>\n",
       "    <tr style=\"text-align: right;\">\n",
       "      <th></th>\n",
       "      <th>t</th>\n",
       "      <th>tw</th>\n",
       "      <th>n</th>\n",
       "      <th>e</th>\n",
       "      <th>fit</th>\n",
       "    </tr>\n",
       "  </thead>\n",
       "  <tbody>\n",
       "    <tr>\n",
       "      <th>0</th>\n",
       "      <td>54684.0</td>\n",
       "      <td>2.0</td>\n",
       "      <td>678</td>\n",
       "      <td>0.977511</td>\n",
       "      <td>light_curves.loglike.PoissonRep: flux: 0.987[1...</td>\n",
       "    </tr>\n",
       "    <tr>\n",
       "      <th>1</th>\n",
       "      <td>54686.0</td>\n",
       "      <td>2.0</td>\n",
       "      <td>716</td>\n",
       "      <td>1.020863</td>\n",
       "      <td>light_curves.loglike.PoissonRep: flux: 1.037[1...</td>\n",
       "    </tr>\n",
       "    <tr>\n",
       "      <th>2</th>\n",
       "      <td>54688.0</td>\n",
       "      <td>2.0</td>\n",
       "      <td>699</td>\n",
       "      <td>1.041578</td>\n",
       "      <td>light_curves.loglike.PoissonRep: flux: 0.947[1...</td>\n",
       "    </tr>\n",
       "    <tr>\n",
       "      <th>3</th>\n",
       "      <td>54690.0</td>\n",
       "      <td>2.0</td>\n",
       "      <td>681</td>\n",
       "      <td>0.960047</td>\n",
       "      <td>light_curves.loglike.PoissonRep: flux: 1.016[1...</td>\n",
       "    </tr>\n",
       "  </tbody>\n",
       "</table>\n",
       "</div>"
      ],
      "text/plain": [
       "         t   tw    n         e  \\\n",
       "0  54684.0  2.0  678  0.977511   \n",
       "1  54686.0  2.0  716  1.020863   \n",
       "2  54688.0  2.0  699  1.041578   \n",
       "3  54690.0  2.0  681  0.960047   \n",
       "\n",
       "                                                 fit  \n",
       "0  light_curves.loglike.PoissonRep: flux: 0.987[1...  \n",
       "1  light_curves.loglike.PoissonRep: flux: 1.037[1...  \n",
       "2  light_curves.loglike.PoissonRep: flux: 0.947[1...  \n",
       "3  light_curves.loglike.PoissonRep: flux: 1.016[1...  "
      ]
     },
     "execution_count": null,
     "metadata": {},
     "output_type": "execute_result"
    }
   ],
   "source": [
    "# bin edges for \n",
    "edges = lc.t.values-lc.tw.values/2\n",
    "test_bins = edges[:10:2 ]\n",
    "test_lc(test_bins).head()"
   ]
  },
  {
   "cell_type": "code",
   "execution_count": null,
   "metadata": {},
   "outputs": [
    {
     "name": "stdout",
     "output_type": "stream",
     "text": [
      "restored photons_Geminga from cache\n",
      "\n",
      "\tSelected 1313726 photons within 5 deg of  (195.13,4.27)\n",
      "\tEnergies: 100.0-1000000 MeV\n",
      "\tDates:    2008-08-04 15:46 - 2019-08-03 01:17\n",
      "\tMJD  :    54682.7          - 58698.1         \n",
      "Load weights from file /mnt/d/OneDrive/fermi/weight_files/Geminga_weights.pkl\n",
      "\tFound: PSR J0633+1746 at (195.14, 4.27)\n",
      "\tApplyng weights: 240 / 1313726 photon pixels are outside weight region\n",
      "\t233109 weights set to NaN\n",
      "restore exposure_Geminga from cache\n",
      "2695715 entries, MJD 54683 - 58698\n"
     ]
    },
    {
     "data": {
      "text/html": [
       "<div>\n",
       "<style scoped>\n",
       "    .dataframe tbody tr th:only-of-type {\n",
       "        vertical-align: middle;\n",
       "    }\n",
       "\n",
       "    .dataframe tbody tr th {\n",
       "        vertical-align: top;\n",
       "    }\n",
       "\n",
       "    .dataframe thead th {\n",
       "        text-align: right;\n",
       "    }\n",
       "</style>\n",
       "<table border=\"1\" class=\"dataframe\">\n",
       "  <thead>\n",
       "    <tr style=\"text-align: right;\">\n",
       "      <th></th>\n",
       "      <th>t</th>\n",
       "      <th>tw</th>\n",
       "      <th>e</th>\n",
       "      <th>n</th>\n",
       "      <th>w</th>\n",
       "      <th>S</th>\n",
       "      <th>B</th>\n",
       "    </tr>\n",
       "  </thead>\n",
       "  <tbody>\n",
       "    <tr>\n",
       "      <th>0</th>\n",
       "      <td>54684.0</td>\n",
       "      <td>2.0</td>\n",
       "      <td>0.977511</td>\n",
       "      <td>678</td>\n",
       "      <td>[244, 214, 174, 5, 246, 150, 187, 65, 91, 215,...</td>\n",
       "      <td>451.057381</td>\n",
       "      <td>226.846442</td>\n",
       "    </tr>\n",
       "    <tr>\n",
       "      <th>1</th>\n",
       "      <td>54686.0</td>\n",
       "      <td>2.0</td>\n",
       "      <td>1.020863</td>\n",
       "      <td>716</td>\n",
       "      <td>[138, 13, 107, 13, 195, 219, 247, 148, 245, 5,...</td>\n",
       "      <td>471.061763</td>\n",
       "      <td>236.907075</td>\n",
       "    </tr>\n",
       "    <tr>\n",
       "      <th>2</th>\n",
       "      <td>54688.0</td>\n",
       "      <td>2.0</td>\n",
       "      <td>1.041578</td>\n",
       "      <td>699</td>\n",
       "      <td>[246, 185, 82, 163, 240, 182, 31, 200, 200, 14...</td>\n",
       "      <td>480.620292</td>\n",
       "      <td>241.714264</td>\n",
       "    </tr>\n",
       "    <tr>\n",
       "      <th>3</th>\n",
       "      <td>54690.0</td>\n",
       "      <td>2.0</td>\n",
       "      <td>0.960047</td>\n",
       "      <td>681</td>\n",
       "      <td>[245, 13, 127, 201, 205, 185, 206, 54, 120, 48...</td>\n",
       "      <td>442.999090</td>\n",
       "      <td>222.793754</td>\n",
       "    </tr>\n",
       "  </tbody>\n",
       "</table>\n",
       "</div>"
      ],
      "text/plain": [
       "         t   tw         e    n  \\\n",
       "0  54684.0  2.0  0.977511  678   \n",
       "1  54686.0  2.0  1.020863  716   \n",
       "2  54688.0  2.0  1.041578  699   \n",
       "3  54690.0  2.0  0.960047  681   \n",
       "\n",
       "                                                   w           S           B  \n",
       "0  [244, 214, 174, 5, 246, 150, 187, 65, 91, 215,...  451.057381  226.846442  \n",
       "1  [138, 13, 107, 13, 195, 219, 247, 148, 245, 5,...  471.061763  236.907075  \n",
       "2  [246, 185, 82, 163, 240, 182, 31, 200, 200, 14...  480.620292  241.714264  \n",
       "3  [245, 13, 127, 201, 205, 185, 206, 54, 120, 48...  442.999090  222.793754  "
      ]
     },
     "execution_count": null,
     "metadata": {},
     "output_type": "execute_result"
    }
   ],
   "source": [
    "cells = get_cells(config, files, source, test_bins)\n",
    "cells"
   ]
  },
  {
   "cell_type": "code",
   "execution_count": null,
   "metadata": {},
   "outputs": [],
   "source": [
    "#export\n",
    "def flux_plot(config, lightcurve, ts_min=9,  title=None, ax=None, fignum=1,\n",
    "              figsize=(12,4),\n",
    "              step=False, \n",
    "              tzero:'time offset'=0,\n",
    "              colors=('cornflowerblue','sandybrown', 'blue'), fmt=' ',\n",
    "              **kwargs): \n",
    "    \"\"\"Make a plot of flux vs. MJD\n",
    "    \n",
    "    - lightcurve \n",
    "    - ts_min -- threshold for ploting limit\n",
    "    - colors -- tuple of colors for signal, limit\n",
    "    - kwargs -- apply to the Axis object\n",
    "    \n",
    "    returns the Figure instance\n",
    "    \"\"\"\n",
    "    kw=dict(yscale='linear',\n",
    "            xlabel='MJD'+ f' - {tzero}' if tzero else '' ,\n",
    "            ylabel='relative flux')\n",
    "    kw.update(**kwargs)\n",
    "    df=lightcurve\n",
    "    rep = config.likelihood_rep\n",
    "    if rep =='poisson':\n",
    "        ts = df.fit.apply(lambda f: f.ts) \n",
    "        limit = ts<ts_min\n",
    "        bar = df.loc[~limit,:]\n",
    "        lim = df.loc[limit,:]\n",
    "        allflux= np.select([~limit, limit], \n",
    "                        [df.fit.apply(lambda f: f.flux).values,\n",
    "                         df.fit.apply(lambda f: f.limit).values],\n",
    "                       )\n",
    "        \n",
    "    else: \n",
    "        bar=df; lim=[]\n",
    "\n",
    "    fig, ax = plt.subplots(figsize=figsize, num=fignum) if ax is None else (ax.figure, ax)\\\n",
    "        if ax is not None else (ax.figure,ax)\n",
    "\n",
    "    # the points with error bars\n",
    "    t = bar.t.values-tzero\n",
    "    tw = bar.tw.values \n",
    "    fluxmeas = allflux[~limit]\n",
    "    upper = bar.fit.apply(lambda f: f.errors[1]).values\n",
    "    lower = bar.fit.apply(lambda f: f.errors[0]).values\n",
    "    error = np.array([upper-fluxmeas, fluxmeas-lower])\n",
    "\n",
    "#     if rep=='poisson':\n",
    "#         dy = [bar.errors.apply(lambda x: x[i]).clip(0,4) for i in range(2)]\n",
    "#     elif rep==='gauss' or rep=='gauss2d':\n",
    "#         dy = bar.sig_flux.clip(0,4)\n",
    "#     else: assert False, f'Unrecognized likelihood rep: {rep}'   \n",
    "\n",
    "    ax.errorbar(x=t, xerr=tw/2, y=fluxmeas, yerr=error, fmt=fmt, color=colors[0], )#'silver')\n",
    "\n",
    "    if step:\n",
    "        t = df.t.values-tzero\n",
    "        xerr = df.tw.values/2; \n",
    "        x = np.append(t-xerr, [t[-1]+xerr[-1]]); \n",
    "        y = np.append(allflux, [allflux[-1]])\n",
    "        ax.step(x, y, color=colors[2], where='post', )\n",
    "\n",
    "    \n",
    "    # now do the limits (only for poisson rep)\n",
    "    error_size=2\n",
    "    if len(lim)>0:\n",
    "        t = lim.t-tzero\n",
    "        tw = lim.tw \n",
    "\n",
    "        y = allflux[limit]\n",
    "        yerr=0.2*(1 if kw['yscale']=='linear' else y)\n",
    "        ax.errorbar(x=t, y=y, xerr=tw/2,\n",
    "                yerr=yerr,  color=colors[1], \n",
    "                uplims=True, ls='', lw=error_size, capsize=3*error_size, capthick=0,\n",
    "               )\n",
    "\n",
    "    #ax.axhline(1., color='grey')\n",
    "    ax.set(**kw)\n",
    "    ax.set_title(title) # or f'{source_name}, rep {self.rep}')\n",
    "    ax.grid(alpha=0.5)\n",
    "    return fig"
   ]
  },
  {
   "cell_type": "code",
   "execution_count": null,
   "metadata": {},
   "outputs": [
    {
     "data": {
      "text/markdown": [
       "<h4 id=\"flux_plot\" class=\"doc_header\"><code>flux_plot</code><a href=\"__main__.py#L2\" class=\"source_link\" style=\"float:right\">[source]</a></h4>\n",
       "\n",
       "> <code>flux_plot</code>(**`config`**, **`lightcurve`**, **`ts_min`**=*`9`*, **`title`**=*`None`*, **`ax`**=*`None`*, **`fignum`**=*`1`*, **`figsize`**=*`(12, 4)`*, **`colors`**=*`('cornflowerblue', 'sandybrown')`*, **`fmt`**=*`' '`*, **\\*\\*`kwargs`**)\n",
       "\n",
       "Make a plot of flux vs. MJD\n",
       "\n",
       "- lightcurve \n",
       "- ts_min -- threshold for ploting limit\n",
       "- colors -- tuple of colors for signal, limit\n",
       "- kwargs -- apply to the Axis object\n",
       "\n",
       "returns the Figure instance"
      ],
      "text/plain": [
       "<IPython.core.display.Markdown object>"
      ]
     },
     "metadata": {},
     "output_type": "display_data"
    }
   ],
   "source": [
    "show_doc(flux_plot)"
   ]
  },
  {
   "cell_type": "markdown",
   "metadata": {},
   "source": [
    "Example plot-- the first 100 days of Fermi data for Geminga"
   ]
  },
  {
   "cell_type": "code",
   "execution_count": null,
   "metadata": {},
   "outputs": [
    {
     "data": {
      "image/png": "[encoded data removed]",
      "text/plain": [
       "<Figure size 864x288 with 1 Axes>"
      ]
     },
     "metadata": {
      "needs_background": "light"
     },
     "output_type": "display_data"
    }
   ],
   "source": [
    "#collapse_hide\n",
    "if lc is not None:\n",
    "    plt.rc('font', size=20)\n",
    "    fig, ax = plt.subplots(figsize=(12,4))\n",
    "    flux_plot(config, lc, fmt='o', ax=ax, xlim=(-50,50), step=True, tzero=55000)\n",
    "\n",
    "    \n",
    "    "
   ]
  },
  {
   "cell_type": "code",
   "execution_count": null,
   "metadata": {},
   "outputs": [],
   "source": []
  },
  {
   "cell_type": "markdown",
   "metadata": {},
   "source": [
    "And forcing upper limits"
   ]
  },
  {
   "cell_type": "code",
   "execution_count": null,
   "metadata": {},
   "outputs": [
    {
     "data": {
      "image/png": "[encoded data removed]",
      "text/plain": [
       "<Figure size 864x288 with 2 Axes>"
      ]
     },
     "metadata": {
      "needs_background": "light"
     },
     "output_type": "display_data"
    }
   ],
   "source": [
    "#collapse_hide\n",
    "if lc is not None:\n",
    "    fig, (ax1,ax2) = plt.subplots(1,2, figsize=(12,4), sharex=True, sharey=True)\n",
    "    flux_plot(config, lc, ax=ax1, fmt='o', xlim=(54689, 54700),  step=True)\n",
    "    flux_plot(config, lc, ax=ax2, fmt='o', xlim=(54689, 54700), ts_min=1000, step=True)"
   ]
  },
  {
   "cell_type": "code",
   "execution_count": null,
   "metadata": {},
   "outputs": [
    {
     "name": "stdout",
     "output_type": "stream",
     "text": [
      "Tue Dec 15 09:25:12 PST 2020\n"
     ]
    }
   ],
   "source": [
    "!date"
   ]
  },
  {
   "cell_type": "code",
   "execution_count": null,
   "metadata": {},
   "outputs": [
    {
     "name": "stdout",
     "output_type": "stream",
     "text": [
      "Converted 00_config.ipynb.\n",
      "Converted 01_effective_area.ipynb.\n",
      "Converted 02_load_gti.ipynb.\n",
      "Converted 03_exposure.ipynb.\n",
      "Converted 04_photon_data.ipynb.\n",
      "Converted 05_weights.ipynb.\n",
      "Converted 07_cells.ipynb.\n",
      "Converted 09_poisson.ipynb.\n",
      "Converted 10_loglike.ipynb.\n",
      "Converted 11_lightcurve.ipynb.\n",
      "Converted 12_instructions.ipynb.\n",
      "Converted 13_kerr_comparison.ipynb.\n",
      "Converted 14_bayesian.ipynb.\n",
      "Converted index.ipynb.\n",
      "Tue Dec 15 09:44:04 PST 2020\n"
     ]
    }
   ],
   "source": [
    "#hide\n",
    "from nbdev.export import notebook2script\n",
    "notebook2script()\n",
    "!date"
   ]
  },
  {
   "cell_type": "code",
   "execution_count": null,
   "metadata": {},
   "outputs": [],
   "source": []
  }
 ],
 "metadata": {
  "kernelspec": {
   "display_name": "Python 3",
   "language": "python",
   "name": "python3"
  }
 },
 "nbformat": 4,
 "nbformat_minor": 4
}
