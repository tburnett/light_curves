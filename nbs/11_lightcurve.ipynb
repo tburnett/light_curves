{
 "cells": [
  {
   "cell_type": "code",
   "execution_count": null,
   "metadata": {},
   "outputs": [],
   "source": [
    "#default_exp lightcurve\n",
    "%load_ext autoreload\n",
    "from nbdev.showdoc import show_doc"
   ]
  },
  {
   "cell_type": "markdown",
   "metadata": {},
   "source": [
    "# Light Curve\n",
    "> Generate light curves from cells\n",
    "\n",
    "A \"light curve\" is a table indexed by time in MJD with columns\n",
    "\n",
    "- tw -- the cell width, initialized to be config.time_interval: when cells are combined\n",
    "- n  -- number of photons\n",
    "- fexp -- relative exposure\n",
    "- fit -- the fit object, containing info about the flux. This is usually a `PoissonRep` object"
   ]
  },
  {
   "cell_type": "code",
   "execution_count": null,
   "metadata": {},
   "outputs": [],
   "source": [
    "#export\n",
    "import numpy as np\n",
    "import pylab as plt\n",
    "import pandas as pd"
   ]
  },
  {
   "cell_type": "code",
   "execution_count": null,
   "metadata": {},
   "outputs": [],
   "source": [
    "#export\n",
    "from light_curves.loglike import (LogLike, GaussianRep, Gaussian2dRep, PoissonRep, PoissonRepTable)\n",
    "\n",
    "class _LightCurve(object):\n",
    "    \"\"\" Apply likelihood fits to a set of cells\n",
    "    \n",
    "    parameters:\n",
    "       - cells : a table with index t, columns  tw, n, fexp, w, S, B\n",
    "       - min_exp : minimum fractional exposure allowed\n",
    "       - rep_name : represention to use \n",
    "\n",
    "    Generates a DataTable with columns n, fexp, fit\n",
    "        \n",
    "    \"\"\"\n",
    "\n",
    "    rep_class =  [GaussianRep, Gaussian2dRep, PoissonRep, PoissonRepTable]\n",
    "    rep_list =   'gauss gauss2d poisson poissontable'.split()\n",
    "\n",
    "    def __init__(self, config, \n",
    "                all_cells, \n",
    "                source, \n",
    "                min_exp:  'minimum exposure factor'= 0.3,\n",
    "                rep_name: 'likelihood rep name'='',\n",
    "    \n",
    "                ):\n",
    "        \"\"\"Apply fits to the likelihoods for a set of cells\n",
    "        \n",
    " \n",
    "        \"\"\"\n",
    "\n",
    "        self.source_name = source.name\n",
    " \n",
    "\n",
    "        # select the set of cells\n",
    "        cells = all_cells.query(f'fexp>{min_exp}').copy()\n",
    "        \n",
    "        # generate a list of LogLike objects for each\n",
    "        cells.loc[:,'loglike'] = cells.apply(LogLike, axis=1)\n",
    "        if config.verbose>0:\n",
    "            print(f'Loaded {len(cells)} / {len(all_cells)} cells with exposure >'\\\n",
    "                  f' {min_exp} for light curve analysis')\n",
    "\n",
    "        # analyze using selected rep\n",
    "        rep_name = rep_name or config.likelihood_rep\n",
    "        \n",
    "        if rep_name not in self.rep_list:\n",
    "            raise Exception(f'Unrecognized rep: \"{rep_name}\", must be one of {self.rep_list}')\n",
    "        repcl = self.rep_class[self.rep_list.index(rep_name)]\n",
    "\n",
    "        if config.verbose>1:\n",
    "            print(f'Fitting likelihoods with {rep_name} representation')\n",
    "        \n",
    "        # making output with reduced columns \n",
    "        self.ll_fits = cells['n fexp'.split()].copy()\n",
    "        self.ll_fits.loc[:,'tw'] = config.time_interval\n",
    "        self.ll_fits.loc[:,'fit'] = cells.loglike.apply(repcl)\n",
    "\n",
    "    def __repr__(self):\n",
    "        return f'{self.__class__.__name__}: source \"{self.source_name}\" fit with {len(self.ll_fits)} cells'\n",
    "\n",
    "\n",
    "    @property\n",
    "    def dataframe(self):\n",
    "        \"\"\"return the DataFrame\n",
    "        \"\"\"\n",
    "        return self.ll_fits"
   ]
  },
  {
   "cell_type": "code",
   "execution_count": null,
   "metadata": {},
   "outputs": [],
   "source": [
    "#export    \n",
    "\n",
    "from light_curves.config import Config, Files, PointSource\n",
    "from light_curves.cells import get_cells\n",
    "\n",
    "def get_lightcurve(config, files, source):\n",
    "    \"\"\"Returns a lightcurve table for the source\n",
    "    \n",
    "    \"\"\"\n",
    "    fcache = files.cache/f'{source.filename}_lightcurve.pkl' if config.use_cache else None\n",
    "\n",
    "    if fcache and fcache.exists():    \n",
    "        if config.verbose>1:\n",
    "            print(f'Restoring the light curve from {fcache} ' )\n",
    "        lc = pd.read_pickle(fcache)\n",
    "        return lc\n",
    "    \n",
    "    all_cells = get_cells(config, files, source)\n",
    "    lc = _LightCurve(config, all_cells, source).dataframe\n",
    "    \n",
    "    if fcache:\n",
    "        if config.verbose>1:\n",
    "            print(f'Saving the light curve at {fcache} ')\n",
    "        lc.to_pickle(fcache)\n",
    "    \n",
    "    return lc\n",
    "    "
   ]
  },
  {
   "cell_type": "code",
   "execution_count": null,
   "metadata": {},
   "outputs": [
    {
     "name": "stdout",
     "output_type": "stream",
     "text": [
      "Loading cells with source Geminga \n",
      "Restoring the light curve from /tmp/light_curves/Geminga_lightcurve.pkl \n",
      "\n",
      "First cell fit: light_curves.loglike.PoissonRep: flux: 0.927[1+0.076-0.079], limit: 1.05, ts: 481.9\n"
     ]
    }
   ],
   "source": [
    "\n",
    "from light_curves.config import Config, Files, PointSource\n",
    "from light_curves.cells import get_cells\n",
    "\n",
    "config = Config()\n",
    "files = Files()\n",
    "source = PointSource('Geminga')\n",
    "if files.valid:\n",
    "    print(f'Loading cells with source {source.name} ')\n",
    "    lc = get_lightcurve(config, files, source)\n",
    "else:\n",
    "    print('Not testing since no files.')\n",
    "    lc = None\n",
    "if lc is not None:\n",
    "    print(f'\\nFirst cell fit: {lc.iloc[0][\"fit\"]}')"
   ]
  },
  {
   "cell_type": "code",
   "execution_count": null,
   "metadata": {},
   "outputs": [],
   "source": [
    "#export\n",
    "def flux_plot(config, lightcurve, ts_max=9,  title=None, ax=None, fignum=1, **kwargs): \n",
    "    \"\"\"Make a plot of flux vs. MJD\n",
    "    \n",
    "    - lightcurve \n",
    "    - ts_max -- threshold for ploting limit\n",
    "    - kwargs -- apply to the Axis object\n",
    "    \"\"\"\n",
    "    kw=dict(yscale='linear',xlabel='MJD', ylabel='relative flux',)\n",
    "    kw.update(**kwargs)\n",
    "    df=lightcurve\n",
    "    rep = config.likelihood_rep\n",
    "    if rep =='poisson':\n",
    "        ts = df.fit.apply(lambda f: f.ts) \n",
    "        limit = ts<ts_max\n",
    "        bar = df.loc[~limit,:]\n",
    "        lim = df.loc[limit,:]\n",
    "    else: \n",
    "        bar=df; lim=[]\n",
    "\n",
    "    fig, ax = plt.subplots(figsize=(12,4), num=fignum) if ax is None else (ax.figure, ax)\\\n",
    "        if ax is not None else (ax.figure,ax)\n",
    "\n",
    "    # the points with error bars\n",
    "    t = bar.index\n",
    "    tw = bar.tw if 'tw' in bar.columns else np.full(len(t), config.time_interval) \n",
    "    flux =  bar.fit.apply(lambda f: f.flux).values\n",
    "    error = bar.fit.apply(lambda f: np.array(f.errors)-f.flux).values\n",
    "    \n",
    "#     if rep=='poisson':\n",
    "#         dy = [bar.errors.apply(lambda x: x[i]).clip(0,4) for i in range(2)]\n",
    "#     elif rep==='gauss' or rep=='gauss2d':\n",
    "#         dy = bar.sig_flux.clip(0,4)\n",
    "#     else: assert False, f'Unrecognized likelihood rep: {rep}'   \n",
    "\n",
    "    ax.errorbar(x=t, xerr=tw/2, y=flux, yerr=error, fmt=' ', color='silver')\n",
    "\n",
    "    # now do the limits (only for poisson rep)\n",
    "    if len(lim)>0:\n",
    "        t = lim.index\n",
    "        tw = lim.tw \n",
    "\n",
    "        y = lim.fit.apply(lambda f: f.limit).values\n",
    "        yerr=0.2*(1 if kw['yscale']=='linear' else y)\n",
    "        ax.errorbar(x=t, y=y, xerr=tw/2,\n",
    "                yerr=yerr,  color='lightsalmon', \n",
    "                uplims=True, ls='', lw=2, capsize=4, capthick=0,\n",
    "                alpha=0.5)\n",
    "\n",
    "    #ax.axhline(1., color='grey')\n",
    "    ax.set(**kw)\n",
    "    ax.set_title(title) # or f'{source_name}, rep {self.rep}')\n",
    "    ax.grid(alpha=0.5)\n",
    "    return fig"
   ]
  },
  {
   "cell_type": "code",
   "execution_count": null,
   "metadata": {},
   "outputs": [
    {
     "data": {
      "text/markdown": [
       "<h4 id=\"flux_plot\" class=\"doc_header\"><code>flux_plot</code><a href=\"__main__.py#L2\" class=\"source_link\" style=\"float:right\">[source]</a></h4>\n",
       "\n",
       "> <code>flux_plot</code>(**`config`**, **`lightcurve`**, **`ts_max`**=*`9`*, **`title`**=*`None`*, **`ax`**=*`None`*, **`fignum`**=*`1`*, **\\*\\*`kwargs`**)\n",
       "\n",
       "Make a plot of flux vs. MJD\n",
       "\n",
       "- lightcurve \n",
       "- ts_max -- threshold for ploting limit\n",
       "- kwargs -- apply to the Axis object"
      ],
      "text/plain": [
       "<IPython.core.display.Markdown object>"
      ]
     },
     "metadata": {},
     "output_type": "display_data"
    }
   ],
   "source": [
    "show_doc(flux_plot)"
   ]
  },
  {
   "cell_type": "code",
   "execution_count": null,
   "metadata": {},
   "outputs": [
    {
     "data": {
      "text/markdown": [
       "<h4 id=\"flux_plot\" class=\"doc_header\"><code>flux_plot</code><a href=\"__main__.py#L2\" class=\"source_link\" style=\"float:right\">[source]</a></h4>\n",
       "\n",
       "> <code>flux_plot</code>(**`config`**, **`lightcurve`**, **`ts_max`**=*`9`*, **`title`**=*`None`*, **`ax`**=*`None`*, **`fignum`**=*`1`*, **\\*\\*`kwargs`**)\n",
       "\n",
       "Make a plot of flux vs. MJD\n",
       "\n",
       "- lightcurve \n",
       "- ts_max -- threshold for ploting limit\n",
       "- kwargs -- apply to the Axis object"
      ],
      "text/plain": [
       "<IPython.core.display.Markdown object>"
      ]
     },
     "metadata": {},
     "output_type": "display_data"
    },
    {
     "data": {
      "text/markdown": [
       "### Light curve plots\n",
       "\n",
       "Test with Geminga:\n",
       "\n",
       "<div class=\"jupydoc_fig\"><figure>   <img src=\"images/plot_demo_fig_01.png\" alt=\"Figure 1 at images/plot_demo_fig_01.png\" >  <figcaption><b>Figure 1</b>. Geminga</figcaption></figure></div>\n",
       "\n",
       "\n",
       "and 3C 279\n",
       "\n",
       "<div class=\"jupydoc_fig\"><figure>   <img src=\"images/plot_demo_fig_02.png\" alt=\"Figure 2 at images/plot_demo_fig_02.png\" >  <figcaption><b>Figure 2</b>. 3C 279</figcaption></figure></div>\n",
       "\n",
       "\n",
       "<p style=\"margin-left: 5%\"><pre>Restoring the light curve from /tmp/light_curves/Geminga_lightcurve.pkl <br>Restoring the light curve from /tmp/light_curves/3C_279_lightcurve.pkl <br></pre></p>\n"
      ],
      "text/plain": [
       "<utilities.ipynb_docgen.doc_formatter.<locals>.MimeBundleObject at 0x7fb87c937450>"
      ]
     },
     "metadata": {},
     "output_type": "display_data"
    }
   ],
   "source": [
    "show_doc(flux_plot)\n",
    "from utilities import nbdoc\n",
    "\n",
    "\n",
    "def plot_demo():\n",
    "    \"\"\"\n",
    "    ### Light curve plots\n",
    "    \n",
    "    Test with {source1.name}:\n",
    "    \n",
    "    {fig1}\n",
    "    \n",
    "    and {source2.name}\n",
    "    \n",
    "    {fig2}\n",
    "    \n",
    "    {print_out}\n",
    "    \"\"\"\n",
    "    from light_curves.config import Config, Files, PointSource\n",
    "    from light_curves.lightcurve import get_lightcurve, flux_plot\n",
    "    \n",
    "    config = Config()\n",
    "    files = Files()\n",
    "    \n",
    "    with capture_print() as print_out:\n",
    "        source1 = PointSource('Geminga')\n",
    "        lc1 = get_lightcurve(config, files, source1)\n",
    "        fig1 = flux_plot(config, lc1, fignum=1, title=source1.name)\n",
    "        fig1.caption=f'{source1.name}'\n",
    "\n",
    "        source2 = PointSource('3C 279')\n",
    "        lc2 = get_lightcurve(config, files, source2)\n",
    "        fig2 = flux_plot(config, lc2, fignum=2, yscale='log' )\n",
    "        fig2.caption=f'{source2.name}'\n",
    "\n",
    "nbdoc(plot_demo)"
   ]
  },
  {
   "cell_type": "code",
   "execution_count": null,
   "metadata": {},
   "outputs": [
    {
     "name": "stdout",
     "output_type": "stream",
     "text": [
      "Converted 00_config.ipynb.\n",
      "Converted 01_effective_area.ipynb.\n",
      "Converted 02_load_gti.ipynb.\n",
      "Converted 03_exposure.ipynb.\n",
      "Converted 04_photon_data.ipynb.\n",
      "Converted 05_weights.ipynb.\n",
      "Converted 07_cells.ipynb.\n",
      "Converted 09_poisson.ipynb.\n",
      "Converted 10_loglike.ipynb.\n",
      "Converted 11_lightcurve.ipynb.\n",
      "Converted index.ipynb.\n",
      "Tue Dec  8 08:24:45 PST 2020\n"
     ]
    }
   ],
   "source": [
    "#hide\n",
    "from nbdev.export import notebook2script\n",
    "notebook2script()\n",
    "!date"
   ]
  },
  {
   "cell_type": "code",
   "execution_count": null,
   "metadata": {},
   "outputs": [],
   "source": []
  }
 ],
 "metadata": {
  "kernelspec": {
   "display_name": "Python 3",
   "language": "python",
   "name": "python3"
  }
 },
 "nbformat": 4,
 "nbformat_minor": 4
}
