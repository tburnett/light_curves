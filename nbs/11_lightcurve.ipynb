{
 "cells": [
  {
   "cell_type": "code",
   "execution_count": null,
   "metadata": {},
   "outputs": [
    {
     "name": "stdout",
     "output_type": "stream",
     "text": [
      "The autoreload extension is already loaded. To reload it, use:\n",
      "  %reload_ext autoreload\n"
     ]
    }
   ],
   "source": [
    "#default_exp lightcurve\n",
    "%load_ext autoreload\n",
    "from nbdev.showdoc import show_doc"
   ]
  },
  {
   "cell_type": "markdown",
   "metadata": {},
   "source": [
    "# Light Curve\n",
    "> Generate light curves from cells"
   ]
  },
  {
   "cell_type": "code",
   "execution_count": null,
   "metadata": {},
   "outputs": [],
   "source": [
    "#export\n",
    "import numpy as np\n",
    "import pylab as plt\n",
    "import pandas as pd\n"
   ]
  },
  {
   "cell_type": "code",
   "execution_count": null,
   "metadata": {},
   "outputs": [],
   "source": [
    "#export\n",
    "from light_curves.loglike import (LogLike, GaussianRep, Gaussian2dRep, PoissonRep, PoissonRepTable)\n",
    "\n",
    "class _LightCurve(object):\n",
    "    \"\"\" Apply likelihood fits to a set of cells\n",
    "    \n",
    "    \"\"\"\n",
    "\n",
    "    rep_class =  [GaussianRep, Gaussian2dRep, PoissonRep, PoissonRepTable]\n",
    "    rep_list =   'gauss gauss2d poisson poissontable'.split()\n",
    "\n",
    "    def __init__(self, config, \n",
    "                all_cells, \n",
    "                source, \n",
    "                min_exp:  'minimum exposure factor'= 0.3,\n",
    "                rep_name: 'likelihood rep name'='',\n",
    "    \n",
    "                ):\n",
    "        \"\"\"Apply fits to the likelihoods for a set of cells\n",
    "        \n",
    "        parameters:\n",
    "           - cells : a table with index t, columns  tw, n, fexp, w, S, B\n",
    "           - min_exp : minimum fractional exposure allowed\n",
    "           - rep_name : represention to use \n",
    "        \n",
    "        Generates a DataTable with columns n, fexp, fit\n",
    "        \n",
    "        \"\"\"\n",
    "\n",
    "        self.source_name = source.name\n",
    " \n",
    "\n",
    "        # select the set of cells\n",
    "        cells = all_cells.query(f'fexp>{min_exp}').copy()\n",
    "        \n",
    "        # generate a list of LogLike objects for each\n",
    "        cells.loc[:,'loglike'] = cells.apply(LogLike, axis=1)\n",
    "        if config.verbose>0:\n",
    "            print(f'Loaded {len(cells)} / {len(all_cells)} cells with exposure >'\\\n",
    "                  f' {min_exp} for light curve analysis')\n",
    "\n",
    "        # analyze using selected rep\n",
    "        rep_name = rep_name or config.likelihood_rep\n",
    "        \n",
    "        if rep_name not in self.rep_list:\n",
    "            raise Exception(f'Unrecognized rep: \"{rep_name}\", must be one of {self.rep_list}')\n",
    "        repcl = self.rep_class[self.rep_list.index(rep_name)]\n",
    "\n",
    "        if config.verbose>1:\n",
    "            print(f'Fitting likelihoods with {rep_name} representation')\n",
    "        \n",
    "        # making output with reduced columns \n",
    "        self.ll_fits = cells['n fexp'.split()].copy()\n",
    "        self.ll_fits.loc[:,'fit'] = cells.loglike.apply(repcl)\n",
    "\n",
    "    def __repr__(self):\n",
    "        return f'{self.__class__.__name__}: source \"{self.source_name}\" fit with {len(self.ll_fits)} cells'\n",
    "\n",
    "\n",
    "    @property\n",
    "    def dataframe(self):\n",
    "        \"\"\"return the DataFrame\n",
    "        \"\"\"\n",
    "        return self.ll_fits"
   ]
  },
  {
   "cell_type": "code",
   "execution_count": null,
   "metadata": {},
   "outputs": [],
   "source": [
    "#export    \n",
    "\n",
    "from light_curves.config import Config, Files, PointSource\n",
    "from light_curves.cells import get_cells\n",
    "\n",
    "def get_lightcurve(config, files, source):\n",
    "    \"\"\"\n",
    "    \n",
    "    \"\"\"\n",
    "    fcache = files.cache/f'{source.filename}_lightcurve.pkl' if config.use_cache else None\n",
    "\n",
    "    if fcache and fcache.exists():    \n",
    "        if config.verbose>1:\n",
    "            print(f'restoring the light curve from {fcache} ' , end='')\n",
    "        lc = pd.read_pickle(fcache)\n",
    "\n",
    "        return lc\n",
    "    \n",
    "    all_cells = get_cells(config, files, source)\n",
    "    lc = _LightCurve(config, all_cells, source).dataframe\n",
    "    \n",
    "    if fcache:\n",
    "        if config.verbose>1:\n",
    "            print(f'Saveinga light curve at {fcache} ')\n",
    "        lc.to_pickle(fcache)\n",
    "    \n",
    "    return lc\n",
    "    "
   ]
  },
  {
   "cell_type": "code",
   "execution_count": null,
   "metadata": {},
   "outputs": [
    {
     "name": "stdout",
     "output_type": "stream",
     "text": [
      "Loading cells with source Geminga \n",
      "restoring the light curve from /tmp/light_curves/Geminga_lightcurve.pkl \n",
      "First cell fit: light_curves.loglike.PoissonRep: flux: 0.927[1+0.076-0.079], limit: 1.05, ts: 481.9\n"
     ]
    }
   ],
   "source": [
    "\n",
    "from light_curves.config import Config, Files, PointSource\n",
    "from light_curves.cells import get_cells\n",
    "\n",
    "config = Config()\n",
    "files = Files()\n",
    "source = PointSource('Geminga')\n",
    "\n",
    "if files.valid:\n",
    "    print(f'Loading cells with source {source.name} ')\n",
    "    lc = get_lightcurve(config, files, source)\n",
    "else:\n",
    "    print('Not testing since no files.')\n",
    "    lc = None\n",
    "if lc is not None:\n",
    "    print(f'\\nFirst cell fit: {lc.iloc[0][\"fit\"]}')"
   ]
  },
  {
   "cell_type": "code",
   "execution_count": null,
   "metadata": {},
   "outputs": [
    {
     "name": "stdout",
     "output_type": "stream",
     "text": [
      "Converted 00_config.ipynb.\n",
      "Converted 01_effective_area.ipynb.\n",
      "Converted 02_load_gti.ipynb.\n",
      "Converted 03_exposure.ipynb.\n",
      "Converted 04_photon_data.ipynb.\n",
      "Converted 05_weights.ipynb.\n",
      "Converted 07_cells.ipynb.\n",
      "Converted 09_poisson.ipynb.\n",
      "Converted 10_loglike.ipynb.\n",
      "Converted 11_lightcurve.ipynb.\n",
      "Converted index.ipynb.\n",
      "Mon Dec  7 16:00:44 PST 2020\n"
     ]
    }
   ],
   "source": [
    "#hide\n",
    "from nbdev.export import notebook2script\n",
    "notebook2script()\n",
    "!date"
   ]
  },
  {
   "cell_type": "code",
   "execution_count": null,
   "metadata": {},
   "outputs": [],
   "source": [
    "#export\n",
    "def flux_plot(config, lightcurve, ts_max=9, xerr=0.5, title=None, ax=None, **kwargs): \n",
    "    \"\"\"Make a plot of flux with according to the representation\n",
    "    \"\"\"\n",
    "    kw=dict(yscale='linear',xlabel='MJD', ylabel='relative flux',)\n",
    "    kw.update(**kwargs)\n",
    "    df=lightcurve\n",
    "    if config.likelihood_rep=='poisson':\n",
    "        ts = df.ts\n",
    "        limit = ts<ts_max\n",
    "        bar = df.loc[~limit,:]\n",
    "        lim = df.loc[limit,:]\n",
    "    else: \n",
    "        bar=df; lim=[]\n",
    "\n",
    "    fig, ax = plt.subplots(figsize=(12,4)) if ax is None else (ax.figure, ax)\\\n",
    "        if ax is not None else (ax.figure,ax)\n",
    "\n",
    "    # the points with error bars\n",
    "    t = bar.t\n",
    "    xerr = bar.tw/2\n",
    "    y =  bar.flux.values\n",
    "    if config.likelihood_rep=='poisson':\n",
    "        dy = [bar.errors.apply(lambda x: x[i]).clip(0,4) for i in range(2)]\n",
    "    elif self.rep=='gauss' or self.rep=='gauss2d':\n",
    "        dy = bar.sig_flux.clip(0,4)\n",
    "    else: assert False     \n",
    "    ax.errorbar(x=t, y=y, xerr=xerr, yerr=dy, fmt=' ', color='silver')\n",
    "\n",
    "    # now do the limits\n",
    "    if len(lim)>0:\n",
    "        t = lim.t\n",
    "        xerr = lim.tw/2\n",
    "        y = lim.limit.values\n",
    "        yerr=0.2*(1 if kw['yscale']=='linear' else y)\n",
    "        ax.errorbar(x=t, y=y, xerr=xerr,\n",
    "                yerr=yerr,  color='lightsalmon', \n",
    "                uplims=True, ls='', lw=2, capsize=4, capthick=0,\n",
    "                alpha=0.5)\n",
    "\n",
    "    #ax.axhline(1., color='grey')\n",
    "    ax.set(**kw)\n",
    "    ax.set_title(title or f'{self.source_name}, rep {self.rep}')\n",
    "    ax.grid(alpha=0.5)"
   ]
  },
  {
   "cell_type": "code",
   "execution_count": null,
   "metadata": {},
   "outputs": [],
   "source": [
    "# ?lux_plot(config, lc)"
   ]
  },
  {
   "cell_type": "code",
   "execution_count": null,
   "metadata": {},
   "outputs": [],
   "source": []
  }
 ],
 "metadata": {
  "kernelspec": {
   "display_name": "Python 3",
   "language": "python",
   "name": "python3"
  }
 },
 "nbformat": 4,
 "nbformat_minor": 4
}
