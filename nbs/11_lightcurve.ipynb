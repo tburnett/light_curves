{
 "cells": [
  {
   "cell_type": "code",
   "execution_count": null,
   "metadata": {},
   "outputs": [
    {
     "name": "stdout",
     "output_type": "stream",
     "text": [
      "The autoreload extension is already loaded. To reload it, use:\n",
      "  %reload_ext autoreload\n"
     ]
    }
   ],
   "source": [
    "#default_exp lightcurve\n",
    "%load_ext autoreload\n",
    "from nbdev.showdoc import show_doc"
   ]
  },
  {
   "cell_type": "markdown",
   "metadata": {},
   "source": [
    "# Light Curve Generation\n",
    "> Generate light curves from cells\n",
    "\n",
    "A \"light curve\" is a table indexed by time, 't', in MJD with columns\n",
    "\n",
    "- tw -- the cell width, initialized to be config.time_interval: when cells are combined\n",
    "- n  -- number of photons\n",
    "- fexp -- relative exposure\n",
    "- fit -- the fit object, containing info about the flux. This is usually a `PoissonRep` object\n",
    "\n"
   ]
  },
  {
   "cell_type": "code",
   "execution_count": null,
   "metadata": {},
   "outputs": [],
   "source": [
    "#export\n",
    "import numpy as np\n",
    "import pylab as plt\n",
    "import pandas as pd"
   ]
  },
  {
   "cell_type": "code",
   "execution_count": null,
   "metadata": {},
   "outputs": [],
   "source": [
    "#export\n",
    "from light_curves.loglike import (LogLike, GaussianRep, Gaussian2dRep, PoissonRep, PoissonRepTable)\n",
    "\n",
    "class _LightCurve(object):\n",
    "    \"\"\" Apply likelihood fits to a set of cells\n",
    "    \n",
    "    parameters:\n",
    "       - cells : a table with index t, columns  tw, n, fexp, w, S, B\n",
    "       - min_exp : minimum fractional exposure allowed\n",
    "       - rep_name : represention to use \n",
    "\n",
    "    Generates a DataTable with columns n, fexp, fit\n",
    "        \n",
    "    \"\"\"\n",
    "\n",
    "    rep_class =  [GaussianRep, Gaussian2dRep, PoissonRep, PoissonRepTable]\n",
    "    rep_list =   'gauss gauss2d poisson poissontable'.split()\n",
    "\n",
    "    def __init__(self, config, \n",
    "                all_cells, \n",
    "                source, \n",
    "                min_exp:  'minimum exposure factor'= 0.3,\n",
    "                rep_name: 'likelihood rep name'='',\n",
    "    \n",
    "                ):\n",
    "        \"\"\"Apply fits to the likelihoods for a set of cells\n",
    "        \n",
    " \n",
    "        \"\"\"\n",
    "\n",
    "        self.source_name = source.name\n",
    " \n",
    "\n",
    "        # select the set of cells\n",
    "        cells = all_cells.query(f'fexp>{min_exp}').copy()\n",
    "        \n",
    "        # generate a list of LogLike objects for each\n",
    "        cells.loc[:,'loglike'] = cells.apply(LogLike, axis=1)\n",
    "        if config.verbose>0:\n",
    "            print(f'Loaded {len(cells)} / {len(all_cells)} cells with exposure >'\\\n",
    "                  f' {min_exp} for light curve analysis')\n",
    "\n",
    "        # analyze using selected rep\n",
    "        rep_name = rep_name or config.likelihood_rep\n",
    "        \n",
    "        if rep_name not in self.rep_list:\n",
    "            raise Exception(f'Unrecognized rep: \"{rep_name}\", must be one of {self.rep_list}')\n",
    "        repcl = self.rep_class[self.rep_list.index(rep_name)]\n",
    "\n",
    "        if config.verbose>1:\n",
    "            print(f'Fitting likelihoods with {rep_name} representation')\n",
    "        \n",
    "        # making output with reduced columns \n",
    "        self.ll_fits = cells['t n fexp'.split()].copy()\n",
    "        self.ll_fits.loc[:,'tw'] = config.time_interval\n",
    "        self.ll_fits.loc[:,'fit'] = cells.loglike.apply(repcl)\n",
    "\n",
    "    def __repr__(self):\n",
    "        return f'{self.__class__.__name__}: source \"{self.source_name}\" fit with {len(self.ll_fits)} cells'\n",
    "\n",
    "\n",
    "    @property\n",
    "    def dataframe(self):\n",
    "        \"\"\"return the DataFrame\n",
    "        \"\"\"\n",
    "        return self.ll_fits"
   ]
  },
  {
   "cell_type": "code",
   "execution_count": null,
   "metadata": {},
   "outputs": [],
   "source": [
    "#export    \n",
    "\n",
    "from light_curves.config import Config, Files, PointSource\n",
    "from light_curves.cells import get_cells\n",
    "\n",
    "def get_lightcurve(config, files, source, bin_edges=None):\n",
    "    \"\"\"Returns a lightcurve table for the source\n",
    "    \n",
    "    \"\"\"\n",
    "    def doit():\n",
    "        all_cells = get_cells(config, files, source, bin_edges)\n",
    "        lc = _LightCurve(config, all_cells, source).dataframe\n",
    "        return lc\n",
    "        \n",
    "    if bin_edges is None:\n",
    "        key = f'lightcurve_{source.name}'\n",
    "        # use cache only for full data set\n",
    "        if config.verbose>1: \n",
    "            print(f'using cache with key \"{key}\", exists: {key in files.cache}')\n",
    "        return files.cache(key, doit)\n",
    "    \n",
    "    return doit()\n",
    "\n",
    "\n",
    "    "
   ]
  },
  {
   "cell_type": "code",
   "execution_count": null,
   "metadata": {},
   "outputs": [
    {
     "name": "stdout",
     "output_type": "stream",
     "text": [
      "Loading cells with source Geminga \n",
      "using cache with key \"lightcurve_Geminga\", exists: True\n",
      "\n",
      "First cell contents:\n",
      "t                                                 54683.5\n",
      "n                                                     330\n",
      "fexp                                              1.26456\n",
      "tw                                                      1\n",
      "fit     light_curves.loglike.PoissonRep: flux: 0.927[1...\n",
      "Name: 0, dtype: object\n",
      "\n",
      "First cell fit: light_curves.loglike.PoissonRep: flux: 0.927[1+0.076-0.079], limit: 1.05, ts: 481.8\n"
     ]
    }
   ],
   "source": [
    "#collapse_hide\n",
    "from light_curves.config import Config, Files, PointSource\n",
    "from light_curves.cells import get_cells\n",
    "\n",
    "config = Config()\n",
    "files = Files()\n",
    "source = PointSource('Geminga')\n",
    "if files.valid:\n",
    "    print(f'Loading cells with source {source.name} ')\n",
    "    lc = get_lightcurve(config, files, source)\n",
    "    assert lc is not None\n",
    "    \n",
    "else:\n",
    "    print('Not testing since no files.')\n",
    "    lc = None\n",
    "if lc is not None:\n",
    "    c = lc.iloc[0]\n",
    "    print(f'\\nFirst cell contents:\\n{c}')\n",
    "    print(f'\\nFirst cell fit: {c[\"fit\"]}')"
   ]
  },
  {
   "cell_type": "code",
   "execution_count": null,
   "metadata": {},
   "outputs": [],
   "source": [
    "#export\n",
    "def flux_plot(config, lightcurve, ts_min=9,  title=None, ax=None, fignum=1,\n",
    "              figsize=(12,4),\n",
    "              colors=('cornflowerblue','sandybrown'), fmt=' ',\n",
    "              **kwargs): \n",
    "    \"\"\"Make a plot of flux vs. MJD\n",
    "    \n",
    "    - lightcurve \n",
    "    - ts_min -- threshold for ploting limit\n",
    "    - colors -- tuple of colors for signal, limit\n",
    "    - kwargs -- apply to the Axis object\n",
    "    \n",
    "    returns the Figure instance\n",
    "    \"\"\"\n",
    "    kw=dict(yscale='linear',xlabel='MJD', ylabel='relative flux')\n",
    "    kw.update(**kwargs)\n",
    "    df=lightcurve\n",
    "    rep = config.likelihood_rep\n",
    "    if rep =='poisson':\n",
    "        ts = df.fit.apply(lambda f: f.ts) \n",
    "        limit = ts<ts_min\n",
    "        bar = df.loc[~limit,:]\n",
    "        lim = df.loc[limit,:]\n",
    "    else: \n",
    "        bar=df; lim=[]\n",
    "\n",
    "    fig, ax = plt.subplots(figsize=figsize, num=fignum) if ax is None else (ax.figure, ax)\\\n",
    "        if ax is not None else (ax.figure,ax)\n",
    "\n",
    "    # the points with error bars\n",
    "    t = bar.t\n",
    "    tw = bar.tw if 'tw' in bar.columns else np.full(len(t), config.time_interval) \n",
    "    flux =  bar.fit.apply(lambda f: f.flux).values\n",
    "    upper = bar.fit.apply(lambda f: f.errors[1]).values\n",
    "    lower = bar.fit.apply(lambda f: f.errors[0]).values\n",
    "    flux[:5], upper[:5], lower[:5]\n",
    "    error = np.array([upper-flux, flux-lower])\n",
    "\n",
    "#     if rep=='poisson':\n",
    "#         dy = [bar.errors.apply(lambda x: x[i]).clip(0,4) for i in range(2)]\n",
    "#     elif rep==='gauss' or rep=='gauss2d':\n",
    "#         dy = bar.sig_flux.clip(0,4)\n",
    "#     else: assert False, f'Unrecognized likelihood rep: {rep}'   \n",
    "\n",
    "    ax.errorbar(x=t, xerr=tw/2, y=flux, yerr=error, fmt=fmt, color=colors[0])#'silver')\n",
    "\n",
    "    # now do the limits (only for poisson rep)\n",
    "    error_size=2\n",
    "    if len(lim)>0:\n",
    "        t = lim.t\n",
    "        tw = lim.tw \n",
    "\n",
    "        y = lim.fit.apply(lambda f: f.limit).values\n",
    "        yerr=0.2*(1 if kw['yscale']=='linear' else y)\n",
    "        ax.errorbar(x=t, y=y, xerr=tw/2,\n",
    "                yerr=yerr,  color=colors[1], \n",
    "                uplims=True, ls='', lw=error_size, capsize=3*error_size, capthick=0,\n",
    "               )\n",
    "\n",
    "    #ax.axhline(1., color='grey')\n",
    "    ax.set(**kw)\n",
    "    ax.set_title(title) # or f'{source_name}, rep {self.rep}')\n",
    "    ax.grid(alpha=0.5)\n",
    "    return fig"
   ]
  },
  {
   "cell_type": "code",
   "execution_count": null,
   "metadata": {},
   "outputs": [
    {
     "data": {
      "text/markdown": [
       "<h4 id=\"flux_plot\" class=\"doc_header\"><code>flux_plot</code><a href=\"__main__.py#L2\" class=\"source_link\" style=\"float:right\">[source]</a></h4>\n",
       "\n",
       "> <code>flux_plot</code>(**`config`**, **`lightcurve`**, **`ts_min`**=*`9`*, **`title`**=*`None`*, **`ax`**=*`None`*, **`fignum`**=*`1`*, **`figsize`**=*`(12, 4)`*, **`colors`**=*`('cornflowerblue', 'sandybrown')`*, **`fmt`**=*`' '`*, **\\*\\*`kwargs`**)\n",
       "\n",
       "Make a plot of flux vs. MJD\n",
       "\n",
       "- lightcurve \n",
       "- ts_min -- threshold for ploting limit\n",
       "- colors -- tuple of colors for signal, limit\n",
       "- kwargs -- apply to the Axis object\n",
       "\n",
       "returns the Figure instance"
      ],
      "text/plain": [
       "<IPython.core.display.Markdown object>"
      ]
     },
     "metadata": {},
     "output_type": "display_data"
    }
   ],
   "source": [
    "show_doc(flux_plot)"
   ]
  },
  {
   "cell_type": "markdown",
   "metadata": {},
   "source": [
    "Example plot-- the first 100 days of Fermi data for Geminga"
   ]
  },
  {
   "cell_type": "code",
   "execution_count": null,
   "metadata": {},
   "outputs": [
    {
     "data": {
      "image/png": "[encoded data removed]",
      "text/plain": [
       "<Figure size 864x288 with 1 Axes>"
      ]
     },
     "metadata": {
      "needs_background": "light"
     },
     "output_type": "display_data"
    }
   ],
   "source": [
    "#collapse_hide\n",
    "if lc is not None:\n",
    "    plt.rc('font', size=20)\n",
    "    fig = flux_plot(config, lc, fmt='o', xlim=(54675, 54800))"
   ]
  },
  {
   "cell_type": "markdown",
   "metadata": {},
   "source": [
    "And forcing upper limits"
   ]
  },
  {
   "cell_type": "code",
   "execution_count": null,
   "metadata": {},
   "outputs": [
    {
     "data": {
      "image/png": "[encoded data removed]",
      "text/plain": [
       "<Figure size 864x288 with 1 Axes>"
      ]
     },
     "metadata": {
      "needs_background": "light"
     },
     "output_type": "display_data"
    }
   ],
   "source": [
    "#collapse_hide\n",
    "if lc is not None:\n",
    "    fig = flux_plot(config, lc, fmt='o', xlim=(54675, 54800), ts_min=1000)"
   ]
  },
  {
   "cell_type": "code",
   "execution_count": null,
   "metadata": {},
   "outputs": [
    {
     "name": "stdout",
     "output_type": "stream",
     "text": [
      "Mon Dec 14 11:40:37 PST 2020\n"
     ]
    }
   ],
   "source": [
    "!date"
   ]
  },
  {
   "cell_type": "code",
   "execution_count": null,
   "metadata": {},
   "outputs": [
    {
     "name": "stdout",
     "output_type": "stream",
     "text": [
      "Converted 00_config.ipynb.\n",
      "Converted 01_effective_area.ipynb.\n",
      "Converted 02_load_gti.ipynb.\n",
      "Converted 03_exposure.ipynb.\n",
      "Converted 04_photon_data.ipynb.\n",
      "Converted 05_weights.ipynb.\n",
      "Converted 07_cells.ipynb.\n",
      "Converted 09_poisson.ipynb.\n",
      "Converted 10_loglike.ipynb.\n",
      "Converted 11_lightcurve.ipynb.\n",
      "Converted 12_instructions.ipynb.\n",
      "Converted 13_kerr_comparison.ipynb.\n",
      "Converted 14_bayesian.ipynb.\n",
      "Converted Untitled.ipynb.\n",
      "Converted index.ipynb.\n",
      "Mon Dec 14 11:40:38 PST 2020\n"
     ]
    }
   ],
   "source": [
    "#hide\n",
    "from nbdev.export import notebook2script\n",
    "notebook2script()\n",
    "!date"
   ]
  },
  {
   "cell_type": "code",
   "execution_count": null,
   "metadata": {},
   "outputs": [],
   "source": []
  }
 ],
 "metadata": {
  "kernelspec": {
   "display_name": "Python 3",
   "language": "python",
   "name": "python3"
  }
 },
 "nbformat": 4,
 "nbformat_minor": 4
}
