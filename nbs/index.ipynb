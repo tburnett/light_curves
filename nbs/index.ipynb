{
 "cells": [
  {
   "cell_type": "code",
   "execution_count": null,
   "metadata": {},
   "outputs": [],
   "source": [
    "#hide\n",
    "from nbdev import *\n",
    "from utilities import nbdoc"
   ]
  },
  {
   "cell_type": "markdown",
   "metadata": {},
   "source": [
    "# The `light_curve` package\n",
    "\n",
    "> Code for generating fermi-LAT light curves\n"
   ]
  },
  {
   "cell_type": "markdown",
   "metadata": {},
   "source": [
    "## Background\n",
    "\n",
    "This package has code that is being adapted to the [nbdev](https://nbdev.fast.ai/) environment from [github package lat-timing](https://github.com/tburnett/lat-timing) to manage light curves of Fermi-LAT sources.  \n",
    "\n",
    "An At the same time, I've ported some code from  my [jupydoc](https://github.com/tburnett/jupydoc) documention package to allow enhanced documentation combining Markdown and code. "
   ]
  },
  {
   "cell_type": "markdown",
   "metadata": {},
   "source": [
    "## Install\n",
    "After cloning, in its folder run the command\n",
    "`pip install -e .`\n",
    "\n"
   ]
  },
  {
   "cell_type": "markdown",
   "metadata": {},
   "source": [
    "## Demonstrate some actual light curves\n",
    " \n",
    " "
   ]
  },
  {
   "cell_type": "code",
   "execution_count": null,
   "metadata": {},
   "outputs": [
    {
     "data": {
      "text/markdown": [
       "### Light curve plots\n",
       "\n",
       "{printout}\n",
       "\n",
       "Test with Geminga:\n",
       "\n",
       "<div class=\"jupydoc_fig\"><figure>   <img src=\"images/plot_demo_fig_01.png\" alt=\"Figure 1 at images/plot_demo_fig_01.png\" >  <figcaption><b>Figure 1</b>. Geminga</figcaption></figure></div>\n",
       "\n",
       "\n",
       "and 3C 279\n",
       "\n",
       "<div class=\"jupydoc_fig\"><figure>   <img src=\"images/plot_demo_fig_02.png\" alt=\"Figure 2 at images/plot_demo_fig_02.png\" >  <figcaption><b>Figure 2</b>. 3C 279</figcaption></figure></div>\n",
       "\n",
       "\n",
       "Printout:\n",
       "<details ><summary> printout from this analysis </summary> <p style=\"margin-left: 5%\"><pre>Restoring the light curve from /tmp/light_curves/Geminga_lightcurve.pkl <br>Restoring the light curve from /tmp/light_curves/3C_279_lightcurve.pkl <br></pre></p> </details>\n"
      ],
      "text/plain": [
       "<utilities.ipynb_docgen.doc_formatter.<locals>.MimeBundleObject at 0x7f49b4ce2550>"
      ]
     },
     "metadata": {},
     "output_type": "display_data"
    }
   ],
   "source": [
    "#collapse_hide\n",
    "\n",
    "def plot_demo():\n",
    "    \"\"\"\n",
    "    ### Light curve plots\n",
    "    \n",
    "    {print_out}\n",
    "    \n",
    "    Test with {source1.name}:\n",
    "    \n",
    "    {fig1}\n",
    "    \n",
    "    and {source2.name}\n",
    "    \n",
    "    {fig2}\n",
    "    \n",
    " \n",
    "    \"\"\"\n",
    "    from light_curves.config import Config, Files, PointSource\n",
    "    from light_curves.lightcurve import get_lightcurve, flux_plot\n",
    "    \n",
    "    config = Config()\n",
    "    files = Files()\n",
    "    \n",
    "    with capture_print(summary='printout from this analysis') as print_out:\n",
    "        source1 = PointSource('Geminga')\n",
    "        lc1 = get_lightcurve(config, files, source1)\n",
    "        fig1 = flux_plot(config, lc1, fignum=1, title=source1.name)\n",
    "        fig1.caption=f'{source1.name}'\n",
    "\n",
    "        source2 = PointSource('3C 279')\n",
    "        lc2 = get_lightcurve(config, files, source2)\n",
    "        fig2 = flux_plot(config, lc2, fignum=2, yscale='log' )\n",
    "        fig2.caption=f'{source2.name}'\n",
    "\n",
    "nbdoc(plot_demo)"
   ]
  },
  {
   "cell_type": "code",
   "execution_count": null,
   "metadata": {},
   "outputs": [],
   "source": []
  }
 ],
 "metadata": {
  "kernelspec": {
   "display_name": "Python 3",
   "language": "python",
   "name": "python3"
  }
 },
 "nbformat": 4,
 "nbformat_minor": 4
}
