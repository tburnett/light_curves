{
 "cells": [
  {
   "cell_type": "code",
   "execution_count": null,
   "metadata": {},
   "outputs": [],
   "source": [
    "#hide\n",
    "from nbdev import *"
   ]
  },
  {
   "cell_type": "markdown",
   "metadata": {},
   "source": [
    "# The `light_curve` package\n",
    "\n",
    "> Code for generating fermi-LAT light curves\n",
    "\n",
    "This package has code that is being adapted to the `nbdev` environment from [github package lat-timing](https://github.com/tburnett/lat-timing) to manage light curves of Fermi-LAT sources.  At the same time, I'm trying to use/adapt my [jupydoc](https://github.com/tburnett/jupydoc) documention package."
   ]
  },
  {
   "cell_type": "markdown",
   "metadata": {},
   "source": [
    "## Install"
   ]
  },
  {
   "cell_type": "markdown",
   "metadata": {},
   "source": [
    "After cloning this repository:\n",
    "\n",
    "`pip install -e .`\n"
   ]
  },
  {
   "cell_type": "markdown",
   "metadata": {},
   "source": [
    "## How to use (If you have set up files)\n",
    " \n",
    "Make a DataFrame of cells"
   ]
  },
  {
   "cell_type": "code",
   "execution_count": null,
   "metadata": {},
   "outputs": [
    {
     "name": "stdout",
     "output_type": "stream",
     "text": [
      "Processing 11 GTI files ...  11 files, 63635 intervals with 3,322 days live time\n",
      "\tGTI MJD range: 54682.66-58698.08, good fraction 0.83 \n",
      "Loading  132 months from Arrow dataset /home/burnett/data/dataset\n",
      "....................................................................................................................................\n",
      "\tSelected 1313726 photons within 5 deg of  (195.13,4.27)\n",
      "\tEnergies: 100.0-1000000 MeV\n",
      "\tDates:    2008-08-04 15:46 - 2019-08-03 01:17\n",
      "\tMJD  :    54682.7          - 58698.1         \n",
      "Load weights from file /mnt/c/users/thbur/OneDrive/fermi/weight_files/Geminga_weights.pkl\n",
      "\tFound: PSR J0633+1746 at (195.14, 4.27)\n",
      "\tApplyng weights: 240 / 1313726 photon pixels are outside weight region\n",
      "\t233109 weights set to NaN\n",
      "Processing 11 GTI files ...  11 files, 63635 intervals with 3,322 days live time\n",
      "\tGTI MJD range: 54682.66-58698.08, good fraction 0.83 \n",
      "Processing 12 S/C history (FT2) files\n",
      "  applying cuts cos(theta) < 0.4,  z < 100\n",
      "\tfile /home/burnett/work/lat-data/ft2/ft2_2008.fits: 362996 entries, 360944 in GTI\n",
      "\tfile /home/burnett/work/lat-data/ft2/ft2_2009.fits: 874661 entries, 870446 in GTI\n",
      "\tfile /home/burnett/work/lat-data/ft2/ft2_2010.fits: 889547 entries, 884697 in GTI\n",
      "\tfile /home/burnett/work/lat-data/ft2/ft2_2011.fits: 882832 entries, 871672 in GTI\n",
      "\tfile /home/burnett/work/lat-data/ft2/ft2_2012.fits: 881317 entries, 868109 in GTI\n",
      "\tfile /home/burnett/work/lat-data/ft2/ft2_2013.fits: 885307 entries, 867342 in GTI\n",
      "\tfile /home/burnett/work/lat-data/ft2/ft2_2014.fits: 894730 entries, 886570 in GTI\n",
      "\tfile /home/burnett/work/lat-data/ft2/ft2_2015.fits: 890006 entries, 886086 in GTI\n",
      "\tfile /home/burnett/work/lat-data/ft2/ft2_2016.fits: 890933 entries, 884823 in GTI\n",
      "\tfile /home/burnett/work/lat-data/ft2/ft2_2017.fits: 888349 entries, 883761 in GTI\n",
      "\tfile /home/burnett/work/lat-data/ft2/ft2_2018.fits: 842824 entries, 830723 in GTI\n",
      "\tfile /home/burnett/work/lat-data/ft2/ft2_2019.fits: 737029 entries, 514657 in GTI\n",
      "\tFound 9,609,830 S/C entries:  2,695,715 remain after zenith and theta cuts\n",
      "Calculate exposure using the energy domain 100.0-1000000.0 4 bins/decade\n",
      "Time bins: 4015 intervals of 1 days, in range (54683.0, 58698.0)\n"
     ]
    },
    {
     "data": {
      "text/html": [
       "<div>\n",
       "<style scoped>\n",
       "    .dataframe tbody tr th:only-of-type {\n",
       "        vertical-align: middle;\n",
       "    }\n",
       "\n",
       "    .dataframe tbody tr th {\n",
       "        vertical-align: top;\n",
       "    }\n",
       "\n",
       "    .dataframe thead th {\n",
       "        text-align: right;\n",
       "    }\n",
       "</style>\n",
       "<table border=\"1\" class=\"dataframe\">\n",
       "  <thead>\n",
       "    <tr style=\"text-align: right;\">\n",
       "      <th></th>\n",
       "      <th>t</th>\n",
       "      <th>tw</th>\n",
       "      <th>fexp</th>\n",
       "      <th>n</th>\n",
       "      <th>w</th>\n",
       "      <th>S</th>\n",
       "      <th>B</th>\n",
       "    </tr>\n",
       "  </thead>\n",
       "  <tbody>\n",
       "    <tr>\n",
       "      <th>54683.5</th>\n",
       "      <td>54683.5</td>\n",
       "      <td>1.0</td>\n",
       "      <td>1.264387</td>\n",
       "      <td>330</td>\n",
       "      <td>[244, 214, 174, 5, 246, 150, 187, 65, 91, 215,...</td>\n",
       "      <td>9.057506e+05</td>\n",
       "      <td>460567.995839</td>\n",
       "    </tr>\n",
       "    <tr>\n",
       "      <th>54684.5</th>\n",
       "      <td>54684.5</td>\n",
       "      <td>1.0</td>\n",
       "      <td>1.215870</td>\n",
       "      <td>348</td>\n",
       "      <td>[245, 217, 219, 244, 240, 235, 232, 235, 54, 2...</td>\n",
       "      <td>8.709950e+05</td>\n",
       "      <td>442895.014603</td>\n",
       "    </tr>\n",
       "    <tr>\n",
       "      <th>54685.5</th>\n",
       "      <td>54685.5</td>\n",
       "      <td>1.0</td>\n",
       "      <td>1.182915</td>\n",
       "      <td>338</td>\n",
       "      <td>[138, 13, 107, 13, 195, 219, 247, 148, 245, 5,...</td>\n",
       "      <td>8.473877e+05</td>\n",
       "      <td>430890.876652</td>\n",
       "    </tr>\n",
       "    <tr>\n",
       "      <th>54686.5</th>\n",
       "      <td>54686.5</td>\n",
       "      <td>1.0</td>\n",
       "      <td>1.407341</td>\n",
       "      <td>378</td>\n",
       "      <td>[216, 237, 235, 245, 235, 218, 51, 232, 153, 0...</td>\n",
       "      <td>1.008157e+06</td>\n",
       "      <td>512640.693290</td>\n",
       "    </tr>\n",
       "    <tr>\n",
       "      <th>54687.5</th>\n",
       "      <td>54687.5</td>\n",
       "      <td>1.0</td>\n",
       "      <td>1.299117</td>\n",
       "      <td>341</td>\n",
       "      <td>[246, 185, 82, 163, 240, 182, 31, 200, 200, 14...</td>\n",
       "      <td>9.306291e+05</td>\n",
       "      <td>473218.512548</td>\n",
       "    </tr>\n",
       "  </tbody>\n",
       "</table>\n",
       "</div>"
      ],
      "text/plain": [
       "               t   tw      fexp    n  \\\n",
       "54683.5  54683.5  1.0  1.264387  330   \n",
       "54684.5  54684.5  1.0  1.215870  348   \n",
       "54685.5  54685.5  1.0  1.182915  338   \n",
       "54686.5  54686.5  1.0  1.407341  378   \n",
       "54687.5  54687.5  1.0  1.299117  341   \n",
       "\n",
       "                                                         w             S  \\\n",
       "54683.5  [244, 214, 174, 5, 246, 150, 187, 65, 91, 215,...  9.057506e+05   \n",
       "54684.5  [245, 217, 219, 244, 240, 235, 232, 235, 54, 2...  8.709950e+05   \n",
       "54685.5  [138, 13, 107, 13, 195, 219, 247, 148, 245, 5,...  8.473877e+05   \n",
       "54686.5  [216, 237, 235, 245, 235, 218, 51, 232, 153, 0...  1.008157e+06   \n",
       "54687.5  [246, 185, 82, 163, 240, 182, 31, 200, 200, 14...  9.306291e+05   \n",
       "\n",
       "                     B  \n",
       "54683.5  460567.995839  \n",
       "54684.5  442895.014603  \n",
       "54685.5  430890.876652  \n",
       "54686.5  512640.693290  \n",
       "54687.5  473218.512548  "
      ]
     },
     "execution_count": null,
     "metadata": {},
     "output_type": "execute_result"
    }
   ],
   "source": [
    "from light_curves.config import LCconfig, FileConfiguration, PointSource\n",
    "from light_curves.cells import get_cells\n",
    "\n",
    "cells = get_cells(LCconfig(), FileConfiguration(), PointSource('Geminga'))\n",
    "\n",
    "cells.head()\n",
    "                  "
   ]
  },
  {
   "cell_type": "code",
   "execution_count": null,
   "metadata": {},
   "outputs": [],
   "source": []
  }
 ],
 "metadata": {
  "kernelspec": {
   "display_name": "Python 3",
   "language": "python",
   "name": "python3"
  }
 },
 "nbformat": 4,
 "nbformat_minor": 4
}
