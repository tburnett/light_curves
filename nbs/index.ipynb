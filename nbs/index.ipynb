{
 "cells": [
  {
   "cell_type": "code",
   "execution_count": null,
   "metadata": {},
   "outputs": [],
   "source": [
    "#hide\n",
    "from nbdev import *\n",
    "from utilities import nbdoc"
   ]
  },
  {
   "cell_type": "markdown",
   "metadata": {},
   "source": [
    "# The `light_curve` package\n",
    "\n",
    "> Code for generating fermi-LAT light curves. [link to this document](https://tburnett.github.io/light_curves/)\n"
   ]
  },
  {
   "cell_type": "markdown",
   "metadata": {},
   "source": [
    "## Background\n",
    "\n",
    "This package has code that is being adapted to the [nbdev](https://nbdev.fast.ai/) environment from [github package lat-timing](https://github.com/tburnett/lat-timing) to manage light curves of Fermi-LAT sources.  \n",
    "\n",
    "As pointed out there, it is based on a [paper](https://arxiv.org/pdf/1910.00140.pdf) by Matthew Kerr, \n",
    "\n",
    "And at the same time, I've ported some code from  my [jupydoc](https://github.com/tburnett/jupydoc) documention package to allow enhanced documentation combining Markdown and code. This is demonstrated below."
   ]
  },
  {
   "cell_type": "markdown",
   "metadata": {},
   "source": [
    "## Installation\n",
    "After cloning, in its folder run the command\n",
    "`pip install -e .`\n",
    "\n",
    "## Instructions on set up / use\n",
    "\n",
    "`instructions`"
   ]
  },
  {
   "cell_type": "markdown",
   "metadata": {},
   "source": [
    "## Demonstrate some actual light curves\n",
    " \n",
    " "
   ]
  },
  {
   "cell_type": "code",
   "execution_count": null,
   "metadata": {},
   "outputs": [
    {
     "data": {
      "text/markdown": [
       "### Light curve plots\n",
       "\n",
       "<details class=\"descripton\" ><summary data-open=\"Hide \" data-close=\"Show \"> printout from this analysis </summary> <p style=\"margin-left: 5%\"><pre>Restoring the light curve from /tmp/light_curves/Geminga_lightcurve.pkl <br>Restoring the light curve from /tmp/light_curves/3C_279_lightcurve.pkl <br></pre></p> </details>\n",
       "\n",
       "<br>\n",
       "Test with Geminga:\n",
       "\n",
       "<div class=\"jupydoc_fig\"><a href=\"images/plot_demo_fig_01.png\"<figure>   <img src=\"images/plot_demo_fig_01.png\" alt=\"Figure 1 at images/plot_demo_fig_01.png\" width=500>  <figcaption><b>Figure 1</b>. Geminga</figcaption></figure></a></div>\n",
       "\n",
       "\n",
       "This is to be compared with Kerr's Figure 1:\n",
       "\n",
       "<div class=\"jupydoc_fig\"> <a href=\"images/kerr_fig1.png\">  <figure>    <img src=\"images/kerr_fig1.png\"  width=300       alt=\"Image kerr_fig1.png at images/kerr_fig1.png\">\n",
       "  <figcaption></figcaption></figure></a></div>\n",
       "\n",
       "\n",
       "This flaring AGN, 3C 279 was used in the Kerr paper as well.\n",
       "\n",
       "<div class=\"jupydoc_fig\"><a href=\"images/plot_demo_fig_02.png\"<figure>   <img src=\"images/plot_demo_fig_02.png\" alt=\"Figure 2 at images/plot_demo_fig_02.png\" width=500>  <figcaption><b>Figure 2</b>. 3C 279</figcaption></figure></a></div>\n",
       "\n"
      ],
      "text/plain": [
       "<utilities.ipynb_docgen.doc_formatter.<locals>.MimeBundleObject at 0x7f5837722f90>"
      ]
     },
     "metadata": {},
     "output_type": "display_data"
    }
   ],
   "source": [
    "#collapse_hide\n",
    "\n",
    "def plot_demo():\n",
    "    \"\"\"\n",
    "    ### Light curve plots\n",
    "    \n",
    "    {print_out}\n",
    "    \n",
    "    <br>\n",
    "    Test with {source1.name}:\n",
    "    \n",
    "    {fig1}\n",
    "    \n",
    "    This is to be compared with Kerr's Figure 1:\n",
    "    \n",
    "    {kerr_fig1}\n",
    "    \n",
    "    This flaring AGN, {source2.name} was used in the Kerr paper as well.\n",
    "    \n",
    "    {fig2}\n",
    "    \n",
    " \n",
    "    \"\"\"\n",
    "    from light_curves.config import Config, Files, PointSource\n",
    "    from light_curves.lightcurve import get_lightcurve, flux_plot\n",
    "    \n",
    "    config = Config()\n",
    "    files = Files()\n",
    "    assert files.valid\n",
    "    #files.clear_cache()\n",
    "    \n",
    "    kerr_fig1 = image('kerr_fig1.png', width=300)\n",
    "    \n",
    "    with capture_print(summary='printout from this analysis') as print_out:\n",
    "        source1 = PointSource('Geminga')\n",
    "        lc1 = get_lightcurve(config, files, source1)\n",
    "        fig1 = flux_plot(config, lc1, fignum=1, title=source1.name)\n",
    "        fig1.caption=f'{source1.name}'\n",
    "        fig1.width=500\n",
    "\n",
    "        source2 = PointSource('3C 279')\n",
    "        lc2 = get_lightcurve(config, files, source2)\n",
    "        fig2 = flux_plot(config, lc2, fignum=2, yscale='log' )\n",
    "        fig2.caption=f'{source2.name}'\n",
    "        fig2.width=500\n",
    "\n",
    "\n",
    "from light_curves.config import Files\n",
    "if Files().valid:\n",
    "    nbdoc(plot_demo)"
   ]
  },
  {
   "cell_type": "code",
   "execution_count": null,
   "metadata": {},
   "outputs": [
    {
     "name": "stdout",
     "output_type": "stream",
     "text": [
      "Converted 00_config.ipynb.\n",
      "Converted 01_effective_area.ipynb.\n",
      "Converted 02_load_gti.ipynb.\n",
      "Converted 03_exposure.ipynb.\n",
      "Converted 04_photon_data.ipynb.\n",
      "Converted 05_weights.ipynb.\n",
      "Converted 07_cells.ipynb.\n",
      "Converted 09_poisson.ipynb.\n",
      "Converted 10_loglike.ipynb.\n",
      "Converted 11_lightcurve.ipynb.\n",
      "Converted 12_instructions.ipynb.\n",
      "Converted index.ipynb.\n",
      "Wed Dec  9 07:21:23 PST 2020\n"
     ]
    }
   ],
   "source": [
    "#hide\n",
    "from nbdev.export import notebook2script\n",
    "notebook2script()\n",
    "!date"
   ]
  },
  {
   "cell_type": "code",
   "execution_count": null,
   "metadata": {},
   "outputs": [],
   "source": []
  }
 ],
 "metadata": {
  "kernelspec": {
   "display_name": "Python 3",
   "language": "python",
   "name": "python3"
  }
 },
 "nbformat": 4,
 "nbformat_minor": 4
}
