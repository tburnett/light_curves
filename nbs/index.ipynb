{
 "cells": [
  {
   "cell_type": "markdown",
   "metadata": {},
   "source": [
    "# Light-curve analyses\n",
    "\n",
    "> This is a GitHub repo for additional development of and analysis using, the [`wtlike`] (https://github.com/tburnett/wtlike) package."
   ]
  },
  {
   "cell_type": "markdown",
   "metadata": {},
   "source": [
    "* [Kerr comparison](kerr_comparison)\n",
    "\n",
    "  A basic check of the principal source examples from the Kerr papt\n",
    "* [Geminga](geminga)\n",
    "\n",
    "    Detailed study of the Geminta pulsar, which is constant\n",
    "* [B1259-63](B1259)\n",
    "\n",
    "    A pulsar with high-energy gamma emission associated with periodic periastron passages\n"
   ]
  },
  {
   "cell_type": "code",
   "execution_count": null,
   "metadata": {},
   "outputs": [],
   "source": []
  }
 ],
 "metadata": {
  "kernelspec": {
   "display_name": "Python 3",
   "language": "python",
   "name": "python3"
  }
 },
 "nbformat": 4,
 "nbformat_minor": 4
}
