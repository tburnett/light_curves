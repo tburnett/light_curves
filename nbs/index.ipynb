{
 "cells": [
  {
   "cell_type": "code",
   "execution_count": null,
   "metadata": {},
   "outputs": [],
   "source": [
    "#hide\n",
    "from nbdev import *\n",
    "from utilities import nbdoc"
   ]
  },
  {
   "cell_type": "markdown",
   "metadata": {},
   "source": [
    "# The `light_curve` package\n",
    "\n",
    "> Code for generating fermi-LAT light curves. [link to this document](https://tburnett.github.io/light_curves/)\n"
   ]
  },
  {
   "cell_type": "markdown",
   "metadata": {},
   "source": [
    "## Background\n",
    "\n",
    "This package has code that is being adapted to the [nbdev](https://nbdev.fast.ai/) environment from [github package lat-timing](https://github.com/tburnett/lat-timing) to manage light curves of Fermi-LAT sources.  \n",
    "\n",
    "As pointed out there, it is based on a [paper](https://arxiv.org/pdf/1910.00140.pdf) by Matthew Kerr, \n",
    "\n",
    "And at the same time, I've ported some code from  my [jupydoc](https://github.com/tburnett/jupydoc) documention package to allow enhanced documentation combining Markdown and code. This is demonstrated below."
   ]
  },
  {
   "cell_type": "markdown",
   "metadata": {},
   "source": [
    "## Installation\n",
    "After cloning, in its folder run the command\n",
    "`pip install -e .`\n",
    "\n",
    "## Instructions on set up / use\n",
    "\n",
    "`instructions`"
   ]
  },
  {
   "cell_type": "markdown",
   "metadata": {},
   "source": [
    "## Demonstrate some actual light curves\n",
    " \n",
    " "
   ]
  },
  {
   "cell_type": "code",
   "execution_count": null,
   "metadata": {},
   "outputs": [
    {
     "name": "stdout",
     "output_type": "stream",
     "text": [
      "***fig_folders: ['', '../docs']\n",
      "***fig_folders: ['', '../docs']\n"
     ]
    },
    {
     "data": {
      "text/markdown": [
       "### Light curve plots\n",
       "\n",
       "<details class=\"descripton\" ><summary data-open=\"Hide \" data-close=\"Show \"> printout from this analysis </summary> <p style=\"margin-left: 5%\"><pre>Processing 11 FITS files with GTI information ...  11 files, 63635 intervals with 3,322 days live time<br>\tGTI MJD range: 54682.66-58698.08, good fraction 0.83 <br>Loading  132 months from Arrow dataset /home/burnett/data/dataset<br>....................................................................................................................................<br>\tSelected 1313726 photons within 5 deg of  (195.13,4.27)<br>\tEnergies: 100.0-1000000 MeV<br>\tDates:    2008-08-04 15:46 - 2019-08-03 01:17<br>\tMJD  :    54682.7          - 58698.1         <br>saving photon data to /tmp/light_curves/Geminga_photons.pkl<br>Load weights from file /mnt/c/users/thbur/OneDrive/fermi/weight_files/Geminga_weights.pkl<br>\tFound: PSR J0633+1746 at (195.14, 4.27)<br>\tApplyng weights: 240 / 1313726 photon pixels are outside weight region<br>\t233109 weights set to NaN<br>Processing 11 FITS files with GTI information ...  11 files, 63635 intervals with 3,322 days live time<br>\tGTI MJD range: 54682.66-58698.08, good fraction 0.83 <br>Processing 12 S/C history (FT2) files<br>  applying cuts cos(theta) < 0.4,  z < 100<br>\tfile /home/burnett/work/lat-data/ft2/ft2_2008.fits: 362996 entries, 360944 in GTI<br>\tfile /home/burnett/work/lat-data/ft2/ft2_2009.fits: 874661 entries, 870446 in GTI<br>\tfile /home/burnett/work/lat-data/ft2/ft2_2010.fits: 889547 entries, 884697 in GTI<br>\tfile /home/burnett/work/lat-data/ft2/ft2_2011.fits: 882832 entries, 871672 in GTI<br>\tfile /home/burnett/work/lat-data/ft2/ft2_2012.fits: 881317 entries, 868109 in GTI<br>\tfile /home/burnett/work/lat-data/ft2/ft2_2013.fits: 885307 entries, 867342 in GTI<br>\tfile /home/burnett/work/lat-data/ft2/ft2_2014.fits: 894730 entries, 886570 in GTI<br>\tfile /home/burnett/work/lat-data/ft2/ft2_2015.fits: 890006 entries, 886086 in GTI<br>\tfile /home/burnett/work/lat-data/ft2/ft2_2016.fits: 890933 entries, 884823 in GTI<br>\tfile /home/burnett/work/lat-data/ft2/ft2_2017.fits: 888349 entries, 883761 in GTI<br>\tfile /home/burnett/work/lat-data/ft2/ft2_2018.fits: 842824 entries, 830723 in GTI<br>\tfile /home/burnett/work/lat-data/ft2/ft2_2019.fits: 737029 entries, 514657 in GTI<br>\tFound 9,609,830 S/C entries:  2,695,715 remain after zenith and theta cuts<br>Calculate exposure using the energy domain 100.0-1000000.0 4 bins/decade<br>saving exposure to /tmp/light_curves/Geminga_exposure.pkl<br>Time bins: 4015 intervals of 1 days, in range (54683.0, 58698.0)<br>Loaded 3873 / 4015 cells with exposure > 0.3 for light curve analysis<br>Fitting likelihoods with poisson representation<br>Saving the light curve at /tmp/light_curves/Geminga_lightcurve.pkl <br>Processing 11 FITS files with GTI information ...  11 files, 63635 intervals with 3,322 days live time<br>\tcut from 63,635 to 7 - 63634, or 63,627 entries after MJD range selection<br>\tGTI MJD range: 54683.16-58698.03, good fraction 0.83 <br>Loading  132 months from Arrow dataset /home/burnett/data/dataset<br>....................................................................................................................................<br>\tSelected 215138 photons within 5 deg of  (305.10,57.06)<br>\tEnergies: 100.0-1000000 MeV<br>\tDates:    2008-08-05 04:39 - 2019-08-01 12:09<br>\tMJD  :    54683.2          - 58696.5         <br>saving photon data to /tmp/light_curves/3C_279_photons.pkl<br>Load weights from file /mnt/c/users/thbur/OneDrive/fermi/weight_files/3C_279_weights.pkl<br>\tFound: P88Y3243 at (305.10, 57.07)<br>\tApplyng weights: 2086 / 215138 photon pixels are outside weight region<br>\t67649 weights set to NaN<br>Processing 11 FITS files with GTI information ...  11 files, 63635 intervals with 3,322 days live time<br>\tcut from 63,635 to 7 - 63634, or 63,627 entries after MJD range selection<br>\tGTI MJD range: 54683.16-58698.03, good fraction 0.83 <br>Processing 12 S/C history (FT2) files<br>  applying cuts cos(theta) < 0.4,  z < 100<br>\tfile /home/burnett/work/lat-data/ft2/ft2_2008.fits: 362996 entries, 360200 in GTI<br>\tfile /home/burnett/work/lat-data/ft2/ft2_2009.fits: 874661 entries, 870446 in GTI<br>\tfile /home/burnett/work/lat-data/ft2/ft2_2010.fits: 889547 entries, 884697 in GTI<br>\tfile /home/burnett/work/lat-data/ft2/ft2_2011.fits: 882832 entries, 871672 in GTI<br>\tfile /home/burnett/work/lat-data/ft2/ft2_2012.fits: 881317 entries, 868109 in GTI<br>\tfile /home/burnett/work/lat-data/ft2/ft2_2013.fits: 885307 entries, 867342 in GTI<br>\tfile /home/burnett/work/lat-data/ft2/ft2_2014.fits: 894730 entries, 886570 in GTI<br>\tfile /home/burnett/work/lat-data/ft2/ft2_2015.fits: 890006 entries, 886086 in GTI<br>\tfile /home/burnett/work/lat-data/ft2/ft2_2016.fits: 890933 entries, 884823 in GTI<br>\tfile /home/burnett/work/lat-data/ft2/ft2_2017.fits: 888349 entries, 883761 in GTI<br>\tfile /home/burnett/work/lat-data/ft2/ft2_2018.fits: 842824 entries, 830723 in GTI<br>\tfile /home/burnett/work/lat-data/ft2/ft2_2019.fits: 737029 entries, 514550 in GTI<br>\tFound 9,608,979 S/C entries:  2,438,717 remain after zenith and theta cuts<br>Calculate exposure using the energy domain 100.0-1000000.0 4 bins/decade<br>saving exposure to /tmp/light_curves/3C_279_exposure.pkl<br>Time bins: 4014 intervals of 1 days, in range (54683.0, 58697.0)<br>Loaded 3845 / 4014 cells with exposure > 0.3 for light curve analysis<br>Fitting likelihoods with poisson representation<br>Saving the light curve at /tmp/light_curves/3C_279_lightcurve.pkl <br></pre></p> </details>\n",
       "\n",
       "<br>\n",
       "Test with Geminga:\n",
       "\n",
       "<div class=\"jupydoc_fig\"><a href=\"images/plot_demo_fig_01.png\"<figure>   <img src=\"images/plot_demo_fig_01.png\" alt=\"Figure 1 at images/plot_demo_fig_01.png\" >  <figcaption><b>Figure 1</b>. Geminga</figcaption></figure></a></div>\n",
       "\n",
       "\n",
       "This is to be compared with Kerr's Figure 1:\n",
       "\n",
       "<div class=\"jupydoc_fig\"> <a href=\"images/kerr_fig1.png\">  <figure>    <img src=\"images/kerr_fig1.png\"         alt=\"Image kerr_fig1.png at images/kerr_fig1.png\">\n",
       "  <figcaption></figcaption></figure></a></div>\n",
       "\n",
       "\n",
       "and 3C 279\n",
       "\n",
       "<div class=\"jupydoc_fig\"><a href=\"images/plot_demo_fig_02.png\"<figure>   <img src=\"images/plot_demo_fig_02.png\" alt=\"Figure 2 at images/plot_demo_fig_02.png\" >  <figcaption><b>Figure 2</b>. 3C 279</figcaption></figure></a></div>\n",
       "\n"
      ],
      "text/plain": [
       "<utilities.ipynb_docgen.doc_formatter.<locals>.MimeBundleObject at 0x7f489921ac90>"
      ]
     },
     "metadata": {},
     "output_type": "display_data"
    }
   ],
   "source": [
    "#collapse_hide\n",
    "\n",
    "def plot_demo():\n",
    "    \"\"\"\n",
    "    ### Light curve plots\n",
    "    \n",
    "    {print_out}\n",
    "    \n",
    "    <br>\n",
    "    Test with {source1.name}:\n",
    "    \n",
    "    {fig1}\n",
    "    \n",
    "    This is to be compared with Kerr's Figure 1:\n",
    "    \n",
    "    {kerr_fig1}\n",
    "    \n",
    "    This flaring AGN, {source2.name} was used in the Kerr paper as well.\n",
    "    \n",
    "    {fig2}\n",
    "    \n",
    " \n",
    "    \"\"\"\n",
    "    from light_curves.config import Config, Files, PointSource\n",
    "    from light_curves.lightcurve import get_lightcurve, flux_plot\n",
    "    \n",
    "    config = Config()\n",
    "    files = Files()\n",
    "    assert files.valid\n",
    "    #files.clear_cache()\n",
    "    \n",
    "    kerr_fig1 = image('kerr_fig1.png')\n",
    "    \n",
    "    with capture_print(summary='printout from this analysis') as print_out:\n",
    "        source1 = PointSource('Geminga')\n",
    "        lc1 = get_lightcurve(config, files, source1)\n",
    "        fig1 = flux_plot(config, lc1, fignum=1, title=source1.name)\n",
    "        fig1.caption=f'{source1.name}'\n",
    "\n",
    "        source2 = PointSource('3C 279')\n",
    "        lc2 = get_lightcurve(config, files, source2)\n",
    "        fig2 = flux_plot(config, lc2, fignum=2, yscale='log' )\n",
    "        fig2.caption=f'{source2.name}'\n",
    "\n",
    "\n",
    "from light_curves.config import Files\n",
    "if Files().valid:\n",
    "    nbdoc(plot_demo)"
   ]
  },
  {
   "cell_type": "code",
   "execution_count": null,
   "metadata": {},
   "outputs": [
    {
     "name": "stdout",
     "output_type": "stream",
     "text": [
      "Converted 00_config.ipynb.\n",
      "Converted 01_effective_area.ipynb.\n",
      "Converted 02_load_gti.ipynb.\n",
      "Converted 03_exposure.ipynb.\n",
      "Converted 04_photon_data.ipynb.\n",
      "Converted 05_weights.ipynb.\n",
      "Converted 07_cells.ipynb.\n",
      "Converted 09_poisson.ipynb.\n",
      "Converted 10_loglike.ipynb.\n",
      "Converted 11_lightcurve.ipynb.\n",
      "Converted 12_instructions.ipynb.\n",
      "Converted index.ipynb.\n",
      "Tue Dec  8 21:19:16 PST 2020\n"
     ]
    }
   ],
   "source": [
    "#hide\n",
    "from nbdev.export import notebook2script\n",
    "notebook2script()\n",
    "!date"
   ]
  },
  {
   "cell_type": "code",
   "execution_count": null,
   "metadata": {},
   "outputs": [],
   "source": []
  }
 ],
 "metadata": {
  "kernelspec": {
   "display_name": "Python 3",
   "language": "python",
   "name": "python3"
  }
 },
 "nbformat": 4,
 "nbformat_minor": 4
}
