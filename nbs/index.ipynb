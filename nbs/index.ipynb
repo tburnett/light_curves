{
 "cells": [
  {
   "cell_type": "markdown",
   "metadata": {},
   "source": [
    "# Light-curve analyses\n",
    "\n",
    "> This is a GitHub repo for additional development of and analyses using the weighted likelihood   [wtlike](https://github.com/tburnett/wtlike) package."
   ]
  },
  {
   "cell_type": "markdown",
   "metadata": {},
   "source": [
    "* [Kerr comparison](kerr_comparison)\n",
    "\n",
    "  A basic check of the principal source examples from the [Kerr paper](https://arxiv.org/pdf/1910.00140.pdf)\n",
    "  This notebook illustrates the document-creating capability of the module `ipynb_docgen.py`.\n",
    "  \n",
    "  \n",
    "* [Geminga](geminga)\n",
    "\n",
    "    Detailed study of the Geminga pulsar, which is constant\n",
    "* [B1259-63 (daily)](B1259) \n",
    "\n",
    "    A pulsar with high-energy gamma emission associated with periodic periastron passages\n",
    "    \n",
    "* [B1259-63 (phased)](B1259_phased)\n",
    "\n",
    "  Combine cells, which are aligned with the orbit, with the same phase\n",
    "\n",
    "* [4FGL J1257.0-6339](P88Y3250)\n",
    "\n",
    "    A source close ($0.5^\\circ$) to B1259-63\n",
    "    \n",
    "* [Eta Car](Eta_car)\n",
    "\n",
    "   The famous Eta Carinea, ran as an example of how fast this can be\n",
    "    \n"
   ]
  },
  {
   "cell_type": "code",
   "execution_count": null,
   "metadata": {},
   "outputs": [],
   "source": []
  }
 ],
 "metadata": {
  "kernelspec": {
   "display_name": "Python 3",
   "language": "python",
   "name": "python3"
  }
 },
 "nbformat": 4,
 "nbformat_minor": 4
}
