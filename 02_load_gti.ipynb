{
 "cells": [
  {
   "cell_type": "code",
   "execution_count": null,
   "metadata": {},
   "outputs": [],
   "source": [
    "# default_exp load_gti\n",
    "%load_ext autoreload\n",
    "%autoreload 2"
   ]
  },
  {
   "cell_type": "markdown",
   "metadata": {},
   "source": [
    "# load_gti\n",
    "\n",
    "> Process GTI information"
   ]
  },
  {
   "cell_type": "code",
   "execution_count": null,
   "metadata": {},
   "outputs": [],
   "source": [
    "#export\n",
    "from astropy.io import fits\n",
    "import numpy as np\n",
    "import pandas as pd\n",
    "\n",
    "from astropy.time import Time, TimeDelta\n",
    "\n",
    "#mission_start = Time('2001-01-01T00:00:00', scale='utc').mjd\n",
    "# From a FT2 file header\n",
    "# MJDREFI =               51910. / Integer part of MJD corresponding to SC clock S\n",
    "# MJDREFF =  0.00074287037037037 / Fractional part of MJD corresponding to SC cloc\n",
    "mission_start = 51910.00074287037\n",
    "day = 24*3600.\n",
    "first_data=54683\n",
    "\n",
    "def MJD(met):\n",
    "    \"convert MET to MJD\"\n",
    "    return (mission_start + met/day  )\n",
    "def UTC(mjd):\n",
    "    \" convert MJD value to ISO date string\"\n",
    "    t=Time(mjd, format='mjd')\n",
    "    t.format='iso'; t.out_subfmt='date_hm'\n",
    "    return t.value\n",
    "\n",
    "def process_gti(self, gti_files):\n",
    "    \"\"\"Combine the GTI intervals that fall within the gti range \n",
    "    Return a function that tests a list of times \n",
    "    \"\"\"\n",
    "    if self.verbose>1:\n",
    "        print(f'Processing {len(gti_files)} GTI files ... ', end='')\n",
    "    starts=[] \n",
    "    stops=[]\n",
    "    for i, ft1 in enumerate(gti_files):\n",
    "        with fits.open(ft1) as hdu: \n",
    "            gti_data = hdu['GTI'].data\n",
    "            start = gti_data.START\n",
    "            if i>0:\n",
    "                assert start[0]>= stops[-1][-1], f'file {ft1} has start time not following preceding file'\n",
    "            starts.append(start)\n",
    "            stops.append( gti_data.STOP)\n",
    "    start = MJD(np.concatenate(starts))\n",
    "    stop  = MJD(np.concatenate(stops))\n",
    "\n",
    "    if self.verbose>1:\n",
    "        livetime = (stop-start).sum()\n",
    "        print( f' {len(gti_files)} files, {len(start)} intervals with'\\\n",
    "               f' {int(livetime):,} days live time')\n",
    "\n",
    "    sel = slice(None)\n",
    "    if self.mjd_range is not None:\n",
    "        a, b = self._get_limits(start)\n",
    "        if a>0 or b<len(start):\n",
    "            if self.verbose>1:\n",
    "                print(f'\\tcut from {len(start):,} to {a} - {b}, or {b-a:,} entries after MJD range selection')\n",
    "            sel = slice(a,b)\n",
    "\n",
    "\n",
    "    class GTI(object):\n",
    "        \"\"\" functor class that tests for being in the GTI range\n",
    "        \"\"\"\n",
    "        def __init__(self, start, stop):\n",
    "            # prepare single merged array with even, odd entries start and stop\n",
    "            a,b =start, stop\n",
    "            self.fraction = np.sum(b-a)/(b[-1]-a[0])\n",
    "            assert len(a)==len(b)\n",
    "            self.g = np.array([a,b]).T.flatten()\n",
    "            assert np.sum(np.diff(self.g)<0)==0, 'Bad GTI ordering'\n",
    "\n",
    "        def __call__(self, time):\n",
    "            # use digitize to find if in good/bad interval by odd/even\n",
    "            x = np.digitize(time, self.g)\n",
    "            return np.bitwise_and(x,1).astype(bool)\n",
    "\n",
    "        def __repr__(self):\n",
    "            return  f'{self.__class__.__name__} MjD range: {self.g[0]:.2f}-{self.g[-1]:.2f}'\\\n",
    "                    f', good fraction {self.fraction:.2f} '\n",
    "\n",
    "    gti =  GTI(start[sel],stop[sel])\n",
    "    if self.verbose>1:\n",
    "        print(f'\\t{gti}')\n",
    "    return gti"
   ]
  },
  {
   "cell_type": "code",
   "execution_count": null,
   "metadata": {},
   "outputs": [
    {
     "name": "stdout",
     "output_type": "stream",
     "text": [
      "Test with GTI files:\n",
      "\t /home/burnett/work/lat-data/binned/P305_Source_year01_zmax100_4bpd.fits\n",
      "\t...\n",
      "\t/home/burnett/work/lat-data/binned/P305_Source_year11_zmax100_4bpd.fits\n",
      "Processing 11 GTI files ...  11 files, 63635 intervals with 3,322 days live time\n",
      "\tGTI MjD range: 54682.66-58698.08, good fraction 0.83 \n"
     ]
    }
   ],
   "source": [
    "#hide\n",
    "from light_curves.config import Config, FileConfiguration\n",
    "config = Config()\n",
    "gti_files = FileConfiguration().gti\n",
    "if len(gti_files)>0:\n",
    "    print(f'Test with GTI files:\\n\\t {gti_files[0]}\\n\\t...\\n\\t{gti_files[-1]}')\n",
    "    gti_list = process_gti(config, gti_files)\n",
    "else:\n",
    "    print('No files, so no test')"
   ]
  },
  {
   "cell_type": "code",
   "execution_count": null,
   "metadata": {},
   "outputs": [],
   "source": [
    "#hide\n",
    "from nbdev.export import notebook2script\n",
    "notebook2script()\n",
    "!date"
   ]
  }
 ],
 "metadata": {
  "kernelspec": {
   "display_name": "Python 3",
   "language": "python",
   "name": "python3"
  }
 },
 "nbformat": 4,
 "nbformat_minor": 4
}
